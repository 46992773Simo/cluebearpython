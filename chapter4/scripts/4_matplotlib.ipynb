{
 "cells": [
  {
   "cell_type": "markdown",
   "metadata": {
    "toc": true
   },
   "source": [
    "<h1>Table of Contents<span class=\"tocSkip\"></span></h1>\n",
    "<div class=\"toc\" style=\"margin-top: 1em;\"><ul class=\"toc-item\"></ul></div>"
   ]
  },
  {
   "cell_type": "code",
   "execution_count": 9,
   "metadata": {
    "ExecuteTime": {
     "end_time": "2019-07-03T12:38:18.444363Z",
     "start_time": "2019-07-03T12:38:18.439359Z"
    }
   },
   "outputs": [],
   "source": [
    "import matplotlib.pyplot as plt\n",
    "import pandas as pd \n",
    "import os \n",
    "import matplotlib as mpl\n",
    "import matplotlib.font_manager as mfm"
   ]
  },
  {
   "cell_type": "code",
   "execution_count": 10,
   "metadata": {
    "ExecuteTime": {
     "end_time": "2019-07-03T12:38:18.922387Z",
     "start_time": "2019-07-03T12:38:18.917385Z"
    }
   },
   "outputs": [],
   "source": [
    "font_path = r\"../data/msyh.ttc\"\n",
    "prop = mfm.FontProperties(fname=font_path)"
   ]
  },
  {
   "cell_type": "code",
   "execution_count": 11,
   "metadata": {
    "ExecuteTime": {
     "end_time": "2019-07-03T12:38:19.669644Z",
     "start_time": "2019-07-03T12:38:19.549626Z"
    }
   },
   "outputs": [
    {
     "data": {
      "text/html": [
       "<div>\n",
       "<style scoped>\n",
       "    .dataframe tbody tr th:only-of-type {\n",
       "        vertical-align: middle;\n",
       "    }\n",
       "\n",
       "    .dataframe tbody tr th {\n",
       "        vertical-align: top;\n",
       "    }\n",
       "\n",
       "    .dataframe thead th {\n",
       "        text-align: right;\n",
       "    }\n",
       "</style>\n",
       "<table border=\"1\" class=\"dataframe\">\n",
       "  <thead>\n",
       "    <tr style=\"text-align: right;\">\n",
       "      <th></th>\n",
       "      <th>店名</th>\n",
       "      <th>关键词</th>\n",
       "      <th>城市</th>\n",
       "      <th>评分</th>\n",
       "      <th>评价数</th>\n",
       "      <th>人均</th>\n",
       "      <th>地址</th>\n",
       "      <th>营业时间</th>\n",
       "      <th>菜名</th>\n",
       "      <th>商家等级</th>\n",
       "      <th>购买人数</th>\n",
       "      <th>团购价</th>\n",
       "    </tr>\n",
       "  </thead>\n",
       "  <tbody>\n",
       "    <tr>\n",
       "      <th>0</th>\n",
       "      <td>老北京涮羊肉</td>\n",
       "      <td>火锅</td>\n",
       "      <td>xa</td>\n",
       "      <td>4.4</td>\n",
       "      <td>877</td>\n",
       "      <td>45.5</td>\n",
       "      <td>西安市雁塔区朱雀大街250号东方大酒店西门斜对面（子午路站下车向北走60米路西）</td>\n",
       "      <td>11:00-21:00</td>\n",
       "      <td>【羊肉】【豆腐】【麻酱】【精品肥牛】【粉丝】【羔羊肉】【牛肚】【油豆皮】【香菇】【豆皮】【土...</td>\n",
       "      <td>2</td>\n",
       "      <td>1692</td>\n",
       "      <td>118.5</td>\n",
       "    </tr>\n",
       "    <tr>\n",
       "      <th>1</th>\n",
       "      <td>大龙燚火锅(粉巷店)</td>\n",
       "      <td>火锅</td>\n",
       "      <td>xa</td>\n",
       "      <td>4.6</td>\n",
       "      <td>2253</td>\n",
       "      <td>100.0</td>\n",
       "      <td>西安市碑林区粉巷南院门15A南苑中央广场食尚南苑2F</td>\n",
       "      <td>周一至周日 10:00-21:00</td>\n",
       "      <td>【麻辣排骨】【千层毛肚】【鸳鸯锅】【鸭血】【天味香肠】【薄土豆】【功夫黄瓜】【清汤锅】【印度...</td>\n",
       "      <td>2</td>\n",
       "      <td>19584</td>\n",
       "      <td>88.0</td>\n",
       "    </tr>\n",
       "    <tr>\n",
       "      <th>2</th>\n",
       "      <td>鲜上鲜文鱼庄(凤城五路店)</td>\n",
       "      <td>火锅</td>\n",
       "      <td>xa</td>\n",
       "      <td>4.5</td>\n",
       "      <td>1398</td>\n",
       "      <td>56.0</td>\n",
       "      <td>西安市未央区凤城五路地铁D口出人人乐5楼</td>\n",
       "      <td>全天</td>\n",
       "      <td>【生菜】【鸳鸯锅】【千叶豆腐】【荷包豆腐】【生鱼片】【毛肚】【文鱼】【鱼丸】【撒尿牛丸】【山...</td>\n",
       "      <td>2</td>\n",
       "      <td>11798</td>\n",
       "      <td>52.0</td>\n",
       "    </tr>\n",
       "    <tr>\n",
       "      <th>3</th>\n",
       "      <td>蜜悦士鲜牛肉时尚火锅(凯德广场店)</td>\n",
       "      <td>火锅</td>\n",
       "      <td>xa</td>\n",
       "      <td>4.4</td>\n",
       "      <td>48</td>\n",
       "      <td>63.0</td>\n",
       "      <td>西安市雁塔区南二环凯德广场四楼东南角</td>\n",
       "      <td>10:00-21:00</td>\n",
       "      <td>【吊龙伴】【三花腱】【番茄锅】【招牌牛舌】【油豆皮】【油炸豆腐皮】【菌汤鸳鸯锅】【手工面】【...</td>\n",
       "      <td>2</td>\n",
       "      <td>40</td>\n",
       "      <td>59.9</td>\n",
       "    </tr>\n",
       "    <tr>\n",
       "      <th>4</th>\n",
       "      <td>大自在火锅(和平村店)</td>\n",
       "      <td>火锅</td>\n",
       "      <td>xa</td>\n",
       "      <td>4.3</td>\n",
       "      <td>214</td>\n",
       "      <td>84.0</td>\n",
       "      <td>西安市莲湖区三桥和平村十字西南角伯乐城市广场6层</td>\n",
       "      <td>暂无时间</td>\n",
       "      <td>【蔬菜拼盘】【黄豆芽】【虾饺】【撒尿牛肉丸】【油条】【毛肚】【自在小酥肉】【鸡爪】【自在嫩牛...</td>\n",
       "      <td>2</td>\n",
       "      <td>1282</td>\n",
       "      <td>59.5</td>\n",
       "    </tr>\n",
       "  </tbody>\n",
       "</table>\n",
       "</div>"
      ],
      "text/plain": [
       "                  店名 关键词  城市   评分   评价数     人均  \\\n",
       "0             老北京涮羊肉  火锅  xa  4.4   877   45.5   \n",
       "1         大龙燚火锅(粉巷店)  火锅  xa  4.6  2253  100.0   \n",
       "2      鲜上鲜文鱼庄(凤城五路店)  火锅  xa  4.5  1398   56.0   \n",
       "3  蜜悦士鲜牛肉时尚火锅(凯德广场店)  火锅  xa  4.4    48   63.0   \n",
       "4        大自在火锅(和平村店)  火锅  xa  4.3   214   84.0   \n",
       "\n",
       "                                         地址               营业时间  \\\n",
       "0  西安市雁塔区朱雀大街250号东方大酒店西门斜对面（子午路站下车向北走60米路西）        11:00-21:00   \n",
       "1                西安市碑林区粉巷南院门15A南苑中央广场食尚南苑2F  周一至周日 10:00-21:00   \n",
       "2                      西安市未央区凤城五路地铁D口出人人乐5楼                 全天   \n",
       "3                        西安市雁塔区南二环凯德广场四楼东南角        10:00-21:00   \n",
       "4                  西安市莲湖区三桥和平村十字西南角伯乐城市广场6层               暂无时间   \n",
       "\n",
       "                                                  菜名  商家等级   购买人数    团购价  \n",
       "0  【羊肉】【豆腐】【麻酱】【精品肥牛】【粉丝】【羔羊肉】【牛肚】【油豆皮】【香菇】【豆皮】【土...     2   1692  118.5  \n",
       "1  【麻辣排骨】【千层毛肚】【鸳鸯锅】【鸭血】【天味香肠】【薄土豆】【功夫黄瓜】【清汤锅】【印度...     2  19584   88.0  \n",
       "2  【生菜】【鸳鸯锅】【千叶豆腐】【荷包豆腐】【生鱼片】【毛肚】【文鱼】【鱼丸】【撒尿牛丸】【山...     2  11798   52.0  \n",
       "3  【吊龙伴】【三花腱】【番茄锅】【招牌牛舌】【油豆皮】【油炸豆腐皮】【菌汤鸳鸯锅】【手工面】【...     2     40   59.9  \n",
       "4  【蔬菜拼盘】【黄豆芽】【虾饺】【撒尿牛肉丸】【油条】【毛肚】【自在小酥肉】【鸡爪】【自在嫩牛...     2   1282   59.5  "
      ]
     },
     "execution_count": 11,
     "metadata": {},
     "output_type": "execute_result"
    }
   ],
   "source": [
    "path = '../data'\n",
    "merge_data = pd.read_excel(os.path.join(path, 'merge_shop_coupon_nm.xlsx'), encoding='utf8', index=False)\n",
    "merge_data.head() "
   ]
  },
  {
   "cell_type": "code",
   "execution_count": 23,
   "metadata": {
    "ExecuteTime": {
     "end_time": "2019-07-03T12:42:37.900941Z",
     "start_time": "2019-07-03T12:42:37.387980Z"
    }
   },
   "outputs": [
    {
     "data": {
      "image/png": "[encoded data removed]",
      "text/plain": [
       "<matplotlib.figure.Figure at 0x137efce7dd8>"
      ]
     },
     "metadata": {},
     "output_type": "display_data"
    }
   ],
   "source": [
    "fig = plt.figure(figsize=(18,6)) # 作用：创建一个18*6大小的图实例（相当于一个画布）\n",
    "ax1 = fig.add_subplot(2,2,1)       # 括号的数字代表在画布上创建2*2=4张图，ax1画在第一张图上\n",
    "ax2 = fig.add_subplot(2,2,2)       # 同理，ax2画在第二张图上\n",
    "ax3 = fig.add_subplot(2,2,3)       # 同理，ax2画在第二张图上\n",
    "ax4 = fig.add_subplot(2,2,4)       # 同理，ax2画在第二张图上\n",
    "\n",
    "plt.show() \n",
    "plt.close() "
   ]
  },
  {
   "cell_type": "code",
   "execution_count": 24,
   "metadata": {
    "ExecuteTime": {
     "end_time": "2019-07-03T12:42:38.171676Z",
     "start_time": "2019-07-03T12:42:37.980948Z"
    }
   },
   "outputs": [
    {
     "data": {
      "image/png": "[encoded data removed]",
      "text/plain": [
       "<matplotlib.figure.Figure at 0x137effe6ef0>"
      ]
     },
     "metadata": {},
     "output_type": "display_data"
    }
   ],
   "source": [
    "fig = plt.figure(figsize=(10,6)) \n",
    "ax1 = fig.add_subplot(111)    \n",
    "\n",
    "ax1.set_title('人均评价数关系图', fontproperties=prop, fontsize=20)\n",
    "ax1.set_xlabel('人均', fontproperties=prop, fontsize=15)\n",
    "ax1.set_ylabel('评价数', fontproperties=prop, fontsize=15)\n",
    "\n",
    "ax1.scatter(y=merge_data['评价数'], x=merge_data['人均'], color='r', marker='v')\n",
    "\n",
    "plt.show() \n",
    "plt.close() "
   ]
  },
  {
   "cell_type": "code",
   "execution_count": 25,
   "metadata": {
    "ExecuteTime": {
     "end_time": "2019-07-03T12:42:38.475644Z",
     "start_time": "2019-07-03T12:42:38.256642Z"
    }
   },
   "outputs": [
    {
     "data": {
      "image/png": "[encoded data removed]",
      "text/plain": [
       "<matplotlib.figure.Figure at 0x137f00524e0>"
      ]
     },
     "metadata": {},
     "output_type": "display_data"
    }
   ],
   "source": [
    "fig = plt.figure(figsize=(10,6)) \n",
    "ax1 = fig.add_subplot(111)    \n",
    "ax1.scatter(y=merge_data['评价数'], x=merge_data['人均'])\n",
    "\n",
    "ax1.set_title('评价数人均关系图', fontproperties=prop, fontsize=20)\n",
    "ax1.set_xlabel('人均', fontproperties=prop, fontsize=15)\n",
    "ax1.set_ylabel('评价数', fontproperties=prop, fontsize=15)\n",
    "\n",
    "ax1.set_ylim((500, 6500))\n",
    "ax1.set_xlim((20, 60))\n",
    "\n",
    "ax1.set_xticklabels(labels=[i for i in range(20, 70, 5)], fontproperties=prop, fontsize=15)\n",
    "ax1.set_yticklabels(labels=[i for i in range(500, 7000, 1000)], fontproperties=prop, fontsize=15)\n",
    "\n",
    "ax1.hlines(2000, 20, 60, colors=\"r\", linestyles=\"dashed\")\n",
    "plt.show() \n",
    "plt.close() "
   ]
  },
  {
   "cell_type": "code",
   "execution_count": 26,
   "metadata": {
    "ExecuteTime": {
     "end_time": "2019-07-03T12:42:38.756639Z",
     "start_time": "2019-07-03T12:42:38.552659Z"
    }
   },
   "outputs": [
    {
     "data": {
      "image/png": "[encoded data removed]",
      "text/plain": [
       "<matplotlib.figure.Figure at 0x137f0049f28>"
      ]
     },
     "metadata": {},
     "output_type": "display_data"
    }
   ],
   "source": [
    "fig = plt.figure(figsize=(10,6)) \n",
    "ax1 = fig.add_subplot(111)\n",
    "\n",
    "ax1.set_title('购买人数评价数关系图', fontproperties=prop, fontsize=20)\n",
    "ax1.set_xlabel('购买人数', fontproperties=prop, fontsize=15)\n",
    "ax1.set_ylabel('评价数', fontproperties=prop, fontsize=15)\n",
    "\n",
    "ax1.scatter(x=merge_data['购买人数'], y=merge_data['评价数'])\n",
    "ax1.set_ylim((0, 3000))\n",
    "ax1.set_xlim((0, 3000))\n",
    "\n",
    "y = [i for i in range(3000)]\n",
    "x = [i for i in range(3000)]\n",
    "\n",
    "ax1.plot(x, y, color='r')\n",
    "plt.show() \n",
    "plt.close() "
   ]
  },
  {
   "cell_type": "code",
   "execution_count": 27,
   "metadata": {
    "ExecuteTime": {
     "end_time": "2019-07-03T12:42:39.898115Z",
     "start_time": "2019-07-03T12:42:39.508803Z"
    }
   },
   "outputs": [
    {
     "data": {
      "image/png": "[encoded data removed]",
      "text/plain": [
       "<matplotlib.figure.Figure at 0x137f0892ba8>"
      ]
     },
     "metadata": {},
     "output_type": "display_data"
    }
   ],
   "source": [
    "fig = plt.figure(figsize=(10,6)) \n",
    "ax1 = fig.add_subplot(111)\n",
    "\n",
    "d1 = merge_data['评价数'][merge_data['购买人数'] < 500]\n",
    "d2 = merge_data['评价数'][merge_data['购买人数'] >= 500][merge_data['购买人数'] < 1000]\n",
    "d3 = merge_data['评价数'][merge_data['购买人数'] >= 1000][merge_data['购买人数'] < 1500]\n",
    "d4 = merge_data['评价数'][merge_data['购买人数'] >= 1500][merge_data['购买人数'] < 2000]\n",
    "d = [d1, d2, d3, d4]\n",
    "\n",
    "ax1.boxplot(d)\n",
    "\n",
    "ax1.set_title('购买人数评价数关系图', fontproperties=prop, fontsize=20)\n",
    "ax1.set_xlabel('购买人数', fontproperties=prop, fontsize=15)\n",
    "ax1.set_ylabel('评价数', fontproperties=prop, fontsize=15)\n",
    "ax1.set_xticklabels(labels=['<500', '[500, 1000)', '[1000, 1500)', '[1500, 2000)'], fontproperties=prop, fontsize=20)\n",
    "ax1.set_ylim((0, 1500))\n",
    "\n",
    "plt.show() \n",
    "plt.close() \n",
    "del d "
   ]
  },
  {
   "cell_type": "code",
   "execution_count": 28,
   "metadata": {
    "ExecuteTime": {
     "end_time": "2019-07-03T12:42:41.041836Z",
     "start_time": "2019-07-03T12:42:40.990837Z"
    },
    "scrolled": false
   },
   "outputs": [
    {
     "name": "stdout",
     "output_type": "stream",
     "text": [
      "(160, 12)\n"
     ]
    },
    {
     "data": {
      "text/html": [
       "<div>\n",
       "<style scoped>\n",
       "    .dataframe tbody tr th:only-of-type {\n",
       "        vertical-align: middle;\n",
       "    }\n",
       "\n",
       "    .dataframe tbody tr th {\n",
       "        vertical-align: top;\n",
       "    }\n",
       "\n",
       "    .dataframe thead th {\n",
       "        text-align: right;\n",
       "    }\n",
       "</style>\n",
       "<table border=\"1\" class=\"dataframe\">\n",
       "  <thead>\n",
       "    <tr style=\"text-align: right;\">\n",
       "      <th></th>\n",
       "      <th>店名</th>\n",
       "      <th>关键词</th>\n",
       "      <th>城市</th>\n",
       "      <th>评分</th>\n",
       "      <th>评价数</th>\n",
       "      <th>人均</th>\n",
       "      <th>地址</th>\n",
       "      <th>营业时间</th>\n",
       "      <th>菜名</th>\n",
       "      <th>商家等级</th>\n",
       "      <th>购买人数</th>\n",
       "      <th>团购价</th>\n",
       "    </tr>\n",
       "  </thead>\n",
       "  <tbody>\n",
       "    <tr>\n",
       "      <th>3</th>\n",
       "      <td>蜜悦士鲜牛肉时尚火锅(凯德广场店)</td>\n",
       "      <td>火锅</td>\n",
       "      <td>xa</td>\n",
       "      <td>4.4</td>\n",
       "      <td>48</td>\n",
       "      <td>63.0</td>\n",
       "      <td>西安市雁塔区南二环凯德广场四楼东南角</td>\n",
       "      <td>10:00-21:00</td>\n",
       "      <td>【吊龙伴】【三花腱】【番茄锅】【招牌牛舌】【油豆皮】【油炸豆腐皮】【菌汤鸳鸯锅】【手工面】【...</td>\n",
       "      <td>2</td>\n",
       "      <td>40</td>\n",
       "      <td>59.9</td>\n",
       "    </tr>\n",
       "    <tr>\n",
       "      <th>6</th>\n",
       "      <td>响锣牛寨真味火锅</td>\n",
       "      <td>火锅</td>\n",
       "      <td>xa</td>\n",
       "      <td>4.5</td>\n",
       "      <td>393</td>\n",
       "      <td>70.5</td>\n",
       "      <td>西安市长安区府东一路长安新天地南餐-1F</td>\n",
       "      <td>9:30-22:00</td>\n",
       "      <td>【安康豆芽】【陕北宽粉】【精品肥牛】【玉米】【鸭肠】【菠菜油麦菜】【鲜鸭肠】【王中王豆皮】【...</td>\n",
       "      <td>2</td>\n",
       "      <td>158</td>\n",
       "      <td>128.0</td>\n",
       "    </tr>\n",
       "    <tr>\n",
       "      <th>8</th>\n",
       "      <td>重庆小天鹅(李家村万达店)</td>\n",
       "      <td>火锅</td>\n",
       "      <td>xa</td>\n",
       "      <td>4.3</td>\n",
       "      <td>208</td>\n",
       "      <td>74.0</td>\n",
       "      <td>西安市碑林区雁塔路北段8号李家村万达广场三楼</td>\n",
       "      <td>10:00-22:00 周一至周日</td>\n",
       "      <td>【蔬菜拼盘】【酸梅汤】【麻辣猪柳】【鸳鸯锅】【鸭肠】【鳕鱼芝士鱼蛋】【毛肚】【1精品肥牛卷】...</td>\n",
       "      <td>2</td>\n",
       "      <td>180</td>\n",
       "      <td>184.0</td>\n",
       "    </tr>\n",
       "    <tr>\n",
       "      <th>9</th>\n",
       "      <td>六婆串串香火锅(长丰园店)</td>\n",
       "      <td>火锅</td>\n",
       "      <td>xa</td>\n",
       "      <td>4.4</td>\n",
       "      <td>211</td>\n",
       "      <td>50.0</td>\n",
       "      <td>西安市雁塔区长丰园小区12号楼7号商铺</td>\n",
       "      <td>早11:30至凌晨0:00，视当天情况而定…</td>\n",
       "      <td>【鱼块】【菌汤鸳鸯锅】【滋补鸳鸯锅】【肥羊】【牛羊肉组合】【麻辣牛肉】【干碟】【麻酱】【鱼丸...</td>\n",
       "      <td>2</td>\n",
       "      <td>411</td>\n",
       "      <td>78.0</td>\n",
       "    </tr>\n",
       "    <tr>\n",
       "      <th>10</th>\n",
       "      <td>食色火锅(西安总店)</td>\n",
       "      <td>火锅</td>\n",
       "      <td>xa</td>\n",
       "      <td>4.7</td>\n",
       "      <td>30</td>\n",
       "      <td>49.0</td>\n",
       "      <td>西安市雁塔区小寨东路126号（百隆广场B座10层A户）</td>\n",
       "      <td>10:00-00:00</td>\n",
       "      <td>【娃娃菜】【拉面】【黑木耳】【毛肚】【豆腐皮】【海参丸】【培根】【金针菇】【肥牛】【土豆】【...</td>\n",
       "      <td>2</td>\n",
       "      <td>23</td>\n",
       "      <td>78.0</td>\n",
       "    </tr>\n",
       "  </tbody>\n",
       "</table>\n",
       "</div>"
      ],
      "text/plain": [
       "                   店名 关键词  城市   评分  评价数    人均                           地址  \\\n",
       "3   蜜悦士鲜牛肉时尚火锅(凯德广场店)  火锅  xa  4.4   48  63.0           西安市雁塔区南二环凯德广场四楼东南角   \n",
       "6            响锣牛寨真味火锅  火锅  xa  4.5  393  70.5         西安市长安区府东一路长安新天地南餐-1F   \n",
       "8       重庆小天鹅(李家村万达店)  火锅  xa  4.3  208  74.0       西安市碑林区雁塔路北段8号李家村万达广场三楼   \n",
       "9       六婆串串香火锅(长丰园店)  火锅  xa  4.4  211  50.0          西安市雁塔区长丰园小区12号楼7号商铺   \n",
       "10         食色火锅(西安总店)  火锅  xa  4.7   30  49.0  西安市雁塔区小寨东路126号（百隆广场B座10层A户）   \n",
       "\n",
       "                      营业时间                                                 菜名  \\\n",
       "3              10:00-21:00  【吊龙伴】【三花腱】【番茄锅】【招牌牛舌】【油豆皮】【油炸豆腐皮】【菌汤鸳鸯锅】【手工面】【...   \n",
       "6               9:30-22:00  【安康豆芽】【陕北宽粉】【精品肥牛】【玉米】【鸭肠】【菠菜油麦菜】【鲜鸭肠】【王中王豆皮】【...   \n",
       "8        10:00-22:00 周一至周日  【蔬菜拼盘】【酸梅汤】【麻辣猪柳】【鸳鸯锅】【鸭肠】【鳕鱼芝士鱼蛋】【毛肚】【1精品肥牛卷】...   \n",
       "9   早11:30至凌晨0:00，视当天情况而定…  【鱼块】【菌汤鸳鸯锅】【滋补鸳鸯锅】【肥羊】【牛羊肉组合】【麻辣牛肉】【干碟】【麻酱】【鱼丸...   \n",
       "10             10:00-00:00  【娃娃菜】【拉面】【黑木耳】【毛肚】【豆腐皮】【海参丸】【培根】【金针菇】【肥牛】【土豆】【...   \n",
       "\n",
       "    商家等级  购买人数    团购价  \n",
       "3      2    40   59.9  \n",
       "6      2   158  128.0  \n",
       "8      2   180  184.0  \n",
       "9      2   411   78.0  \n",
       "10     2    23   78.0  "
      ]
     },
     "execution_count": 28,
     "metadata": {},
     "output_type": "execute_result"
    }
   ],
   "source": [
    "import warnings\n",
    "warnings.filterwarnings('ignore')\n",
    "\n",
    "d1_ = merge_data[merge_data['购买人数'] < 500][merge_data['评价数'] < 610]\n",
    "d2_ = merge_data[merge_data['购买人数'] >= 500][merge_data['购买人数'] < 1000]\n",
    "d3_ = merge_data[merge_data['购买人数'] >= 1000][merge_data['购买人数'] < 1500]\n",
    "d4_ = merge_data[merge_data['购买人数'] >= 1500][merge_data['购买人数'] < 2000]\n",
    "\n",
    "merge_data2 = pd.concat([d1_, d2_, d3_, d4_])\n",
    "print(merge_data2.shape)\n",
    "merge_data2.head()"
   ]
  },
  {
   "cell_type": "code",
   "execution_count": 29,
   "metadata": {
    "ExecuteTime": {
     "end_time": "2019-07-03T12:42:41.851160Z",
     "start_time": "2019-07-03T12:42:41.792103Z"
    }
   },
   "outputs": [
    {
     "data": {
      "text/html": [
       "<div>\n",
       "<style scoped>\n",
       "    .dataframe tbody tr th:only-of-type {\n",
       "        vertical-align: middle;\n",
       "    }\n",
       "\n",
       "    .dataframe tbody tr th {\n",
       "        vertical-align: top;\n",
       "    }\n",
       "\n",
       "    .dataframe thead th {\n",
       "        text-align: right;\n",
       "    }\n",
       "</style>\n",
       "<table border=\"1\" class=\"dataframe\">\n",
       "  <thead>\n",
       "    <tr style=\"text-align: right;\">\n",
       "      <th></th>\n",
       "      <th>人均</th>\n",
       "      <th>评价数</th>\n",
       "      <th>团购价</th>\n",
       "      <th>购买人数</th>\n",
       "    </tr>\n",
       "    <tr>\n",
       "      <th>商家等级</th>\n",
       "      <th></th>\n",
       "      <th></th>\n",
       "      <th></th>\n",
       "      <th></th>\n",
       "    </tr>\n",
       "  </thead>\n",
       "  <tbody>\n",
       "    <tr>\n",
       "      <th>0</th>\n",
       "      <td>71.500000</td>\n",
       "      <td>0.500000</td>\n",
       "      <td>153.000000</td>\n",
       "      <td>42.000000</td>\n",
       "    </tr>\n",
       "    <tr>\n",
       "      <th>1</th>\n",
       "      <td>58.971429</td>\n",
       "      <td>3.000000</td>\n",
       "      <td>92.928571</td>\n",
       "      <td>29.714286</td>\n",
       "    </tr>\n",
       "    <tr>\n",
       "      <th>2</th>\n",
       "      <td>57.779470</td>\n",
       "      <td>243.602649</td>\n",
       "      <td>117.605331</td>\n",
       "      <td>333.298013</td>\n",
       "    </tr>\n",
       "  </tbody>\n",
       "</table>\n",
       "</div>"
      ],
      "text/plain": [
       "             人均         评价数         团购价        购买人数\n",
       "商家等级                                               \n",
       "0     71.500000    0.500000  153.000000   42.000000\n",
       "1     58.971429    3.000000   92.928571   29.714286\n",
       "2     57.779470  243.602649  117.605331  333.298013"
      ]
     },
     "execution_count": 29,
     "metadata": {},
     "output_type": "execute_result"
    }
   ],
   "source": [
    "func_mean = {\n",
    "    '购买人数': 'mean',\n",
    "    '评价数': 'mean',\n",
    "    '团购价': 'mean',\n",
    "    '人均': 'mean',  \n",
    "}\n",
    "data_for_bar = merge_data2.groupby('商家等级').agg(func_mean)\n",
    "data_for_bar"
   ]
  },
  {
   "cell_type": "code",
   "execution_count": 32,
   "metadata": {
    "ExecuteTime": {
     "end_time": "2019-07-03T12:43:08.805862Z",
     "start_time": "2019-07-03T12:43:08.475863Z"
    }
   },
   "outputs": [
    {
     "data": {
      "image/png": "[encoded data removed]",
      "text/plain": [
       "<matplotlib.figure.Figure at 0x137efccfa58>"
      ]
     },
     "metadata": {},
     "output_type": "display_data"
    }
   ],
   "source": [
    "fig = plt.figure(figsize=(10,4))\n",
    "ax1 = fig.add_subplot(121)\n",
    "\n",
    "# 基本设置\n",
    "width = 0.25\n",
    "labels = ['人均', '团购价', '评价数', '购买人数']\n",
    "ticks = [0.25, 1.25, 2.25]\n",
    "ticklabels = ['低评分', '中评分', '高评分']\n",
    "\n",
    "# 绘制子图1\n",
    "ax1.bar(left=data_for_bar.index, height=data_for_bar[labels[0]], width=width, color='r')\n",
    "ax1.bar(left=data_for_bar.index + width * 1, height=data_for_bar[labels[1]], width=width, color='b')\n",
    "ax1.set_xlabel('商家等级', fontproperties=prop)\n",
    "ax1.set_ylabel(labels[1], fontproperties=prop)\n",
    "ax1.set_xticks(ticks)\n",
    "ax1.set_xticklabels(ticklabels, fontproperties=prop, fontsize=15)\n",
    "ax1.legend(labels=labels[:2], loc='best', prop=prop, fontsize=20)\n",
    "\n",
    "# 绘制子图2\n",
    "ax2 = fig.add_subplot(122)\n",
    "ax2.bar(left=data_for_bar.index, height=data_for_bar[labels[2]], width=width, color='y')\n",
    "ax2.bar(left=data_for_bar.index + width, height=data_for_bar[labels[3]], width=width, color='g')\n",
    "ax2.set_xlabel('商家等级', fontproperties=prop)\n",
    "ax2.set_ylabel(labels[3], fontproperties=prop)\n",
    "ax2.set_xticks(ticks)\n",
    "ax2.set_xticklabels(ticklabels, fontproperties=prop, fontsize=15)\n",
    "ax2.legend(labels=labels[2:], loc='best', bbox_to_anchor=(1.0, 1.0), prop=prop, fontsize=20)\n",
    "\n",
    "plt.show()\n",
    "plt.close() "
   ]
  },
  {
   "cell_type": "code",
   "execution_count": 12,
   "metadata": {},
   "outputs": [
    {
     "data": {
      "image/png": "[encoded data removed]",
      "text/plain": [
       "<matplotlib.figure.Figure at 0x7f38c3800668>"
      ]
     },
     "metadata": {},
     "output_type": "display_data"
    }
   ],
   "source": [
    "fig = plt.figure(figsize=(10,4))\n",
    "\n",
    "# 基本设置\n",
    "width = 0.25\n",
    "labels = ['人均', '评价数', '团购价','购买人数']\n",
    "ticks = [0.25, 1.25, 2.25]\n",
    "ticklabels = ['低评分', '中评分', '高评分']\n",
    "colors = ['r', 'y', 'b', 'g']\n",
    "\n",
    "for i in range(1, 3):\n",
    "    ax = fig.add_subplot(1,2,i)\n",
    "    # 绘制子图1\n",
    "    ax.bar(left=data_for_bar.index, height=data_for_bar[labels[i-1]], width=width, color=colors[i-1])\n",
    "    ax.bar(left=data_for_bar.index + width * 1, height=data_for_bar[labels[i+1]], width=width, color=colors[i+1])\n",
    "    ax.set_xlabel('商家等级', fontproperties=prop)\n",
    "    ax.set_xticks(ticks)\n",
    "    ax.set_xticklabels(ticklabels, fontproperties=prop, fontsize=15)\n",
    "    ax.legend(labels=[labels[i-1], labels[i+1]], loc='best', prop=prop, fontsize=20)\n",
    "\n",
    "plt.show()\n",
    "plt.close()"
   ]
  },
  {
   "cell_type": "code",
   "execution_count": 13,
   "metadata": {},
   "outputs": [
    {
     "data": {
      "text/html": [
       "<div>\n",
       "<style>\n",
       "    .dataframe thead tr:only-child th {\n",
       "        text-align: right;\n",
       "    }\n",
       "\n",
       "    .dataframe thead th {\n",
       "        text-align: left;\n",
       "    }\n",
       "\n",
       "    .dataframe tbody tr th {\n",
       "        vertical-align: top;\n",
       "    }\n",
       "</style>\n",
       "<table border=\"1\" class=\"dataframe\">\n",
       "  <thead>\n",
       "    <tr style=\"text-align: right;\">\n",
       "      <th></th>\n",
       "      <th>店名</th>\n",
       "    </tr>\n",
       "    <tr>\n",
       "      <th>商家等级</th>\n",
       "      <th></th>\n",
       "    </tr>\n",
       "  </thead>\n",
       "  <tbody>\n",
       "    <tr>\n",
       "      <th>1</th>\n",
       "      <td>9</td>\n",
       "    </tr>\n",
       "    <tr>\n",
       "      <th>2</th>\n",
       "      <td>151</td>\n",
       "    </tr>\n",
       "  </tbody>\n",
       "</table>\n",
       "</div>"
      ],
      "text/plain": [
       "       店名\n",
       "商家等级     \n",
       "1       9\n",
       "2     151"
      ]
     },
     "execution_count": 13,
     "metadata": {},
     "output_type": "execute_result"
    }
   ],
   "source": [
    "data_for_pie = merge_data2.groupby('商家等级').agg({'店名': 'count'})\n",
    "data_for_pie['店名'].iloc[1] = 9\n",
    "data_for_pie = data_for_pie.drop([0])\n",
    "data_for_pie "
   ]
  },
  {
   "cell_type": "code",
   "execution_count": 14,
   "metadata": {},
   "outputs": [
    {
     "data": {
      "image/png": "[encoded data removed]",
      "text/plain": [
       "<matplotlib.figure.Figure at 0x7f38c39a4e48>"
      ]
     },
     "metadata": {},
     "output_type": "display_data"
    }
   ],
   "source": [
    "fig = plt.figure(figsize=(6,4))\n",
    "ax1 = fig.add_subplot(111)\n",
    "ticklabels = ['中低评分', '高评分']\n",
    "x = data_for_pie['店名']\n",
    "colors = ['r', 'y',]\n",
    "explode = (0.1, 0.1)\n",
    "\n",
    "# l_text是ticklabels\n",
    "# p_text是x的具体数值\n",
    "patches, l_text, p_text = ax1.pie(x, explode=explode, labels=ticklabels, colors=colors,\n",
    "                                labeldistance=1.1, autopct='%3.1f%%',shadow = False,\n",
    "                                )\n",
    "for t in l_text:\n",
    "    t.set_size=(30)\n",
    "    t.set_fontproperties(prop)\n",
    "for t in p_text:\n",
    "    t.set_size=(30)\n",
    "\n",
    "# 设置x，y轴刻度一致，这样饼图才能是圆的\n",
    "ax1.axis('equal')\n",
    "ax1.legend(labels=ticklabels, loc='best', bbox_to_anchor=(1.0, 1.0), prop=prop, fontsize=20)\n",
    "plt.show()"
   ]
  },
  {
   "cell_type": "code",
   "execution_count": 15,
   "metadata": {},
   "outputs": [
    {
     "data": {
      "image/png": "[encoded data removed]",
      "text/plain": [
       "<matplotlib.figure.Figure at 0x7f38c394cd30>"
      ]
     },
     "metadata": {},
     "output_type": "display_data"
    }
   ],
   "source": [
    "fig = plt.figure(figsize=(5,5))\n",
    "ax1 = fig.add_subplot(111)\n",
    "\n",
    "# 绘制子图1\n",
    "ax1.hist(x=merge_data2['评分'], bins=30, color='r', cumulative=True)\n",
    "ax1.set_xlabel('评分', fontproperties=prop)\n",
    "\n",
    "plt.show()\n",
    "plt.close() "
   ]
  },
  {
   "cell_type": "code",
   "execution_count": 16,
   "metadata": {},
   "outputs": [
    {
     "data": {
      "text/plain": [
       "<matplotlib.figure.Figure at 0x7f38c3327748>"
      ]
     },
     "metadata": {},
     "output_type": "display_data"
    }
   ],
   "source": [
    "plt.savefig('1.png', dpi=1000)"
   ]
  },
  {
   "cell_type": "code",
   "execution_count": null,
   "metadata": {},
   "outputs": [],
   "source": []
  }
 ],
 "metadata": {
  "anaconda-cloud": {},
  "hide_input": false,
  "kernelspec": {
   "display_name": "Python 3",
   "language": "python",
   "name": "python3"
  },
  "language_info": {
   "codemirror_mode": {
    "name": "ipython",
    "version": 3
   },
   "file_extension": ".py",
   "mimetype": "text/x-python",
   "name": "python",
   "nbconvert_exporter": "python",
   "pygments_lexer": "ipython3",
   "version": "3.5.2"
  },
  "latex_envs": {
   "LaTeX_envs_menu_present": true,
   "autoclose": false,
   "autocomplete": true,
   "bibliofile": "biblio.bib",
   "cite_by": "apalike",
   "current_citInitial": 1,
   "eqLabelWithNumbers": true,
   "eqNumInitial": 1,
   "hotkeys": {
    "equation": "Ctrl-E",
    "itemize": "Ctrl-I"
   },
   "labels_anchors": false,
   "latex_user_defs": false,
   "report_style_numbering": false,
   "user_envs_cfg": false
  },
  "toc": {
   "nav_menu": {},
   "number_sections": true,
   "sideBar": true,
   "skip_h1_title": false,
   "toc_cell": true,
   "toc_position": {},
   "toc_section_display": "block",
   "toc_window_display": true
  },
  "varInspector": {
   "cols": {
    "lenName": 16,
    "lenType": 16,
    "lenVar": 40
   },
   "kernels_config": {
    "python": {
     "delete_cmd_postfix": "",
     "delete_cmd_prefix": "del ",
     "library": "var_list.py",
     "varRefreshCmd": "print(var_dic_list())"
    },
    "r": {
     "delete_cmd_postfix": ") ",
     "delete_cmd_prefix": "rm(",
     "library": "var_list.r",
     "varRefreshCmd": "cat(var_dic_list()) "
    }
   },
   "types_to_exclude": [
    "module",
    "function",
    "builtin_function_or_method",
    "instance",
    "_Feature"
   ],
   "window_display": true
  }
 },
 "nbformat": 4,
 "nbformat_minor": 2
}
