{
 "cells": [
  {
   "cell_type": "code",
   "execution_count": 63,
   "metadata": {},
   "outputs": [],
   "source": [
    "##定义一个叫“hot_pot（火锅）的类”\n",
    "class Hot_pot:\n",
    "    pass"
   ]
  },
  {
   "cell_type": "code",
   "execution_count": 64,
   "metadata": {},
   "outputs": [
    {
     "data": {
      "text/plain": [
       "['__class__',\n",
       " '__delattr__',\n",
       " '__dict__',\n",
       " '__dir__',\n",
       " '__doc__',\n",
       " '__eq__',\n",
       " '__format__',\n",
       " '__ge__',\n",
       " '__getattribute__',\n",
       " '__gt__',\n",
       " '__hash__',\n",
       " '__init__',\n",
       " '__init_subclass__',\n",
       " '__le__',\n",
       " '__lt__',\n",
       " '__module__',\n",
       " '__ne__',\n",
       " '__new__',\n",
       " '__reduce__',\n",
       " '__reduce_ex__',\n",
       " '__repr__',\n",
       " '__setattr__',\n",
       " '__sizeof__',\n",
       " '__str__',\n",
       " '__subclasshook__',\n",
       " '__weakref__']"
      ]
     },
     "execution_count": 64,
     "metadata": {},
     "output_type": "execute_result"
    }
   ],
   "source": [
    "dir(Hot_pot)"
   ]
  },
  {
   "cell_type": "code",
   "execution_count": 65,
   "metadata": {},
   "outputs": [],
   "source": [
    "class Hot_pot:\n",
    "    \n",
    "    def choose(selt):\n",
    "        print('选食材')        \n",
    "    def cook(self):\n",
    "        print(\"煮锅底\")        \n",
    "    def mix(self):\n",
    "        print(\"调蘸料\")        \n",
    "    def boil(self):\n",
    "        print(\"怎么涮\") "
   ]
  },
  {
   "cell_type": "code",
   "execution_count": 66,
   "metadata": {},
   "outputs": [
    {
     "name": "stdout",
     "output_type": "stream",
     "text": [
      "选食材\n",
      "煮锅底\n",
      "调蘸料\n",
      "怎么涮\n"
     ]
    }
   ],
   "source": [
    "#创建一个对象\n",
    "shabu=Hot_pot()\n",
    "\n",
    "shabu.choose()#调用bearclub指向的对象的方法\n",
    "shabu.cook()\n",
    "shabu.mix()\n",
    "shabu.boil()"
   ]
  },
  {
   "cell_type": "code",
   "execution_count": 67,
   "metadata": {},
   "outputs": [
    {
     "name": "stdout",
     "output_type": "stream",
     "text": [
      "狗熊会老北京涮锅的员工有：20人\n"
     ]
    }
   ],
   "source": [
    "#添加属性,属性就是变量\n",
    "shabu.name = '狗熊会老北京涮锅'\n",
    "shabu.staff = 20\n",
    "print('%s的员工有：%d人'%(shabu.name,shabu.staff))"
   ]
  },
  {
   "cell_type": "code",
   "execution_count": 68,
   "metadata": {},
   "outputs": [
    {
     "name": "stdout",
     "output_type": "stream",
     "text": [
      "选食材\n",
      "煮锅底\n",
      "调蘸料\n",
      "怎么涮\n",
      "狗熊会老北京涮锅的员工有：20\n"
     ]
    }
   ],
   "source": [
    "class Hot_pot:\n",
    "    \n",
    "    def choose(selt):\n",
    "        print('选食材')        \n",
    "    def cook(self):\n",
    "        print(\"煮锅底\")        \n",
    "    def mix(self):\n",
    "        print(\"调蘸料\")        \n",
    "    def boil(self):\n",
    "        print(\"怎么涮\") \n",
    "    def introduce(self):\n",
    "        print('%s的员工有：%d'%(shabu.name,shabu.staff))\n",
    "\n",
    "#创建一个对象\n",
    "shabu=Hot_pot()\n",
    "\n",
    "shabu.choose()#调用bearclub指向的对象的方法\n",
    "shabu.cook()\n",
    "shabu.mix()\n",
    "shabu.boil()\n",
    "\n",
    "#添加属性,属性就是变量\n",
    "shabu.name = '狗熊会老北京涮锅'\n",
    "shabu.staff = 20\n",
    "shabu.introduce()"
   ]
  },
  {
   "cell_type": "code",
   "execution_count": 69,
   "metadata": {},
   "outputs": [
    {
     "name": "stdout",
     "output_type": "stream",
     "text": [
      "选食材\n",
      "煮锅底\n",
      "调蘸料\n",
      "怎么涮\n",
      "狗熊会老北京涮锅的员工有：20\n",
      "老成都火锅的员工有：25\n"
     ]
    }
   ],
   "source": [
    "class Hot_pot:\n",
    "    \n",
    "    def choose(selt):\n",
    "        print('选食材')        \n",
    "    def cook(self):\n",
    "        print(\"煮锅底\")        \n",
    "    def mix(self):\n",
    "        print(\"调蘸料\")        \n",
    "    def boil(self):\n",
    "        print(\"怎么涮\") \n",
    "    def introduce(self):\n",
    "        print('%s的员工有：%d'%(self.name,self.staff))\n",
    "\n",
    "#创建一个对象\n",
    "shabu=Hot_pot()\n",
    "\n",
    "shabu.choose()#调用bearclub指向的对象的方法\n",
    "shabu.cook()\n",
    "shabu.mix()\n",
    "shabu.boil()\n",
    "\n",
    "#添加属性,属性就是变量\n",
    "shabu.name = '狗熊会老北京涮锅'\n",
    "shabu.staff = 20\n",
    "shabu.introduce()\n",
    "\n",
    "chdhot_pot=Hot_pot()\n",
    "chdhot_pot.name = '老成都火锅'\n",
    "chdhot_pot.staff = 25\n",
    "chdhot_pot.introduce()"
   ]
  },
  {
   "cell_type": "code",
   "execution_count": 70,
   "metadata": {},
   "outputs": [
    {
     "name": "stdout",
     "output_type": "stream",
     "text": [
      "狗熊会老北京涮锅 20\n"
     ]
    }
   ],
   "source": [
    "class Hot_pot:\n",
    "    \n",
    "    def __init__(self, name, staff):\n",
    "        self.n=name\n",
    "        self.s=staff\n",
    "x=Hot_pot('狗熊会老北京涮锅',20)\n",
    "print(x.n, x.s)"
   ]
  },
  {
   "cell_type": "code",
   "execution_count": 71,
   "metadata": {},
   "outputs": [
    {
     "name": "stdout",
     "output_type": "stream",
     "text": [
      "狗熊会老北京涮锅—串串香的员工有：10,风格是川味。\n"
     ]
    }
   ],
   "source": [
    "# 类定义\n",
    "class Hot_pot:\n",
    "   # 定义构造方法\n",
    "    def __init__(self,name,staff):\n",
    "        self.name=name\n",
    "        self.staff=staff\n",
    "    def introduce(self):\n",
    "        print('%s的员工有：%d'%(self.name,self.staff))\n",
    "class Chuan(Hot_pot):\n",
    "    def __init__(self,name,staff,style):\n",
    "        #调用父类的构造方法\n",
    "        Hot_pot.__init__(self,name,staff)\n",
    "        self.style=style\n",
    "    # 覆写父类的方法\n",
    "    def introduce(self):\n",
    "        print('%s的员工有：%d,风格是%s。'%(self.name,self.staff,self.style))\n",
    "\n",
    "P=Chuan('狗熊会老北京涮锅—串串香',10,'川味')\n",
    "P.introduce()       "
   ]
  },
  {
   "cell_type": "code",
   "execution_count": 79,
   "metadata": {},
   "outputs": [
    {
     "name": "stdout",
     "output_type": "stream",
     "text": [
      "调用子类方法\n",
      "调用父类方法\n"
     ]
    }
   ],
   "source": [
    "class Hot_pot:\n",
    "    def myMethod(self):\n",
    "        print('调用父类方法')\n",
    "class Chuan(Parent):\n",
    "    def myMethod(self):\n",
    "        print('调用子类方法')\n",
    "c = Chuan()\n",
    "c.myMethod()\n",
    "super(Chuan, c).myMethod()"
   ]
  },
  {
   "cell_type": "code",
   "execution_count": null,
   "metadata": {},
   "outputs": [],
   "source": []
  },
  {
   "cell_type": "code",
   "execution_count": null,
   "metadata": {},
   "outputs": [],
   "source": []
  },
  {
   "cell_type": "code",
   "execution_count": null,
   "metadata": {},
   "outputs": [],
   "source": []
  },
  {
   "cell_type": "code",
   "execution_count": null,
   "metadata": {},
   "outputs": [],
   "source": []
  },
  {
   "cell_type": "code",
   "execution_count": null,
   "metadata": {},
   "outputs": [],
   "source": []
  },
  {
   "cell_type": "code",
   "execution_count": null,
   "metadata": {},
   "outputs": [],
   "source": []
  }
 ],
 "metadata": {
  "kernelspec": {
   "display_name": "Python 3",
   "language": "python",
   "name": "python3"
  },
  "language_info": {
   "codemirror_mode": {
    "name": "ipython",
    "version": 3
   },
   "file_extension": ".py",
   "mimetype": "text/x-python",
   "name": "python",
   "nbconvert_exporter": "python",
   "pygments_lexer": "ipython3",
   "version": "3.6.5"
  }
 },
 "nbformat": 4,
 "nbformat_minor": 2
}
