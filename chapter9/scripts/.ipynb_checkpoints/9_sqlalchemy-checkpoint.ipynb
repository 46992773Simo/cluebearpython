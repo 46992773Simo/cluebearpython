{
 "cells": [
  {
   "cell_type": "markdown",
   "metadata": {
    "toc": true
   },
   "source": [
    "<h1>Table of Contents<span class=\"tocSkip\"></span></h1>\n",
    "<div class=\"toc\" style=\"margin-top: 1em;\"><ul class=\"toc-item\"></ul></div>"
   ]
  },
  {
   "cell_type": "code",
   "execution_count": 36,
   "metadata": {
    "ExecuteTime": {
     "end_time": "2019-07-10T10:40:00.796803Z",
     "start_time": "2019-07-10T10:40:00.791802Z"
    }
   },
   "outputs": [],
   "source": [
    "import os\n",
    "from sqlalchemy import create_engine\n",
    "from sqlalchemy.orm import sessionmaker, relationship\n",
    "from sqlalchemy.ext.declarative import declarative_base\n",
    "from sqlalchemy import Column, String, Integer, ForeignKey"
   ]
  },
  {
   "cell_type": "code",
   "execution_count": 37,
   "metadata": {
    "ExecuteTime": {
     "end_time": "2019-07-10T10:40:00.960817Z",
     "start_time": "2019-07-10T10:40:00.950858Z"
    }
   },
   "outputs": [],
   "source": [
    "# 改成你存放数据库文件的路径，注意data.db需要提前创建\n",
    "db_file = r'../data/'\n",
    "engine = create_engine('sqlite:///{}'.format(os.path.join(db_file, 'data.db')), encoding='utf8')\n",
    "DBSession = sessionmaker(bind=engine)\n",
    "# 创建数据库会话实例\n",
    "sess = DBSession()\n"
   ]
  },
  {
   "cell_type": "code",
   "execution_count": 38,
   "metadata": {
    "ExecuteTime": {
     "end_time": "2019-07-10T10:40:01.378806Z",
     "start_time": "2019-07-10T10:40:01.132802Z"
    }
   },
   "outputs": [],
   "source": [
    "\n",
    "Base = declarative_base()\n",
    "class ShopBasic(Base):\n",
    "    # 表的名字:\n",
    "    __tablename__ = 'basic'\n",
    "\n",
    "    # 表的结构:\n",
    "    id = Column(Integer, primary_key=True, autoincrement=True)\n",
    "    name = Column(String(50))\n",
    "    time = Column(String(20), nullable=True)\n",
    "\n",
    "\n",
    "class ShopCoupon(Base):\n",
    "    # 表的名字:\n",
    "    __tablename__ = 'coupon'\n",
    "\n",
    "    id = Column(Integer, primary_key=True, autoincrement=True)\n",
    "    # 添加外键\n",
    "    shop_id = Column(Integer, ForeignKey('basic.id'))\n",
    "    day = Column(String(5))\n",
    "    coupon = Column(String(30))\n",
    "\n",
    "# 会自动检查表是否存在，如果表不存在，则创建；如果已经存在，则忽略，也可以手动注释，增强可读性。\n",
    "Base.metadata.create_all(engine)"
   ]
  },
  {
   "cell_type": "code",
   "execution_count": 39,
   "metadata": {
    "ExecuteTime": {
     "end_time": "2019-07-10T10:40:01.489803Z",
     "start_time": "2019-07-10T10:40:01.383802Z"
    }
   },
   "outputs": [],
   "source": [
    "shops = [\n",
    "    (311, \"老北京涮羊肉\", '11:00-21:00', [['周一', '满60减10'], ['周二', '满100减20']]),\n",
    "    (312, \"大龙燚火锅\", '10:00-22:00', [['周一', '满60减10'], ['周二', '满100减20']]),\n",
    "    (313, \"一尊皇牛\", '00:00-24:00', [['周一', '满80减10'], ['周二', '满100减10']]),\n",
    "]\n",
    "\n",
    "news = []\n",
    "for shop in shops:\n",
    "    new = ShopBasic(id=shop[0], name=shop[1], time=shop[2])\n",
    "    news.append(new)\n",
    "\n",
    "sess.add_all(news)\n",
    "sess.commit()"
   ]
  },
  {
   "cell_type": "code",
   "execution_count": 40,
   "metadata": {
    "ExecuteTime": {
     "end_time": "2019-07-10T10:40:01.513803Z",
     "start_time": "2019-07-10T10:40:01.494802Z"
    }
   },
   "outputs": [
    {
     "name": "stdout",
     "output_type": "stream",
     "text": [
      "311 老北京涮羊肉 11:00-21:00\n",
      "312 大龙燚火锅 10:00-22:00\n",
      "313 一尊皇牛 00:00-24:00\n"
     ]
    },
    {
     "data": {
      "text/plain": [
       "{'_sa_instance_state': <sqlalchemy.orm.state.InstanceState at 0x1cb70e0a828>,\n",
       " 'id': 311,\n",
       " 'name': '老北京涮羊肉',\n",
       " 'time': '11:00-21:00'}"
      ]
     },
     "execution_count": 40,
     "metadata": {},
     "output_type": "execute_result"
    }
   ],
   "source": [
    "\n",
    "shops = sess.query(ShopBasic).all()\n",
    "for shop in shops:\n",
    "    print(shop.id, shop.name, shop.time)\n",
    "\n",
    "shops = sess.query(ShopBasic).filter_by(name='老北京涮羊肉').all()\n",
    "shops[0].__dict__\n"
   ]
  },
  {
   "cell_type": "code",
   "execution_count": 41,
   "metadata": {
    "ExecuteTime": {
     "end_time": "2019-07-10T10:40:01.612803Z",
     "start_time": "2019-07-10T10:40:01.604802Z"
    }
   },
   "outputs": [
    {
     "name": "stdout",
     "output_type": "stream",
     "text": [
      "313 一尊皇牛 00:00-24:00\n",
      "312 大龙燚火锅 10:00-22:00\n",
      "311 老北京涮羊肉 11:00-21:00\n"
     ]
    }
   ],
   "source": [
    "\n",
    "# 排序\n",
    "shops = sess.query(ShopBasic).order_by('name').all()\n",
    "for shop in shops:\n",
    "    print(shop.id, shop.name, shop.time)\n"
   ]
  },
  {
   "cell_type": "code",
   "execution_count": 42,
   "metadata": {
    "ExecuteTime": {
     "end_time": "2019-07-10T10:40:01.897801Z",
     "start_time": "2019-07-10T10:40:01.782803Z"
    }
   },
   "outputs": [
    {
     "data": {
      "text/plain": [
       "{'_sa_instance_state': <sqlalchemy.orm.state.InstanceState at 0x1cb70e0a828>,\n",
       " 'id': 311,\n",
       " 'name': '老北京涮羊肉',\n",
       " 'time': '09:00-21:00'}"
      ]
     },
     "execution_count": 42,
     "metadata": {},
     "output_type": "execute_result"
    }
   ],
   "source": [
    "\n",
    "# 修改营业时间\n",
    "shop = sess.query(ShopBasic).filter_by(name='老北京涮羊肉').first()\n",
    "shop.time = \"09:00-21:00\"\n",
    "sess.commit()\n",
    "# 修改后，查看数据是否更新\n",
    "shop = sess.query(ShopBasic).filter_by(name='老北京涮羊肉').first()\n",
    "shop.__dict__"
   ]
  },
  {
   "cell_type": "code",
   "execution_count": 43,
   "metadata": {
    "ExecuteTime": {
     "end_time": "2019-07-10T10:40:02.313908Z",
     "start_time": "2019-07-10T10:40:02.163801Z"
    }
   },
   "outputs": [],
   "source": [
    "\n",
    "# 把营业时间设置为None，模拟数据缺失\n",
    "shop = sess.query(ShopBasic).filter_by(name='老北京涮羊肉').first()\n",
    "shop.time = None\n",
    "sess.commit()\n"
   ]
  },
  {
   "cell_type": "code",
   "execution_count": 44,
   "metadata": {
    "ExecuteTime": {
     "end_time": "2019-07-10T10:40:02.413981Z",
     "start_time": "2019-07-10T10:40:02.318912Z"
    }
   },
   "outputs": [],
   "source": [
    "\n",
    "# 删除营业时间缺失的数据\n",
    "shop = sess.query(ShopBasic).filter_by(time=None).first()\n",
    "sess.delete(shop)\n",
    "sess.commit()\n"
   ]
  },
  {
   "cell_type": "code",
   "execution_count": 45,
   "metadata": {
    "ExecuteTime": {
     "end_time": "2019-07-10T10:40:02.520504Z",
     "start_time": "2019-07-10T10:40:02.512504Z"
    }
   },
   "outputs": [
    {
     "name": "stdout",
     "output_type": "stream",
     "text": [
      "大龙燚火锅\n",
      "一尊皇牛\n"
     ]
    }
   ],
   "source": [
    "shops = sess.query(ShopBasic).all()\n",
    "for shop in shops:\n",
    "    print(shop.name)"
   ]
  },
  {
   "cell_type": "code",
   "execution_count": 46,
   "metadata": {
    "ExecuteTime": {
     "end_time": "2019-07-10T10:40:03.101500Z",
     "start_time": "2019-07-10T10:40:02.937504Z"
    }
   },
   "outputs": [],
   "source": [
    "shops = [\n",
    "    (311, \"老北京涮羊肉\", '11:00-21:00', [['周一', '满60减10'], ['周二', '满100减20']]),\n",
    "    (312, \"大龙燚火锅\", '10:00-22:00', [['周一', '满60减10'], ['周二', '满100减20']]),\n",
    "    (313, \"一尊皇牛\", '00:00-24:00', [['周一', '满80减10'], ['周二', '满100减10']]),\n",
    "]\n",
    "\n",
    "# 由于之前delete了id为311的店铺数据，这里要补回来\n",
    "new = ShopBasic(id=shops[0][0], name=shops[0][1], time=shops[0][2])\n",
    "sess.add(new)\n",
    "sess.commit()"
   ]
  },
  {
   "cell_type": "code",
   "execution_count": 47,
   "metadata": {
    "ExecuteTime": {
     "end_time": "2019-07-10T10:40:03.425502Z",
     "start_time": "2019-07-10T10:40:03.130504Z"
    }
   },
   "outputs": [
    {
     "name": "stdout",
     "output_type": "stream",
     "text": [
      "311\n",
      "312\n",
      "313\n"
     ]
    }
   ],
   "source": [
    "\n",
    "for shop in shops:\n",
    "    shop_id = shop[0]\n",
    "    print(shop_id)\n",
    "    shop_ = sess.query(ShopBasic).filter_by(id=shop_id).first()\n",
    "    coupons = shop[3]\n",
    "    coupon_ls = []\n",
    "    for c in coupons:\n",
    "        day = c[0]\n",
    "        coupon = c[1]\n",
    "        new = ShopCoupon(\n",
    "            shop_id=shop_.id,\n",
    "            day=day,\n",
    "            coupon=coupon,\n",
    "        )\n",
    "        coupon_ls.append(new)\n",
    "\n",
    "    sess.add_all(coupon_ls)\n",
    "    sess.commit()"
   ]
  },
  {
   "cell_type": "code",
   "execution_count": 48,
   "metadata": {
    "ExecuteTime": {
     "end_time": "2019-07-10T10:40:03.438503Z",
     "start_time": "2019-07-10T10:40:03.429501Z"
    }
   },
   "outputs": [
    {
     "name": "stdout",
     "output_type": "stream",
     "text": [
      "311\n",
      "311\n",
      "312\n",
      "312\n",
      "313\n",
      "313\n"
     ]
    }
   ],
   "source": [
    "\n",
    "coupons = sess.query(ShopCoupon).all()\n",
    "for coupon in coupons:\n",
    "    print(coupon.shop_id)"
   ]
  },
  {
   "cell_type": "code",
   "execution_count": 49,
   "metadata": {
    "ExecuteTime": {
     "end_time": "2019-07-10T10:40:03.573034Z",
     "start_time": "2019-07-10T10:40:03.535504Z"
    }
   },
   "outputs": [
    {
     "data": {
      "text/html": [
       "<div>\n",
       "<style scoped>\n",
       "    .dataframe tbody tr th:only-of-type {\n",
       "        vertical-align: middle;\n",
       "    }\n",
       "\n",
       "    .dataframe tbody tr th {\n",
       "        vertical-align: top;\n",
       "    }\n",
       "\n",
       "    .dataframe thead th {\n",
       "        text-align: right;\n",
       "    }\n",
       "</style>\n",
       "<table border=\"1\" class=\"dataframe\">\n",
       "  <thead>\n",
       "    <tr style=\"text-align: right;\">\n",
       "      <th></th>\n",
       "      <th>id</th>\n",
       "      <th>name</th>\n",
       "      <th>time</th>\n",
       "    </tr>\n",
       "  </thead>\n",
       "  <tbody>\n",
       "    <tr>\n",
       "      <th>0</th>\n",
       "      <td>311</td>\n",
       "      <td>老北京涮羊肉</td>\n",
       "      <td>11:00-21:00</td>\n",
       "    </tr>\n",
       "    <tr>\n",
       "      <th>1</th>\n",
       "      <td>312</td>\n",
       "      <td>大龙燚火锅</td>\n",
       "      <td>10:00-22:00</td>\n",
       "    </tr>\n",
       "    <tr>\n",
       "      <th>2</th>\n",
       "      <td>313</td>\n",
       "      <td>一尊皇牛</td>\n",
       "      <td>00:00-24:00</td>\n",
       "    </tr>\n",
       "  </tbody>\n",
       "</table>\n",
       "</div>"
      ],
      "text/plain": [
       "    id    name         time\n",
       "0  311  老北京涮羊肉  11:00-21:00\n",
       "1  312   大龙燚火锅  10:00-22:00\n",
       "2  313    一尊皇牛  00:00-24:00"
      ]
     },
     "execution_count": 49,
     "metadata": {},
     "output_type": "execute_result"
    }
   ],
   "source": [
    "import pandas as pd\n",
    "from sqlalchemy import create_engine\n",
    "\n",
    "db_file = r'../data/'\n",
    "engine = create_engine('sqlite:///{}'.format(os.path.join(db_file, 'data.db')), encoding='utf8')\n",
    "df = pd.read_sql('basic', engine)\n",
    "df"
   ]
  },
  {
   "cell_type": "code",
   "execution_count": 50,
   "metadata": {
    "ExecuteTime": {
     "end_time": "2019-07-10T10:40:03.775031Z",
     "start_time": "2019-07-10T10:40:03.770033Z"
    }
   },
   "outputs": [],
   "source": [
    "sess.close()"
   ]
  }
 ],
 "metadata": {
  "hide_input": false,
  "kernelspec": {
   "display_name": "Python 3",
   "language": "python",
   "name": "python3"
  },
  "language_info": {
   "codemirror_mode": {
    "name": "ipython",
    "version": 3
   },
   "file_extension": ".py",
   "mimetype": "text/x-python",
   "name": "python",
   "nbconvert_exporter": "python",
   "pygments_lexer": "ipython3",
   "version": "3.5.2"
  },
  "latex_envs": {
   "LaTeX_envs_menu_present": true,
   "autoclose": false,
   "autocomplete": true,
   "bibliofile": "biblio.bib",
   "cite_by": "apalike",
   "current_citInitial": 1,
   "eqLabelWithNumbers": true,
   "eqNumInitial": 1,
   "hotkeys": {
    "equation": "Ctrl-E",
    "itemize": "Ctrl-I"
   },
   "labels_anchors": false,
   "latex_user_defs": false,
   "report_style_numbering": false,
   "user_envs_cfg": false
  },
  "toc": {
   "nav_menu": {},
   "number_sections": true,
   "sideBar": true,
   "skip_h1_title": false,
   "toc_cell": true,
   "toc_position": {},
   "toc_section_display": "block",
   "toc_window_display": true
  },
  "varInspector": {
   "cols": {
    "lenName": 16,
    "lenType": 16,
    "lenVar": 40
   },
   "kernels_config": {
    "python": {
     "delete_cmd_postfix": "",
     "delete_cmd_prefix": "del ",
     "library": "var_list.py",
     "varRefreshCmd": "print(var_dic_list())"
    },
    "r": {
     "delete_cmd_postfix": ") ",
     "delete_cmd_prefix": "rm(",
     "library": "var_list.r",
     "varRefreshCmd": "cat(var_dic_list()) "
    }
   },
   "types_to_exclude": [
    "module",
    "function",
    "builtin_function_or_method",
    "instance",
    "_Feature"
   ],
   "window_display": true
  }
 },
 "nbformat": 4,
 "nbformat_minor": 2
}
