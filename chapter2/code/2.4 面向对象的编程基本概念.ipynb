{
 "cells": [
  {
   "cell_type": "code",
   "execution_count": 1,
   "metadata": {},
   "outputs": [
    {
     "data": {
      "text/plain": [
       "['__class__',\n",
       " '__delattr__',\n",
       " '__dict__',\n",
       " '__dir__',\n",
       " '__doc__',\n",
       " '__eq__',\n",
       " '__format__',\n",
       " '__ge__',\n",
       " '__getattribute__',\n",
       " '__gt__',\n",
       " '__hash__',\n",
       " '__init__',\n",
       " '__init_subclass__',\n",
       " '__le__',\n",
       " '__lt__',\n",
       " '__module__',\n",
       " '__ne__',\n",
       " '__new__',\n",
       " '__reduce__',\n",
       " '__reduce_ex__',\n",
       " '__repr__',\n",
       " '__setattr__',\n",
       " '__sizeof__',\n",
       " '__str__',\n",
       " '__subclasshook__',\n",
       " '__weakref__']"
      ]
     },
     "execution_count": 1,
     "metadata": {},
     "output_type": "execute_result"
    }
   ],
   "source": [
    "class Hot_pot_coupon:\n",
    "    pass\n",
    "\n",
    "dir(Hot_pot_coupon)"
   ]
  },
  {
   "cell_type": "code",
   "execution_count": 3,
   "metadata": {},
   "outputs": [],
   "source": [
    "class Hot_pot_coupon:\n",
    "    \n",
    "    def name(self):\n",
    "        print('团购名')        \n",
    "    def content(self):\n",
    "        print(\"团购内容\")        \n",
    "    def mix(self):\n",
    "        print(\"团购价\")        \n",
    "    def max(self):\n",
    "        print(\"市场价\")\n",
    "    def notice(self):\n",
    "        print(\"购买须知\")\n",
    "    def time(self):\n",
    "        print(\"到期时间\")"
   ]
  },
  {
   "cell_type": "code",
   "execution_count": 4,
   "metadata": {},
   "outputs": [
    {
     "name": "stdout",
     "output_type": "stream",
     "text": [
      "团购名\n",
      "团购内容\n",
      "团购价\n",
      "市场价\n",
      "购买须知\n",
      "到期时间\n"
     ]
    }
   ],
   "source": [
    "shabu=Hot_pot_coupon()\n",
    "shabu.name()#调用bearclub指向的对象的方法\n",
    "shabu.content()\n",
    "shabu.mix()\n",
    "shabu.max()\n",
    "shabu.notice()\n",
    "shabu.time()"
   ]
  },
  {
   "cell_type": "code",
   "execution_count": 5,
   "metadata": {},
   "outputs": [
    {
     "name": "stdout",
     "output_type": "stream",
     "text": [
      "狗熊会西安火锅店年底火锅豪华套餐的团购价：35元\n"
     ]
    }
   ],
   "source": [
    "shabu.name = '狗熊会西安火锅店年底火锅豪华套餐'\n",
    "shabu.mix = 35\n",
    "print('%s的团购价：%d元'%(shabu.name,shabu.mix))"
   ]
  },
  {
   "cell_type": "code",
   "execution_count": 7,
   "metadata": {},
   "outputs": [
    {
     "name": "stdout",
     "output_type": "stream",
     "text": [
      "团购名\n",
      "团购内容\n",
      "团购价\n",
      "市场价\n",
      "购买须知\n",
      "到期时间\n",
      "政委策划的火锅团购活动的团购价：20元\n"
     ]
    }
   ],
   "source": [
    "class Hot_pot_coupon:\n",
    "    \n",
    "    def name(self):\n",
    "        print('团购名')        \n",
    "    def content(self):\n",
    "        print(\"团购内容\")        \n",
    "    def mix(self):\n",
    "        print(\"团购价\")        \n",
    "    def max(self):\n",
    "        print(\"市场价\")\n",
    "    def notice(self):\n",
    "        print(\"购买须知\")\n",
    "    def time(self):\n",
    "        print(\"到期时间\")\n",
    "    def introduce(self):\n",
    "        print('%s的团购价：%d元'%(shabu.name,shabu.mix))\n",
    "\n",
    "#创建一个对象\n",
    "shabu=Hot_pot_coupon()\n",
    "\n",
    "shabu.name()#调用bearclub指向的对象的方法\n",
    "shabu.content()\n",
    "shabu.mix()\n",
    "shabu.max()\n",
    "shabu.notice()\n",
    "shabu.time()\n",
    "\n",
    "#添加属性,属性就是变量\n",
    "shabu.name = '政委策划的火锅团购活动'\n",
    "shabu.mix = 20\n",
    "shabu.introduce()"
   ]
  },
  {
   "cell_type": "code",
   "execution_count": 8,
   "metadata": {},
   "outputs": [
    {
     "name": "stdout",
     "output_type": "stream",
     "text": [
      "团购名\n",
      "团购内容\n",
      "团购价\n",
      "市场价\n",
      "购买须知\n",
      "到期时间\n",
      "政委策划的火锅团购活动的团购价：35元\n",
      "水妈策划的火锅团购活动的团购价：25元\n"
     ]
    }
   ],
   "source": [
    "class Hot_pot_coupon:\n",
    "    \n",
    "    def name(self):\n",
    "        print('团购名')        \n",
    "    def content(self):\n",
    "        print(\"团购内容\")        \n",
    "    def mix(self):\n",
    "        print(\"团购价\")        \n",
    "    def max(self):\n",
    "        print(\"市场价\")\n",
    "    def notice(self):\n",
    "        print(\"购买须知\")\n",
    "    def time(self):\n",
    "        print(\"到期时间\")\n",
    "    def introduce(self):\n",
    "        print('%s的团购价：%d元'%(self.name,self.mix))\n",
    "\n",
    "#创建一个对象\n",
    "shabu=Hot_pot_coupon()\n",
    "\n",
    "shabu.name()#调用bearclub指向的对象的方法\n",
    "shabu.content()\n",
    "shabu.mix()\n",
    "shabu.max()\n",
    "shabu.notice()\n",
    "shabu.time()\n",
    "\n",
    "#添加属性,属性就是变量\n",
    "shabu.name = '政委策划的火锅团购活动'\n",
    "shabu.mix = 35\n",
    "shabu.introduce()\n",
    "\n",
    "chdhot_pot=Hot_pot_coupon()\n",
    "chdhot_pot.name = '水妈策划的火锅团购活动'\n",
    "chdhot_pot.mix = 25\n",
    "chdhot_pot.introduce()\n"
   ]
  },
  {
   "cell_type": "code",
   "execution_count": 9,
   "metadata": {},
   "outputs": [
    {
     "name": "stdout",
     "output_type": "stream",
     "text": [
      "政委策划的团购活动 20\n"
     ]
    }
   ],
   "source": [
    "class Hot_pot_coupon:\n",
    "    \n",
    "    def __init__(self, name, mix):\n",
    "        self.n=name\n",
    "        self.s=mix\n",
    "x=Hot_pot_coupon('政委策划的团购活动',20)\n",
    "print(x.n, x.s)"
   ]
  },
  {
   "cell_type": "code",
   "execution_count": 10,
   "metadata": {},
   "outputs": [
    {
     "name": "stdout",
     "output_type": "stream",
     "text": [
      "情人节情侣火锅套餐的团购价：70元,赠品是巧克力。\n"
     ]
    }
   ],
   "source": [
    "class Hot_pot_coupon:\n",
    "   # 定义构造方法\n",
    "    def __init__(self,name,mix):\n",
    "        self.name=name\n",
    "        self.mix=mix\n",
    "    def introduce(self):\n",
    "        print('%s的团购价：%d元'%(self.name,self.mix))\n",
    "class new(Hot_pot_coupon):\n",
    "    def __init__(self,name,mix,addition):\n",
    "        #调用父类的构造方法\n",
    "        Hot_pot_coupon.__init__(self,name,mix)\n",
    "        self.addition=addition\n",
    "    # 覆写父类的方法\n",
    "    def introduce(self):\n",
    "        print('%s的团购价：%d元,赠品是%s。'%(self.name,self.mix,self.addition))\n",
    "\n",
    "P=new('情人节情侣火锅套餐',70,'巧克力')\n",
    "P.introduce()      "
   ]
  },
  {
   "cell_type": "code",
   "execution_count": 11,
   "metadata": {},
   "outputs": [
    {
     "name": "stdout",
     "output_type": "stream",
     "text": [
      "调用子类方法\n",
      "调用父类方法\n"
     ]
    }
   ],
   "source": [
    "class Hot_pot_coupon:\n",
    "    def myMethod(self):\n",
    "        print('调用父类方法')\n",
    "class new(Hot_pot_coupon):\n",
    "    def myMethod(self):\n",
    "        print('调用子类方法')\n",
    "c = new()\n",
    "c.myMethod()\n",
    "super(new, c).myMethod()"
   ]
  },
  {
   "cell_type": "code",
   "execution_count": null,
   "metadata": {},
   "outputs": [],
   "source": []
  }
 ],
 "metadata": {
  "kernelspec": {
   "display_name": "Python 3",
   "language": "python",
   "name": "python3"
  },
  "language_info": {
   "codemirror_mode": {
    "name": "ipython",
    "version": 3
   },
   "file_extension": ".py",
   "mimetype": "text/x-python",
   "name": "python",
   "nbconvert_exporter": "python",
   "pygments_lexer": "ipython3",
   "version": "3.6.5"
  }
 },
 "nbformat": 4,
 "nbformat_minor": 2
}
