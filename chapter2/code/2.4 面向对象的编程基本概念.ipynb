{
 "cells": [
  {
   "cell_type": "code",
   "execution_count": 64,
   "metadata": {},
   "outputs": [],
   "source": [
    "class Hot_pot:\n",
    "    pass"
   ]
  },
  {
   "cell_type": "code",
   "execution_count": 65,
   "metadata": {},
   "outputs": [],
   "source": [
    "class Hot_pot():\n",
    "    cooking = \"instant boiled\"                  #烹饪方式属性\n",
    "    season = \"four seasons\"                     #适用季节属性\n",
    "    def cook(self):                            #定义cook函数，即方法\n",
    "        print('涮火锅')   \n",
    "    def eat(self,name):                         #定义eat函数\n",
    "        self.name = name\n",
    "        print(self.name,'是%s的烹饪方式,适合季节是%s。'%(self.cooking,self.season)) "
   ]
  },
  {
   "cell_type": "code",
   "execution_count": 66,
   "metadata": {},
   "outputs": [
    {
     "data": {
      "text/plain": [
       "['__class__',\n",
       " '__delattr__',\n",
       " '__dict__',\n",
       " '__dir__',\n",
       " '__doc__',\n",
       " '__eq__',\n",
       " '__format__',\n",
       " '__ge__',\n",
       " '__getattribute__',\n",
       " '__gt__',\n",
       " '__hash__',\n",
       " '__init__',\n",
       " '__init_subclass__',\n",
       " '__le__',\n",
       " '__lt__',\n",
       " '__module__',\n",
       " '__ne__',\n",
       " '__new__',\n",
       " '__reduce__',\n",
       " '__reduce_ex__',\n",
       " '__repr__',\n",
       " '__setattr__',\n",
       " '__sizeof__',\n",
       " '__str__',\n",
       " '__subclasshook__',\n",
       " '__weakref__',\n",
       " 'cook',\n",
       " 'cooking',\n",
       " 'eat',\n",
       " 'season']"
      ]
     },
     "execution_count": 66,
     "metadata": {},
     "output_type": "execute_result"
    }
   ],
   "source": [
    "dir(Hot_pot)"
   ]
  },
  {
   "cell_type": "code",
   "execution_count": 67,
   "metadata": {},
   "outputs": [
    {
     "data": {
      "text/plain": [
       "'instant boiled'"
      ]
     },
     "execution_count": 67,
     "metadata": {},
     "output_type": "execute_result"
    }
   ],
   "source": [
    "dish = Hot_pot()\n",
    "dish.cooking"
   ]
  },
  {
   "cell_type": "code",
   "execution_count": 68,
   "metadata": {},
   "outputs": [
    {
     "data": {
      "text/plain": [
       "'four seasons'"
      ]
     },
     "execution_count": 68,
     "metadata": {},
     "output_type": "execute_result"
    }
   ],
   "source": [
    "dish.season"
   ]
  },
  {
   "cell_type": "code",
   "execution_count": 69,
   "metadata": {},
   "outputs": [
    {
     "name": "stdout",
     "output_type": "stream",
     "text": [
      "涮火锅\n"
     ]
    }
   ],
   "source": [
    "dish.cook()"
   ]
  },
  {
   "cell_type": "code",
   "execution_count": 70,
   "metadata": {},
   "outputs": [
    {
     "name": "stdout",
     "output_type": "stream",
     "text": [
      "四川火锅 是instant boiled的烹饪方式,适合季节是four seasons。\n"
     ]
    }
   ],
   "source": [
    "dish.eat('四川火锅')"
   ]
  },
  {
   "cell_type": "code",
   "execution_count": 71,
   "metadata": {},
   "outputs": [],
   "source": [
    "class Hot_pot():\n",
    "    def __init__(self,cooking,season):\n",
    "        self.cooking = cooking                      #属性\n",
    "        self.season = season                        #属性\n",
    "    def cook(self,):                            #定义cook函数，即方法\n",
    "        print('涮火锅')   \n",
    "    def eat(self,name):                         #定义eat函数\n",
    "        self.name = name\n",
    "        print(self.name,'是%s的烹饪方式,适合季节是%s。'%(self.cooking,self.season))\n",
    "dish1 = Hot_pot('boiled','winter')  #创建火锅类的对象"
   ]
  },
  {
   "cell_type": "code",
   "execution_count": 72,
   "metadata": {},
   "outputs": [
    {
     "data": {
      "text/plain": [
       "'boiled'"
      ]
     },
     "execution_count": 72,
     "metadata": {},
     "output_type": "execute_result"
    }
   ],
   "source": [
    "dish1.cooking  "
   ]
  },
  {
   "cell_type": "code",
   "execution_count": 73,
   "metadata": {},
   "outputs": [
    {
     "data": {
      "text/plain": [
       "'summer'"
      ]
     },
     "execution_count": 73,
     "metadata": {},
     "output_type": "execute_result"
    }
   ],
   "source": [
    "dish1.season='summer'\n",
    "dish1.season "
   ]
  },
  {
   "cell_type": "code",
   "execution_count": 74,
   "metadata": {},
   "outputs": [
    {
     "name": "stdout",
     "output_type": "stream",
     "text": [
      "四川火锅 是boiled的烹饪方式,适合季节是summer。\n"
     ]
    }
   ],
   "source": [
    "dish1.eat('四川火锅')"
   ]
  },
  {
   "cell_type": "code",
   "execution_count": 75,
   "metadata": {},
   "outputs": [
    {
     "name": "stdout",
     "output_type": "stream",
     "text": [
      "情人节情侣火锅套餐的团购价：70元,赠品是巧克力。\n"
     ]
    }
   ],
   "source": [
    "class Hot_pot_coupon:\n",
    "   # 定义构造方法\n",
    "    def __init__(self,name,mix):\n",
    "        self.name=name\n",
    "        self.mix=mix\n",
    "    def introduce(self):\n",
    "        print('%s的团购价：%d元'%(self.name,self.mix))\n",
    "class New(Hot_pot_coupon):\n",
    "    def __init__(self,name,mix,addition):\n",
    "        #调用父类的构造方法\n",
    "        Hot_pot_coupon.__init__(self,name,mix)\n",
    "        self.addition=addition\n",
    "    # 覆写父类的方法\n",
    "    def introduce(self):\n",
    "        print('%s的团购价：%d元,赠品是%s。'%(self.name,self.mix,self.addition))\n",
    "\n",
    "P=New('情人节情侣火锅套餐',70,'巧克力')\n",
    "P.introduce()"
   ]
  },
  {
   "cell_type": "code",
   "execution_count": 76,
   "metadata": {},
   "outputs": [
    {
     "name": "stdout",
     "output_type": "stream",
     "text": [
      "情人节情侣火锅套餐的团购价：70元\n"
     ]
    }
   ],
   "source": [
    "M=Hot_pot_coupon('情人节情侣火锅套餐',70)\n",
    "M.introduce()"
   ]
  },
  {
   "cell_type": "code",
   "execution_count": 77,
   "metadata": {},
   "outputs": [
    {
     "name": "stdout",
     "output_type": "stream",
     "text": [
      "调用子类方法\n",
      "调用父类方法\n"
     ]
    }
   ],
   "source": [
    "class Hot_pot_coupon:\n",
    "    def myMethod(self):\n",
    "        print('调用父类方法')\n",
    "class New(Hot_pot_coupon):\n",
    "    def myMethod(self):\n",
    "        print('调用子类方法')\n",
    "c = New()\n",
    "c.myMethod()\n",
    "super(New, c).myMethod()"
   ]
  },
  {
   "cell_type": "code",
   "execution_count": 78,
   "metadata": {},
   "outputs": [],
   "source": [
    "class Vegetable:\n",
    "    color = \"绿色\"\n",
    "    def harvest(self,color):\n",
    "        print(\"蔬菜是：\"+color+\"的！\")\n",
    "        print(\"蔬菜已经买回来了......\")\n",
    "        print(\"蔬菜原来是：\"+Vegetables.color+\"的！\")\n",
    "class Tomatoe(Vegetable):\n",
    "    color = \"红色\"\n",
    "    def __init__(self):\n",
    "        print(\"这是西红柿\")\n",
    "    def harvest(self,color):\n",
    "        print(\"西红柿是：\"+color+\"的！\")\n",
    "        print(\"西红柿已经买回来了\")\n",
    "        print(\"西红柿原来是：\"+Vegetables.color+\"的！\")"
   ]
  },
  {
   "cell_type": "code",
   "execution_count": null,
   "metadata": {},
   "outputs": [],
   "source": []
  }
 ],
 "metadata": {
  "kernelspec": {
   "display_name": "Python 3",
   "language": "python",
   "name": "python3"
  },
  "language_info": {
   "codemirror_mode": {
    "name": "ipython",
    "version": 3
   },
   "file_extension": ".py",
   "mimetype": "text/x-python",
   "name": "python",
   "nbconvert_exporter": "python",
   "pygments_lexer": "ipython3",
   "version": "3.6.5"
  }
 },
 "nbformat": 4,
 "nbformat_minor": 2
}
