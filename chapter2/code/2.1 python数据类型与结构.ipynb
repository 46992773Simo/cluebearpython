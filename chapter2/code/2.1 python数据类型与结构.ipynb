{
 "cells": [
  {
   "cell_type": "markdown",
   "metadata": {},
   "source": [
    "## 第二章 Python基础"
   ]
  },
  {
   "cell_type": "markdown",
   "metadata": {},
   "source": [
    "### 2.1  Python数据类型与结构"
   ]
  },
  {
   "cell_type": "markdown",
   "metadata": {},
   "source": [
    "#### 1.基本数据类型"
   ]
  },
  {
   "cell_type": "markdown",
   "metadata": {},
   "source": [
    "##### 1.1.1 整数"
   ]
  },
  {
   "cell_type": "code",
   "execution_count": 2,
   "metadata": {},
   "outputs": [
    {
     "data": {
      "text/plain": [
       "70550791086553325712464271575934796216507949612787315762871223209262085551582934156579298529447134158154952334825355911866929793071824566694145084454535257027960285323760313192443283334088001"
      ]
     },
     "execution_count": 2,
     "metadata": {},
     "output_type": "execute_result"
    }
   ],
   "source": [
    "pow(3,400)"
   ]
  },
  {
   "cell_type": "code",
   "execution_count": 3,
   "metadata": {},
   "outputs": [
    {
     "data": {
      "text/plain": [
       "int"
      ]
     },
     "execution_count": 3,
     "metadata": {},
     "output_type": "execute_result"
    }
   ],
   "source": [
    "a=2\n",
    "type(a)"
   ]
  },
  {
   "cell_type": "code",
   "execution_count": 4,
   "metadata": {},
   "outputs": [
    {
     "data": {
      "text/plain": [
       "118"
      ]
     },
     "execution_count": 4,
     "metadata": {},
     "output_type": "execute_result"
    }
   ],
   "source": [
    "0b1110110"
   ]
  },
  {
   "cell_type": "markdown",
   "metadata": {},
   "source": [
    "##### 1.1. 2 浮点数"
   ]
  },
  {
   "cell_type": "code",
   "execution_count": 5,
   "metadata": {},
   "outputs": [
    {
     "ename": "SyntaxError",
     "evalue": "invalid syntax (<ipython-input-5-0c8194ee4332>, line 1)",
     "output_type": "error",
     "traceback": [
      "\u001b[1;36m  File \u001b[1;32m\"<ipython-input-5-0c8194ee4332>\"\u001b[1;36m, line \u001b[1;32m1\u001b[0m\n\u001b[1;33m    0b110.0\u001b[0m\n\u001b[1;37m          ^\u001b[0m\n\u001b[1;31mSyntaxError\u001b[0m\u001b[1;31m:\u001b[0m invalid syntax\n"
     ]
    }
   ],
   "source": [
    "0b110.0"
   ]
  },
  {
   "cell_type": "code",
   "execution_count": 6,
   "metadata": {},
   "outputs": [
    {
     "data": {
      "text/plain": [
       "float"
      ]
     },
     "execution_count": 6,
     "metadata": {},
     "output_type": "execute_result"
    }
   ],
   "source": [
    "4.3e-3\n",
    "type(4.3e-3)"
   ]
  },
  {
   "cell_type": "markdown",
   "metadata": {},
   "source": [
    "##### 1.1. 3 布尔值"
   ]
  },
  {
   "cell_type": "code",
   "execution_count": 7,
   "metadata": {},
   "outputs": [
    {
     "data": {
      "text/html": [
       "<div>\n",
       "<style scoped>\n",
       "    .dataframe tbody tr th:only-of-type {\n",
       "        vertical-align: middle;\n",
       "    }\n",
       "\n",
       "    .dataframe tbody tr th {\n",
       "        vertical-align: top;\n",
       "    }\n",
       "\n",
       "    .dataframe thead th {\n",
       "        text-align: right;\n",
       "    }\n",
       "</style>\n",
       "<table border=\"1\" class=\"dataframe\">\n",
       "  <thead>\n",
       "    <tr style=\"text-align: right;\">\n",
       "      <th></th>\n",
       "      <th>团购名</th>\n",
       "      <th>店名</th>\n",
       "      <th>团购活动ID</th>\n",
       "      <th>团购介绍</th>\n",
       "      <th>购买人数</th>\n",
       "      <th>团购评价</th>\n",
       "      <th>评价人数</th>\n",
       "      <th>到期时间</th>\n",
       "      <th>团购价</th>\n",
       "      <th>市场价</th>\n",
       "      <th>地址</th>\n",
       "      <th>团购内容</th>\n",
       "      <th>备注</th>\n",
       "      <th>购买须知</th>\n",
       "    </tr>\n",
       "  </thead>\n",
       "  <tbody>\n",
       "    <tr>\n",
       "      <th>0</th>\n",
       "      <td>壹分之贰豪华生日派对套餐</td>\n",
       "      <td>壹分之贰聚会吧桌游轰趴馆(旗舰店)</td>\n",
       "      <td>38744470</td>\n",
       "      <td>仅售880元，价值7342元豪华生日派对聚会桌游轰趴夜场10小时（通宵包场）！免费WiFi，...</td>\n",
       "      <td>0</td>\n",
       "      <td>暂无评价</td>\n",
       "      <td>暂无评价</td>\n",
       "      <td>2018-08-10</td>\n",
       "      <td>NaN</td>\n",
       "      <td>NaN</td>\n",
       "      <td>【西安市雁塔区小寨东路11号壹又贰分之壹B楼1003】</td>\n",
       "      <td>【内容: 豪华主题场地, 规格: 10小时, 价格: 600元】【内容: 轰趴场地布置, 规...</td>\n",
       "      <td>随便退</td>\n",
       "      <td>【有效期2017年06月07日至2018年08月10日】\\n【可用时间周末法定节假日通用08...</td>\n",
       "    </tr>\n",
       "    <tr>\n",
       "      <th>1</th>\n",
       "      <td>壹分之贰豪华棋牌包间</td>\n",
       "      <td>壹分之贰聚会吧桌游轰趴馆(旗舰店)</td>\n",
       "      <td>38632123</td>\n",
       "      <td>仅售98元，价值240元豪华棋牌包间4小时套餐（4人）1份！免费WiFi！</td>\n",
       "      <td>0</td>\n",
       "      <td>暂无评价</td>\n",
       "      <td>暂无评价</td>\n",
       "      <td>2018-08-10</td>\n",
       "      <td>NaN</td>\n",
       "      <td>NaN</td>\n",
       "      <td>【西安市雁塔区小寨东路11号壹又贰分之壹B楼1003】</td>\n",
       "      <td>【内容: 豪华棋牌包间4小时套餐（4人）, 规格: 1份, 价格: 240元】</td>\n",
       "      <td>随便退</td>\n",
       "      <td>【有效期2017年05月26日至2018年08月10日】\\n【可用时间周末法定节假日通用08...</td>\n",
       "    </tr>\n",
       "    <tr>\n",
       "      <th>2</th>\n",
       "      <td>壹分之贰豪华生日派对套餐</td>\n",
       "      <td>壹分之贰聚会吧桌游轰趴馆(旗舰店)</td>\n",
       "      <td>38744514</td>\n",
       "      <td>仅售480元，价值3685元豪华生日派对聚会桌游轰趴5小时（包场）！免费WiFi，需预约！</td>\n",
       "      <td>0</td>\n",
       "      <td>暂无评价</td>\n",
       "      <td>暂无评价</td>\n",
       "      <td>2018-08-10</td>\n",
       "      <td>NaN</td>\n",
       "      <td>NaN</td>\n",
       "      <td>【西安市雁塔区小寨东路11号壹又贰分之壹B楼1003】</td>\n",
       "      <td>【内容: 豪华主题场地, 规格: 5小时, 价格: 300元】【内容: 轰趴场地布置, 规格...</td>\n",
       "      <td>随便退</td>\n",
       "      <td>【有效期2017年06月07日至2018年08月10日】\\n【可用时间周末法定节假日通用08...</td>\n",
       "    </tr>\n",
       "    <tr>\n",
       "      <th>3</th>\n",
       "      <td>396元1-15人服务</td>\n",
       "      <td>壹分之贰聚会吧桌游轰趴馆(旗舰店)</td>\n",
       "      <td>13377118</td>\n",
       "      <td>仅售396元，价值2575元台球优享套餐！免费WiFi，需预约！</td>\n",
       "      <td>8</td>\n",
       "      <td>5</td>\n",
       "      <td>3</td>\n",
       "      <td>2018-09-04</td>\n",
       "      <td>396.0</td>\n",
       "      <td>2575.0</td>\n",
       "      <td>【西安市雁塔区小寨东路11号壹又贰分之壹B楼1003】</td>\n",
       "      <td>【内容: 复式结构场地, 规格: 1次, 价格: 200元】【内容: 场地布置, 规格: 1...</td>\n",
       "      <td>随便退</td>\n",
       "      <td>【有效期2016年05月06日至2018年09月04日】\\n【可用时间周末法定节假日通用24...</td>\n",
       "    </tr>\n",
       "    <tr>\n",
       "      <th>4</th>\n",
       "      <td>六婆串串香火锅100代金券</td>\n",
       "      <td>六婆串串香火锅</td>\n",
       "      <td>38767590</td>\n",
       "      <td>仅售85元，价值100元代金券！免费停车，免费WiFi！</td>\n",
       "      <td>6</td>\n",
       "      <td>暂无评价</td>\n",
       "      <td>暂无评价</td>\n",
       "      <td>2018-08-30</td>\n",
       "      <td>85.0</td>\n",
       "      <td>100.0</td>\n",
       "      <td>【西安市雁塔区长丰园小区12号楼7号商铺】【西安市周至县中心街隆发云塔广场C016号】</td>\n",
       "      <td>【内容: 代金券, 规格: 1张, 价格: 100元】</td>\n",
       "      <td>随便退</td>\n",
       "      <td>【有效期2017年06月09日至2018年08月30日】\\n【可用时间周末法定节假日通用09...</td>\n",
       "    </tr>\n",
       "  </tbody>\n",
       "</table>\n",
       "</div>"
      ],
      "text/plain": [
       "             团购名                 店名    团购活动ID  \\\n",
       "0   壹分之贰豪华生日派对套餐  壹分之贰聚会吧桌游轰趴馆(旗舰店)  38744470   \n",
       "1     壹分之贰豪华棋牌包间  壹分之贰聚会吧桌游轰趴馆(旗舰店)  38632123   \n",
       "2   壹分之贰豪华生日派对套餐  壹分之贰聚会吧桌游轰趴馆(旗舰店)  38744514   \n",
       "3    396元1-15人服务  壹分之贰聚会吧桌游轰趴馆(旗舰店)  13377118   \n",
       "4  六婆串串香火锅100代金券            六婆串串香火锅  38767590   \n",
       "\n",
       "                                                团购介绍  购买人数  团购评价  评价人数  \\\n",
       "0  仅售880元，价值7342元豪华生日派对聚会桌游轰趴夜场10小时（通宵包场）！免费WiFi，...     0  暂无评价  暂无评价   \n",
       "1              仅售98元，价值240元豪华棋牌包间4小时套餐（4人）1份！免费WiFi！     0  暂无评价  暂无评价   \n",
       "2      仅售480元，价值3685元豪华生日派对聚会桌游轰趴5小时（包场）！免费WiFi，需预约！     0  暂无评价  暂无评价   \n",
       "3                   仅售396元，价值2575元台球优享套餐！免费WiFi，需预约！     8     5     3   \n",
       "4                       仅售85元，价值100元代金券！免费停车，免费WiFi！     6  暂无评价  暂无评价   \n",
       "\n",
       "         到期时间    团购价     市场价                                           地址  \\\n",
       "0  2018-08-10    NaN     NaN                  【西安市雁塔区小寨东路11号壹又贰分之壹B楼1003】   \n",
       "1  2018-08-10    NaN     NaN                  【西安市雁塔区小寨东路11号壹又贰分之壹B楼1003】   \n",
       "2  2018-08-10    NaN     NaN                  【西安市雁塔区小寨东路11号壹又贰分之壹B楼1003】   \n",
       "3  2018-09-04  396.0  2575.0                  【西安市雁塔区小寨东路11号壹又贰分之壹B楼1003】   \n",
       "4  2018-08-30   85.0   100.0  【西安市雁塔区长丰园小区12号楼7号商铺】【西安市周至县中心街隆发云塔广场C016号】   \n",
       "\n",
       "                                                团购内容   备注  \\\n",
       "0  【内容: 豪华主题场地, 规格: 10小时, 价格: 600元】【内容: 轰趴场地布置, 规...  随便退   \n",
       "1            【内容: 豪华棋牌包间4小时套餐（4人）, 规格: 1份, 价格: 240元】  随便退   \n",
       "2  【内容: 豪华主题场地, 规格: 5小时, 价格: 300元】【内容: 轰趴场地布置, 规格...  随便退   \n",
       "3  【内容: 复式结构场地, 规格: 1次, 价格: 200元】【内容: 场地布置, 规格: 1...  随便退   \n",
       "4                        【内容: 代金券, 规格: 1张, 价格: 100元】  随便退   \n",
       "\n",
       "                                                购买须知  \n",
       "0  【有效期2017年06月07日至2018年08月10日】\\n【可用时间周末法定节假日通用08...  \n",
       "1  【有效期2017年05月26日至2018年08月10日】\\n【可用时间周末法定节假日通用08...  \n",
       "2  【有效期2017年06月07日至2018年08月10日】\\n【可用时间周末法定节假日通用08...  \n",
       "3  【有效期2016年05月06日至2018年09月04日】\\n【可用时间周末法定节假日通用24...  \n",
       "4  【有效期2017年06月09日至2018年08月30日】\\n【可用时间周末法定节假日通用09...  "
      ]
     },
     "execution_count": 7,
     "metadata": {},
     "output_type": "execute_result"
    }
   ],
   "source": [
    "import pandas as pd\n",
    "data=pd.read_excel(\"coupon_nm.xlsx\")\n",
    "data.head()"
   ]
  },
  {
   "cell_type": "code",
   "execution_count": 8,
   "metadata": {},
   "outputs": [
    {
     "data": {
      "text/plain": [
       "0       False\n",
       "1       False\n",
       "2       False\n",
       "3       False\n",
       "4        True\n",
       "5       False\n",
       "6       False\n",
       "7       False\n",
       "8       False\n",
       "9       False\n",
       "10      False\n",
       "11      False\n",
       "12      False\n",
       "13      False\n",
       "14      False\n",
       "15      False\n",
       "16      False\n",
       "17      False\n",
       "18      False\n",
       "19      False\n",
       "20      False\n",
       "21      False\n",
       "22      False\n",
       "23      False\n",
       "24      False\n",
       "25      False\n",
       "26      False\n",
       "27      False\n",
       "28      False\n",
       "29      False\n",
       "        ...  \n",
       "1825    False\n",
       "1826    False\n",
       "1827    False\n",
       "1828    False\n",
       "1829    False\n",
       "1830    False\n",
       "1831    False\n",
       "1832    False\n",
       "1833    False\n",
       "1834    False\n",
       "1835    False\n",
       "1836    False\n",
       "1837    False\n",
       "1838    False\n",
       "1839    False\n",
       "1840    False\n",
       "1841    False\n",
       "1842    False\n",
       "1843    False\n",
       "1844    False\n",
       "1845    False\n",
       "1846    False\n",
       "1847    False\n",
       "1848    False\n",
       "1849    False\n",
       "1850    False\n",
       "1851    False\n",
       "1852    False\n",
       "1853    False\n",
       "1854    False\n",
       "Name: 店名, Length: 1855, dtype: bool"
      ]
     },
     "execution_count": 8,
     "metadata": {},
     "output_type": "execute_result"
    }
   ],
   "source": [
    "data['店名']=='六婆串串香火锅'"
   ]
  },
  {
   "cell_type": "code",
   "execution_count": 9,
   "metadata": {},
   "outputs": [
    {
     "data": {
      "text/html": [
       "<div>\n",
       "<style scoped>\n",
       "    .dataframe tbody tr th:only-of-type {\n",
       "        vertical-align: middle;\n",
       "    }\n",
       "\n",
       "    .dataframe tbody tr th {\n",
       "        vertical-align: top;\n",
       "    }\n",
       "\n",
       "    .dataframe thead th {\n",
       "        text-align: right;\n",
       "    }\n",
       "</style>\n",
       "<table border=\"1\" class=\"dataframe\">\n",
       "  <thead>\n",
       "    <tr style=\"text-align: right;\">\n",
       "      <th></th>\n",
       "      <th>团购名</th>\n",
       "      <th>店名</th>\n",
       "      <th>团购活动ID</th>\n",
       "      <th>团购介绍</th>\n",
       "      <th>购买人数</th>\n",
       "      <th>团购评价</th>\n",
       "      <th>评价人数</th>\n",
       "      <th>到期时间</th>\n",
       "      <th>团购价</th>\n",
       "      <th>市场价</th>\n",
       "      <th>地址</th>\n",
       "      <th>团购内容</th>\n",
       "      <th>备注</th>\n",
       "      <th>购买须知</th>\n",
       "    </tr>\n",
       "  </thead>\n",
       "  <tbody>\n",
       "    <tr>\n",
       "      <th>4</th>\n",
       "      <td>六婆串串香火锅100代金券</td>\n",
       "      <td>六婆串串香火锅</td>\n",
       "      <td>38767590</td>\n",
       "      <td>仅售85元，价值100元代金券！免费停车，免费WiFi！</td>\n",
       "      <td>6</td>\n",
       "      <td>暂无评价</td>\n",
       "      <td>暂无评价</td>\n",
       "      <td>2018-08-30</td>\n",
       "      <td>85.0</td>\n",
       "      <td>100.0</td>\n",
       "      <td>【西安市雁塔区长丰园小区12号楼7号商铺】【西安市周至县中心街隆发云塔广场C016号】</td>\n",
       "      <td>【内容: 代金券, 规格: 1张, 价格: 100元】</td>\n",
       "      <td>随便退</td>\n",
       "      <td>【有效期2017年06月09日至2018年08月30日】\\n【可用时间周末法定节假日通用09...</td>\n",
       "    </tr>\n",
       "  </tbody>\n",
       "</table>\n",
       "</div>"
      ],
      "text/plain": [
       "             团购名       店名    团购活动ID                          团购介绍  购买人数  团购评价  \\\n",
       "4  六婆串串香火锅100代金券  六婆串串香火锅  38767590  仅售85元，价值100元代金券！免费停车，免费WiFi！     6  暂无评价   \n",
       "\n",
       "   评价人数        到期时间   团购价    市场价                                           地址  \\\n",
       "4  暂无评价  2018-08-30  85.0  100.0  【西安市雁塔区长丰园小区12号楼7号商铺】【西安市周至县中心街隆发云塔广场C016号】   \n",
       "\n",
       "                          团购内容   备注  \\\n",
       "4  【内容: 代金券, 规格: 1张, 价格: 100元】  随便退   \n",
       "\n",
       "                                                购买须知  \n",
       "4  【有效期2017年06月09日至2018年08月30日】\\n【可用时间周末法定节假日通用09...  "
      ]
     },
     "execution_count": 9,
     "metadata": {},
     "output_type": "execute_result"
    }
   ],
   "source": [
    "data.loc[data['店名']=='六婆串串香火锅',]"
   ]
  },
  {
   "cell_type": "markdown",
   "metadata": {},
   "source": [
    "##### 1.1.4 复数"
   ]
  },
  {
   "cell_type": "code",
   "execution_count": 10,
   "metadata": {},
   "outputs": [
    {
     "data": {
      "text/plain": [
       "(12.3+4j)"
      ]
     },
     "execution_count": 10,
     "metadata": {},
     "output_type": "execute_result"
    }
   ],
   "source": [
    "12.3+4j"
   ]
  },
  {
   "cell_type": "code",
   "execution_count": 12,
   "metadata": {},
   "outputs": [
    {
     "ename": "NameError",
     "evalue": "name 'j' is not defined",
     "output_type": "error",
     "traceback": [
      "\u001b[1;31m---------------------------------------------------------------------------\u001b[0m",
      "\u001b[1;31mNameError\u001b[0m                                 Traceback (most recent call last)",
      "\u001b[1;32m<ipython-input-12-372b212e6455>\u001b[0m in \u001b[0;36m<module>\u001b[1;34m()\u001b[0m\n\u001b[1;32m----> 1\u001b[1;33m \u001b[1;36m12.3\u001b[0m\u001b[1;33m+\u001b[0m\u001b[1;36m4\u001b[0m\u001b[1;33m*\u001b[0m\u001b[0mj\u001b[0m\u001b[1;33m\u001b[0m\u001b[0m\n\u001b[0m",
      "\u001b[1;31mNameError\u001b[0m: name 'j' is not defined"
     ]
    }
   ],
   "source": [
    "12.3+4*j"
   ]
  },
  {
   "cell_type": "code",
   "execution_count": 13,
   "metadata": {},
   "outputs": [
    {
     "data": {
      "text/plain": [
       "3.0"
      ]
     },
     "execution_count": 13,
     "metadata": {},
     "output_type": "execute_result"
    }
   ],
   "source": [
    "(3+1j).real"
   ]
  },
  {
   "cell_type": "code",
   "execution_count": 14,
   "metadata": {},
   "outputs": [
    {
     "data": {
      "text/plain": [
       "1.0"
      ]
     },
     "execution_count": 14,
     "metadata": {},
     "output_type": "execute_result"
    }
   ],
   "source": [
    "(3+1j).imag"
   ]
  },
  {
   "cell_type": "markdown",
   "metadata": {},
   "source": [
    "##### 1.2 字符串类型"
   ]
  },
  {
   "cell_type": "code",
   "execution_count": 15,
   "metadata": {},
   "outputs": [
    {
     "data": {
      "text/plain": [
       "str"
      ]
     },
     "execution_count": 15,
     "metadata": {},
     "output_type": "execute_result"
    }
   ],
   "source": [
    "type('六婆串串香火锅')"
   ]
  },
  {
   "cell_type": "code",
   "execution_count": 16,
   "metadata": {},
   "outputs": [],
   "source": [
    "name='六婆串串香火锅'"
   ]
  },
  {
   "cell_type": "code",
   "execution_count": 17,
   "metadata": {},
   "outputs": [
    {
     "data": {
      "text/plain": [
       "'六婆串串香火锅六婆串串香火锅六婆串串香火锅'"
      ]
     },
     "execution_count": 17,
     "metadata": {},
     "output_type": "execute_result"
    }
   ],
   "source": [
    "name*3"
   ]
  },
  {
   "cell_type": "code",
   "execution_count": 18,
   "metadata": {},
   "outputs": [
    {
     "data": {
      "text/plain": [
       "True"
      ]
     },
     "execution_count": 18,
     "metadata": {},
     "output_type": "execute_result"
    }
   ],
   "source": [
    "'六婆' in name"
   ]
  },
  {
   "cell_type": "code",
   "execution_count": 19,
   "metadata": {},
   "outputs": [
    {
     "data": {
      "text/plain": [
       "'六'"
      ]
     },
     "execution_count": 19,
     "metadata": {},
     "output_type": "execute_result"
    }
   ],
   "source": [
    "name[0]"
   ]
  },
  {
   "cell_type": "code",
   "execution_count": 20,
   "metadata": {},
   "outputs": [
    {
     "data": {
      "text/plain": [
       "'串串'"
      ]
     },
     "execution_count": 20,
     "metadata": {},
     "output_type": "execute_result"
    }
   ],
   "source": [
    "name[2:4]"
   ]
  },
  {
   "cell_type": "code",
   "execution_count": 21,
   "metadata": {},
   "outputs": [
    {
     "data": {
      "text/plain": [
       "7"
      ]
     },
     "execution_count": 21,
     "metadata": {},
     "output_type": "execute_result"
    }
   ],
   "source": [
    "len(name)"
   ]
  },
  {
   "cell_type": "markdown",
   "metadata": {},
   "source": [
    "##### 1.3 数据类型转换"
   ]
  },
  {
   "cell_type": "code",
   "execution_count": 23,
   "metadata": {},
   "outputs": [
    {
     "data": {
      "text/plain": [
       "38744470"
      ]
     },
     "execution_count": 23,
     "metadata": {},
     "output_type": "execute_result"
    }
   ],
   "source": [
    "ID=data.loc[0,'团购活动ID']\n",
    "ID"
   ]
  },
  {
   "cell_type": "code",
   "execution_count": 24,
   "metadata": {},
   "outputs": [],
   "source": [
    "ID=data.loc[0,'团购活动ID']"
   ]
  },
  {
   "cell_type": "code",
   "execution_count": 25,
   "metadata": {},
   "outputs": [
    {
     "data": {
      "text/plain": [
       "numpy.int64"
      ]
     },
     "execution_count": 25,
     "metadata": {},
     "output_type": "execute_result"
    }
   ],
   "source": [
    "type(ID)"
   ]
  },
  {
   "cell_type": "code",
   "execution_count": 26,
   "metadata": {},
   "outputs": [],
   "source": [
    "IDNEW=str(ID)"
   ]
  },
  {
   "cell_type": "code",
   "execution_count": 27,
   "metadata": {},
   "outputs": [
    {
     "data": {
      "text/plain": [
       "'38744470'"
      ]
     },
     "execution_count": 27,
     "metadata": {},
     "output_type": "execute_result"
    }
   ],
   "source": [
    "IDNEW"
   ]
  },
  {
   "cell_type": "markdown",
   "metadata": {},
   "source": [
    "#### 1.4 时间类型数据"
   ]
  },
  {
   "cell_type": "code",
   "execution_count": 111,
   "metadata": {},
   "outputs": [],
   "source": [
    "import pandas as pd"
   ]
  },
  {
   "cell_type": "code",
   "execution_count": 114,
   "metadata": {},
   "outputs": [],
   "source": [
    "data=pd.read_excel(\"coupon_nm.xlsx\")"
   ]
  },
  {
   "cell_type": "code",
   "execution_count": 144,
   "metadata": {},
   "outputs": [
    {
     "data": {
      "text/html": [
       "<div>\n",
       "<style scoped>\n",
       "    .dataframe tbody tr th:only-of-type {\n",
       "        vertical-align: middle;\n",
       "    }\n",
       "\n",
       "    .dataframe tbody tr th {\n",
       "        vertical-align: top;\n",
       "    }\n",
       "\n",
       "    .dataframe thead th {\n",
       "        text-align: right;\n",
       "    }\n",
       "</style>\n",
       "<table border=\"1\" class=\"dataframe\">\n",
       "  <thead>\n",
       "    <tr style=\"text-align: right;\">\n",
       "      <th></th>\n",
       "      <th>团购名</th>\n",
       "      <th>店名</th>\n",
       "      <th>团购活动ID</th>\n",
       "      <th>团购介绍</th>\n",
       "      <th>购买人数</th>\n",
       "      <th>团购评价</th>\n",
       "      <th>评价人数</th>\n",
       "      <th>到期时间</th>\n",
       "      <th>团购价</th>\n",
       "      <th>市场价</th>\n",
       "      <th>地址</th>\n",
       "      <th>团购内容</th>\n",
       "      <th>备注</th>\n",
       "      <th>购买须知</th>\n",
       "      <th>year</th>\n",
       "      <th>month</th>\n",
       "      <th>day</th>\n",
       "    </tr>\n",
       "  </thead>\n",
       "  <tbody>\n",
       "    <tr>\n",
       "      <th>0</th>\n",
       "      <td>壹分之贰豪华生日派对套餐</td>\n",
       "      <td>壹分之贰聚会吧桌游轰趴馆(旗舰店)</td>\n",
       "      <td>38744470</td>\n",
       "      <td>仅售880元，价值7342元豪华生日派对聚会桌游轰趴夜场10小时（通宵包场）！免费WiFi，...</td>\n",
       "      <td>0</td>\n",
       "      <td>暂无评价</td>\n",
       "      <td>暂无评价</td>\n",
       "      <td>2018-08-10</td>\n",
       "      <td>NaN</td>\n",
       "      <td>NaN</td>\n",
       "      <td>【西安市雁塔区小寨东路11号壹又贰分之壹B楼1003】</td>\n",
       "      <td>【内容: 豪华主题场地, 规格: 10小时, 价格: 600元】【内容: 轰趴场地布置, 规...</td>\n",
       "      <td>随便退</td>\n",
       "      <td>【有效期2017年06月07日至2018年08月10日】\\n【可用时间周末法定节假日通用08...</td>\n",
       "      <td>2018</td>\n",
       "      <td>8</td>\n",
       "      <td>28</td>\n",
       "    </tr>\n",
       "    <tr>\n",
       "      <th>1</th>\n",
       "      <td>壹分之贰豪华棋牌包间</td>\n",
       "      <td>壹分之贰聚会吧桌游轰趴馆(旗舰店)</td>\n",
       "      <td>38632123</td>\n",
       "      <td>仅售98元，价值240元豪华棋牌包间4小时套餐（4人）1份！免费WiFi！</td>\n",
       "      <td>0</td>\n",
       "      <td>暂无评价</td>\n",
       "      <td>暂无评价</td>\n",
       "      <td>2018-08-10</td>\n",
       "      <td>NaN</td>\n",
       "      <td>NaN</td>\n",
       "      <td>【西安市雁塔区小寨东路11号壹又贰分之壹B楼1003】</td>\n",
       "      <td>【内容: 豪华棋牌包间4小时套餐（4人）, 规格: 1份, 价格: 240元】</td>\n",
       "      <td>随便退</td>\n",
       "      <td>【有效期2017年05月26日至2018年08月10日】\\n【可用时间周末法定节假日通用08...</td>\n",
       "      <td>2018</td>\n",
       "      <td>8</td>\n",
       "      <td>28</td>\n",
       "    </tr>\n",
       "    <tr>\n",
       "      <th>2</th>\n",
       "      <td>壹分之贰豪华生日派对套餐</td>\n",
       "      <td>壹分之贰聚会吧桌游轰趴馆(旗舰店)</td>\n",
       "      <td>38744514</td>\n",
       "      <td>仅售480元，价值3685元豪华生日派对聚会桌游轰趴5小时（包场）！免费WiFi，需预约！</td>\n",
       "      <td>0</td>\n",
       "      <td>暂无评价</td>\n",
       "      <td>暂无评价</td>\n",
       "      <td>2018-08-10</td>\n",
       "      <td>NaN</td>\n",
       "      <td>NaN</td>\n",
       "      <td>【西安市雁塔区小寨东路11号壹又贰分之壹B楼1003】</td>\n",
       "      <td>【内容: 豪华主题场地, 规格: 5小时, 价格: 300元】【内容: 轰趴场地布置, 规格...</td>\n",
       "      <td>随便退</td>\n",
       "      <td>【有效期2017年06月07日至2018年08月10日】\\n【可用时间周末法定节假日通用08...</td>\n",
       "      <td>2018</td>\n",
       "      <td>8</td>\n",
       "      <td>28</td>\n",
       "    </tr>\n",
       "    <tr>\n",
       "      <th>3</th>\n",
       "      <td>396元1-15人服务</td>\n",
       "      <td>壹分之贰聚会吧桌游轰趴馆(旗舰店)</td>\n",
       "      <td>13377118</td>\n",
       "      <td>仅售396元，价值2575元台球优享套餐！免费WiFi，需预约！</td>\n",
       "      <td>8</td>\n",
       "      <td>5</td>\n",
       "      <td>3</td>\n",
       "      <td>2018-09-04</td>\n",
       "      <td>396.0</td>\n",
       "      <td>2575.0</td>\n",
       "      <td>【西安市雁塔区小寨东路11号壹又贰分之壹B楼1003】</td>\n",
       "      <td>【内容: 复式结构场地, 规格: 1次, 价格: 200元】【内容: 场地布置, 规格: 1...</td>\n",
       "      <td>随便退</td>\n",
       "      <td>【有效期2016年05月06日至2018年09月04日】\\n【可用时间周末法定节假日通用24...</td>\n",
       "      <td>2018</td>\n",
       "      <td>8</td>\n",
       "      <td>28</td>\n",
       "    </tr>\n",
       "    <tr>\n",
       "      <th>4</th>\n",
       "      <td>六婆串串香火锅100代金券</td>\n",
       "      <td>六婆串串香火锅</td>\n",
       "      <td>38767590</td>\n",
       "      <td>仅售85元，价值100元代金券！免费停车，免费WiFi！</td>\n",
       "      <td>6</td>\n",
       "      <td>暂无评价</td>\n",
       "      <td>暂无评价</td>\n",
       "      <td>2018-08-30</td>\n",
       "      <td>85.0</td>\n",
       "      <td>100.0</td>\n",
       "      <td>【西安市雁塔区长丰园小区12号楼7号商铺】【西安市周至县中心街隆发云塔广场C016号】</td>\n",
       "      <td>【内容: 代金券, 规格: 1张, 价格: 100元】</td>\n",
       "      <td>随便退</td>\n",
       "      <td>【有效期2017年06月09日至2018年08月30日】\\n【可用时间周末法定节假日通用09...</td>\n",
       "      <td>2018</td>\n",
       "      <td>8</td>\n",
       "      <td>28</td>\n",
       "    </tr>\n",
       "  </tbody>\n",
       "</table>\n",
       "</div>"
      ],
      "text/plain": [
       "             团购名                 店名    团购活动ID  \\\n",
       "0   壹分之贰豪华生日派对套餐  壹分之贰聚会吧桌游轰趴馆(旗舰店)  38744470   \n",
       "1     壹分之贰豪华棋牌包间  壹分之贰聚会吧桌游轰趴馆(旗舰店)  38632123   \n",
       "2   壹分之贰豪华生日派对套餐  壹分之贰聚会吧桌游轰趴馆(旗舰店)  38744514   \n",
       "3    396元1-15人服务  壹分之贰聚会吧桌游轰趴馆(旗舰店)  13377118   \n",
       "4  六婆串串香火锅100代金券            六婆串串香火锅  38767590   \n",
       "\n",
       "                                                团购介绍  购买人数  团购评价  评价人数  \\\n",
       "0  仅售880元，价值7342元豪华生日派对聚会桌游轰趴夜场10小时（通宵包场）！免费WiFi，...     0  暂无评价  暂无评价   \n",
       "1              仅售98元，价值240元豪华棋牌包间4小时套餐（4人）1份！免费WiFi！     0  暂无评价  暂无评价   \n",
       "2      仅售480元，价值3685元豪华生日派对聚会桌游轰趴5小时（包场）！免费WiFi，需预约！     0  暂无评价  暂无评价   \n",
       "3                   仅售396元，价值2575元台球优享套餐！免费WiFi，需预约！     8     5     3   \n",
       "4                       仅售85元，价值100元代金券！免费停车，免费WiFi！     6  暂无评价  暂无评价   \n",
       "\n",
       "        到期时间    团购价     市场价                                           地址  \\\n",
       "0 2018-08-10    NaN     NaN                  【西安市雁塔区小寨东路11号壹又贰分之壹B楼1003】   \n",
       "1 2018-08-10    NaN     NaN                  【西安市雁塔区小寨东路11号壹又贰分之壹B楼1003】   \n",
       "2 2018-08-10    NaN     NaN                  【西安市雁塔区小寨东路11号壹又贰分之壹B楼1003】   \n",
       "3 2018-09-04  396.0  2575.0                  【西安市雁塔区小寨东路11号壹又贰分之壹B楼1003】   \n",
       "4 2018-08-30   85.0   100.0  【西安市雁塔区长丰园小区12号楼7号商铺】【西安市周至县中心街隆发云塔广场C016号】   \n",
       "\n",
       "                                                团购内容   备注  \\\n",
       "0  【内容: 豪华主题场地, 规格: 10小时, 价格: 600元】【内容: 轰趴场地布置, 规...  随便退   \n",
       "1            【内容: 豪华棋牌包间4小时套餐（4人）, 规格: 1份, 价格: 240元】  随便退   \n",
       "2  【内容: 豪华主题场地, 规格: 5小时, 价格: 300元】【内容: 轰趴场地布置, 规格...  随便退   \n",
       "3  【内容: 复式结构场地, 规格: 1次, 价格: 200元】【内容: 场地布置, 规格: 1...  随便退   \n",
       "4                        【内容: 代金券, 规格: 1张, 价格: 100元】  随便退   \n",
       "\n",
       "                                                购买须知  year  month  day  \n",
       "0  【有效期2017年06月07日至2018年08月10日】\\n【可用时间周末法定节假日通用08...  2018      8   28  \n",
       "1  【有效期2017年05月26日至2018年08月10日】\\n【可用时间周末法定节假日通用08...  2018      8   28  \n",
       "2  【有效期2017年06月07日至2018年08月10日】\\n【可用时间周末法定节假日通用08...  2018      8   28  \n",
       "3  【有效期2016年05月06日至2018年09月04日】\\n【可用时间周末法定节假日通用24...  2018      8   28  \n",
       "4  【有效期2017年06月09日至2018年08月30日】\\n【可用时间周末法定节假日通用09...  2018      8   28  "
      ]
     },
     "execution_count": 144,
     "metadata": {},
     "output_type": "execute_result"
    }
   ],
   "source": [
    "data.head()"
   ]
  },
  {
   "cell_type": "code",
   "execution_count": 118,
   "metadata": {},
   "outputs": [
    {
     "data": {
      "text/plain": [
       "dtype('O')"
      ]
     },
     "execution_count": 118,
     "metadata": {},
     "output_type": "execute_result"
    }
   ],
   "source": [
    "data['到期时间'].dtypes"
   ]
  },
  {
   "cell_type": "code",
   "execution_count": 120,
   "metadata": {},
   "outputs": [
    {
     "data": {
      "text/plain": [
       "dtype('<M8[ns]')"
      ]
     },
     "execution_count": 120,
     "metadata": {},
     "output_type": "execute_result"
    }
   ],
   "source": [
    "data['到期时间']=pd.to_datetime(data['到期时间'])\n",
    "data['到期时间'].dtypes"
   ]
  },
  {
   "cell_type": "code",
   "execution_count": 148,
   "metadata": {},
   "outputs": [],
   "source": [
    "year1=[i.year for i in data['到期时间']]"
   ]
  },
  {
   "cell_type": "code",
   "execution_count": 150,
   "metadata": {},
   "outputs": [],
   "source": [
    "month1=[i.month for i in data['到期时间']]"
   ]
  },
  {
   "cell_type": "code",
   "execution_count": 152,
   "metadata": {},
   "outputs": [],
   "source": [
    "day1=[i.day for i in data['到期时间']]"
   ]
  },
  {
   "cell_type": "code",
   "execution_count": 153,
   "metadata": {},
   "outputs": [
    {
     "name": "stderr",
     "output_type": "stream",
     "text": [
      "C:\\Users\\qian\\Anaconda3\\lib\\site-packages\\ipykernel_launcher.py:1: FutureWarning: `weekday_name` is deprecated and will be removed in a future version. Use `day_name` instead\n",
      "  \"\"\"Entry point for launching an IPython kernel.\n"
     ]
    }
   ],
   "source": [
    "weekday1=[i.weekday_name for i in data['到期时间']]"
   ]
  },
  {
   "cell_type": "code",
   "execution_count": 154,
   "metadata": {},
   "outputs": [
    {
     "data": {
      "text/plain": [
       "['Friday',\n",
       " 'Friday',\n",
       " 'Friday',\n",
       " 'Tuesday',\n",
       " 'Thursday',\n",
       " 'Tuesday',\n",
       " 'Tuesday',\n",
       " 'Tuesday',\n",
       " 'Tuesday',\n",
       " 'Tuesday',\n",
       " 'Tuesday',\n",
       " 'Saturday',\n",
       " 'Thursday',\n",
       " 'Thursday',\n",
       " 'Monday',\n",
       " 'Sunday',\n",
       " 'Sunday',\n",
       " 'Tuesday',\n",
       " 'Wednesday',\n",
       " 'Wednesday',\n",
       " 'Wednesday',\n",
       " 'Wednesday',\n",
       " 'Wednesday',\n",
       " 'Saturday',\n",
       " 'Wednesday',\n",
       " 'Friday',\n",
       " 'Wednesday',\n",
       " 'Wednesday',\n",
       " 'Tuesday',\n",
       " 'Saturday',\n",
       " 'Saturday',\n",
       " 'Sunday',\n",
       " 'Friday',\n",
       " 'Friday',\n",
       " 'Monday',\n",
       " 'Thursday',\n",
       " 'Monday',\n",
       " 'Monday',\n",
       " 'Monday',\n",
       " 'Monday',\n",
       " 'Sunday',\n",
       " 'Sunday',\n",
       " 'Sunday',\n",
       " 'Saturday',\n",
       " 'Saturday',\n",
       " 'Saturday',\n",
       " 'Saturday',\n",
       " 'Saturday',\n",
       " 'Saturday',\n",
       " 'Saturday',\n",
       " 'Saturday',\n",
       " 'Saturday',\n",
       " 'Friday',\n",
       " 'Friday',\n",
       " 'Tuesday',\n",
       " 'Tuesday',\n",
       " 'Wednesday',\n",
       " 'Sunday',\n",
       " 'Saturday',\n",
       " 'Monday',\n",
       " 'Saturday',\n",
       " 'Saturday',\n",
       " 'Saturday',\n",
       " 'Wednesday',\n",
       " 'Monday',\n",
       " 'Tuesday',\n",
       " 'Wednesday',\n",
       " 'Wednesday',\n",
       " 'Monday',\n",
       " 'Friday',\n",
       " 'Friday',\n",
       " 'Thursday',\n",
       " 'Thursday',\n",
       " 'Thursday',\n",
       " 'Thursday',\n",
       " 'Friday',\n",
       " 'Monday',\n",
       " 'Monday',\n",
       " 'Friday',\n",
       " 'Friday',\n",
       " 'Friday',\n",
       " 'Friday',\n",
       " 'Friday',\n",
       " 'Thursday',\n",
       " 'Monday',\n",
       " 'Monday',\n",
       " 'Thursday',\n",
       " 'Sunday',\n",
       " 'Monday',\n",
       " 'Sunday',\n",
       " 'Sunday',\n",
       " 'Sunday',\n",
       " 'Monday',\n",
       " 'Friday',\n",
       " 'Friday',\n",
       " 'Monday',\n",
       " 'Wednesday',\n",
       " 'Tuesday',\n",
       " 'Sunday',\n",
       " 'Sunday',\n",
       " 'Sunday',\n",
       " 'Wednesday',\n",
       " 'Sunday',\n",
       " 'Tuesday',\n",
       " 'Tuesday',\n",
       " 'Thursday',\n",
       " 'Monday',\n",
       " 'Thursday',\n",
       " 'Thursday',\n",
       " 'Tuesday',\n",
       " 'Thursday',\n",
       " 'Tuesday',\n",
       " 'Thursday',\n",
       " 'Thursday',\n",
       " 'Friday',\n",
       " 'Friday',\n",
       " 'Friday',\n",
       " 'Saturday',\n",
       " 'Thursday',\n",
       " 'Saturday',\n",
       " 'Saturday',\n",
       " 'Saturday',\n",
       " 'Sunday',\n",
       " 'Sunday',\n",
       " 'Sunday',\n",
       " 'Sunday',\n",
       " 'Wednesday',\n",
       " 'Friday',\n",
       " 'Tuesday',\n",
       " 'Friday',\n",
       " 'Friday',\n",
       " 'Friday',\n",
       " 'Thursday',\n",
       " 'Thursday',\n",
       " 'Thursday',\n",
       " 'Sunday',\n",
       " 'Sunday',\n",
       " 'Sunday',\n",
       " 'Saturday',\n",
       " 'Saturday',\n",
       " 'Saturday',\n",
       " 'Saturday',\n",
       " 'Wednesday',\n",
       " 'Friday',\n",
       " 'Friday',\n",
       " 'Saturday',\n",
       " 'Saturday',\n",
       " 'Tuesday',\n",
       " 'Thursday',\n",
       " 'Friday',\n",
       " 'Friday',\n",
       " 'Friday',\n",
       " 'Tuesday',\n",
       " 'Thursday',\n",
       " 'Thursday',\n",
       " 'Thursday',\n",
       " 'Friday',\n",
       " 'Thursday',\n",
       " 'Friday',\n",
       " 'Friday',\n",
       " 'Friday',\n",
       " 'Wednesday',\n",
       " 'Wednesday',\n",
       " 'Wednesday',\n",
       " 'Wednesday',\n",
       " 'Wednesday',\n",
       " 'Wednesday',\n",
       " 'Monday',\n",
       " 'Monday',\n",
       " 'Monday',\n",
       " 'Monday',\n",
       " 'Friday',\n",
       " 'Friday',\n",
       " 'Wednesday',\n",
       " 'Thursday',\n",
       " 'Thursday',\n",
       " 'Thursday',\n",
       " 'Tuesday',\n",
       " 'Tuesday',\n",
       " 'Tuesday',\n",
       " 'Monday',\n",
       " 'Monday',\n",
       " 'Sunday',\n",
       " 'Sunday',\n",
       " 'Wednesday',\n",
       " 'Saturday',\n",
       " 'Monday',\n",
       " 'Monday',\n",
       " 'Tuesday',\n",
       " 'Monday',\n",
       " 'Tuesday',\n",
       " 'Tuesday',\n",
       " 'Tuesday',\n",
       " 'Tuesday',\n",
       " 'Tuesday',\n",
       " 'Tuesday',\n",
       " 'Saturday',\n",
       " 'Saturday',\n",
       " 'Thursday',\n",
       " 'Wednesday',\n",
       " 'Wednesday',\n",
       " 'Tuesday',\n",
       " 'Tuesday',\n",
       " 'Tuesday',\n",
       " 'Tuesday',\n",
       " 'Friday',\n",
       " 'Thursday',\n",
       " 'Sunday',\n",
       " 'Monday',\n",
       " 'Monday',\n",
       " 'Wednesday',\n",
       " 'Wednesday',\n",
       " 'Thursday',\n",
       " 'Thursday',\n",
       " 'Wednesday',\n",
       " 'Sunday',\n",
       " 'Saturday',\n",
       " 'Tuesday',\n",
       " 'Tuesday',\n",
       " 'Thursday',\n",
       " 'Tuesday',\n",
       " 'Thursday',\n",
       " 'Thursday',\n",
       " 'Friday',\n",
       " 'Thursday',\n",
       " 'Thursday',\n",
       " 'Monday',\n",
       " 'Thursday',\n",
       " 'Monday',\n",
       " 'Monday',\n",
       " 'Monday',\n",
       " 'Monday',\n",
       " 'Monday',\n",
       " 'Monday',\n",
       " 'Tuesday',\n",
       " 'Friday',\n",
       " 'Friday',\n",
       " 'Sunday',\n",
       " 'Sunday',\n",
       " 'Thursday',\n",
       " 'Thursday',\n",
       " 'Sunday',\n",
       " 'Tuesday',\n",
       " 'Tuesday',\n",
       " 'Friday',\n",
       " 'Monday',\n",
       " 'Friday',\n",
       " 'Sunday',\n",
       " 'Sunday',\n",
       " 'Thursday',\n",
       " 'Thursday',\n",
       " 'Tuesday',\n",
       " 'Tuesday',\n",
       " 'Friday',\n",
       " 'Monday',\n",
       " 'Sunday',\n",
       " 'Sunday',\n",
       " 'Thursday',\n",
       " 'Monday',\n",
       " 'Monday',\n",
       " 'Monday',\n",
       " 'Thursday',\n",
       " 'Tuesday',\n",
       " 'Thursday',\n",
       " 'Thursday',\n",
       " 'Thursday',\n",
       " 'Thursday',\n",
       " 'Thursday',\n",
       " 'Thursday',\n",
       " 'Thursday',\n",
       " 'Thursday',\n",
       " 'Thursday',\n",
       " 'Thursday',\n",
       " 'Sunday',\n",
       " 'Monday',\n",
       " 'Monday',\n",
       " 'Sunday',\n",
       " 'Friday',\n",
       " 'Tuesday',\n",
       " 'Tuesday',\n",
       " 'Tuesday',\n",
       " 'Monday',\n",
       " 'Thursday',\n",
       " 'Monday',\n",
       " 'Friday',\n",
       " 'Monday',\n",
       " 'Thursday',\n",
       " 'Thursday',\n",
       " 'Monday',\n",
       " 'Wednesday',\n",
       " 'Tuesday',\n",
       " 'Tuesday',\n",
       " 'Sunday',\n",
       " 'Sunday',\n",
       " 'Sunday',\n",
       " 'Sunday',\n",
       " 'Sunday',\n",
       " 'Friday',\n",
       " 'Friday',\n",
       " 'Friday',\n",
       " 'Friday',\n",
       " 'Friday',\n",
       " 'Monday',\n",
       " 'Monday',\n",
       " 'Sunday',\n",
       " 'Sunday',\n",
       " 'Sunday',\n",
       " 'Thursday',\n",
       " 'Saturday',\n",
       " 'Saturday',\n",
       " 'Saturday',\n",
       " 'Saturday',\n",
       " 'Friday',\n",
       " 'Saturday',\n",
       " 'Wednesday',\n",
       " 'Friday',\n",
       " 'Saturday',\n",
       " 'Saturday',\n",
       " 'Saturday',\n",
       " 'Monday',\n",
       " 'Saturday',\n",
       " 'Saturday',\n",
       " 'Sunday',\n",
       " 'Wednesday',\n",
       " 'Wednesday',\n",
       " 'Wednesday',\n",
       " 'Saturday',\n",
       " 'Thursday',\n",
       " 'Thursday',\n",
       " 'Friday',\n",
       " 'Friday',\n",
       " 'Friday',\n",
       " 'Tuesday',\n",
       " 'Monday',\n",
       " 'Monday',\n",
       " 'Saturday',\n",
       " 'Monday',\n",
       " 'Sunday',\n",
       " 'Sunday',\n",
       " 'Thursday',\n",
       " 'Thursday',\n",
       " 'Tuesday',\n",
       " 'Thursday',\n",
       " 'Thursday',\n",
       " 'Monday',\n",
       " 'Thursday',\n",
       " 'Thursday',\n",
       " 'Sunday',\n",
       " 'Tuesday',\n",
       " 'Monday',\n",
       " 'Thursday',\n",
       " 'Tuesday',\n",
       " 'Tuesday',\n",
       " 'Saturday',\n",
       " 'Saturday',\n",
       " 'Thursday',\n",
       " 'Friday',\n",
       " 'Wednesday',\n",
       " 'Friday',\n",
       " 'Saturday',\n",
       " 'Saturday',\n",
       " 'Thursday',\n",
       " 'Tuesday',\n",
       " 'Tuesday',\n",
       " 'Tuesday',\n",
       " 'Saturday',\n",
       " 'Friday',\n",
       " 'Friday',\n",
       " 'Friday',\n",
       " 'Friday',\n",
       " 'Monday',\n",
       " 'Friday',\n",
       " 'Friday',\n",
       " 'Saturday',\n",
       " 'Saturday',\n",
       " 'Saturday',\n",
       " 'Saturday',\n",
       " 'Saturday',\n",
       " 'Saturday',\n",
       " 'Saturday',\n",
       " 'Thursday',\n",
       " 'Friday',\n",
       " 'Friday',\n",
       " 'Sunday',\n",
       " 'Sunday',\n",
       " 'Monday',\n",
       " 'Monday',\n",
       " 'Tuesday',\n",
       " 'Tuesday',\n",
       " 'Tuesday',\n",
       " 'Wednesday',\n",
       " 'Wednesday',\n",
       " 'Monday',\n",
       " 'Monday',\n",
       " 'Monday',\n",
       " 'Friday',\n",
       " 'Friday',\n",
       " 'Monday',\n",
       " 'Friday',\n",
       " 'Thursday',\n",
       " 'Thursday',\n",
       " 'Sunday',\n",
       " 'Wednesday',\n",
       " 'Sunday',\n",
       " 'Monday',\n",
       " 'Monday',\n",
       " 'Friday',\n",
       " 'Friday',\n",
       " 'Wednesday',\n",
       " 'Saturday',\n",
       " 'Monday',\n",
       " 'Friday',\n",
       " 'Wednesday',\n",
       " 'Sunday',\n",
       " 'Wednesday',\n",
       " 'Friday',\n",
       " 'Sunday',\n",
       " 'Sunday',\n",
       " 'Friday',\n",
       " 'Sunday',\n",
       " 'Friday',\n",
       " 'Friday',\n",
       " 'Friday',\n",
       " 'Wednesday',\n",
       " 'Tuesday',\n",
       " 'Wednesday',\n",
       " 'Friday',\n",
       " 'Monday',\n",
       " 'Friday',\n",
       " 'Sunday',\n",
       " 'Monday',\n",
       " 'Tuesday',\n",
       " 'Monday',\n",
       " 'Friday',\n",
       " 'Tuesday',\n",
       " 'Tuesday',\n",
       " 'Saturday',\n",
       " 'Wednesday',\n",
       " 'Sunday',\n",
       " 'Sunday',\n",
       " 'Sunday',\n",
       " 'Tuesday',\n",
       " 'Tuesday',\n",
       " 'Tuesday',\n",
       " 'Tuesday',\n",
       " 'Tuesday',\n",
       " 'Wednesday',\n",
       " 'Sunday',\n",
       " 'Sunday',\n",
       " 'Friday',\n",
       " 'Friday',\n",
       " 'Friday',\n",
       " 'Thursday',\n",
       " 'Monday',\n",
       " 'Monday',\n",
       " 'Monday',\n",
       " 'Monday',\n",
       " 'Friday',\n",
       " 'Friday',\n",
       " 'Sunday',\n",
       " 'Sunday',\n",
       " 'Thursday',\n",
       " 'Sunday',\n",
       " 'Sunday',\n",
       " 'Tuesday',\n",
       " 'Tuesday',\n",
       " 'Friday',\n",
       " 'Friday',\n",
       " 'Thursday',\n",
       " 'Wednesday',\n",
       " 'Monday',\n",
       " 'Tuesday',\n",
       " 'Thursday',\n",
       " 'Sunday',\n",
       " 'Wednesday',\n",
       " 'Saturday',\n",
       " 'Thursday',\n",
       " 'Thursday',\n",
       " 'Thursday',\n",
       " 'Saturday',\n",
       " 'Thursday',\n",
       " 'Thursday',\n",
       " 'Thursday',\n",
       " 'Friday',\n",
       " 'Thursday',\n",
       " 'Wednesday',\n",
       " 'Sunday',\n",
       " 'Thursday',\n",
       " 'Thursday',\n",
       " 'Thursday',\n",
       " 'Thursday',\n",
       " 'Thursday',\n",
       " 'Wednesday',\n",
       " 'Friday',\n",
       " 'Wednesday',\n",
       " 'Wednesday',\n",
       " 'Friday',\n",
       " 'Thursday',\n",
       " 'Monday',\n",
       " 'Monday',\n",
       " 'Monday',\n",
       " 'Monday',\n",
       " 'Tuesday',\n",
       " 'Friday',\n",
       " 'Saturday',\n",
       " 'Thursday',\n",
       " 'Tuesday',\n",
       " 'Thursday',\n",
       " 'Tuesday',\n",
       " 'Tuesday',\n",
       " 'Monday',\n",
       " 'Thursday',\n",
       " 'Thursday',\n",
       " 'Wednesday',\n",
       " 'Saturday',\n",
       " 'Saturday',\n",
       " 'Saturday',\n",
       " 'Saturday',\n",
       " 'Saturday',\n",
       " 'Friday',\n",
       " 'Saturday',\n",
       " 'Wednesday',\n",
       " 'Wednesday',\n",
       " 'Tuesday',\n",
       " 'Tuesday',\n",
       " 'Tuesday',\n",
       " 'Monday',\n",
       " 'Monday',\n",
       " 'Friday',\n",
       " 'Friday',\n",
       " 'Friday',\n",
       " 'Friday',\n",
       " 'Saturday',\n",
       " 'Saturday',\n",
       " 'Saturday',\n",
       " 'Saturday',\n",
       " 'Saturday',\n",
       " 'Saturday',\n",
       " 'Tuesday',\n",
       " 'Tuesday',\n",
       " 'Friday',\n",
       " 'Wednesday',\n",
       " 'Thursday',\n",
       " 'Wednesday',\n",
       " 'Saturday',\n",
       " 'Saturday',\n",
       " 'Wednesday',\n",
       " 'Saturday',\n",
       " 'Thursday',\n",
       " 'Wednesday',\n",
       " 'Sunday',\n",
       " 'Saturday',\n",
       " 'Friday',\n",
       " 'Saturday',\n",
       " 'Wednesday',\n",
       " 'Wednesday',\n",
       " 'Tuesday',\n",
       " 'Tuesday',\n",
       " 'Tuesday',\n",
       " 'Tuesday',\n",
       " 'Thursday',\n",
       " 'Monday',\n",
       " 'Monday',\n",
       " 'Monday',\n",
       " 'Monday',\n",
       " 'Tuesday',\n",
       " 'Tuesday',\n",
       " 'Tuesday',\n",
       " 'Tuesday',\n",
       " 'Tuesday',\n",
       " 'Tuesday',\n",
       " 'Wednesday',\n",
       " 'Wednesday',\n",
       " 'Sunday',\n",
       " 'Sunday',\n",
       " 'Tuesday',\n",
       " 'Tuesday',\n",
       " 'Tuesday',\n",
       " 'Tuesday',\n",
       " 'Tuesday',\n",
       " 'Tuesday',\n",
       " 'Thursday',\n",
       " 'Thursday',\n",
       " 'Friday',\n",
       " 'Monday',\n",
       " 'Saturday',\n",
       " 'Monday',\n",
       " 'Monday',\n",
       " 'Monday',\n",
       " 'Monday',\n",
       " 'Thursday',\n",
       " 'Tuesday',\n",
       " 'Tuesday',\n",
       " 'Wednesday',\n",
       " 'Tuesday',\n",
       " 'Wednesday',\n",
       " 'Monday',\n",
       " 'Monday',\n",
       " 'Friday',\n",
       " 'Monday',\n",
       " 'Thursday',\n",
       " 'Thursday',\n",
       " 'Tuesday',\n",
       " 'Monday',\n",
       " 'Thursday',\n",
       " 'Thursday',\n",
       " 'Thursday',\n",
       " 'Thursday',\n",
       " 'Thursday',\n",
       " 'Wednesday',\n",
       " 'Wednesday',\n",
       " 'Wednesday',\n",
       " 'Monday',\n",
       " 'Monday',\n",
       " 'Thursday',\n",
       " 'Sunday',\n",
       " 'Friday',\n",
       " 'Friday',\n",
       " 'Wednesday',\n",
       " 'Sunday',\n",
       " 'Wednesday',\n",
       " 'Monday',\n",
       " 'Monday',\n",
       " 'Monday',\n",
       " 'Monday',\n",
       " 'Monday',\n",
       " 'Wednesday',\n",
       " 'Wednesday',\n",
       " 'Tuesday',\n",
       " 'Thursday',\n",
       " 'Wednesday',\n",
       " 'Monday',\n",
       " 'Tuesday',\n",
       " 'Saturday',\n",
       " 'Saturday',\n",
       " 'Friday',\n",
       " 'Friday',\n",
       " 'Saturday',\n",
       " 'Saturday',\n",
       " 'Friday',\n",
       " 'Friday',\n",
       " 'Friday',\n",
       " 'Wednesday',\n",
       " 'Thursday',\n",
       " 'Thursday',\n",
       " 'Wednesday',\n",
       " 'Monday',\n",
       " 'Wednesday',\n",
       " 'Wednesday',\n",
       " 'Sunday',\n",
       " 'Sunday',\n",
       " 'Sunday',\n",
       " 'Sunday',\n",
       " 'Sunday',\n",
       " 'Thursday',\n",
       " 'Wednesday',\n",
       " 'Wednesday',\n",
       " 'Wednesday',\n",
       " 'Friday',\n",
       " 'Friday',\n",
       " 'Tuesday',\n",
       " 'Thursday',\n",
       " 'Tuesday',\n",
       " 'Friday',\n",
       " 'Sunday',\n",
       " 'Sunday',\n",
       " 'Sunday',\n",
       " 'Sunday',\n",
       " 'Monday',\n",
       " 'Saturday',\n",
       " 'Thursday',\n",
       " 'Saturday',\n",
       " 'Monday',\n",
       " 'Tuesday',\n",
       " 'Tuesday',\n",
       " 'Tuesday',\n",
       " 'Tuesday',\n",
       " 'Tuesday',\n",
       " 'Tuesday',\n",
       " 'Tuesday',\n",
       " 'Saturday',\n",
       " 'Saturday',\n",
       " 'Wednesday',\n",
       " 'Wednesday',\n",
       " 'Thursday',\n",
       " 'Thursday',\n",
       " 'Thursday',\n",
       " 'Friday',\n",
       " 'Friday',\n",
       " 'Friday',\n",
       " 'Friday',\n",
       " 'Friday',\n",
       " 'Wednesday',\n",
       " 'Tuesday',\n",
       " 'Friday',\n",
       " 'Friday',\n",
       " 'Sunday',\n",
       " 'Sunday',\n",
       " 'Sunday',\n",
       " 'Sunday',\n",
       " 'Thursday',\n",
       " 'Sunday',\n",
       " 'Sunday',\n",
       " 'Friday',\n",
       " 'Friday',\n",
       " 'Friday',\n",
       " 'Friday',\n",
       " 'Tuesday',\n",
       " 'Sunday',\n",
       " 'Sunday',\n",
       " 'Friday',\n",
       " 'Monday',\n",
       " 'Tuesday',\n",
       " 'Tuesday',\n",
       " 'Tuesday',\n",
       " 'Tuesday',\n",
       " 'Thursday',\n",
       " 'Wednesday',\n",
       " 'Sunday',\n",
       " 'Sunday',\n",
       " 'Sunday',\n",
       " 'Monday',\n",
       " 'Thursday',\n",
       " 'Wednesday',\n",
       " 'Wednesday',\n",
       " 'Friday',\n",
       " 'Friday',\n",
       " 'Thursday',\n",
       " 'Monday',\n",
       " 'Thursday',\n",
       " 'Monday',\n",
       " 'Thursday',\n",
       " 'Monday',\n",
       " 'Thursday',\n",
       " 'Tuesday',\n",
       " 'Friday',\n",
       " 'Tuesday',\n",
       " 'Tuesday',\n",
       " 'Friday',\n",
       " 'Sunday',\n",
       " 'Sunday',\n",
       " 'Sunday',\n",
       " 'Sunday',\n",
       " 'Sunday',\n",
       " 'Tuesday',\n",
       " 'Tuesday',\n",
       " 'Tuesday',\n",
       " 'Tuesday',\n",
       " 'Tuesday',\n",
       " 'Tuesday',\n",
       " 'Tuesday',\n",
       " 'Tuesday',\n",
       " 'Tuesday',\n",
       " 'Monday',\n",
       " 'Monday',\n",
       " 'Tuesday',\n",
       " 'Tuesday',\n",
       " 'Tuesday',\n",
       " 'Tuesday',\n",
       " 'Tuesday',\n",
       " 'Tuesday',\n",
       " 'Tuesday',\n",
       " 'Thursday',\n",
       " 'Friday',\n",
       " 'Thursday',\n",
       " 'Tuesday',\n",
       " 'Monday',\n",
       " 'Monday',\n",
       " 'Monday',\n",
       " 'Monday',\n",
       " 'Saturday',\n",
       " 'Saturday',\n",
       " 'Tuesday',\n",
       " 'Sunday',\n",
       " 'Friday',\n",
       " 'Sunday',\n",
       " 'Friday',\n",
       " 'Monday',\n",
       " 'Tuesday',\n",
       " 'Tuesday',\n",
       " 'Tuesday',\n",
       " 'Thursday',\n",
       " 'Tuesday',\n",
       " 'Monday',\n",
       " 'Monday',\n",
       " 'Thursday',\n",
       " 'Tuesday',\n",
       " 'Sunday',\n",
       " 'Tuesday',\n",
       " 'Tuesday',\n",
       " 'Tuesday',\n",
       " 'Tuesday',\n",
       " 'Monday',\n",
       " 'Tuesday',\n",
       " 'Tuesday',\n",
       " 'Tuesday',\n",
       " 'Tuesday',\n",
       " 'Monday',\n",
       " 'Tuesday',\n",
       " 'Tuesday',\n",
       " 'Tuesday',\n",
       " 'Monday',\n",
       " 'Tuesday',\n",
       " 'Monday',\n",
       " 'Monday',\n",
       " 'Monday',\n",
       " 'Monday',\n",
       " 'Monday',\n",
       " 'Monday',\n",
       " 'Monday',\n",
       " 'Sunday',\n",
       " 'Friday',\n",
       " 'Friday',\n",
       " 'Thursday',\n",
       " 'Friday',\n",
       " 'Sunday',\n",
       " 'Tuesday',\n",
       " 'Wednesday',\n",
       " 'Friday',\n",
       " 'Friday',\n",
       " 'Wednesday',\n",
       " 'Saturday',\n",
       " 'Monday',\n",
       " 'Thursday',\n",
       " 'Monday',\n",
       " 'Monday',\n",
       " 'Thursday',\n",
       " 'Tuesday',\n",
       " 'Thursday',\n",
       " 'Thursday',\n",
       " 'Thursday',\n",
       " 'Saturday',\n",
       " 'Friday',\n",
       " 'Friday',\n",
       " 'Friday',\n",
       " 'Friday',\n",
       " 'Thursday',\n",
       " 'Friday',\n",
       " 'Monday',\n",
       " 'Tuesday',\n",
       " 'Thursday',\n",
       " 'Thursday',\n",
       " 'Saturday',\n",
       " 'Saturday',\n",
       " 'Saturday',\n",
       " 'Thursday',\n",
       " 'Thursday',\n",
       " 'Thursday',\n",
       " 'Thursday',\n",
       " 'Thursday',\n",
       " 'Tuesday',\n",
       " 'Tuesday',\n",
       " 'Friday',\n",
       " 'Friday',\n",
       " 'Thursday',\n",
       " 'Thursday',\n",
       " 'Friday',\n",
       " 'Thursday',\n",
       " 'Thursday',\n",
       " 'Wednesday',\n",
       " 'Thursday',\n",
       " 'Thursday',\n",
       " 'Monday',\n",
       " 'Thursday',\n",
       " 'Monday',\n",
       " 'Monday',\n",
       " 'Thursday',\n",
       " 'Thursday',\n",
       " 'Tuesday',\n",
       " 'Tuesday',\n",
       " 'Tuesday',\n",
       " 'Thursday',\n",
       " 'Tuesday',\n",
       " 'Tuesday',\n",
       " 'Tuesday',\n",
       " 'Tuesday',\n",
       " 'Wednesday',\n",
       " 'Tuesday',\n",
       " 'Thursday',\n",
       " 'Saturday',\n",
       " 'Saturday',\n",
       " 'Saturday',\n",
       " 'Friday',\n",
       " 'Friday',\n",
       " 'Friday',\n",
       " 'Saturday',\n",
       " 'Sunday',\n",
       " 'Sunday',\n",
       " 'Tuesday',\n",
       " 'Tuesday',\n",
       " 'Sunday',\n",
       " 'Thursday',\n",
       " 'Thursday',\n",
       " 'Thursday',\n",
       " 'Thursday',\n",
       " 'Thursday',\n",
       " 'Thursday',\n",
       " 'Saturday',\n",
       " 'Saturday',\n",
       " 'Friday',\n",
       " 'Friday',\n",
       " 'Wednesday',\n",
       " 'Friday',\n",
       " 'Friday',\n",
       " 'Friday',\n",
       " 'Friday',\n",
       " 'Friday',\n",
       " 'Friday',\n",
       " 'Sunday',\n",
       " 'Friday',\n",
       " 'Monday',\n",
       " 'Sunday',\n",
       " 'Friday',\n",
       " 'Thursday',\n",
       " 'Thursday',\n",
       " 'Thursday',\n",
       " 'Monday',\n",
       " 'Monday',\n",
       " 'Monday',\n",
       " 'Monday',\n",
       " 'Monday',\n",
       " 'Wednesday',\n",
       " 'Monday',\n",
       " 'Tuesday',\n",
       " 'Wednesday',\n",
       " 'Sunday',\n",
       " 'Friday',\n",
       " 'Thursday',\n",
       " 'Friday',\n",
       " 'Saturday',\n",
       " 'Friday',\n",
       " 'Sunday',\n",
       " 'Friday',\n",
       " 'Friday',\n",
       " 'Thursday',\n",
       " 'Sunday',\n",
       " 'Monday',\n",
       " 'Friday',\n",
       " 'Sunday',\n",
       " 'Saturday',\n",
       " 'Wednesday',\n",
       " 'Thursday',\n",
       " 'Tuesday',\n",
       " 'Monday',\n",
       " 'Monday',\n",
       " 'Friday',\n",
       " 'Friday',\n",
       " 'Monday',\n",
       " 'Wednesday',\n",
       " 'Tuesday',\n",
       " 'Tuesday',\n",
       " 'Tuesday',\n",
       " 'Tuesday',\n",
       " 'Tuesday',\n",
       " 'Friday',\n",
       " 'Thursday',\n",
       " 'Thursday',\n",
       " 'Thursday',\n",
       " 'Thursday',\n",
       " 'Tuesday',\n",
       " 'Monday',\n",
       " 'Monday',\n",
       " 'Monday',\n",
       " 'Monday',\n",
       " 'Monday',\n",
       " 'Monday',\n",
       " 'Sunday',\n",
       " 'Tuesday',\n",
       " 'Tuesday',\n",
       " 'Wednesday',\n",
       " 'Wednesday',\n",
       " 'Wednesday',\n",
       " 'Tuesday',\n",
       " 'Tuesday',\n",
       " 'Sunday',\n",
       " 'Wednesday',\n",
       " 'Thursday',\n",
       " 'Saturday',\n",
       " 'Saturday',\n",
       " 'Saturday',\n",
       " 'Wednesday',\n",
       " 'Wednesday',\n",
       " 'Thursday',\n",
       " 'Thursday',\n",
       " 'Thursday',\n",
       " 'Saturday',\n",
       " 'Saturday',\n",
       " 'Friday',\n",
       " 'Saturday',\n",
       " 'Saturday',\n",
       " 'Friday',\n",
       " 'Thursday',\n",
       " 'Thursday',\n",
       " 'Thursday',\n",
       " 'Thursday',\n",
       " 'Thursday',\n",
       " 'Friday',\n",
       " 'Monday',\n",
       " 'Wednesday',\n",
       " 'Tuesday',\n",
       " ...]"
      ]
     },
     "execution_count": 154,
     "metadata": {},
     "output_type": "execute_result"
    }
   ],
   "source": [
    "weekday1"
   ]
  },
  {
   "cell_type": "code",
   "execution_count": 100,
   "metadata": {},
   "outputs": [
    {
     "name": "stdout",
     "output_type": "stream",
     "text": [
      "1541735146.8374362\n"
     ]
    }
   ],
   "source": [
    "import time\n",
    "print(time.time())"
   ]
  },
  {
   "cell_type": "code",
   "execution_count": 101,
   "metadata": {},
   "outputs": [
    {
     "name": "stdout",
     "output_type": "stream",
     "text": [
      "1541735154.3947875\n"
     ]
    }
   ],
   "source": [
    "print(time.time())"
   ]
  },
  {
   "cell_type": "code",
   "execution_count": 107,
   "metadata": {},
   "outputs": [
    {
     "name": "stdout",
     "output_type": "stream",
     "text": [
      "time.struct_time(tm_year=2018, tm_mon=11, tm_mday=9, tm_hour=11, tm_min=51, tm_sec=40, tm_wday=4, tm_yday=313, tm_isdst=0)\n"
     ]
    }
   ],
   "source": [
    "print(time.localtime(time.time()))"
   ]
  },
  {
   "cell_type": "code",
   "execution_count": 108,
   "metadata": {},
   "outputs": [
    {
     "name": "stdout",
     "output_type": "stream",
     "text": [
      "Fri Nov  9 11:54:01 2018\n"
     ]
    }
   ],
   "source": [
    "print(time.asctime(time.localtime(time.time())))"
   ]
  },
  {
   "cell_type": "code",
   "execution_count": 109,
   "metadata": {},
   "outputs": [],
   "source": [
    "A=time.strftime('%Y-%m-%d %H:%M:%S',time.localtime())"
   ]
  },
  {
   "cell_type": "code",
   "execution_count": 110,
   "metadata": {},
   "outputs": [
    {
     "data": {
      "text/plain": [
       "str"
      ]
     },
     "execution_count": 110,
     "metadata": {},
     "output_type": "execute_result"
    }
   ],
   "source": [
    "type(A)"
   ]
  },
  {
   "cell_type": "code",
   "execution_count": 103,
   "metadata": {},
   "outputs": [
    {
     "name": "stdout",
     "output_type": "stream",
     "text": [
      "2018-11-09 11:46:13\n"
     ]
    }
   ],
   "source": [
    "print(time.strftime('%Y-%m-%d %H:%M:%S',time.localtime()))"
   ]
  },
  {
   "cell_type": "code",
   "execution_count": 4,
   "metadata": {},
   "outputs": [
    {
     "data": {
      "text/plain": [
       "datetime.datetime(2018, 11, 11, 11, 1, 29, 738212)"
      ]
     },
     "execution_count": 4,
     "metadata": {},
     "output_type": "execute_result"
    }
   ],
   "source": [
    "import datetime#导入模块datetime\n",
    "datetime.datetime.now()#获取当前时间"
   ]
  },
  {
   "cell_type": "code",
   "execution_count": 5,
   "metadata": {},
   "outputs": [
    {
     "data": {
      "text/plain": [
       "datetime.datetime(2018, 11, 11, 11, 1, 29, 738212)"
      ]
     },
     "execution_count": 5,
     "metadata": {},
     "output_type": "execute_result"
    }
   ],
   "source": [
    "t1=datetime.datetime(2018, 11, 11, 11, 1, 29, 738212)#自定义时间\n",
    "t1"
   ]
  },
  {
   "cell_type": "code",
   "execution_count": 6,
   "metadata": {},
   "outputs": [
    {
     "data": {
      "text/plain": [
       "datetime.datetime(2018, 11, 11, 11, 3, 13, 265530)"
      ]
     },
     "execution_count": 6,
     "metadata": {},
     "output_type": "execute_result"
    }
   ],
   "source": [
    "t2=datetime.datetime.now()\n",
    "t2"
   ]
  },
  {
   "cell_type": "code",
   "execution_count": 9,
   "metadata": {},
   "outputs": [
    {
     "data": {
      "text/plain": [
       "103"
      ]
     },
     "execution_count": 9,
     "metadata": {},
     "output_type": "execute_result"
    }
   ],
   "source": [
    "sub=t2-t1#时间相减\n",
    "sub.seconds#时间相差秒数"
   ]
  },
  {
   "cell_type": "code",
   "execution_count": 10,
   "metadata": {},
   "outputs": [
    {
     "data": {
      "text/plain": [
       "2018"
      ]
     },
     "execution_count": 10,
     "metadata": {},
     "output_type": "execute_result"
    }
   ],
   "source": [
    "t2.year#时间中的年"
   ]
  },
  {
   "cell_type": "code",
   "execution_count": 11,
   "metadata": {},
   "outputs": [
    {
     "data": {
      "text/plain": [
       "11"
      ]
     },
     "execution_count": 11,
     "metadata": {},
     "output_type": "execute_result"
    }
   ],
   "source": [
    "t2.month#时间中的月"
   ]
  },
  {
   "cell_type": "code",
   "execution_count": 12,
   "metadata": {},
   "outputs": [
    {
     "data": {
      "text/plain": [
       "11"
      ]
     },
     "execution_count": 12,
     "metadata": {},
     "output_type": "execute_result"
    }
   ],
   "source": [
    "t2.day#时间中的日"
   ]
  },
  {
   "cell_type": "code",
   "execution_count": 13,
   "metadata": {},
   "outputs": [
    {
     "data": {
      "text/plain": [
       "11"
      ]
     },
     "execution_count": 13,
     "metadata": {},
     "output_type": "execute_result"
    }
   ],
   "source": [
    "t2.hour#时间中的小时"
   ]
  },
  {
   "cell_type": "code",
   "execution_count": 14,
   "metadata": {},
   "outputs": [
    {
     "data": {
      "text/plain": [
       "3"
      ]
     },
     "execution_count": 14,
     "metadata": {},
     "output_type": "execute_result"
    }
   ],
   "source": [
    "t2.minute#时间中的分钟"
   ]
  },
  {
   "cell_type": "code",
   "execution_count": 15,
   "metadata": {},
   "outputs": [
    {
     "data": {
      "text/plain": [
       "13"
      ]
     },
     "execution_count": 15,
     "metadata": {},
     "output_type": "execute_result"
    }
   ],
   "source": [
    "t2.second#时间中的秒"
   ]
  },
  {
   "cell_type": "markdown",
   "metadata": {},
   "source": [
    "#### 2.基本数据结构"
   ]
  },
  {
   "cell_type": "markdown",
   "metadata": {},
   "source": [
    "##### 2.1列表"
   ]
  },
  {
   "cell_type": "code",
   "execution_count": 29,
   "metadata": {},
   "outputs": [
    {
     "data": {
      "text/plain": [
       "[]"
      ]
     },
     "execution_count": 29,
     "metadata": {},
     "output_type": "execute_result"
    }
   ],
   "source": [
    "list0=[]\n",
    "list0"
   ]
  },
  {
   "cell_type": "code",
   "execution_count": 30,
   "metadata": {},
   "outputs": [
    {
     "data": {
      "text/plain": [
       "['团购名', '店名', '团购活动ID', '团购介绍', '购买人数', '团购评价', '评价人数', '地址', '团购内容']"
      ]
     },
     "execution_count": 30,
     "metadata": {},
     "output_type": "execute_result"
    }
   ],
   "source": [
    "list1=['团购名','店名','团购活动ID','团购介绍','购买人数','团购评价','评价人数','地址','团购内容']\n",
    "list1"
   ]
  },
  {
   "cell_type": "code",
   "execution_count": 31,
   "metadata": {},
   "outputs": [
    {
     "data": {
      "text/plain": [
       "['13377118', '8', '随便退']"
      ]
     },
     "execution_count": 31,
     "metadata": {},
     "output_type": "execute_result"
    }
   ],
   "source": [
    "list2=['13377118','8','随便退']\n",
    "list2"
   ]
  },
  {
   "cell_type": "code",
   "execution_count": 32,
   "metadata": {},
   "outputs": [
    {
     "data": {
      "text/plain": [
       "['壹分之贰聚会吧桌游轰趴馆(旗舰店)', ['13377118', '8', '随便退']]"
      ]
     },
     "execution_count": 32,
     "metadata": {},
     "output_type": "execute_result"
    }
   ],
   "source": [
    "list3=['壹分之贰聚会吧桌游轰趴馆(旗舰店)',list2]\n",
    "list3"
   ]
  },
  {
   "cell_type": "code",
   "execution_count": 33,
   "metadata": {},
   "outputs": [
    {
     "data": {
      "text/plain": [
       "list"
      ]
     },
     "execution_count": 33,
     "metadata": {},
     "output_type": "execute_result"
    }
   ],
   "source": [
    "type(list1)"
   ]
  },
  {
   "cell_type": "code",
   "execution_count": 34,
   "metadata": {},
   "outputs": [
    {
     "data": {
      "text/plain": [
       "['团购名', '店名', '团购活动ID', '团购介绍', '购买人数', '团购评价', '评价人数', '地址', '团购内容']"
      ]
     },
     "execution_count": 34,
     "metadata": {},
     "output_type": "execute_result"
    }
   ],
   "source": [
    "list1=['团购名','店名','团购活动ID','团购介绍','购买人数','团购评价','评价人数','地址','团购内容']\n",
    "list1"
   ]
  },
  {
   "cell_type": "code",
   "execution_count": 38,
   "metadata": {},
   "outputs": [
    {
     "data": {
      "text/plain": [
       "['团购名',\n",
       " '店名',\n",
       " '团购活动ID',\n",
       " '团购介绍',\n",
       " '购买人数',\n",
       " '团购评价',\n",
       " '评价人数',\n",
       " '地址',\n",
       " '团购内容',\n",
       " '到期时间',\n",
       " '团购价',\n",
       " '市场价',\n",
       " '备注',\n",
       " '购买须知']"
      ]
     },
     "execution_count": 38,
     "metadata": {},
     "output_type": "execute_result"
    }
   ],
   "source": [
    "list4=['到期时间','团购价','市场价','备注','购买须知']\n",
    "list4\n",
    "list5=list1+list4\n",
    "list5"
   ]
  },
  {
   "cell_type": "code",
   "execution_count": 39,
   "metadata": {},
   "outputs": [
    {
     "data": {
      "text/plain": [
       "14"
      ]
     },
     "execution_count": 39,
     "metadata": {},
     "output_type": "execute_result"
    }
   ],
   "source": [
    "len(list5)"
   ]
  },
  {
   "cell_type": "code",
   "execution_count": 40,
   "metadata": {},
   "outputs": [
    {
     "data": {
      "text/plain": [
       "True"
      ]
     },
     "execution_count": 40,
     "metadata": {},
     "output_type": "execute_result"
    }
   ],
   "source": [
    "'团购活动ID'in list5"
   ]
  },
  {
   "cell_type": "code",
   "execution_count": 41,
   "metadata": {},
   "outputs": [
    {
     "data": {
      "text/plain": [
       "False"
      ]
     },
     "execution_count": 41,
     "metadata": {},
     "output_type": "execute_result"
    }
   ],
   "source": [
    "'客户名'in list5"
   ]
  },
  {
   "cell_type": "code",
   "execution_count": 42,
   "metadata": {},
   "outputs": [
    {
     "data": {
      "text/plain": [
       "'团购名'"
      ]
     },
     "execution_count": 42,
     "metadata": {},
     "output_type": "execute_result"
    }
   ],
   "source": [
    "list5[0]"
   ]
  },
  {
   "cell_type": "code",
   "execution_count": 43,
   "metadata": {},
   "outputs": [
    {
     "data": {
      "text/plain": [
       "['团购活动ID', '团购介绍', '购买人数', '团购评价', '评价人数']"
      ]
     },
     "execution_count": 43,
     "metadata": {},
     "output_type": "execute_result"
    }
   ],
   "source": [
    "list5[2:7]"
   ]
  },
  {
   "cell_type": "code",
   "execution_count": 44,
   "metadata": {},
   "outputs": [
    {
     "name": "stdout",
     "output_type": "stream",
     "text": [
      "团购名\n",
      "店名\n",
      "团购活动ID\n",
      "团购介绍\n",
      "购买人数\n",
      "团购评价\n",
      "评价人数\n",
      "地址\n",
      "团购内容\n",
      "到期时间\n",
      "团购价\n",
      "市场价\n",
      "备注\n",
      "购买须知\n"
     ]
    }
   ],
   "source": [
    "for i in list5:\n",
    "  print(i)"
   ]
  },
  {
   "cell_type": "code",
   "execution_count": 45,
   "metadata": {},
   "outputs": [],
   "source": [
    "del list5[0]"
   ]
  },
  {
   "cell_type": "code",
   "execution_count": 46,
   "metadata": {},
   "outputs": [
    {
     "data": {
      "text/plain": [
       "['店名',\n",
       " '团购活动ID',\n",
       " '团购介绍',\n",
       " '购买人数',\n",
       " '团购评价',\n",
       " '评价人数',\n",
       " '地址',\n",
       " '团购内容',\n",
       " '到期时间',\n",
       " '团购价',\n",
       " '市场价',\n",
       " '备注',\n",
       " '购买须知']"
      ]
     },
     "execution_count": 46,
     "metadata": {},
     "output_type": "execute_result"
    }
   ],
   "source": [
    "list5"
   ]
  },
  {
   "cell_type": "code",
   "execution_count": 47,
   "metadata": {},
   "outputs": [],
   "source": [
    "del list5"
   ]
  },
  {
   "cell_type": "code",
   "execution_count": 48,
   "metadata": {},
   "outputs": [
    {
     "ename": "NameError",
     "evalue": "name 'list5' is not defined",
     "output_type": "error",
     "traceback": [
      "\u001b[1;31m---------------------------------------------------------------------------\u001b[0m",
      "\u001b[1;31mNameError\u001b[0m                                 Traceback (most recent call last)",
      "\u001b[1;32m<ipython-input-48-e18584b94f73>\u001b[0m in \u001b[0;36m<module>\u001b[1;34m()\u001b[0m\n\u001b[1;32m----> 1\u001b[1;33m \u001b[0mlist5\u001b[0m\u001b[1;33m\u001b[0m\u001b[0m\n\u001b[0m",
      "\u001b[1;31mNameError\u001b[0m: name 'list5' is not defined"
     ]
    }
   ],
   "source": [
    "list5"
   ]
  },
  {
   "cell_type": "code",
   "execution_count": 56,
   "metadata": {},
   "outputs": [
    {
     "data": {
      "text/plain": [
       "['到期时间', '团购价', '市场价', '备注', '购买须知']"
      ]
     },
     "execution_count": 56,
     "metadata": {},
     "output_type": "execute_result"
    }
   ],
   "source": [
    "list4=['到期时间','团购价','市场价','备注','购买须知']\n",
    "list4"
   ]
  },
  {
   "cell_type": "code",
   "execution_count": 57,
   "metadata": {},
   "outputs": [
    {
     "data": {
      "text/plain": [
       "['到期时间', '团购价', '市场价', '备注', '购买须知', '团购名']"
      ]
     },
     "execution_count": 57,
     "metadata": {},
     "output_type": "execute_result"
    }
   ],
   "source": [
    "list4.append('团购名')\n",
    "list4"
   ]
  },
  {
   "cell_type": "code",
   "execution_count": 58,
   "metadata": {},
   "outputs": [
    {
     "data": {
      "text/plain": [
       "['店名', '到期时间', '团购价', '市场价', '备注', '购买须知', '团购名']"
      ]
     },
     "execution_count": 58,
     "metadata": {},
     "output_type": "execute_result"
    }
   ],
   "source": [
    "list4.insert(0,'店名')\n",
    "list4"
   ]
  },
  {
   "cell_type": "code",
   "execution_count": 59,
   "metadata": {},
   "outputs": [],
   "source": [
    "list4.append('团购名')"
   ]
  },
  {
   "cell_type": "code",
   "execution_count": 60,
   "metadata": {},
   "outputs": [
    {
     "data": {
      "text/plain": [
       "2"
      ]
     },
     "execution_count": 60,
     "metadata": {},
     "output_type": "execute_result"
    }
   ],
   "source": [
    "list4.count('团购名')"
   ]
  },
  {
   "cell_type": "markdown",
   "metadata": {},
   "source": [
    "#### 2.2 元组"
   ]
  },
  {
   "cell_type": "code",
   "execution_count": 61,
   "metadata": {},
   "outputs": [
    {
     "data": {
      "text/plain": [
       "()"
      ]
     },
     "execution_count": 61,
     "metadata": {},
     "output_type": "execute_result"
    }
   ],
   "source": [
    "tuple0=()\n",
    "tuple0"
   ]
  },
  {
   "cell_type": "code",
   "execution_count": 62,
   "metadata": {},
   "outputs": [
    {
     "data": {
      "text/plain": [
       "(2, 4, 5)"
      ]
     },
     "execution_count": 62,
     "metadata": {},
     "output_type": "execute_result"
    }
   ],
   "source": [
    "tuple1=(2,4,5)\n",
    "tuple1"
   ]
  },
  {
   "cell_type": "code",
   "execution_count": 63,
   "metadata": {},
   "outputs": [
    {
     "data": {
      "text/plain": [
       "('a', 'b', 'c')"
      ]
     },
     "execution_count": 63,
     "metadata": {},
     "output_type": "execute_result"
    }
   ],
   "source": [
    "tuple2=('a','b','c')\n",
    "tuple2"
   ]
  },
  {
   "cell_type": "code",
   "execution_count": 64,
   "metadata": {},
   "outputs": [
    {
     "data": {
      "text/plain": [
       "(21, 'a', 'c')"
      ]
     },
     "execution_count": 64,
     "metadata": {},
     "output_type": "execute_result"
    }
   ],
   "source": [
    "tuple3=(21,'a','c')\n",
    "tuple3"
   ]
  },
  {
   "cell_type": "code",
   "execution_count": 65,
   "metadata": {},
   "outputs": [
    {
     "ename": "TypeError",
     "evalue": "'tuple' object does not support item assignment",
     "output_type": "error",
     "traceback": [
      "\u001b[1;31m---------------------------------------------------------------------------\u001b[0m",
      "\u001b[1;31mTypeError\u001b[0m                                 Traceback (most recent call last)",
      "\u001b[1;32m<ipython-input-65-4eeb4193e165>\u001b[0m in \u001b[0;36m<module>\u001b[1;34m()\u001b[0m\n\u001b[1;32m----> 1\u001b[1;33m \u001b[0mtuple2\u001b[0m\u001b[1;33m[\u001b[0m\u001b[1;36m2\u001b[0m\u001b[1;33m]\u001b[0m\u001b[1;33m=\u001b[0m\u001b[1;36m4\u001b[0m\u001b[1;33m\u001b[0m\u001b[0m\n\u001b[0m",
      "\u001b[1;31mTypeError\u001b[0m: 'tuple' object does not support item assignment"
     ]
    }
   ],
   "source": [
    "tuple2[2]=4"
   ]
  },
  {
   "cell_type": "code",
   "execution_count": 66,
   "metadata": {},
   "outputs": [
    {
     "data": {
      "text/plain": [
       "('a', 'b', 'c', 21, 'a', 'c')"
      ]
     },
     "execution_count": 66,
     "metadata": {},
     "output_type": "execute_result"
    }
   ],
   "source": [
    "tuple4=tuple2+tuple3\n",
    "tuple4"
   ]
  },
  {
   "cell_type": "code",
   "execution_count": 67,
   "metadata": {},
   "outputs": [
    {
     "data": {
      "text/plain": [
       "('c', 21, 'a')"
      ]
     },
     "execution_count": 67,
     "metadata": {},
     "output_type": "execute_result"
    }
   ],
   "source": [
    "tuple5=tuple4[2:5]\n",
    "tuple5"
   ]
  },
  {
   "cell_type": "markdown",
   "metadata": {},
   "source": [
    "##### 2.3 字典"
   ]
  },
  {
   "cell_type": "code",
   "execution_count": 68,
   "metadata": {},
   "outputs": [
    {
     "data": {
      "text/plain": [
       "{'六婆串串香火锅': 6, '嗲串串': 14}"
      ]
     },
     "execution_count": 68,
     "metadata": {},
     "output_type": "execute_result"
    }
   ],
   "source": [
    "dict0={'六婆串串香火锅':6,'嗲串串':14}\n",
    "dict0"
   ]
  },
  {
   "cell_type": "code",
   "execution_count": 69,
   "metadata": {},
   "outputs": [
    {
     "data": {
      "text/plain": [
       "dict"
      ]
     },
     "execution_count": 69,
     "metadata": {},
     "output_type": "execute_result"
    }
   ],
   "source": [
    "type(dict0)"
   ]
  },
  {
   "cell_type": "code",
   "execution_count": 70,
   "metadata": {},
   "outputs": [
    {
     "data": {
      "text/plain": [
       "14"
      ]
     },
     "execution_count": 70,
     "metadata": {},
     "output_type": "execute_result"
    }
   ],
   "source": [
    "dict0['嗲串串']"
   ]
  },
  {
   "cell_type": "code",
   "execution_count": 71,
   "metadata": {},
   "outputs": [
    {
     "data": {
      "text/plain": [
       "{'六婆串串香火锅': 6, '嗲串串': 14, '古城串串': 0}"
      ]
     },
     "execution_count": 71,
     "metadata": {},
     "output_type": "execute_result"
    }
   ],
   "source": [
    "dict0['古城串串']=0\n",
    "dict0"
   ]
  },
  {
   "cell_type": "code",
   "execution_count": 72,
   "metadata": {},
   "outputs": [
    {
     "data": {
      "text/plain": [
       "{'六婆串串香火锅': 6, '嗲串串': 14, '古城串串': 2}"
      ]
     },
     "execution_count": 72,
     "metadata": {},
     "output_type": "execute_result"
    }
   ],
   "source": [
    "dict0['古城串串']=2\n",
    "dict0"
   ]
  },
  {
   "cell_type": "code",
   "execution_count": 73,
   "metadata": {},
   "outputs": [
    {
     "data": {
      "text/plain": [
       "{'六婆串串香火锅': 6, '嗲串串': 14}"
      ]
     },
     "execution_count": 73,
     "metadata": {},
     "output_type": "execute_result"
    }
   ],
   "source": [
    "del dict0['古城串串']\n",
    "dict0"
   ]
  },
  {
   "cell_type": "code",
   "execution_count": 74,
   "metadata": {},
   "outputs": [
    {
     "data": {
      "text/plain": [
       "dict_keys(['六婆串串香火锅', '嗲串串'])"
      ]
     },
     "execution_count": 74,
     "metadata": {},
     "output_type": "execute_result"
    }
   ],
   "source": [
    "dict0.keys()"
   ]
  },
  {
   "cell_type": "code",
   "execution_count": 75,
   "metadata": {},
   "outputs": [
    {
     "data": {
      "text/plain": [
       "dict_values([6, 14])"
      ]
     },
     "execution_count": 75,
     "metadata": {},
     "output_type": "execute_result"
    }
   ],
   "source": [
    "dict0.values()"
   ]
  },
  {
   "cell_type": "code",
   "execution_count": 76,
   "metadata": {},
   "outputs": [
    {
     "data": {
      "text/plain": [
       "dict_items([('六婆串串香火锅', 6), ('嗲串串', 14)])"
      ]
     },
     "execution_count": 76,
     "metadata": {},
     "output_type": "execute_result"
    }
   ],
   "source": [
    "dict0.items()"
   ]
  },
  {
   "cell_type": "code",
   "execution_count": 77,
   "metadata": {},
   "outputs": [
    {
     "data": {
      "text/plain": [
       "14"
      ]
     },
     "execution_count": 77,
     "metadata": {},
     "output_type": "execute_result"
    }
   ],
   "source": [
    "dict0.get('嗲串串')"
   ]
  },
  {
   "cell_type": "markdown",
   "metadata": {},
   "source": [
    "##### 2.4 集合"
   ]
  },
  {
   "cell_type": "code",
   "execution_count": 78,
   "metadata": {},
   "outputs": [
    {
     "data": {
      "text/plain": [
       "{1, 2, 's'}"
      ]
     },
     "execution_count": 78,
     "metadata": {},
     "output_type": "execute_result"
    }
   ],
   "source": [
    "set1={1,2,'s',1,1,1}\n",
    "set1"
   ]
  },
  {
   "cell_type": "code",
   "execution_count": 79,
   "metadata": {},
   "outputs": [
    {
     "data": {
      "text/plain": [
       "set"
      ]
     },
     "execution_count": 79,
     "metadata": {},
     "output_type": "execute_result"
    }
   ],
   "source": [
    "type(set1)"
   ]
  },
  {
   "cell_type": "code",
   "execution_count": 80,
   "metadata": {},
   "outputs": [
    {
     "data": {
      "text/plain": [
       "{1, 3, 4, 5}"
      ]
     },
     "execution_count": 80,
     "metadata": {},
     "output_type": "execute_result"
    }
   ],
   "source": [
    "set2=set([1,3,4,5])\n",
    "set2"
   ]
  },
  {
   "cell_type": "code",
   "execution_count": 81,
   "metadata": {},
   "outputs": [
    {
     "data": {
      "text/plain": [
       "{1, 3, 'e'}"
      ]
     },
     "execution_count": 81,
     "metadata": {},
     "output_type": "execute_result"
    }
   ],
   "source": [
    "set3=set((1,3,'e'))\n",
    "set3"
   ]
  },
  {
   "cell_type": "code",
   "execution_count": 82,
   "metadata": {},
   "outputs": [
    {
     "data": {
      "text/plain": [
       "{'h', 'n', 'o', 'p', 't', 'y'}"
      ]
     },
     "execution_count": 82,
     "metadata": {},
     "output_type": "execute_result"
    }
   ],
   "source": [
    "set4=set('python')\n",
    "set4"
   ]
  },
  {
   "cell_type": "code",
   "execution_count": 84,
   "metadata": {},
   "outputs": [],
   "source": [
    "A={1,2,3}\n",
    "B={3,4,5}"
   ]
  },
  {
   "cell_type": "code",
   "execution_count": 85,
   "metadata": {},
   "outputs": [
    {
     "data": {
      "text/plain": [
       "{1, 2}"
      ]
     },
     "execution_count": 85,
     "metadata": {},
     "output_type": "execute_result"
    }
   ],
   "source": [
    "A-B##差集"
   ]
  },
  {
   "cell_type": "code",
   "execution_count": 86,
   "metadata": {},
   "outputs": [
    {
     "data": {
      "text/plain": [
       "{1, 2, 3, 4, 5}"
      ]
     },
     "execution_count": 86,
     "metadata": {},
     "output_type": "execute_result"
    }
   ],
   "source": [
    "A|B##并集"
   ]
  },
  {
   "cell_type": "code",
   "execution_count": 87,
   "metadata": {},
   "outputs": [
    {
     "data": {
      "text/plain": [
       "{3}"
      ]
     },
     "execution_count": 87,
     "metadata": {},
     "output_type": "execute_result"
    }
   ],
   "source": [
    "A&B##交集"
   ]
  },
  {
   "cell_type": "code",
   "execution_count": 96,
   "metadata": {},
   "outputs": [],
   "source": [
    "set1={'古城串串','嗲串串','六婆串串香火锅'}"
   ]
  },
  {
   "cell_type": "code",
   "execution_count": 97,
   "metadata": {},
   "outputs": [
    {
     "data": {
      "text/plain": [
       "{'六婆串串香火锅', '古城串串', '嗲串串', '天天鲜羊肉馆'}"
      ]
     },
     "execution_count": 97,
     "metadata": {},
     "output_type": "execute_result"
    }
   ],
   "source": [
    "set1.add('天天鲜羊肉馆')\n",
    "set1"
   ]
  },
  {
   "cell_type": "code",
   "execution_count": 98,
   "metadata": {},
   "outputs": [
    {
     "data": {
      "text/plain": [
       "{'六婆串串香火锅', '古城串串', '嗲串串'}"
      ]
     },
     "execution_count": 98,
     "metadata": {},
     "output_type": "execute_result"
    }
   ],
   "source": [
    "set1.remove('天天鲜羊肉馆')\n",
    "set1"
   ]
  },
  {
   "cell_type": "code",
   "execution_count": 99,
   "metadata": {},
   "outputs": [
    {
     "data": {
      "text/plain": [
       "set()"
      ]
     },
     "execution_count": 99,
     "metadata": {},
     "output_type": "execute_result"
    }
   ],
   "source": [
    "set1.clear()\n",
    "set1"
   ]
  },
  {
   "cell_type": "code",
   "execution_count": null,
   "metadata": {},
   "outputs": [],
   "source": []
  }
 ],
 "metadata": {
  "kernelspec": {
   "display_name": "Python 3",
   "language": "python",
   "name": "python3"
  },
  "language_info": {
   "codemirror_mode": {
    "name": "ipython",
    "version": 3
   },
   "file_extension": ".py",
   "mimetype": "text/x-python",
   "name": "python",
   "nbconvert_exporter": "python",
   "pygments_lexer": "ipython3",
   "version": "3.6.5"
  }
 },
 "nbformat": 4,
 "nbformat_minor": 2
}
