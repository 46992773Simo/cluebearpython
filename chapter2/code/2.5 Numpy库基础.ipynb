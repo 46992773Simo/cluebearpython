{
 "cells": [
  {
   "cell_type": "code",
   "execution_count": 3,
   "metadata": {},
   "outputs": [
    {
     "data": {
      "text/plain": [
       "'C:\\\\Users\\\\qian\\\\Desktop\\\\5、写书的资料\\\\书稿\\\\data'"
      ]
     },
     "execution_count": 3,
     "metadata": {},
     "output_type": "execute_result"
    }
   ],
   "source": [
    "import os\n",
    "os.getcwd()\n",
    "os.chdir('C:\\\\Users\\\\qian\\\\Desktop\\\\5、写书的资料\\\\书稿\\\\data')\n",
    "os.getcwd()"
   ]
  },
  {
   "cell_type": "code",
   "execution_count": 25,
   "metadata": {
    "collapsed": true
   },
   "outputs": [],
   "source": [
    "import numpy as np"
   ]
  },
  {
   "cell_type": "code",
   "execution_count": 31,
   "metadata": {},
   "outputs": [
    {
     "data": {
      "text/plain": [
       "array([ 1,  2, 10,  4])"
      ]
     },
     "execution_count": 31,
     "metadata": {},
     "output_type": "execute_result"
    }
   ],
   "source": [
    "a1=np.array([1,2,10,4])\n",
    "a1"
   ]
  },
  {
   "cell_type": "code",
   "execution_count": 32,
   "metadata": {},
   "outputs": [
    {
     "data": {
      "text/plain": [
       "array([[ 1,  2,  3,  4],\n",
       "       [ 4, 15,  6, 17]])"
      ]
     },
     "execution_count": 32,
     "metadata": {},
     "output_type": "execute_result"
    }
   ],
   "source": [
    "a2=np.array([[1,2,3,4],[4,15,6,17]])\n",
    "a2"
   ]
  },
  {
   "cell_type": "code",
   "execution_count": 33,
   "metadata": {},
   "outputs": [
    {
     "data": {
      "text/plain": [
       "8"
      ]
     },
     "execution_count": 33,
     "metadata": {},
     "output_type": "execute_result"
    }
   ],
   "source": [
    "a2.size"
   ]
  },
  {
   "cell_type": "code",
   "execution_count": 34,
   "metadata": {},
   "outputs": [
    {
     "data": {
      "text/plain": [
       "(2, 4)"
      ]
     },
     "execution_count": 34,
     "metadata": {},
     "output_type": "execute_result"
    }
   ],
   "source": [
    "a2.shape"
   ]
  },
  {
   "cell_type": "code",
   "execution_count": 35,
   "metadata": {},
   "outputs": [
    {
     "data": {
      "text/plain": [
       "2"
      ]
     },
     "execution_count": 35,
     "metadata": {},
     "output_type": "execute_result"
    }
   ],
   "source": [
    "a2.ndim"
   ]
  },
  {
   "cell_type": "code",
   "execution_count": 36,
   "metadata": {},
   "outputs": [
    {
     "data": {
      "text/plain": [
       "dtype('int32')"
      ]
     },
     "execution_count": 36,
     "metadata": {},
     "output_type": "execute_result"
    }
   ],
   "source": [
    "a2.dtype"
   ]
  },
  {
   "cell_type": "code",
   "execution_count": 40,
   "metadata": {},
   "outputs": [
    {
     "data": {
      "text/plain": [
       "50.0"
      ]
     },
     "execution_count": 40,
     "metadata": {},
     "output_type": "execute_result"
    }
   ],
   "source": [
    "np.float(50)"
   ]
  },
  {
   "cell_type": "code",
   "execution_count": 42,
   "metadata": {},
   "outputs": [
    {
     "data": {
      "text/plain": [
       "50"
      ]
     },
     "execution_count": 42,
     "metadata": {},
     "output_type": "execute_result"
    }
   ],
   "source": [
    "np.int(50.35)"
   ]
  },
  {
   "cell_type": "code",
   "execution_count": 44,
   "metadata": {},
   "outputs": [
    {
     "data": {
      "text/plain": [
       "dtype([('name', '<U10'), ('number', '<i8'), ('price', '<f8')])"
      ]
     },
     "execution_count": 44,
     "metadata": {},
     "output_type": "execute_result"
    }
   ],
   "source": [
    "hot=np.dtype([('name',np.str_,10),('number',np.int64),('price',np.float64)])\n",
    "hot"
   ]
  },
  {
   "cell_type": "code",
   "execution_count": 48,
   "metadata": {},
   "outputs": [
    {
     "data": {
      "text/plain": [
       "array([['一锅两头牛美味双人餐', '35', '98'],\n",
       "       ['小龙腾四海100元代金券', '43', '79'],\n",
       "       ['酸汤鱼火锅2-3人餐', '1', '165']], dtype='<U12')"
      ]
     },
     "execution_count": 48,
     "metadata": {},
     "output_type": "execute_result"
    }
   ],
   "source": [
    "hotbuy=np.array([('一锅两头牛美味双人餐','35','98'),('小龙腾四海100元代金券','43','79'),('酸汤鱼火锅2-3人餐','1','165')])\n",
    "hotbuy"
   ]
  },
  {
   "cell_type": "code",
   "execution_count": null,
   "metadata": {
    "collapsed": true
   },
   "outputs": [],
   "source": []
  },
  {
   "cell_type": "code",
   "execution_count": 117,
   "metadata": {
    "collapsed": true
   },
   "outputs": [],
   "source": [
    "import numpy as np \n",
    "hot=np.dtype([('团购活动ID',np.str_,10),('团购名',np.str_,10),('店名',np.str_,10),('购买人数',np.float64),('团购价',np.float64),('市场价',np.float64),('地址',np.str_,10)\n",
    "    ])"
   ]
  },
  {
   "cell_type": "code",
   "execution_count": 119,
   "metadata": {
    "collapsed": true
   },
   "outputs": [],
   "source": [
    "raw_data = np.loadtxt('coupon_nm_new.csv',delimiter=\",\",dtype=hot)"
   ]
  },
  {
   "cell_type": "code",
   "execution_count": 120,
   "metadata": {},
   "outputs": [
    {
     "data": {
      "text/plain": [
       "array([('38744470', '壹分之贰豪华生日派对', '壹分之贰聚会吧桌游轰',  0., 0., 0., '【西安市雁塔区小寨东'),\n",
       "       ('38632123', '壹分之贰豪华棋牌包间', '壹分之贰聚会吧桌游轰',  0., 0., 0., '【西安市雁塔区小寨东'),\n",
       "       ('38744514', '壹分之贰豪华生日派对', '壹分之贰聚会吧桌游轰',  0., 0., 0., '【西安市雁塔区小寨东'),\n",
       "       ...,\n",
       "       ('30029899', '骨得香大盆骨炒鸡4到', '骨得香大盆骨',  4., 0., 0., '【郑州市巩义市货场路'),\n",
       "       ('30029206', '炒鸡双人餐！免费停车', '骨得香大盆骨', 27., 0., 0., '【郑州市巩义市货场路'),\n",
       "       ('38716258', '骨得香烧烤100元代', '骨得香大盆骨',  0., 0., 0., '【郑州市巩义市货场路')],\n",
       "      dtype=[('团购活动ID', '<U10'), ('团购名', '<U10'), ('店名', '<U10'), ('购买人数', '<f8'), ('团购价', '<f8'), ('市场价', '<f8'), ('地址', '<U10')])"
      ]
     },
     "execution_count": 120,
     "metadata": {},
     "output_type": "execute_result"
    }
   ],
   "source": [
    "raw_data "
   ]
  },
  {
   "cell_type": "code",
   "execution_count": 121,
   "metadata": {
    "collapsed": true
   },
   "outputs": [],
   "source": [
    "shop=raw_data[['店名']]"
   ]
  },
  {
   "cell_type": "code",
   "execution_count": 122,
   "metadata": {},
   "outputs": [
    {
     "data": {
      "text/plain": [
       "(1855,)"
      ]
     },
     "execution_count": 122,
     "metadata": {},
     "output_type": "execute_result"
    }
   ],
   "source": [
    "shop.shape"
   ]
  },
  {
   "cell_type": "code",
   "execution_count": 123,
   "metadata": {},
   "outputs": [
    {
     "data": {
      "text/plain": [
       "(628,)"
      ]
     },
     "execution_count": 123,
     "metadata": {},
     "output_type": "execute_result"
    }
   ],
   "source": [
    "(np.unique(shop)).shape"
   ]
  },
  {
   "cell_type": "markdown",
   "metadata": {},
   "source": []
  },
  {
   "cell_type": "code",
   "execution_count": 125,
   "metadata": {},
   "outputs": [
    {
     "data": {
      "text/plain": [
       "('壹分之贰聚会吧桌游轰',)"
      ]
     },
     "execution_count": 125,
     "metadata": {},
     "output_type": "execute_result"
    }
   ],
   "source": [
    "#索引第3家店铺\n",
    "shop[2]"
   ]
  },
  {
   "cell_type": "code",
   "execution_count": 129,
   "metadata": {},
   "outputs": [
    {
     "data": {
      "text/plain": [
       "array([('壹分之贰聚会吧桌游轰',), ('壹分之贰聚会吧桌游轰',), ('六婆串串香火锅',), ('1+N生日求婚聚会P',)],\n",
       "      dtype=[('店名', '<U10')])"
      ]
     },
     "execution_count": 129,
     "metadata": {},
     "output_type": "execute_result"
    }
   ],
   "source": [
    "#索引第3家到第5家店铺\n",
    "shop[2:6]"
   ]
  },
  {
   "cell_type": "code",
   "execution_count": 154,
   "metadata": {},
   "outputs": [
    {
     "data": {
      "text/plain": [
       "array([['38744470', '38632123', '38744514', ..., '30029899', '30029206',\n",
       "        '38716258'],\n",
       "       ['壹分之贰豪华生日派对', '壹分之贰豪华棋牌包间', '壹分之贰豪华生日派对', ..., '骨得香大盆骨炒鸡4到',\n",
       "        '炒鸡双人餐！免费停车', '骨得香烧烤100元代'],\n",
       "       ['0.0', '0.0', '0.0', ..., '4.0', '27.0', '0.0']], dtype='<U32')"
      ]
     },
     "execution_count": 154,
     "metadata": {},
     "output_type": "execute_result"
    }
   ],
   "source": [
    "#建立三维数组arr\n",
    "arr=np.array([raw_data['团购活动ID'],raw_data['团购名'],raw_data['购买人数']])\n",
    "arr"
   ]
  },
  {
   "cell_type": "code",
   "execution_count": 156,
   "metadata": {},
   "outputs": [
    {
     "data": {
      "text/plain": [
       "array([['38744470', '壹分之贰豪华生日派对', '0.0'],\n",
       "       ['38632123', '壹分之贰豪华棋牌包间', '0.0'],\n",
       "       ['38744514', '壹分之贰豪华生日派对', '0.0'],\n",
       "       ...,\n",
       "       ['30029899', '骨得香大盆骨炒鸡4到', '4.0'],\n",
       "       ['30029206', '炒鸡双人餐！免费停车', '27.0'],\n",
       "       ['38716258', '骨得香烧烤100元代', '0.0']], dtype='<U32')"
      ]
     },
     "execution_count": 156,
     "metadata": {},
     "output_type": "execute_result"
    }
   ],
   "source": [
    "#数组转置\n",
    "arrt=arr.T\n",
    "arrt"
   ]
  },
  {
   "cell_type": "code",
   "execution_count": 157,
   "metadata": {},
   "outputs": [
    {
     "data": {
      "text/plain": [
       "array(['38744470', '壹分之贰豪华生日派对', '0.0'], dtype='<U32')"
      ]
     },
     "execution_count": 157,
     "metadata": {},
     "output_type": "execute_result"
    }
   ],
   "source": [
    "#数组索引\n",
    "arrt[0,0:3]"
   ]
  },
  {
   "cell_type": "code",
   "execution_count": 175,
   "metadata": {},
   "outputs": [
    {
     "data": {
      "text/plain": [
       "array([('39113898', '大宅门2-3人套餐', '大宅门火锅(西关正街', 50., 118. , 266., '【西安市阎良区延安街'),\n",
       "       ('36710627', '经典4人餐！免费Wi', '槿熙芝士年糕自助火锅', 50.,   0. ,   0., '【西安市碑林区东大街'),\n",
       "       ('30752267', '辣巴人50元代金券', '辣巴人', 50.,  39.9,  50., '【西安市碑林区体育场'),\n",
       "       ('38572198', '川香石锅鱼3-4人餐', '李双全川香石锅鱼', 50., 126. , 178., '【郑州市新郑市薛店镇'),\n",
       "       ('5870273', '王婆大虾100元代金', '王婆大虾(华信店)', 50.,  88. , 100., '【郑州市管城区中州大')],\n",
       "      dtype=[('团购活动ID', '<U10'), ('团购名', '<U10'), ('店名', '<U10'), ('购买人数', '<f8'), ('团购价', '<f8'), ('市场价', '<f8'), ('地址', '<U10')])"
      ]
     },
     "execution_count": 175,
     "metadata": {},
     "output_type": "execute_result"
    }
   ],
   "source": [
    "raw_data[raw_data['c']==50]"
   ]
  },
  {
   "cell_type": "code",
   "execution_count": null,
   "metadata": {
    "collapsed": true
   },
   "outputs": [],
   "source": [
    "#统计分析"
   ]
  },
  {
   "cell_type": "code",
   "execution_count": 198,
   "metadata": {},
   "outputs": [
    {
     "data": {
      "text/plain": [
       "array([   0.,    0.,    0., ..., 1588., 1688., 3999.])"
      ]
     },
     "execution_count": 198,
     "metadata": {},
     "output_type": "execute_result"
    }
   ],
   "source": [
    "price=raw_data['团购价']\n",
    "price"
   ]
  },
  {
   "cell_type": "code",
   "execution_count": 199,
   "metadata": {},
   "outputs": [
    {
     "name": "stdout",
     "output_type": "stream",
     "text": [
      "排序后团购价为: [   0.    0.    0. ... 1588. 1688. 3999.]\n"
     ]
    }
   ],
   "source": [
    "price.sort()\n",
    "print('排序后团购价为:',price)"
   ]
  },
  {
   "cell_type": "code",
   "execution_count": 200,
   "metadata": {},
   "outputs": [
    {
     "data": {
      "text/plain": [
       "226989.87000000002"
      ]
     },
     "execution_count": 200,
     "metadata": {},
     "output_type": "execute_result"
    }
   ],
   "source": [
    "np.sum(price)"
   ]
  },
  {
   "cell_type": "code",
   "execution_count": 201,
   "metadata": {},
   "outputs": [
    {
     "data": {
      "text/plain": [
       "155.61011643601802"
      ]
     },
     "execution_count": 201,
     "metadata": {},
     "output_type": "execute_result"
    }
   ],
   "source": [
    "np.std(price)"
   ]
  },
  {
   "cell_type": "code",
   "execution_count": 202,
   "metadata": {},
   "outputs": [
    {
     "data": {
      "text/plain": [
       "122.36650673854449"
      ]
     },
     "execution_count": 202,
     "metadata": {},
     "output_type": "execute_result"
    }
   ],
   "source": [
    "np.mean(price)"
   ]
  },
  {
   "cell_type": "code",
   "execution_count": 203,
   "metadata": {},
   "outputs": [
    {
     "data": {
      "text/plain": [
       "24214.508337231087"
      ]
     },
     "execution_count": 203,
     "metadata": {},
     "output_type": "execute_result"
    }
   ],
   "source": [
    "np.var(price)"
   ]
  },
  {
   "cell_type": "code",
   "execution_count": 204,
   "metadata": {},
   "outputs": [
    {
     "data": {
      "text/plain": [
       "3999.0"
      ]
     },
     "execution_count": 204,
     "metadata": {},
     "output_type": "execute_result"
    }
   ],
   "source": [
    "np.max(price)"
   ]
  },
  {
   "cell_type": "code",
   "execution_count": 205,
   "metadata": {},
   "outputs": [
    {
     "data": {
      "text/plain": [
       "0.0"
      ]
     },
     "execution_count": 205,
     "metadata": {},
     "output_type": "execute_result"
    }
   ],
   "source": [
    "np.min(price)"
   ]
  },
  {
   "cell_type": "code",
   "execution_count": null,
   "metadata": {
    "collapsed": true
   },
   "outputs": [],
   "source": [
    "#生成随机数"
   ]
  },
  {
   "cell_type": "code",
   "execution_count": 207,
   "metadata": {},
   "outputs": [
    {
     "data": {
      "text/plain": [
       "array([0.63534754, 0.68912726, 0.32301646, 0.14234035, 0.72829197,\n",
       "       0.76743477, 0.02250209, 0.72653032, 0.29544261, 0.53718881,\n",
       "       0.09598504, 0.22434429, 0.90711073, 0.20033604, 0.15982962,\n",
       "       0.55679766, 0.04257718, 0.07168316, 0.60999567, 0.33211491])"
      ]
     },
     "execution_count": 207,
     "metadata": {},
     "output_type": "execute_result"
    }
   ],
   "source": [
    "#生成随机数\n",
    "np.random.random(20)"
   ]
  },
  {
   "cell_type": "code",
   "execution_count": 213,
   "metadata": {},
   "outputs": [
    {
     "data": {
      "text/plain": [
       "array([[0.90202134, 0.29979331, 0.13252858, 0.05392595],\n",
       "       [0.38065824, 0.92193558, 0.06532746, 0.62848311],\n",
       "       [0.77102953, 0.95565239, 0.89153967, 0.04918805],\n",
       "       [0.01272094, 0.21873301, 0.77375241, 0.49076084],\n",
       "       [0.099932  , 0.25264892, 0.32953474, 0.98330953],\n",
       "       [0.89752724, 0.5237449 , 0.97205729, 0.361902  ],\n",
       "       [0.6083955 , 0.36952581, 0.96361376, 0.88695011],\n",
       "       [0.17634999, 0.2360799 , 0.85701326, 0.80252552]])"
      ]
     },
     "execution_count": 213,
     "metadata": {},
     "output_type": "execute_result"
    }
   ],
   "source": [
    "#生成均匀分布\n",
    "np.random.rand(8,4)"
   ]
  },
  {
   "cell_type": "code",
   "execution_count": 214,
   "metadata": {},
   "outputs": [
    {
     "data": {
      "text/plain": [
       "array([[ 1.06662952e+00, -1.10334227e+00,  2.46766934e-01,\n",
       "        -9.13099128e-01],\n",
       "       [-1.66661561e+00, -2.48622850e-01, -1.16312318e+00,\n",
       "         1.67684933e-01],\n",
       "       [-5.38906943e-01, -1.87720914e-03,  3.15490953e-01,\n",
       "        -3.72297328e-02],\n",
       "       [-2.13044086e+00, -3.25575916e-02, -5.69309498e-01,\n",
       "        -9.66048618e-01],\n",
       "       [-8.54760574e-01,  2.32424895e-01, -1.83194342e+00,\n",
       "         3.31637570e-01],\n",
       "       [-1.83256774e-01,  1.43539529e+00, -8.00379430e-01,\n",
       "        -1.85473778e+00],\n",
       "       [-1.47028309e+00, -1.40293303e+00,  6.37901830e-01,\n",
       "         6.02960143e-01],\n",
       "       [ 7.07428371e-01, -7.13739293e-01, -4.99568280e-01,\n",
       "         4.13974160e-01]])"
      ]
     },
     "execution_count": 214,
     "metadata": {},
     "output_type": "execute_result"
    }
   ],
   "source": [
    "#生成服从正态分布的随机数\n",
    "np.random.randn(8,4)"
   ]
  },
  {
   "cell_type": "code",
   "execution_count": 215,
   "metadata": {},
   "outputs": [
    {
     "data": {
      "text/plain": [
       "array([[3, 3, 4, 3, 3],\n",
       "       [4, 4, 3, 3, 4],\n",
       "       [3, 4, 3, 3, 3]])"
      ]
     },
     "execution_count": 215,
     "metadata": {},
     "output_type": "execute_result"
    }
   ],
   "source": [
    "#生成给定上下限范围的随机数\n",
    "np.random.randint(3,5,size=[3,5])"
   ]
  },
  {
   "cell_type": "code",
   "execution_count": null,
   "metadata": {},
   "outputs": [],
   "source": []
  },
  {
   "cell_type": "code",
   "execution_count": null,
   "metadata": {
    "collapsed": true
   },
   "outputs": [],
   "source": []
  }
 ],
 "metadata": {
  "kernelspec": {
   "display_name": "Python 3",
   "language": "python",
   "name": "python3"
  },
  "language_info": {
   "codemirror_mode": {
    "name": "ipython",
    "version": 3
   },
   "file_extension": ".py",
   "mimetype": "text/x-python",
   "name": "python",
   "nbconvert_exporter": "python",
   "pygments_lexer": "ipython3",
   "version": "3.6.3"
  }
 },
 "nbformat": 4,
 "nbformat_minor": 2
}
