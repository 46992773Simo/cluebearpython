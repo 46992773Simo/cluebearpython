{
 "cells": [
  {
   "cell_type": "code",
   "execution_count": 1,
   "metadata": {
    "collapsed": true
   },
   "outputs": [],
   "source": [
    "import pandas as pd\n",
    "import math\n",
    "pd.set_option('display.float_format',lambda x : '%.2f' % x)"
   ]
  },
  {
   "cell_type": "code",
   "execution_count": 2,
   "metadata": {
    "collapsed": true
   },
   "outputs": [],
   "source": [
    "data_shop=pd.read_excel(\"merge_shop_coupon_nm.xlsx\",encoding=\"utf-8\")"
   ]
  },
  {
   "cell_type": "code",
   "execution_count": 3,
   "metadata": {},
   "outputs": [
    {
     "data": {
      "text/html": [
       "<div>\n",
       "<style>\n",
       "    .dataframe thead tr:only-child th {\n",
       "        text-align: right;\n",
       "    }\n",
       "\n",
       "    .dataframe thead th {\n",
       "        text-align: left;\n",
       "    }\n",
       "\n",
       "    .dataframe tbody tr th {\n",
       "        vertical-align: top;\n",
       "    }\n",
       "</style>\n",
       "<table border=\"1\" class=\"dataframe\">\n",
       "  <thead>\n",
       "    <tr style=\"text-align: right;\">\n",
       "      <th></th>\n",
       "      <th>店名</th>\n",
       "      <th>关键词</th>\n",
       "      <th>城市</th>\n",
       "      <th>评分</th>\n",
       "      <th>评价数</th>\n",
       "      <th>人均</th>\n",
       "      <th>地址</th>\n",
       "      <th>营业时间</th>\n",
       "      <th>菜名</th>\n",
       "      <th>商家等级</th>\n",
       "      <th>购买人数</th>\n",
       "      <th>团购价</th>\n",
       "    </tr>\n",
       "  </thead>\n",
       "  <tbody>\n",
       "    <tr>\n",
       "      <th>0</th>\n",
       "      <td>老北京涮羊肉</td>\n",
       "      <td>火锅</td>\n",
       "      <td>xa</td>\n",
       "      <td>4.40</td>\n",
       "      <td>877</td>\n",
       "      <td>45.50</td>\n",
       "      <td>西安市雁塔区朱雀大街250号东方大酒店西门斜对面（子午路站下车向北走60米路西）</td>\n",
       "      <td>11:00-21:00</td>\n",
       "      <td>【羊肉】【豆腐】【麻酱】【精品肥牛】【粉丝】【羔羊肉】【牛肚】【油豆皮】【香菇】【豆皮】【土...</td>\n",
       "      <td>2</td>\n",
       "      <td>1692</td>\n",
       "      <td>118.50</td>\n",
       "    </tr>\n",
       "    <tr>\n",
       "      <th>1</th>\n",
       "      <td>大龙燚火锅(粉巷店)</td>\n",
       "      <td>火锅</td>\n",
       "      <td>xa</td>\n",
       "      <td>4.60</td>\n",
       "      <td>2253</td>\n",
       "      <td>100.00</td>\n",
       "      <td>西安市碑林区粉巷南院门15A南苑中央广场食尚南苑2F</td>\n",
       "      <td>周一至周日 10:00-21:00</td>\n",
       "      <td>【麻辣排骨】【千层毛肚】【鸳鸯锅】【鸭血】【天味香肠】【薄土豆】【功夫黄瓜】【清汤锅】【印度...</td>\n",
       "      <td>2</td>\n",
       "      <td>19584</td>\n",
       "      <td>88.00</td>\n",
       "    </tr>\n",
       "    <tr>\n",
       "      <th>2</th>\n",
       "      <td>鲜上鲜文鱼庄(凤城五路店)</td>\n",
       "      <td>火锅</td>\n",
       "      <td>xa</td>\n",
       "      <td>4.50</td>\n",
       "      <td>1398</td>\n",
       "      <td>56.00</td>\n",
       "      <td>西安市未央区凤城五路地铁D口出人人乐5楼</td>\n",
       "      <td>全天</td>\n",
       "      <td>【生菜】【鸳鸯锅】【千叶豆腐】【荷包豆腐】【生鱼片】【毛肚】【文鱼】【鱼丸】【撒尿牛丸】【山...</td>\n",
       "      <td>2</td>\n",
       "      <td>11798</td>\n",
       "      <td>52.00</td>\n",
       "    </tr>\n",
       "    <tr>\n",
       "      <th>3</th>\n",
       "      <td>蜜悦士鲜牛肉时尚火锅(凯德广场店)</td>\n",
       "      <td>火锅</td>\n",
       "      <td>xa</td>\n",
       "      <td>4.40</td>\n",
       "      <td>48</td>\n",
       "      <td>63.00</td>\n",
       "      <td>西安市雁塔区南二环凯德广场四楼东南角</td>\n",
       "      <td>10:00-21:00</td>\n",
       "      <td>【吊龙伴】【三花腱】【番茄锅】【招牌牛舌】【油豆皮】【油炸豆腐皮】【菌汤鸳鸯锅】【手工面】【...</td>\n",
       "      <td>2</td>\n",
       "      <td>40</td>\n",
       "      <td>59.90</td>\n",
       "    </tr>\n",
       "    <tr>\n",
       "      <th>4</th>\n",
       "      <td>大自在火锅(和平村店)</td>\n",
       "      <td>火锅</td>\n",
       "      <td>xa</td>\n",
       "      <td>4.30</td>\n",
       "      <td>214</td>\n",
       "      <td>84.00</td>\n",
       "      <td>西安市莲湖区三桥和平村十字西南角伯乐城市广场6层</td>\n",
       "      <td>暂无时间</td>\n",
       "      <td>【蔬菜拼盘】【黄豆芽】【虾饺】【撒尿牛肉丸】【油条】【毛肚】【自在小酥肉】【鸡爪】【自在嫩牛...</td>\n",
       "      <td>2</td>\n",
       "      <td>1282</td>\n",
       "      <td>59.50</td>\n",
       "    </tr>\n",
       "  </tbody>\n",
       "</table>\n",
       "</div>"
      ],
      "text/plain": [
       "                  店名 关键词  城市   评分   评价数     人均  \\\n",
       "0             老北京涮羊肉  火锅  xa 4.40   877  45.50   \n",
       "1         大龙燚火锅(粉巷店)  火锅  xa 4.60  2253 100.00   \n",
       "2      鲜上鲜文鱼庄(凤城五路店)  火锅  xa 4.50  1398  56.00   \n",
       "3  蜜悦士鲜牛肉时尚火锅(凯德广场店)  火锅  xa 4.40    48  63.00   \n",
       "4        大自在火锅(和平村店)  火锅  xa 4.30   214  84.00   \n",
       "\n",
       "                                         地址               营业时间  \\\n",
       "0  西安市雁塔区朱雀大街250号东方大酒店西门斜对面（子午路站下车向北走60米路西）        11:00-21:00   \n",
       "1                西安市碑林区粉巷南院门15A南苑中央广场食尚南苑2F  周一至周日 10:00-21:00   \n",
       "2                      西安市未央区凤城五路地铁D口出人人乐5楼                 全天   \n",
       "3                        西安市雁塔区南二环凯德广场四楼东南角        10:00-21:00   \n",
       "4                  西安市莲湖区三桥和平村十字西南角伯乐城市广场6层               暂无时间   \n",
       "\n",
       "                                                  菜名  商家等级   购买人数    团购价  \n",
       "0  【羊肉】【豆腐】【麻酱】【精品肥牛】【粉丝】【羔羊肉】【牛肚】【油豆皮】【香菇】【豆皮】【土...     2   1692 118.50  \n",
       "1  【麻辣排骨】【千层毛肚】【鸳鸯锅】【鸭血】【天味香肠】【薄土豆】【功夫黄瓜】【清汤锅】【印度...     2  19584  88.00  \n",
       "2  【生菜】【鸳鸯锅】【千叶豆腐】【荷包豆腐】【生鱼片】【毛肚】【文鱼】【鱼丸】【撒尿牛丸】【山...     2  11798  52.00  \n",
       "3  【吊龙伴】【三花腱】【番茄锅】【招牌牛舌】【油豆皮】【油炸豆腐皮】【菌汤鸳鸯锅】【手工面】【...     2     40  59.90  \n",
       "4  【蔬菜拼盘】【黄豆芽】【虾饺】【撒尿牛肉丸】【油条】【毛肚】【自在小酥肉】【鸡爪】【自在嫩牛...     2   1282  59.50  "
      ]
     },
     "execution_count": 3,
     "metadata": {},
     "output_type": "execute_result"
    }
   ],
   "source": [
    "data_shop.head()"
   ]
  },
  {
   "cell_type": "code",
   "execution_count": 4,
   "metadata": {},
   "outputs": [
    {
     "data": {
      "text/plain": [
       "(197, 12)"
      ]
     },
     "execution_count": 4,
     "metadata": {},
     "output_type": "execute_result"
    }
   ],
   "source": [
    "data_shop.shape"
   ]
  },
  {
   "cell_type": "code",
   "execution_count": 5,
   "metadata": {
    "collapsed": true
   },
   "outputs": [],
   "source": [
    "for i in range(0,197):\n",
    "    data_shop.iloc[i,10]=math.log(data_shop.iloc[i,10])"
   ]
  },
  {
   "cell_type": "code",
   "execution_count": 6,
   "metadata": {},
   "outputs": [
    {
     "data": {
      "text/plain": [
       "店名       object\n",
       "关键词      object\n",
       "城市       object\n",
       "评分      float64\n",
       "评价数       int64\n",
       "人均      float64\n",
       "地址       object\n",
       "营业时间     object\n",
       "菜名       object\n",
       "商家等级      int64\n",
       "购买人数    float64\n",
       "团购价     float64\n",
       "dtype: object"
      ]
     },
     "execution_count": 6,
     "metadata": {},
     "output_type": "execute_result"
    }
   ],
   "source": [
    "data_shop.dtypes"
   ]
  },
  {
   "cell_type": "code",
   "execution_count": 7,
   "metadata": {
    "collapsed": true
   },
   "outputs": [],
   "source": [
    "评分_g=[0,4,4.5,5]\n",
    "data_shop[\"评分_g\"]=pd.cut(data_shop.评分,评分_g,labels=[\"小于4分\",\"4-4.5分\",\"4.5-5分\"])"
   ]
  },
  {
   "cell_type": "code",
   "execution_count": 8,
   "metadata": {
    "scrolled": true
   },
   "outputs": [
    {
     "data": {
      "text/html": [
       "<div>\n",
       "<style>\n",
       "    .dataframe thead tr:only-child th {\n",
       "        text-align: right;\n",
       "    }\n",
       "\n",
       "    .dataframe thead th {\n",
       "        text-align: left;\n",
       "    }\n",
       "\n",
       "    .dataframe tbody tr th {\n",
       "        vertical-align: top;\n",
       "    }\n",
       "</style>\n",
       "<table border=\"1\" class=\"dataframe\">\n",
       "  <thead>\n",
       "    <tr style=\"text-align: right;\">\n",
       "      <th></th>\n",
       "      <th>店名</th>\n",
       "      <th>关键词</th>\n",
       "      <th>城市</th>\n",
       "      <th>评分</th>\n",
       "      <th>评价数</th>\n",
       "      <th>人均</th>\n",
       "      <th>地址</th>\n",
       "      <th>营业时间</th>\n",
       "      <th>菜名</th>\n",
       "      <th>商家等级</th>\n",
       "      <th>购买人数</th>\n",
       "      <th>团购价</th>\n",
       "      <th>评分_g</th>\n",
       "    </tr>\n",
       "  </thead>\n",
       "  <tbody>\n",
       "    <tr>\n",
       "      <th>0</th>\n",
       "      <td>老北京涮羊肉</td>\n",
       "      <td>火锅</td>\n",
       "      <td>xa</td>\n",
       "      <td>4.40</td>\n",
       "      <td>877</td>\n",
       "      <td>45.50</td>\n",
       "      <td>西安市雁塔区朱雀大街250号东方大酒店西门斜对面（子午路站下车向北走60米路西）</td>\n",
       "      <td>11:00-21:00</td>\n",
       "      <td>【羊肉】【豆腐】【麻酱】【精品肥牛】【粉丝】【羔羊肉】【牛肚】【油豆皮】【香菇】【豆皮】【土...</td>\n",
       "      <td>2</td>\n",
       "      <td>7.43</td>\n",
       "      <td>118.50</td>\n",
       "      <td>4-4.5分</td>\n",
       "    </tr>\n",
       "    <tr>\n",
       "      <th>1</th>\n",
       "      <td>大龙燚火锅(粉巷店)</td>\n",
       "      <td>火锅</td>\n",
       "      <td>xa</td>\n",
       "      <td>4.60</td>\n",
       "      <td>2253</td>\n",
       "      <td>100.00</td>\n",
       "      <td>西安市碑林区粉巷南院门15A南苑中央广场食尚南苑2F</td>\n",
       "      <td>周一至周日 10:00-21:00</td>\n",
       "      <td>【麻辣排骨】【千层毛肚】【鸳鸯锅】【鸭血】【天味香肠】【薄土豆】【功夫黄瓜】【清汤锅】【印度...</td>\n",
       "      <td>2</td>\n",
       "      <td>9.88</td>\n",
       "      <td>88.00</td>\n",
       "      <td>4.5-5分</td>\n",
       "    </tr>\n",
       "    <tr>\n",
       "      <th>2</th>\n",
       "      <td>鲜上鲜文鱼庄(凤城五路店)</td>\n",
       "      <td>火锅</td>\n",
       "      <td>xa</td>\n",
       "      <td>4.50</td>\n",
       "      <td>1398</td>\n",
       "      <td>56.00</td>\n",
       "      <td>西安市未央区凤城五路地铁D口出人人乐5楼</td>\n",
       "      <td>全天</td>\n",
       "      <td>【生菜】【鸳鸯锅】【千叶豆腐】【荷包豆腐】【生鱼片】【毛肚】【文鱼】【鱼丸】【撒尿牛丸】【山...</td>\n",
       "      <td>2</td>\n",
       "      <td>9.38</td>\n",
       "      <td>52.00</td>\n",
       "      <td>4-4.5分</td>\n",
       "    </tr>\n",
       "    <tr>\n",
       "      <th>3</th>\n",
       "      <td>蜜悦士鲜牛肉时尚火锅(凯德广场店)</td>\n",
       "      <td>火锅</td>\n",
       "      <td>xa</td>\n",
       "      <td>4.40</td>\n",
       "      <td>48</td>\n",
       "      <td>63.00</td>\n",
       "      <td>西安市雁塔区南二环凯德广场四楼东南角</td>\n",
       "      <td>10:00-21:00</td>\n",
       "      <td>【吊龙伴】【三花腱】【番茄锅】【招牌牛舌】【油豆皮】【油炸豆腐皮】【菌汤鸳鸯锅】【手工面】【...</td>\n",
       "      <td>2</td>\n",
       "      <td>3.69</td>\n",
       "      <td>59.90</td>\n",
       "      <td>4-4.5分</td>\n",
       "    </tr>\n",
       "    <tr>\n",
       "      <th>4</th>\n",
       "      <td>大自在火锅(和平村店)</td>\n",
       "      <td>火锅</td>\n",
       "      <td>xa</td>\n",
       "      <td>4.30</td>\n",
       "      <td>214</td>\n",
       "      <td>84.00</td>\n",
       "      <td>西安市莲湖区三桥和平村十字西南角伯乐城市广场6层</td>\n",
       "      <td>暂无时间</td>\n",
       "      <td>【蔬菜拼盘】【黄豆芽】【虾饺】【撒尿牛肉丸】【油条】【毛肚】【自在小酥肉】【鸡爪】【自在嫩牛...</td>\n",
       "      <td>2</td>\n",
       "      <td>7.16</td>\n",
       "      <td>59.50</td>\n",
       "      <td>4-4.5分</td>\n",
       "    </tr>\n",
       "  </tbody>\n",
       "</table>\n",
       "</div>"
      ],
      "text/plain": [
       "                  店名 关键词  城市   评分   评价数     人均  \\\n",
       "0             老北京涮羊肉  火锅  xa 4.40   877  45.50   \n",
       "1         大龙燚火锅(粉巷店)  火锅  xa 4.60  2253 100.00   \n",
       "2      鲜上鲜文鱼庄(凤城五路店)  火锅  xa 4.50  1398  56.00   \n",
       "3  蜜悦士鲜牛肉时尚火锅(凯德广场店)  火锅  xa 4.40    48  63.00   \n",
       "4        大自在火锅(和平村店)  火锅  xa 4.30   214  84.00   \n",
       "\n",
       "                                         地址               营业时间  \\\n",
       "0  西安市雁塔区朱雀大街250号东方大酒店西门斜对面（子午路站下车向北走60米路西）        11:00-21:00   \n",
       "1                西安市碑林区粉巷南院门15A南苑中央广场食尚南苑2F  周一至周日 10:00-21:00   \n",
       "2                      西安市未央区凤城五路地铁D口出人人乐5楼                 全天   \n",
       "3                        西安市雁塔区南二环凯德广场四楼东南角        10:00-21:00   \n",
       "4                  西安市莲湖区三桥和平村十字西南角伯乐城市广场6层               暂无时间   \n",
       "\n",
       "                                                  菜名  商家等级  购买人数    团购价  \\\n",
       "0  【羊肉】【豆腐】【麻酱】【精品肥牛】【粉丝】【羔羊肉】【牛肚】【油豆皮】【香菇】【豆皮】【土...     2  7.43 118.50   \n",
       "1  【麻辣排骨】【千层毛肚】【鸳鸯锅】【鸭血】【天味香肠】【薄土豆】【功夫黄瓜】【清汤锅】【印度...     2  9.88  88.00   \n",
       "2  【生菜】【鸳鸯锅】【千叶豆腐】【荷包豆腐】【生鱼片】【毛肚】【文鱼】【鱼丸】【撒尿牛丸】【山...     2  9.38  52.00   \n",
       "3  【吊龙伴】【三花腱】【番茄锅】【招牌牛舌】【油豆皮】【油炸豆腐皮】【菌汤鸳鸯锅】【手工面】【...     2  3.69  59.90   \n",
       "4  【蔬菜拼盘】【黄豆芽】【虾饺】【撒尿牛肉丸】【油条】【毛肚】【自在小酥肉】【鸡爪】【自在嫩牛...     2  7.16  59.50   \n",
       "\n",
       "     评分_g  \n",
       "0  4-4.5分  \n",
       "1  4.5-5分  \n",
       "2  4-4.5分  \n",
       "3  4-4.5分  \n",
       "4  4-4.5分  "
      ]
     },
     "execution_count": 8,
     "metadata": {},
     "output_type": "execute_result"
    }
   ],
   "source": [
    "data_shop.head()"
   ]
  },
  {
   "cell_type": "code",
   "execution_count": 9,
   "metadata": {
    "scrolled": true
   },
   "outputs": [
    {
     "data": {
      "image/png": "[encoded data removed]",
      "text/plain": [
       "<matplotlib.figure.Figure at 0x264b467cc18>"
      ]
     },
     "metadata": {},
     "output_type": "display_data"
    }
   ],
   "source": [
    "from pylab import *\n",
    "mpl.rcParams['font.sans-serif'] = ['SimHei']\n",
    "import seaborn as sns\n",
    "sns.boxplot(x='评分_g',y='购买人数',data=data_shop)\n",
    "plt.show()\n"
   ]
  },
  {
   "cell_type": "markdown",
   "metadata": {},
   "source": [
    "## 1、方差分析"
   ]
  },
  {
   "cell_type": "code",
   "execution_count": 10,
   "metadata": {},
   "outputs": [
    {
     "name": "stderr",
     "output_type": "stream",
     "text": [
      "C:\\Users\\yiyimamiqian\\Anaconda3\\lib\\site-packages\\statsmodels\\compat\\pandas.py:56: FutureWarning: The pandas.core.datetools module is deprecated and will be removed in a future version. Please use the pandas.tseries module instead.\n",
      "  from pandas.core import datetools\n"
     ]
    }
   ],
   "source": [
    "import statsmodels.api as sm\n",
    "from statsmodels.formula.api import ols"
   ]
  },
  {
   "cell_type": "code",
   "execution_count": 11,
   "metadata": {},
   "outputs": [
    {
     "name": "stderr",
     "output_type": "stream",
     "text": [
      "C:\\Users\\yiyimamiqian\\Anaconda3\\lib\\site-packages\\scipy\\stats\\_distn_infrastructure.py:879: RuntimeWarning: invalid value encountered in greater\n",
      "  return (self.a < x) & (x < self.b)\n",
      "C:\\Users\\yiyimamiqian\\Anaconda3\\lib\\site-packages\\scipy\\stats\\_distn_infrastructure.py:879: RuntimeWarning: invalid value encountered in less\n",
      "  return (self.a < x) & (x < self.b)\n",
      "C:\\Users\\yiyimamiqian\\Anaconda3\\lib\\site-packages\\scipy\\stats\\_distn_infrastructure.py:1818: RuntimeWarning: invalid value encountered in less_equal\n",
      "  cond2 = cond0 & (x <= self.a)\n"
     ]
    }
   ],
   "source": [
    "data_shop_anova=sm.stats.anova_lm(ols(\"购买人数~C(评分_g)\",data_shop).fit())"
   ]
  },
  {
   "cell_type": "code",
   "execution_count": 12,
   "metadata": {},
   "outputs": [
    {
     "name": "stdout",
     "output_type": "stream",
     "text": [
      "             df  sum_sq  mean_sq    F  PR(>F)\n",
      "C(评分_g)    2.00   52.32    26.16 5.41    0.01\n",
      "Residual 193.00  933.60     4.84  nan     nan\n"
     ]
    }
   ],
   "source": [
    "print(data_shop_anova)"
   ]
  },
  {
   "cell_type": "markdown",
   "metadata": {},
   "source": [
    "## 2、方差分析模型的参数估计"
   ]
  },
  {
   "cell_type": "code",
   "execution_count": 13,
   "metadata": {},
   "outputs": [
    {
     "name": "stdout",
     "output_type": "stream",
     "text": [
      "                            OLS Regression Results                            \n",
      "==============================================================================\n",
      "Dep. Variable:                   购买人数   R-squared:                       0.053\n",
      "Model:                            OLS   Adj. R-squared:                  0.043\n",
      "Method:                 Least Squares   F-statistic:                     5.408\n",
      "Date:                Wed, 05 Jun 2019   Prob (F-statistic):            0.00519\n",
      "Time:                        17:18:40   Log-Likelihood:                -431.08\n",
      "No. Observations:                 196   AIC:                             868.2\n",
      "Df Residuals:                     193   BIC:                             878.0\n",
      "Df Model:                           2                                         \n",
      "Covariance Type:            nonrobust                                         \n",
      "=====================================================================================\n",
      "                        coef    std err          t      P>|t|      [0.025      0.975]\n",
      "-------------------------------------------------------------------------------------\n",
      "Intercept             3.1276      0.663      4.716      0.000       1.820       4.436\n",
      "C(评分_g)[T.4-4.5分]     2.2591      0.704      3.210      0.002       0.871       3.647\n",
      "C(评分_g)[T.4.5-5分]     1.7806      0.699      2.546      0.012       0.401       3.160\n",
      "==============================================================================\n",
      "Omnibus:                        1.006   Durbin-Watson:                   1.490\n",
      "Prob(Omnibus):                  0.605   Jarque-Bera (JB):                1.117\n",
      "Skew:                           0.151   Prob(JB):                        0.572\n",
      "Kurtosis:                       2.787   Cond. No.                         8.94\n",
      "==============================================================================\n",
      "\n",
      "Warnings:\n",
      "[1] Standard Errors assume that the covariance matrix of the errors is correctly specified.\n"
     ]
    }
   ],
   "source": [
    "formula='购买人数~C(评分_g)'\n",
    "data_shop_est=ols(formula,data_shop).fit()\n",
    "print(data_shop_est.summary())"
   ]
  },
  {
   "cell_type": "code",
   "execution_count": 14,
   "metadata": {},
   "outputs": [
    {
     "name": "stdout",
     "output_type": "stream",
     "text": [
      "                            OLS Regression Results                            \n",
      "==============================================================================\n",
      "Dep. Variable:                   购买人数   R-squared:                       0.053\n",
      "Model:                            OLS   Adj. R-squared:                  0.043\n",
      "Method:                 Least Squares   F-statistic:                     5.408\n",
      "Date:                Wed, 05 Jun 2019   Prob (F-statistic):            0.00519\n",
      "Time:                        17:18:42   Log-Likelihood:                -431.08\n",
      "No. Observations:                 196   AIC:                             868.2\n",
      "Df Residuals:                     193   BIC:                             878.0\n",
      "Df Model:                           2                                         \n",
      "Covariance Type:            nonrobust                                         \n",
      "===================================================================================\n",
      "                      coef    std err          t      P>|t|      [0.025      0.975]\n",
      "-----------------------------------------------------------------------------------\n",
      "C(评分_g)[小于4分]       3.1276      0.663      4.716      0.000       1.820       4.436\n",
      "C(评分_g)[4-4.5分]     5.3867      0.236     22.844      0.000       4.922       5.852\n",
      "C(评分_g)[4.5-5分]     4.9082      0.222     22.092      0.000       4.470       5.346\n",
      "==============================================================================\n",
      "Omnibus:                        1.006   Durbin-Watson:                   1.490\n",
      "Prob(Omnibus):                  0.605   Jarque-Bera (JB):                1.117\n",
      "Skew:                           0.151   Prob(JB):                        0.572\n",
      "Kurtosis:                       2.787   Cond. No.                         2.98\n",
      "==============================================================================\n",
      "\n",
      "Warnings:\n",
      "[1] Standard Errors assume that the covariance matrix of the errors is correctly specified.\n"
     ]
    }
   ],
   "source": [
    "formula='购买人数~C(评分_g)-1'\n",
    "data_shop_est1=ols(formula,data_shop).fit()\n",
    "print(data_shop_est1.summary())"
   ]
  },
  {
   "cell_type": "code",
   "execution_count": 15,
   "metadata": {
    "collapsed": true
   },
   "outputs": [],
   "source": [
    "formula='购买人数~C(评分_g)+C(关键词)+C(城市)'\n",
    "data_shop_anova1=sm.stats.anova_lm(ols(formula,data=data_shop).fit(),typ=3)"
   ]
  },
  {
   "cell_type": "code",
   "execution_count": 16,
   "metadata": {},
   "outputs": [
    {
     "name": "stdout",
     "output_type": "stream",
     "text": [
      "           sum_sq     df     F  PR(>F)\n",
      "Intercept   78.52   1.00 16.75    0.00\n",
      "C(评分_g)     47.49   2.00  5.07    0.01\n",
      "C(关键词)      37.52   1.00  8.01    0.01\n",
      "C(城市)        0.13   1.00  0.03    0.87\n",
      "Residual   895.16 191.00   nan     nan\n"
     ]
    }
   ],
   "source": [
    "print(data_shop_anova1)"
   ]
  },
  {
   "cell_type": "code",
   "execution_count": 17,
   "metadata": {},
   "outputs": [
    {
     "name": "stdout",
     "output_type": "stream",
     "text": [
      "           sum_sq     df     F  PR(>F)\n",
      "Intercept   92.91   1.00 19.92    0.00\n",
      "C(评分_g)     48.61   2.00  5.21    0.01\n",
      "C(关键词)      38.30   1.00  8.21    0.00\n",
      "Residual   895.29 192.00   nan     nan\n"
     ]
    }
   ],
   "source": [
    "formula='购买人数~C(评分_g)+C(关键词)'\n",
    "data_shop_anova2=sm.stats.anova_lm(ols(formula,data=data_shop).fit(),typ=3)\n",
    "print(data_shop_anova2)"
   ]
  },
  {
   "cell_type": "code",
   "execution_count": 18,
   "metadata": {},
   "outputs": [
    {
     "name": "stdout",
     "output_type": "stream",
     "text": [
      "                            OLS Regression Results                            \n",
      "==============================================================================\n",
      "Dep. Variable:                   购买人数   R-squared:                       0.092\n",
      "Model:                            OLS   Adj. R-squared:                  0.078\n",
      "Method:                 Least Squares   F-statistic:                     6.478\n",
      "Date:                Wed, 05 Jun 2019   Prob (F-statistic):           0.000337\n",
      "Time:                        17:20:01   Log-Likelihood:                -426.98\n",
      "No. Observations:                 196   AIC:                             862.0\n",
      "Df Residuals:                     192   BIC:                             875.1\n",
      "Df Model:                           3                                         \n",
      "Covariance Type:            nonrobust                                         \n",
      "=====================================================================================\n",
      "                        coef    std err          t      P>|t|      [0.025      0.975]\n",
      "-------------------------------------------------------------------------------------\n",
      "Intercept             2.9236      0.655      4.464      0.000       1.632       4.215\n",
      "C(评分_g)[T.4-4.5分]     2.2052      0.691      3.190      0.002       0.842       3.569\n",
      "C(评分_g)[T.4.5-5分]     1.8014      0.687      2.623      0.009       0.447       3.156\n",
      "C(关键词)[T.烧烤]          1.1220      0.391      2.866      0.005       0.350       1.894\n",
      "==============================================================================\n",
      "Omnibus:                        0.869   Durbin-Watson:                   1.567\n",
      "Prob(Omnibus):                  0.647   Jarque-Bera (JB):                0.983\n",
      "Skew:                           0.142   Prob(JB):                        0.612\n",
      "Kurtosis:                       2.800   Cond. No.                         9.07\n",
      "==============================================================================\n",
      "\n",
      "Warnings:\n",
      "[1] Standard Errors assume that the covariance matrix of the errors is correctly specified.\n"
     ]
    }
   ],
   "source": [
    "data_shop_anova1_set=ols(formula,data=data_shop).fit()\n",
    "print(data_shop_anova1_set.summary())"
   ]
  },
  {
   "cell_type": "code",
   "execution_count": null,
   "metadata": {
    "collapsed": true
   },
   "outputs": [],
   "source": []
  }
 ],
 "metadata": {
  "kernelspec": {
   "display_name": "Python 3",
   "language": "python",
   "name": "python3"
  },
  "language_info": {
   "codemirror_mode": {
    "name": "ipython",
    "version": 3
   },
   "file_extension": ".py",
   "mimetype": "text/x-python",
   "name": "python",
   "nbconvert_exporter": "python",
   "pygments_lexer": "ipython3",
   "version": "3.6.3"
  }
 },
 "nbformat": 4,
 "nbformat_minor": 2
}
