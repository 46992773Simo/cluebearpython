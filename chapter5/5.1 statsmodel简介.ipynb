{
 "cells": [
  {
   "cell_type": "code",
   "execution_count": 1,
   "metadata": {},
   "outputs": [
    {
     "name": "stderr",
     "output_type": "stream",
     "text": [
      "C:\\Users\\yiyimamiqian\\Anaconda3\\lib\\site-packages\\statsmodels\\compat\\pandas.py:56: FutureWarning: The pandas.core.datetools module is deprecated and will be removed in a future version. Please use the pandas.tseries module instead.\n",
      "  from pandas.core import datetools\n"
     ]
    }
   ],
   "source": [
    "import statsmodels.api as sm"
   ]
  },
  {
   "cell_type": "code",
   "execution_count": 2,
   "metadata": {},
   "outputs": [
    {
     "data": {
      "text/html": [
       "<table class=\"simpletable\">\n",
       "<caption>OLS Regression Results</caption>\n",
       "<tr>\n",
       "  <th>Dep. Variable:</th>            <td>y</td>        <th>  R-squared:         </th> <td>   0.416</td>\n",
       "</tr>\n",
       "<tr>\n",
       "  <th>Model:</th>                   <td>OLS</td>       <th>  Adj. R-squared:    </th> <td>   0.353</td>\n",
       "</tr>\n",
       "<tr>\n",
       "  <th>Method:</th>             <td>Least Squares</td>  <th>  F-statistic:       </th> <td>   6.646</td>\n",
       "</tr>\n",
       "<tr>\n",
       "  <th>Date:</th>             <td>Wed, 12 Jun 2019</td> <th>  Prob (F-statistic):</th>  <td>0.00157</td>\n",
       "</tr>\n",
       "<tr>\n",
       "  <th>Time:</th>                 <td>16:37:06</td>     <th>  Log-Likelihood:    </th> <td> -12.978</td>\n",
       "</tr>\n",
       "<tr>\n",
       "  <th>No. Observations:</th>      <td>    32</td>      <th>  AIC:               </th> <td>   33.96</td>\n",
       "</tr>\n",
       "<tr>\n",
       "  <th>Df Residuals:</th>          <td>    28</td>      <th>  BIC:               </th> <td>   39.82</td>\n",
       "</tr>\n",
       "<tr>\n",
       "  <th>Df Model:</th>              <td>     3</td>      <th>                     </th>     <td> </td>   \n",
       "</tr>\n",
       "<tr>\n",
       "  <th>Covariance Type:</th>      <td>nonrobust</td>    <th>                     </th>     <td> </td>   \n",
       "</tr>\n",
       "</table>\n",
       "<table class=\"simpletable\">\n",
       "<tr>\n",
       "    <td></td>       <th>coef</th>     <th>std err</th>      <th>t</th>      <th>P>|t|</th>  <th>[0.025</th>    <th>0.975]</th>  \n",
       "</tr>\n",
       "<tr>\n",
       "  <th>x1</th>    <td>    0.4639</td> <td>    0.162</td> <td>    2.864</td> <td> 0.008</td> <td>    0.132</td> <td>    0.796</td>\n",
       "</tr>\n",
       "<tr>\n",
       "  <th>x2</th>    <td>    0.0105</td> <td>    0.019</td> <td>    0.539</td> <td> 0.594</td> <td>   -0.029</td> <td>    0.050</td>\n",
       "</tr>\n",
       "<tr>\n",
       "  <th>x3</th>    <td>    0.3786</td> <td>    0.139</td> <td>    2.720</td> <td> 0.011</td> <td>    0.093</td> <td>    0.664</td>\n",
       "</tr>\n",
       "<tr>\n",
       "  <th>const</th> <td>   -1.4980</td> <td>    0.524</td> <td>   -2.859</td> <td> 0.008</td> <td>   -2.571</td> <td>   -0.425</td>\n",
       "</tr>\n",
       "</table>\n",
       "<table class=\"simpletable\">\n",
       "<tr>\n",
       "  <th>Omnibus:</th>       <td> 0.176</td> <th>  Durbin-Watson:     </th> <td>   2.346</td>\n",
       "</tr>\n",
       "<tr>\n",
       "  <th>Prob(Omnibus):</th> <td> 0.916</td> <th>  Jarque-Bera (JB):  </th> <td>   0.167</td>\n",
       "</tr>\n",
       "<tr>\n",
       "  <th>Skew:</th>          <td> 0.141</td> <th>  Prob(JB):          </th> <td>   0.920</td>\n",
       "</tr>\n",
       "<tr>\n",
       "  <th>Kurtosis:</th>      <td> 2.786</td> <th>  Cond. No.          </th> <td>    176.</td>\n",
       "</tr>\n",
       "</table>"
      ],
      "text/plain": [
       "<class 'statsmodels.iolib.summary.Summary'>\n",
       "\"\"\"\n",
       "                            OLS Regression Results                            \n",
       "==============================================================================\n",
       "Dep. Variable:                      y   R-squared:                       0.416\n",
       "Model:                            OLS   Adj. R-squared:                  0.353\n",
       "Method:                 Least Squares   F-statistic:                     6.646\n",
       "Date:                Wed, 12 Jun 2019   Prob (F-statistic):            0.00157\n",
       "Time:                        16:37:06   Log-Likelihood:                -12.978\n",
       "No. Observations:                  32   AIC:                             33.96\n",
       "Df Residuals:                      28   BIC:                             39.82\n",
       "Df Model:                           3                                         \n",
       "Covariance Type:            nonrobust                                         \n",
       "==============================================================================\n",
       "                 coef    std err          t      P>|t|      [0.025      0.975]\n",
       "------------------------------------------------------------------------------\n",
       "x1             0.4639      0.162      2.864      0.008       0.132       0.796\n",
       "x2             0.0105      0.019      0.539      0.594      -0.029       0.050\n",
       "x3             0.3786      0.139      2.720      0.011       0.093       0.664\n",
       "const         -1.4980      0.524     -2.859      0.008      -2.571      -0.425\n",
       "==============================================================================\n",
       "Omnibus:                        0.176   Durbin-Watson:                   2.346\n",
       "Prob(Omnibus):                  0.916   Jarque-Bera (JB):                0.167\n",
       "Skew:                           0.141   Prob(JB):                        0.920\n",
       "Kurtosis:                       2.786   Cond. No.                         176.\n",
       "==============================================================================\n",
       "\n",
       "Warnings:\n",
       "[1] Standard Errors assume that the covariance matrix of the errors is correctly specified.\n",
       "\"\"\""
      ]
     },
     "execution_count": 2,
     "metadata": {},
     "output_type": "execute_result"
    }
   ],
   "source": [
    "# 导入模块和数据\n",
    "import numpy as np\n",
    "import statsmodels.api as sm\n",
    "spector_data = sm.datasets.spector.load()\n",
    "spector_data.exog = sm.add_constant(spector_data.exog, prepend=False)\n",
    "\n",
    "# 对数据进行线性回归\n",
    "mod = sm.OLS(spector_data.endog, spector_data.exog)\n",
    "res = mod.fit()\n",
    "res.summary()"
   ]
  },
  {
   "cell_type": "code",
   "execution_count": 3,
   "metadata": {
    "collapsed": true
   },
   "outputs": [],
   "source": [
    "from statsmodels import tsa"
   ]
  },
  {
   "cell_type": "code",
   "execution_count": 4,
   "metadata": {},
   "outputs": [
    {
     "name": "stdout",
     "output_type": "stream",
     "text": [
      "该模块无 DESCRSHORT 属性:\n",
      " 'dict' object has no attribute 'DESCRSHORT'\n",
      "该模块无 DESCRSHORT 属性:\n",
      " 'str' object has no attribute 'DESCRSHORT'\n",
      "该模块无 DESCRSHORT 属性:\n",
      " 'str' object has no attribute 'DESCRSHORT'\n",
      "该模块无 DESCRSHORT 属性:\n",
      " 'str' object has no attribute 'DESCRSHORT'\n",
      "该模块无 DESCRSHORT 属性:\n",
      " 'SourceFileLoader' object has no attribute 'DESCRSHORT'\n",
      "该模块无 DESCRSHORT 属性:\n",
      " 'str' object has no attribute 'DESCRSHORT'\n",
      "该模块无 DESCRSHORT 属性:\n",
      " 'str' object has no attribute 'DESCRSHORT'\n",
      "该模块无 DESCRSHORT 属性:\n",
      " 'list' object has no attribute 'DESCRSHORT'\n",
      "该模块无 DESCRSHORT 属性:\n",
      " 'ModuleSpec' object has no attribute 'DESCRSHORT'\n",
      "该模块无 DESCRSHORT 属性:\n",
      " 'function' object has no attribute 'DESCRSHORT'\n",
      "该模块无 DESCRSHORT 属性:\n",
      " 'function' object has no attribute 'DESCRSHORT'\n",
      "该模块无 DESCRSHORT 属性:\n",
      " 'function' object has no attribute 'DESCRSHORT'\n",
      "该模块无 DESCRSHORT 属性:\n",
      " 'function' object has no attribute 'DESCRSHORT'\n",
      "该模块无 DESCRSHORT 属性:\n",
      " module 'statsmodels.datasets.utils' has no attribute 'DESCRSHORT'\n",
      "该模块无 DESCRSHORT 属性:\n",
      " 'function' object has no attribute 'DESCRSHORT'\n",
      "                                                  describe_short\n",
      "anes96         This data is a subset of the American National...\n",
      "cancer                       Breast Cancer and county population\n",
      "ccard                       William Greene's credit scoring data\n",
      "china_smoking  Co-occurrence of lung cancer and smoking in 8 ...\n",
      "co2            Atmospheric CO2 from Continuous Air Samples at...\n",
      "committee      Number of bill assignments in the 104th House ...\n",
      "copper                             World Copper Market 1951-1975\n",
      "cpunish                       Number of state executions in 1997\n",
      "elnino         Averaged monthly sea surface temperature - Pac...\n",
      "engel                               Engel food expenditure data.\n",
      "fair                                   Extramarital affair data.\n",
      "fertility      Total fertility rate represents the number of ...\n",
      "grunfeld       Grunfeld (1950) Investment Data for 11 U.S. Fi...\n",
      "heart          Survival times after receiving a heart transplant\n",
      "longley                                                         \n",
      "macrodata              US Macroeconomic Data for 1959Q1 - 2009Q3\n",
      "modechoice     Data used to study travel mode choice between ...\n",
      "nile           This dataset contains measurements on the annu...\n",
      "randhie            The RAND Co. Health Insurance Experiment Data\n",
      "scotland       Taxation Powers' Yes Vote for Scottish Parliam...\n",
      "spector        Experimental data on the effectiveness of the ...\n",
      "stackloss               Stack loss plant data of Brownlee (1965)\n",
      "star98         Math scores for 303 student with 10 explanator...\n",
      "statecrime                                 State crime data 2009\n",
      "strikes        Contains data on the length of strikes in US m...\n",
      "sunspots       Yearly (1700-2008) data on sunspots from the N...\n"
     ]
    }
   ],
   "source": [
    "import statsmodels.api as sm\n",
    "from pandas import DataFrame\n",
    "\n",
    "dataDict = {'name':[], 'describe_short':[]}\n",
    " \n",
    "for modstr in dir(sm.datasets):\n",
    "    try:\n",
    "        mod = eval('sm.datasets.%s' % modstr)\n",
    "        dataDict['describe_short'].append(mod.DESCRSHORT)\n",
    "        dataDict['name'].append(modstr)\n",
    "    except Exception as e:\n",
    "        print(\"该模块无 DESCRSHORT 属性:\\n\", e)\n",
    "        continue\n",
    " \n",
    "dataDf = DataFrame({'describe_short':dataDict['describe_short']}, index=dataDict['name'])\n",
    "print(dataDf)"
   ]
  },
  {
   "cell_type": "code",
   "execution_count": 5,
   "metadata": {},
   "outputs": [
    {
     "name": "stdout",
     "output_type": "stream",
     "text": [
      "<class 'statsmodels.datasets.utils.Dataset'>\n"
     ]
    },
    {
     "data": {
      "text/html": [
       "<div>\n",
       "<style>\n",
       "    .dataframe thead tr:only-child th {\n",
       "        text-align: right;\n",
       "    }\n",
       "\n",
       "    .dataframe thead th {\n",
       "        text-align: left;\n",
       "    }\n",
       "\n",
       "    .dataframe tbody tr th {\n",
       "        vertical-align: top;\n",
       "    }\n",
       "</style>\n",
       "<table border=\"1\" class=\"dataframe\">\n",
       "  <thead>\n",
       "    <tr style=\"text-align: right;\">\n",
       "      <th></th>\n",
       "      <th>YES</th>\n",
       "      <th>COUTAX</th>\n",
       "      <th>UNEMPF</th>\n",
       "      <th>MOR</th>\n",
       "      <th>ACT</th>\n",
       "      <th>GDP</th>\n",
       "      <th>AGE</th>\n",
       "      <th>COUTAX_FEMALEUNEMP</th>\n",
       "    </tr>\n",
       "  </thead>\n",
       "  <tbody>\n",
       "    <tr>\n",
       "      <th>0</th>\n",
       "      <td>60.3</td>\n",
       "      <td>712.0</td>\n",
       "      <td>21.0</td>\n",
       "      <td>105.0</td>\n",
       "      <td>82.4</td>\n",
       "      <td>13566.0</td>\n",
       "      <td>12.3</td>\n",
       "      <td>14952.0</td>\n",
       "    </tr>\n",
       "    <tr>\n",
       "      <th>1</th>\n",
       "      <td>52.3</td>\n",
       "      <td>643.0</td>\n",
       "      <td>26.5</td>\n",
       "      <td>97.0</td>\n",
       "      <td>80.2</td>\n",
       "      <td>13566.0</td>\n",
       "      <td>15.3</td>\n",
       "      <td>17039.5</td>\n",
       "    </tr>\n",
       "    <tr>\n",
       "      <th>2</th>\n",
       "      <td>53.4</td>\n",
       "      <td>679.0</td>\n",
       "      <td>28.3</td>\n",
       "      <td>113.0</td>\n",
       "      <td>86.3</td>\n",
       "      <td>9611.0</td>\n",
       "      <td>13.9</td>\n",
       "      <td>19215.7</td>\n",
       "    </tr>\n",
       "    <tr>\n",
       "      <th>3</th>\n",
       "      <td>57.0</td>\n",
       "      <td>801.0</td>\n",
       "      <td>27.1</td>\n",
       "      <td>109.0</td>\n",
       "      <td>80.4</td>\n",
       "      <td>9483.0</td>\n",
       "      <td>13.6</td>\n",
       "      <td>21707.1</td>\n",
       "    </tr>\n",
       "    <tr>\n",
       "      <th>4</th>\n",
       "      <td>68.7</td>\n",
       "      <td>753.0</td>\n",
       "      <td>22.0</td>\n",
       "      <td>115.0</td>\n",
       "      <td>64.7</td>\n",
       "      <td>9265.0</td>\n",
       "      <td>14.6</td>\n",
       "      <td>16566.0</td>\n",
       "    </tr>\n",
       "  </tbody>\n",
       "</table>\n",
       "</div>"
      ],
      "text/plain": [
       "    YES  COUTAX  UNEMPF    MOR   ACT      GDP   AGE  COUTAX_FEMALEUNEMP\n",
       "0  60.3   712.0    21.0  105.0  82.4  13566.0  12.3             14952.0\n",
       "1  52.3   643.0    26.5   97.0  80.2  13566.0  15.3             17039.5\n",
       "2  53.4   679.0    28.3  113.0  86.3   9611.0  13.9             19215.7\n",
       "3  57.0   801.0    27.1  109.0  80.4   9483.0  13.6             21707.1\n",
       "4  68.7   753.0    22.0  115.0  64.7   9265.0  14.6             16566.0"
      ]
     },
     "execution_count": 5,
     "metadata": {},
     "output_type": "execute_result"
    }
   ],
   "source": [
    "import statsmodels.api as sm\n",
    "from pandas import DataFrame\n",
    " \n",
    "cancer_data = sm.datasets.scotland.load_pandas()\n",
    "print(type(cancer_data))  # DataFrame 类型的数据\n",
    "df=cancer_data.data\n",
    "df.head()"
   ]
  },
  {
   "cell_type": "code",
   "execution_count": 6,
   "metadata": {},
   "outputs": [
    {
     "name": "stdout",
     "output_type": "stream",
     "text": [
      "The number of breast cancer observances in various counties\n"
     ]
    }
   ],
   "source": [
    "cancer_mod = sm.datasets.cancer\n",
    "print (cancer_mod.DESCRLONG)"
   ]
  },
  {
   "cell_type": "code",
   "execution_count": null,
   "metadata": {
    "collapsed": true
   },
   "outputs": [],
   "source": []
  }
 ],
 "metadata": {
  "kernelspec": {
   "display_name": "Python 3",
   "language": "python",
   "name": "python3"
  },
  "language_info": {
   "codemirror_mode": {
    "name": "ipython",
    "version": 3
   },
   "file_extension": ".py",
   "mimetype": "text/x-python",
   "name": "python",
   "nbconvert_exporter": "python",
   "pygments_lexer": "ipython3",
   "version": "3.6.3"
  }
 },
 "nbformat": 4,
 "nbformat_minor": 2
}
