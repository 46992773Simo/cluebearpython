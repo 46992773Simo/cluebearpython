{
 "cells": [
  {
   "cell_type": "code",
   "execution_count": 5,
   "metadata": {},
   "outputs": [],
   "source": [
    "import pandas as pd"
   ]
  },
  {
   "cell_type": "code",
   "execution_count": 6,
   "metadata": {},
   "outputs": [],
   "source": [
    "file_path = r\"C:\\Users\\ASUS\\Desktop\\crawler_tndetailcomment.xlsx\""
   ]
  },
  {
   "cell_type": "code",
   "execution_count": 7,
   "metadata": {},
   "outputs": [],
   "source": [
    "df = pd.read_excel(file_path)"
   ]
  },
  {
   "cell_type": "code",
   "execution_count": 8,
   "metadata": {},
   "outputs": [
    {
     "data": {
      "text/html": [
       "<div>\n",
       "<style scoped>\n",
       "    .dataframe tbody tr th:only-of-type {\n",
       "        vertical-align: middle;\n",
       "    }\n",
       "\n",
       "    .dataframe tbody tr th {\n",
       "        vertical-align: top;\n",
       "    }\n",
       "\n",
       "    .dataframe thead th {\n",
       "        text-align: right;\n",
       "    }\n",
       "</style>\n",
       "<table border=\"1\" class=\"dataframe\">\n",
       "  <thead>\n",
       "    <tr style=\"text-align: right;\">\n",
       "      <th></th>\n",
       "      <th>id</th>\n",
       "      <th>url</th>\n",
       "      <th>productId</th>\n",
       "      <th>tab</th>\n",
       "      <th>userImage</th>\n",
       "      <th>realName</th>\n",
       "      <th>custLevel</th>\n",
       "      <th>sex</th>\n",
       "      <th>contentID</th>\n",
       "      <th>couponAmount</th>\n",
       "      <th>...</th>\n",
       "      <th>remarkChannelName</th>\n",
       "      <th>compName</th>\n",
       "      <th>compGrade_dy</th>\n",
       "      <th>compGrade_ap</th>\n",
       "      <th>compGrade_zs</th>\n",
       "      <th>compGrade_jt</th>\n",
       "      <th>content</th>\n",
       "      <th>remarkTime</th>\n",
       "      <th>add_time</th>\n",
       "      <th>crawl_num_id</th>\n",
       "    </tr>\n",
       "  </thead>\n",
       "  <tbody>\n",
       "    <tr>\n",
       "      <th>0</th>\n",
       "      <td>1</td>\n",
       "      <td>http://www.tuniu.com/papi/tour/comment/product...</td>\n",
       "      <td>210049917</td>\n",
       "      <td>跟团</td>\n",
       "      <td>NaN</td>\n",
       "      <td>8***1</td>\n",
       "      <td>3.0</td>\n",
       "      <td>9</td>\n",
       "      <td>32554770</td>\n",
       "      <td>20</td>\n",
       "      <td>...</td>\n",
       "      <td>APP</td>\n",
       "      <td>满意</td>\n",
       "      <td>满意</td>\n",
       "      <td>满意</td>\n",
       "      <td>满意</td>\n",
       "      <td>满意</td>\n",
       "      <td>这次体验不错，总体吃住都可以，特别感谢三车导游和康巴导游，很热情，讲解很详细。接送的师傅也都...</td>\n",
       "      <td>2019-09-03</td>\n",
       "      <td>2019-11-04 17:43:23.639767</td>\n",
       "      <td>NaN</td>\n",
       "    </tr>\n",
       "    <tr>\n",
       "      <th>1</th>\n",
       "      <td>2</td>\n",
       "      <td>http://www.tuniu.com/papi/tour/comment/product...</td>\n",
       "      <td>210049028</td>\n",
       "      <td>跟团</td>\n",
       "      <td>NaN</td>\n",
       "      <td>8***0</td>\n",
       "      <td>1.0</td>\n",
       "      <td>9</td>\n",
       "      <td>33119769</td>\n",
       "      <td>40</td>\n",
       "      <td>...</td>\n",
       "      <td>APP</td>\n",
       "      <td>满意</td>\n",
       "      <td>满意</td>\n",
       "      <td>满意</td>\n",
       "      <td>满意</td>\n",
       "      <td>满意</td>\n",
       "      <td>七彩云南之旅，感受了当地各族的风土民情，来到了“天龙八部”段誉的故乡美丽的大理，但是整个行程...</td>\n",
       "      <td>2019-11-04</td>\n",
       "      <td>2019-11-04 17:43:23.504765</td>\n",
       "      <td>NaN</td>\n",
       "    </tr>\n",
       "    <tr>\n",
       "      <th>2</th>\n",
       "      <td>3</td>\n",
       "      <td>http://www.tuniu.com/papi/tour/comment/product...</td>\n",
       "      <td>210049028</td>\n",
       "      <td>跟团</td>\n",
       "      <td>NaN</td>\n",
       "      <td>8***8</td>\n",
       "      <td>4.0</td>\n",
       "      <td>9</td>\n",
       "      <td>32873636</td>\n",
       "      <td>80</td>\n",
       "      <td>...</td>\n",
       "      <td>WAP站</td>\n",
       "      <td>满意</td>\n",
       "      <td>满意</td>\n",
       "      <td>满意</td>\n",
       "      <td>满意</td>\n",
       "      <td>满意</td>\n",
       "      <td>旅程非常愉悦，感谢途牛所有工作人员，因为有了你们辛苦的付出我们才能体会到美好的行程，谢谢大家！</td>\n",
       "      <td>2019-10-08</td>\n",
       "      <td>2019-11-04 17:43:23.657768</td>\n",
       "      <td>NaN</td>\n",
       "    </tr>\n",
       "    <tr>\n",
       "      <th>3</th>\n",
       "      <td>4</td>\n",
       "      <td>http://www.tuniu.com/papi/tour/comment/product...</td>\n",
       "      <td>210049028</td>\n",
       "      <td>跟团</td>\n",
       "      <td>NaN</td>\n",
       "      <td>8***2</td>\n",
       "      <td>4.0</td>\n",
       "      <td>9</td>\n",
       "      <td>32831130</td>\n",
       "      <td>40</td>\n",
       "      <td>...</td>\n",
       "      <td>WAP站</td>\n",
       "      <td>满意</td>\n",
       "      <td>满意</td>\n",
       "      <td>满意</td>\n",
       "      <td>满意</td>\n",
       "      <td>满意</td>\n",
       "      <td>香格里拉很好玩。当地卓玛姐姐人美心善</td>\n",
       "      <td>2019-10-05</td>\n",
       "      <td>2019-11-04 17:43:23.658771</td>\n",
       "      <td>NaN</td>\n",
       "    </tr>\n",
       "    <tr>\n",
       "      <th>4</th>\n",
       "      <td>5</td>\n",
       "      <td>http://www.tuniu.com/papi/tour/comment/product...</td>\n",
       "      <td>210049028</td>\n",
       "      <td>跟团</td>\n",
       "      <td>NaN</td>\n",
       "      <td>8***6</td>\n",
       "      <td>4.0</td>\n",
       "      <td>9</td>\n",
       "      <td>32608341</td>\n",
       "      <td>140</td>\n",
       "      <td>...</td>\n",
       "      <td>APP</td>\n",
       "      <td>满意</td>\n",
       "      <td>一般</td>\n",
       "      <td>满意</td>\n",
       "      <td>一般</td>\n",
       "      <td>满意</td>\n",
       "      <td>途牛还是很正规的 有问题都是第一时间解决的</td>\n",
       "      <td>2019-09-13</td>\n",
       "      <td>2019-11-04 17:43:23.658771</td>\n",
       "      <td>NaN</td>\n",
       "    </tr>\n",
       "  </tbody>\n",
       "</table>\n",
       "<p>5 rows × 23 columns</p>\n",
       "</div>"
      ],
      "text/plain": [
       "   id                                                url  productId tab  \\\n",
       "0   1  http://www.tuniu.com/papi/tour/comment/product...  210049917  跟团   \n",
       "1   2  http://www.tuniu.com/papi/tour/comment/product...  210049028  跟团   \n",
       "2   3  http://www.tuniu.com/papi/tour/comment/product...  210049028  跟团   \n",
       "3   4  http://www.tuniu.com/papi/tour/comment/product...  210049028  跟团   \n",
       "4   5  http://www.tuniu.com/papi/tour/comment/product...  210049028  跟团   \n",
       "\n",
       "  userImage realName  custLevel  sex  contentID  couponAmount     ...       \\\n",
       "0       NaN    8***1        3.0    9   32554770            20     ...        \n",
       "1       NaN    8***0        1.0    9   33119769            40     ...        \n",
       "2       NaN    8***8        4.0    9   32873636            80     ...        \n",
       "3       NaN    8***2        4.0    9   32831130            40     ...        \n",
       "4       NaN    8***6        4.0    9   32608341           140     ...        \n",
       "\n",
       "   remarkChannelName  compName compGrade_dy compGrade_ap compGrade_zs  \\\n",
       "0                APP        满意           满意           满意           满意   \n",
       "1                APP        满意           满意           满意           满意   \n",
       "2               WAP站        满意           满意           满意           满意   \n",
       "3               WAP站        满意           满意           满意           满意   \n",
       "4                APP        满意           一般           满意           一般   \n",
       "\n",
       "  compGrade_jt                                            content  remarkTime  \\\n",
       "0           满意  这次体验不错，总体吃住都可以，特别感谢三车导游和康巴导游，很热情，讲解很详细。接送的师傅也都...  2019-09-03   \n",
       "1           满意  七彩云南之旅，感受了当地各族的风土民情，来到了“天龙八部”段誉的故乡美丽的大理，但是整个行程...  2019-11-04   \n",
       "2           满意    旅程非常愉悦，感谢途牛所有工作人员，因为有了你们辛苦的付出我们才能体会到美好的行程，谢谢大家！  2019-10-08   \n",
       "3           满意                                 香格里拉很好玩。当地卓玛姐姐人美心善  2019-10-05   \n",
       "4           满意                              途牛还是很正规的 有问题都是第一时间解决的  2019-09-13   \n",
       "\n",
       "                     add_time crawl_num_id  \n",
       "0  2019-11-04 17:43:23.639767          NaN  \n",
       "1  2019-11-04 17:43:23.504765          NaN  \n",
       "2  2019-11-04 17:43:23.657768          NaN  \n",
       "3  2019-11-04 17:43:23.658771          NaN  \n",
       "4  2019-11-04 17:43:23.658771          NaN  \n",
       "\n",
       "[5 rows x 23 columns]"
      ]
     },
     "execution_count": 8,
     "metadata": {},
     "output_type": "execute_result"
    }
   ],
   "source": [
    "df.head()"
   ]
  },
  {
   "cell_type": "code",
   "execution_count": 9,
   "metadata": {},
   "outputs": [
    {
     "data": {
      "text/plain": [
       "(19214, 23)"
      ]
     },
     "execution_count": 9,
     "metadata": {},
     "output_type": "execute_result"
    }
   ],
   "source": [
    "df.shape\n"
   ]
  },
  {
   "cell_type": "code",
   "execution_count": 17,
   "metadata": {},
   "outputs": [
    {
     "data": {
      "text/plain": [
       "(17900, 23)"
      ]
     },
     "execution_count": 17,
     "metadata": {},
     "output_type": "execute_result"
    }
   ],
   "source": [
    "df.drop_duplicates([\"productId\", \"contentID\", \"remarkTime\"],).shape"
   ]
  },
  {
   "cell_type": "code",
   "execution_count": null,
   "metadata": {},
   "outputs": [],
   "source": []
  }
 ],
 "metadata": {
  "kernelspec": {
   "display_name": "Python 3",
   "language": "python",
   "name": "python3"
  },
  "language_info": {
   "codemirror_mode": {
    "name": "ipython",
    "version": 3
   },
   "file_extension": ".py",
   "mimetype": "text/x-python",
   "name": "python",
   "nbconvert_exporter": "python",
   "pygments_lexer": "ipython3",
   "version": "3.5.5"
  }
 },
 "nbformat": 4,
 "nbformat_minor": 2
}
