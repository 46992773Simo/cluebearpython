{
 "cells": [
  {
   "cell_type": "markdown",
   "metadata": {
    "toc": true
   },
   "source": [
    "<h1>Table of Contents<span class=\"tocSkip\"></span></h1>\n",
    "<div class=\"toc\" style=\"margin-top: 1em;\"><ul class=\"toc-item\"><li><span><a href=\"#初级篇——单页面静态爬虫\" data-toc-modified-id=\"初级篇——单页面静态爬虫-1\"><span class=\"toc-item-num\">1&nbsp;&nbsp;</span>初级篇——单页面静态爬虫</a></span></li><li><span><a href=\"#中级篇——多页面静态爬虫\" data-toc-modified-id=\"中级篇——多页面静态爬虫-2\"><span class=\"toc-item-num\">2&nbsp;&nbsp;</span>中级篇——多页面静态爬虫</a></span></li><li><span><a href=\"#高级篇——-爬虫的伪装\" data-toc-modified-id=\"高级篇——-爬虫的伪装-3\"><span class=\"toc-item-num\">3&nbsp;&nbsp;</span>高级篇—— 爬虫的伪装</a></span><ul class=\"toc-item\"><li><span><a href=\"#构造请求头\" data-toc-modified-id=\"构造请求头-3.1\"><span class=\"toc-item-num\">3.1&nbsp;&nbsp;</span>构造请求头</a></span></li><li><span><a href=\"#IP池\" data-toc-modified-id=\"IP池-3.2\"><span class=\"toc-item-num\">3.2&nbsp;&nbsp;</span>IP池</a></span></li></ul></li><li><span><a href=\"#终级篇——-动态爬虫\" data-toc-modified-id=\"终级篇——-动态爬虫-4\"><span class=\"toc-item-num\">4&nbsp;&nbsp;</span>终级篇—— 动态爬虫</a></span></li></ul></div>"
   ]
  },
  {
   "cell_type": "markdown",
   "metadata": {},
   "source": [
    "# 初级篇——单页面静态爬虫"
   ]
  },
  {
   "cell_type": "code",
   "execution_count": 1,
   "metadata": {
    "ExecuteTime": {
     "end_time": "2019-07-13T07:17:13.133404Z",
     "start_time": "2019-07-13T07:17:12.745261Z"
    }
   },
   "outputs": [],
   "source": [
    "import os\n",
    "import requests\n",
    "from bs4 import BeautifulSoup\n",
    "path = \"../data/\""
   ]
  },
  {
   "cell_type": "code",
   "execution_count": 2,
   "metadata": {
    "ExecuteTime": {
     "end_time": "2019-07-13T07:17:16.011205Z",
     "start_time": "2019-07-13T07:17:13.741142Z"
    }
   },
   "outputs": [],
   "source": [
    "url = 'https://xa.nuomi.com/364'\n",
    "html = requests.get(url)\n",
    "html.encoding = html.apparent_encoding"
   ]
  },
  {
   "cell_type": "code",
   "execution_count": 4,
   "metadata": {
    "ExecuteTime": {
     "end_time": "2019-07-13T07:17:31.056968Z",
     "start_time": "2019-07-13T07:17:31.049969Z"
    }
   },
   "outputs": [],
   "source": [
    "if html.status_code == 200:\n",
    "    with open(os.path.join(path, '364.html'), 'w+', encoding='utf8') as f:\n",
    "        f.write(html.text)\n",
    "else:\n",
    "    print('状态码非200，请求出错')"
   ]
  },
  {
   "cell_type": "code",
   "execution_count": 5,
   "metadata": {
    "ExecuteTime": {
     "end_time": "2019-07-13T07:17:34.664592Z",
     "start_time": "2019-07-13T07:17:34.659586Z"
    }
   },
   "outputs": [],
   "source": [
    "with open(os.path.join(path, '364.html'), 'r', encoding='utf8') as f: \n",
    "    content = f.read()"
   ]
  },
  {
   "cell_type": "code",
   "execution_count": 6,
   "metadata": {
    "ExecuteTime": {
     "end_time": "2019-07-13T07:17:36.854839Z",
     "start_time": "2019-07-13T07:17:36.754825Z"
    }
   },
   "outputs": [],
   "source": [
    "soup = BeautifulSoup(content, 'lxml')\n",
    "shop_list = soup.select('#j-goods-area > div.shop-infoo-list > ul > li')"
   ]
  },
  {
   "cell_type": "code",
   "execution_count": 13,
   "metadata": {
    "ExecuteTime": {
     "end_time": "2019-07-13T07:18:24.260120Z",
     "start_time": "2019-07-13T07:18:24.248120Z"
    },
    "scrolled": false
   },
   "outputs": [],
   "source": [
    "shop_dict = {}\n",
    "for shop in shop_list:\n",
    "    name = shop.select('a:nth-of-type(2) > h3')[0].get_text()\n",
    "    score = shop.find('span', {\"class\": 'shop-infoo-list-color-gold'}).get_text().replace(\"分\", \"\")\n",
    "    if score is None:\n",
    "        continue\n",
    "    shop_dict[name] = float(score)"
   ]
  },
  {
   "cell_type": "code",
   "execution_count": 14,
   "metadata": {
    "ExecuteTime": {
     "end_time": "2019-07-13T07:18:24.890121Z",
     "start_time": "2019-07-13T07:18:24.885118Z"
    }
   },
   "outputs": [
    {
     "data": {
      "text/plain": [
       "{'2068香辣虾(陕西总店)': 4.4,\n",
       " '一尊皇牛(大寨路店)': 4.2,\n",
       " '一尊皇牛(西关正街店)': 4.6,\n",
       " '厚府火锅店': 4.5,\n",
       " '御品皇三汁焖锅': 4.5,\n",
       " '杨翔豆皮涮牛肚(熙地港购物中心店)': 4.7,\n",
       " '杨翔豆皮涮牛肚(阎良千禧店)': 4.6,\n",
       " '槐店王婆大虾(迎宾路店)': 4.6,\n",
       " '槿熙芝士年糕自助火锅': 4.5,\n",
       " '沸腾自助火锅(凤凰店)': 4.2,\n",
       " '渝老道火锅': 4.6,\n",
       " '牛员外鲜牛肉火锅(长安广场店)': 4.4,\n",
       " '老北京涮羊肉': 4.4,\n",
       " '薛垻子老味火锅': 4.6,\n",
       " '蜀石文化火锅(阎良店)': 4.7,\n",
       " '蜜悦士鲜牛肉时尚火锅(凯德广场店)': 4.4,\n",
       " '过锅瘾三汁焖锅(骡马市店)': 4.7,\n",
       " '重庆小天鹅(新世界百货店)': 4.6,\n",
       " '闻道听香': 4.7,\n",
       " '顺水鱼馆(绿地世纪城店)': 4.5,\n",
       " '食色火锅(五路口万达店)': 4.5,\n",
       " '食色火锅(西安总店)': 4.7,\n",
       " '鲜上鲜文鱼庄(阳阳国际店)': 4.6,\n",
       " '鲜羔楼三味火锅': 4.5,\n",
       " '龙腾火锅(泾渭店)': 4.6}"
      ]
     },
     "execution_count": 14,
     "metadata": {},
     "output_type": "execute_result"
    }
   ],
   "source": [
    "shop_dict"
   ]
  },
  {
   "cell_type": "code",
   "execution_count": 15,
   "metadata": {
    "ExecuteTime": {
     "end_time": "2019-07-13T07:18:28.337808Z",
     "start_time": "2019-07-13T07:18:27.475734Z"
    }
   },
   "outputs": [],
   "source": [
    "import pandas as pd "
   ]
  },
  {
   "cell_type": "code",
   "execution_count": 16,
   "metadata": {
    "ExecuteTime": {
     "end_time": "2019-07-13T07:18:28.478733Z",
     "start_time": "2019-07-13T07:18:28.450734Z"
    }
   },
   "outputs": [
    {
     "data": {
      "text/html": [
       "<div>\n",
       "<style scoped>\n",
       "    .dataframe tbody tr th:only-of-type {\n",
       "        vertical-align: middle;\n",
       "    }\n",
       "\n",
       "    .dataframe tbody tr th {\n",
       "        vertical-align: top;\n",
       "    }\n",
       "\n",
       "    .dataframe thead th {\n",
       "        text-align: right;\n",
       "    }\n",
       "</style>\n",
       "<table border=\"1\" class=\"dataframe\">\n",
       "  <thead>\n",
       "    <tr style=\"text-align: right;\">\n",
       "      <th></th>\n",
       "      <th>评分</th>\n",
       "    </tr>\n",
       "    <tr>\n",
       "      <th>店名</th>\n",
       "      <th></th>\n",
       "    </tr>\n",
       "  </thead>\n",
       "  <tbody>\n",
       "    <tr>\n",
       "      <th>龙腾火锅(泾渭店)</th>\n",
       "      <td>4.6</td>\n",
       "    </tr>\n",
       "    <tr>\n",
       "      <th>牛员外鲜牛肉火锅(长安广场店)</th>\n",
       "      <td>4.4</td>\n",
       "    </tr>\n",
       "    <tr>\n",
       "      <th>食色火锅(五路口万达店)</th>\n",
       "      <td>4.5</td>\n",
       "    </tr>\n",
       "    <tr>\n",
       "      <th>重庆小天鹅(新世界百货店)</th>\n",
       "      <td>4.6</td>\n",
       "    </tr>\n",
       "    <tr>\n",
       "      <th>厚府火锅店</th>\n",
       "      <td>4.5</td>\n",
       "    </tr>\n",
       "    <tr>\n",
       "      <th>杨翔豆皮涮牛肚(熙地港购物中心店)</th>\n",
       "      <td>4.7</td>\n",
       "    </tr>\n",
       "    <tr>\n",
       "      <th>2068香辣虾(陕西总店)</th>\n",
       "      <td>4.4</td>\n",
       "    </tr>\n",
       "    <tr>\n",
       "      <th>顺水鱼馆(绿地世纪城店)</th>\n",
       "      <td>4.5</td>\n",
       "    </tr>\n",
       "    <tr>\n",
       "      <th>沸腾自助火锅(凤凰店)</th>\n",
       "      <td>4.2</td>\n",
       "    </tr>\n",
       "    <tr>\n",
       "      <th>老北京涮羊肉</th>\n",
       "      <td>4.4</td>\n",
       "    </tr>\n",
       "    <tr>\n",
       "      <th>过锅瘾三汁焖锅(骡马市店)</th>\n",
       "      <td>4.7</td>\n",
       "    </tr>\n",
       "    <tr>\n",
       "      <th>蜜悦士鲜牛肉时尚火锅(凯德广场店)</th>\n",
       "      <td>4.4</td>\n",
       "    </tr>\n",
       "    <tr>\n",
       "      <th>杨翔豆皮涮牛肚(阎良千禧店)</th>\n",
       "      <td>4.6</td>\n",
       "    </tr>\n",
       "    <tr>\n",
       "      <th>食色火锅(西安总店)</th>\n",
       "      <td>4.7</td>\n",
       "    </tr>\n",
       "    <tr>\n",
       "      <th>一尊皇牛(大寨路店)</th>\n",
       "      <td>4.2</td>\n",
       "    </tr>\n",
       "    <tr>\n",
       "      <th>渝老道火锅</th>\n",
       "      <td>4.6</td>\n",
       "    </tr>\n",
       "    <tr>\n",
       "      <th>槐店王婆大虾(迎宾路店)</th>\n",
       "      <td>4.6</td>\n",
       "    </tr>\n",
       "    <tr>\n",
       "      <th>薛垻子老味火锅</th>\n",
       "      <td>4.6</td>\n",
       "    </tr>\n",
       "    <tr>\n",
       "      <th>闻道听香</th>\n",
       "      <td>4.7</td>\n",
       "    </tr>\n",
       "    <tr>\n",
       "      <th>一尊皇牛(西关正街店)</th>\n",
       "      <td>4.6</td>\n",
       "    </tr>\n",
       "    <tr>\n",
       "      <th>鲜羔楼三味火锅</th>\n",
       "      <td>4.5</td>\n",
       "    </tr>\n",
       "    <tr>\n",
       "      <th>鲜上鲜文鱼庄(阳阳国际店)</th>\n",
       "      <td>4.6</td>\n",
       "    </tr>\n",
       "    <tr>\n",
       "      <th>御品皇三汁焖锅</th>\n",
       "      <td>4.5</td>\n",
       "    </tr>\n",
       "    <tr>\n",
       "      <th>蜀石文化火锅(阎良店)</th>\n",
       "      <td>4.7</td>\n",
       "    </tr>\n",
       "    <tr>\n",
       "      <th>槿熙芝士年糕自助火锅</th>\n",
       "      <td>4.5</td>\n",
       "    </tr>\n",
       "  </tbody>\n",
       "</table>\n",
       "</div>"
      ],
      "text/plain": [
       "                    评分\n",
       "店名                    \n",
       "龙腾火锅(泾渭店)          4.6\n",
       "牛员外鲜牛肉火锅(长安广场店)    4.4\n",
       "食色火锅(五路口万达店)       4.5\n",
       "重庆小天鹅(新世界百货店)      4.6\n",
       "厚府火锅店              4.5\n",
       "杨翔豆皮涮牛肚(熙地港购物中心店)  4.7\n",
       "2068香辣虾(陕西总店)      4.4\n",
       "顺水鱼馆(绿地世纪城店)       4.5\n",
       "沸腾自助火锅(凤凰店)        4.2\n",
       "老北京涮羊肉             4.4\n",
       "过锅瘾三汁焖锅(骡马市店)      4.7\n",
       "蜜悦士鲜牛肉时尚火锅(凯德广场店)  4.4\n",
       "杨翔豆皮涮牛肚(阎良千禧店)     4.6\n",
       "食色火锅(西安总店)         4.7\n",
       "一尊皇牛(大寨路店)         4.2\n",
       "渝老道火锅              4.6\n",
       "槐店王婆大虾(迎宾路店)       4.6\n",
       "薛垻子老味火锅            4.6\n",
       "闻道听香               4.7\n",
       "一尊皇牛(西关正街店)        4.6\n",
       "鲜羔楼三味火锅            4.5\n",
       "鲜上鲜文鱼庄(阳阳国际店)      4.6\n",
       "御品皇三汁焖锅            4.5\n",
       "蜀石文化火锅(阎良店)        4.7\n",
       "槿熙芝士年糕自助火锅         4.5"
      ]
     },
     "execution_count": 16,
     "metadata": {},
     "output_type": "execute_result"
    }
   ],
   "source": [
    "results = pd.DataFrame([value for value in shop_dict.values()], index=shop_dict.keys(), columns=['评分'])\n",
    "results.index.name = '店名'\n",
    "results "
   ]
  },
  {
   "cell_type": "code",
   "execution_count": 30,
   "metadata": {
    "ExecuteTime": {
     "end_time": "2019-02-11T03:14:43.188908Z",
     "start_time": "2019-02-11T03:14:43.142891Z"
    }
   },
   "outputs": [],
   "source": [
    "results.to_excel(os.path.join(path, '364.xlsx'), encoding='utf8')"
   ]
  },
  {
   "cell_type": "code",
   "execution_count": 22,
   "metadata": {
    "ExecuteTime": {
     "end_time": "2019-07-13T07:19:28.341390Z",
     "start_time": "2019-07-13T07:19:28.325396Z"
    }
   },
   "outputs": [],
   "source": [
    "shop_dict = {}\n",
    "for shop in shop_list:\n",
    "    name = shop.select('a:nth-of-type(2) > h3')[0].get_text()\n",
    "    href = 'http:' + shop.select('a:nth-of-type(2)')[0].get('href')\n",
    "    score = shop.find('span', {\"class\": 'shop-infoo-list-color-gold'})\n",
    "    if score is None:\n",
    "        continue\n",
    "    else:\n",
    "        score = score.text \n",
    "    shop_dict[name] = [score, href]"
   ]
  },
  {
   "cell_type": "code",
   "execution_count": 23,
   "metadata": {
    "ExecuteTime": {
     "end_time": "2019-07-13T07:19:29.852251Z",
     "start_time": "2019-07-13T07:19:29.844250Z"
    }
   },
   "outputs": [
    {
     "data": {
      "text/plain": [
       "{'2068香辣虾(陕西总店)': ['4.4分', 'http://www.nuomi.com/shop/5174700'],\n",
       " '一尊皇牛(大寨路店)': ['4.2分', 'http://www.nuomi.com/shop/10811751'],\n",
       " '一尊皇牛(西关正街店)': ['4.6分', 'http://www.nuomi.com/shop/179165'],\n",
       " '厚府火锅店': ['4.5分', 'http://www.nuomi.com/shop/1875301'],\n",
       " '御品皇三汁焖锅': ['4.5分', 'http://www.nuomi.com/shop/3635946'],\n",
       " '杨翔豆皮涮牛肚(熙地港购物中心店)': ['4.7分', 'http://www.nuomi.com/shop/87754642'],\n",
       " '杨翔豆皮涮牛肚(阎良千禧店)': ['4.6分', 'http://www.nuomi.com/shop/1862229'],\n",
       " '槐店王婆大虾(迎宾路店)': ['4.6分', 'http://www.nuomi.com/shop/9872423'],\n",
       " '槿熙芝士年糕自助火锅': ['4.5分', 'http://www.nuomi.com/shop/6455601'],\n",
       " '沸腾自助火锅(凤凰店)': ['4.2分', 'http://www.nuomi.com/shop/63007202'],\n",
       " '渝老道火锅': ['4.6分', 'http://www.nuomi.com/shop/3912907'],\n",
       " '牛员外鲜牛肉火锅(长安广场店)': ['4.4分', 'http://www.nuomi.com/shop/87159711'],\n",
       " '老北京涮羊肉': ['4.4分', 'http://www.nuomi.com/shop/1414454'],\n",
       " '薛垻子老味火锅': ['4.6分', 'http://www.nuomi.com/shop/1775718'],\n",
       " '蜀石文化火锅(阎良店)': ['4.7分', 'http://www.nuomi.com/shop/2929870'],\n",
       " '蜜悦士鲜牛肉时尚火锅(凯德广场店)': ['4.4分', 'http://www.nuomi.com/shop/60091342'],\n",
       " '过锅瘾三汁焖锅(骡马市店)': ['4.7分', 'http://www.nuomi.com/shop/2704431'],\n",
       " '重庆小天鹅(新世界百货店)': ['4.6分', 'http://www.nuomi.com/shop/5340192'],\n",
       " '闻道听香': ['4.7分', 'http://www.nuomi.com/shop/3318441'],\n",
       " '顺水鱼馆(绿地世纪城店)': ['4.5分', 'http://www.nuomi.com/shop/10831594'],\n",
       " '食色火锅(五路口万达店)': ['4.5分', 'http://www.nuomi.com/shop/5688263'],\n",
       " '食色火锅(西安总店)': ['4.7分', 'http://www.nuomi.com/shop/78778416'],\n",
       " '鲜上鲜文鱼庄(阳阳国际店)': ['4.6分', 'http://www.nuomi.com/shop/2564401'],\n",
       " '鲜羔楼三味火锅': ['4.5分', 'http://www.nuomi.com/shop/2356132'],\n",
       " '龙腾火锅(泾渭店)': ['4.6分', 'http://www.nuomi.com/shop/1795284']}"
      ]
     },
     "execution_count": 23,
     "metadata": {},
     "output_type": "execute_result"
    }
   ],
   "source": [
    "shop_dict"
   ]
  },
  {
   "cell_type": "code",
   "execution_count": null,
   "metadata": {},
   "outputs": [],
   "source": []
  },
  {
   "cell_type": "markdown",
   "metadata": {},
   "source": [
    "# 中级篇——多页面静态爬虫"
   ]
  },
  {
   "cell_type": "code",
   "execution_count": 31,
   "metadata": {
    "ExecuteTime": {
     "end_time": "2019-02-11T03:30:29.143989Z",
     "start_time": "2019-02-11T03:30:17.919601Z"
    }
   },
   "outputs": [],
   "source": [
    "import time \n",
    "pages = range(1, 9)\n",
    "for page in pages:\n",
    "    url = 'https://xa.nuomi.com/364-page{}'.format(page)\n",
    "    html = requests.get(url)\n",
    "    html.encoding = html.apparent_encoding\n",
    "    if html.status_code == 200:\n",
    "        with open(os.path.join(path, '364-page{}.html'.format(page),) 'w+', encoding='utf8') as f:\n",
    "            f.write(html.text)\n",
    "    else:\n",
    "        print('状态码非200，请求出错')\n",
    "    time.sleep(1)"
   ]
  },
  {
   "cell_type": "code",
   "execution_count": 44,
   "metadata": {
    "ExecuteTime": {
     "end_time": "2019-02-11T03:53:58.391495Z",
     "start_time": "2019-02-11T03:53:56.323977Z"
    }
   },
   "outputs": [],
   "source": [
    "url = 'https://xa.nuomi.com/364'\n",
    "html = requests.get(url)\n",
    "html.encoding = html.apparent_encoding\n",
    "if html.status_code == 200:\n",
    "    with open(os.path.join(path, '364.html'), 'w+', encoding='utf8') as f:\n",
    "        f.write(html.text)\n",
    "else:\n",
    "    print('状态码非200，请求出错')"
   ]
  },
  {
   "cell_type": "code",
   "execution_count": 45,
   "metadata": {
    "ExecuteTime": {
     "end_time": "2019-02-11T03:54:10.459701Z",
     "start_time": "2019-02-11T03:54:10.455734Z"
    }
   },
   "outputs": [],
   "source": [
    "with open(os.path.join(path, '364.html'), 'r', encoding='utf8') as f:\n",
    "    html = f.read()"
   ]
  },
  {
   "cell_type": "code",
   "execution_count": 46,
   "metadata": {
    "ExecuteTime": {
     "end_time": "2019-02-11T03:54:29.939628Z",
     "start_time": "2019-02-11T03:54:29.890667Z"
    }
   },
   "outputs": [],
   "source": [
    "soup = BeautifulSoup(html, 'lxml')"
   ]
  },
  {
   "cell_type": "code",
   "execution_count": null,
   "metadata": {
    "ExecuteTime": {
     "end_time": "2019-02-11T04:07:46.512985Z",
     "start_time": "2019-02-11T04:07:46.505001Z"
    }
   },
   "outputs": [],
   "source": [
    "\n",
    "cate_rows = soup.select('div.filter-wrapper > div:nth-of-type(1) > div > div > div > a')\n",
    "cate_nums = {}\n",
    "for row in cate_rows:\n",
    "    name = row.get_text()\n",
    "    ele = row.get('mon').split('=')[1].split('&')[0]\n",
    "    href = 'http://xa.nuomi.com/' + ele  \n",
    "    cate_nums[name] = href\n",
    "    print(name, href)\n"
   ]
  },
  {
   "cell_type": "markdown",
   "metadata": {
    "ExecuteTime": {
     "end_time": "2019-02-11T04:18:19.113659Z",
     "start_time": "2019-02-11T04:18:19.097646Z"
    }
   },
   "source": [
    "# 高级篇—— 爬虫的伪装"
   ]
  },
  {
   "cell_type": "markdown",
   "metadata": {},
   "source": [
    "## 构造请求头"
   ]
  },
  {
   "cell_type": "code",
   "execution_count": 68,
   "metadata": {
    "ExecuteTime": {
     "end_time": "2019-02-11T04:32:50.127643Z",
     "start_time": "2019-02-11T04:32:48.553663Z"
    }
   },
   "outputs": [],
   "source": [
    "headers = {\n",
    "    'User-Agent': 'Mozilla/5.0 (Windows NT 10.0; Win64; x64) AppleWebKit/537.36 (KHTML, like Gecko) Chrome/72.0.3626.96 Safari/537.36', \n",
    "    # 换成自己的cookie\n",
    "    'Cookie': ''\n",
    "}\n",
    "\n",
    "url = 'https://xa.nuomi.com/364'\n",
    "html = requests.get(url, headers=headers)\n",
    "html.encoding = html.apparent_encoding"
   ]
  },
  {
   "cell_type": "code",
   "execution_count": 69,
   "metadata": {
    "ExecuteTime": {
     "end_time": "2019-02-11T04:32:50.930756Z",
     "start_time": "2019-02-11T04:32:50.924726Z"
    }
   },
   "outputs": [
    {
     "name": "stdout",
     "output_type": "stream",
     "text": [
      "Accept : */*\n",
      "Accept-Encoding : gzip, deflate\n",
      "Connection : keep-alive\n",
      "User-Agent : Mozilla/5.0 (Windows NT 10.0; Win64; x64) AppleWebKit/537.36 (KHTML, like Gecko) Chrome/72.0.3626.96 Safari/537.36\n",
      "Cookie : access_log=fb9a3157d642066879403a26a26ff6ce; BDUSS=m1kRm4zd2hja253RkpKV3BQNFcyS2V5OENtUkpPfkp1M2p-WC1MeGJTbmJTbnBjQVFBQUFBJCQAAAAAAAAAAAEAAADgkkc~t-e1rdTGx-l6enkAAAAAAAAAAAAAAAAAAAAAAAAAAAAAAAAAAAAAAAAAAAAAAAAAAAAAAAAAAAAAAAAAAAAAANu9UlzbvVJcU; BAIDUID=5C2190D00B1815A2BC77CA11A16877A2:FG=1; flag=110; areaCode=1000010000; PHPSESSID=ck1t8g3n2vfjduvliudlstbc76; SID=937_918_931_935_953_955_957_959_961_963_1004; domainUrl=xa; gpsGot=0; channel_webapp=webapp; Hm_lvt_a028c07bf31ffce4b2d21dd85b0b8907=1549812749,1549853642,1549855353; Hm_lpvt_a028c07bf31ffce4b2d21dd85b0b8907=1549855493; STOKEN=fe8f44bae2149a6703cc185fca078b715e9bed18fa6d68ec354242ab9bddda13; channel=zhifang_other%7C%7C\n"
     ]
    }
   ],
   "source": [
    "for key, value in html.request.headers.items():\n",
    "    print(key, ':', value)"
   ]
  },
  {
   "cell_type": "markdown",
   "metadata": {},
   "source": [
    "## IP池"
   ]
  },
  {
   "cell_type": "code",
   "execution_count": 73,
   "metadata": {
    "ExecuteTime": {
     "end_time": "2019-02-11T05:09:02.550430Z",
     "start_time": "2019-02-11T05:09:02.546426Z"
    }
   },
   "outputs": [],
   "source": [
    "import random "
   ]
  },
  {
   "cell_type": "code",
   "execution_count": 82,
   "metadata": {
    "ExecuteTime": {
     "end_time": "2019-02-11T05:15:49.128760Z",
     "start_time": "2019-02-11T05:15:49.123758Z"
    }
   },
   "outputs": [],
   "source": [
    "proxies = []\n",
    "ips = ['123.170.255.128', '115.28.209.249']\n",
    "ports = ['808', '3128']\n",
    "for ip, port in zip(ips, ports):\n",
    "    proxies.append(\n",
    "        {'http': 'http://%s:%s' % (ip, port)}\n",
    "    )"
   ]
  },
  {
   "cell_type": "code",
   "execution_count": 91,
   "metadata": {
    "ExecuteTime": {
     "end_time": "2019-02-11T05:19:32.495108Z",
     "start_time": "2019-02-11T05:19:30.640931Z"
    }
   },
   "outputs": [],
   "source": [
    "headers = {\n",
    "    'User-Agent': 'Mozilla/5.0 (Windows NT 10.0; Win64; x64) AppleWebKit/537.36 (KHTML, like Gecko) Chrome/72.0.3626.96 Safari/537.36', \n",
    "    # 换成自己的cookie\n",
    "    'Cookie': ''\n",
    "}\n",
    "\n",
    "url = 'https://xa.nuomi.com/364'\n",
    "try:\n",
    "    html = requests.get(url, headers=headers, proxies=random.choice(proxies), timeout=5)\n",
    "    html.encoding = html.apparent_encoding\n",
    "except requests.ConnectTimeout or requests.ConnectionError:\n",
    "    print('请求超时')\n",
    "    "
   ]
  },
  {
   "cell_type": "code",
   "execution_count": 84,
   "metadata": {
    "ExecuteTime": {
     "end_time": "2019-02-11T05:15:51.860079Z",
     "start_time": "2019-02-11T05:15:51.796104Z"
    }
   },
   "outputs": [
    {
     "name": "stdout",
     "output_type": "stream",
     "text": [
      "中餐/家常菜 http://xa.nuomi.com/962\n",
      "蛋糕 http://xa.nuomi.com/881\n",
      "小吃快餐 http://xa.nuomi.com/380\n",
      "火锅 http://xa.nuomi.com/364\n",
      "夏日饮品 http://xa.nuomi.com/2049\n",
      "日韩料理 http://xa.nuomi.com/389\n",
      "酒吧 http://xa.nuomi.com/2051\n",
      "西餐 http://xa.nuomi.com/391\n",
      "甜品 http://xa.nuomi.com/880\n",
      "自助餐 http://xa.nuomi.com/392\n",
      "川湘菜 http://xa.nuomi.com/393\n",
      "西北菜 http://xa.nuomi.com/653\n",
      "干锅/香锅 http://xa.nuomi.com/690\n",
      "咖啡 http://xa.nuomi.com/954\n",
      "麻辣烫/冒菜 http://xa.nuomi.com/884\n",
      "烧烤/烤肉 http://xa.nuomi.com/460\n",
      "烤鱼 http://xa.nuomi.com/878\n",
      "海鲜 http://xa.nuomi.com/439\n",
      "新疆菜 http://xa.nuomi.com/451\n",
      "创意菜/私房菜 http://xa.nuomi.com/692\n",
      "粤菜 http://xa.nuomi.com/388\n",
      "北京菜 http://xa.nuomi.com/450\n",
      "东北菜 http://xa.nuomi.com/504\n",
      "烤鸭 http://xa.nuomi.com/883\n",
      "江浙菜 http://xa.nuomi.com/424\n",
      "素食 http://xa.nuomi.com/655\n",
      "台湾菜/客家菜 http://xa.nuomi.com/696\n",
      "婚宴 http://xa.nuomi.com/2016\n",
      "小龙虾 http://xa.nuomi.com/2050\n",
      "粥店 http://xa.nuomi.com/2052\n",
      "其他美食 http://xa.nuomi.com/327\n"
     ]
    }
   ],
   "source": [
    "soup = BeautifulSoup(html.text, 'lxml')\n",
    "\n",
    "cate_rows = soup.select('div.filter-wrapper > div:nth-of-type(1) > div > div > div > a')\n",
    "cate_nums = {}\n",
    "for row in cate_rows:\n",
    "    name = row.get_text()\n",
    "    ele = row.get('mon').split('=')[1].split('&')[0]\n",
    "    href = 'http://xa.nuomi.com/' + ele  \n",
    "    cate_nums[name] = href\n",
    "    print(name, href)"
   ]
  },
  {
   "cell_type": "markdown",
   "metadata": {
    "ExecuteTime": {
     "end_time": "2019-02-11T05:43:48.515278Z",
     "start_time": "2019-02-11T05:43:48.510282Z"
    }
   },
   "source": [
    "# 终级篇—— 动态爬虫"
   ]
  },
  {
   "cell_type": "code",
   "execution_count": 94,
   "metadata": {
    "ExecuteTime": {
     "end_time": "2019-02-11T05:44:46.323993Z",
     "start_time": "2019-02-11T05:44:46.320994Z"
    }
   },
   "outputs": [],
   "source": [
    "import json  "
   ]
  },
  {
   "cell_type": "code",
   "execution_count": 104,
   "metadata": {
    "ExecuteTime": {
     "end_time": "2019-02-11T05:57:29.795705Z",
     "start_time": "2019-02-11T05:57:29.452467Z"
    }
   },
   "outputs": [],
   "source": [
    "headers = {\n",
    "    'User-Agent': 'Mozilla/5.0 (Windows NT 10.0; Win64; x64) AppleWebKit/537.36 (KHTML, like Gecko) Chrome/72.0.3626.96 Safari/537.36', \n",
    "    # 换成自己的cookie\n",
    "    'Cookie': ''\n",
    "}\n",
    "url = 'https://xa.nuomi.com/pclogin/main/userinfo?page=channel'\n",
    "html = requests.get(url, headers=headers)"
   ]
  },
  {
   "cell_type": "code",
   "execution_count": 117,
   "metadata": {
    "ExecuteTime": {
     "end_time": "2019-02-11T06:00:48.384049Z",
     "start_time": "2019-02-11T06:00:48.378017Z"
    }
   },
   "outputs": [],
   "source": [
    "with open(os.path.join(path, '1.json'), 'w+', encoding='utf8') as f: \n",
    "    data = json.loads(html.text)\n",
    "    f.write(json.dumps(data, ensure_ascii=False))"
   ]
  },
  {
   "cell_type": "code",
   "execution_count": 118,
   "metadata": {
    "ExecuteTime": {
     "end_time": "2019-02-11T06:00:50.142281Z",
     "start_time": "2019-02-11T06:00:50.138322Z"
    }
   },
   "outputs": [],
   "source": [
    "with open(os.path.join(path, '1.json'), 'r', encoding='utf8') as f: \n",
    "    content = f.read()"
   ]
  },
  {
   "cell_type": "code",
   "execution_count": 119,
   "metadata": {
    "ExecuteTime": {
     "end_time": "2019-02-11T06:00:51.215443Z",
     "start_time": "2019-02-11T06:00:51.209445Z"
    }
   },
   "outputs": [
    {
     "data": {
      "text/plain": [
       "{'data': {'handout_giftcard': {'needpopup': 0},\n",
       "  'logInfoExt': [],\n",
       "  'login_id': 'aae048ae5a5e6270062cc97dfcff2c23',\n",
       "  'sampleHit': 0,\n",
       "  'userInfo': {'displayname': '风淡云情zzy',\n",
       "   'isSync': 1,\n",
       "   'passEmail': '16*****89@qq.com',\n",
       "   'passPhone': '133****7673',\n",
       "   'passUname': '风淡云情zzy',\n",
       "   'status': 1}},\n",
       " 'errno': 0,\n",
       " 'msg': 'success'}"
      ]
     },
     "execution_count": 119,
     "metadata": {},
     "output_type": "execute_result"
    }
   ],
   "source": [
    "data = json.loads(content)\n",
    "data  "
   ]
  },
  {
   "cell_type": "code",
   "execution_count": null,
   "metadata": {},
   "outputs": [],
   "source": []
  }
 ],
 "metadata": {
  "hide_input": false,
  "kernelspec": {
   "display_name": "Python 3",
   "language": "python",
   "name": "python3"
  },
  "language_info": {
   "codemirror_mode": {
    "name": "ipython",
    "version": 3
   },
   "file_extension": ".py",
   "mimetype": "text/x-python",
   "name": "python",
   "nbconvert_exporter": "python",
   "pygments_lexer": "ipython3",
   "version": "3.5.2"
  },
  "latex_envs": {
   "LaTeX_envs_menu_present": true,
   "autoclose": false,
   "autocomplete": true,
   "bibliofile": "biblio.bib",
   "cite_by": "apalike",
   "current_citInitial": 1,
   "eqLabelWithNumbers": true,
   "eqNumInitial": 1,
   "hotkeys": {
    "equation": "Ctrl-E",
    "itemize": "Ctrl-I"
   },
   "labels_anchors": false,
   "latex_user_defs": false,
   "report_style_numbering": false,
   "user_envs_cfg": false
  },
  "toc": {
   "nav_menu": {},
   "number_sections": true,
   "sideBar": true,
   "skip_h1_title": false,
   "toc_cell": true,
   "toc_position": {},
   "toc_section_display": "block",
   "toc_window_display": true
  },
  "varInspector": {
   "cols": {
    "lenName": 16,
    "lenType": 16,
    "lenVar": 40
   },
   "kernels_config": {
    "python": {
     "delete_cmd_postfix": "",
     "delete_cmd_prefix": "del ",
     "library": "var_list.py",
     "varRefreshCmd": "print(var_dic_list())"
    },
    "r": {
     "delete_cmd_postfix": ") ",
     "delete_cmd_prefix": "rm(",
     "library": "var_list.r",
     "varRefreshCmd": "cat(var_dic_list()) "
    }
   },
   "types_to_exclude": [
    "module",
    "function",
    "builtin_function_or_method",
    "instance",
    "_Feature"
   ],
   "window_display": true
  }
 },
 "nbformat": 4,
 "nbformat_minor": 2
}
