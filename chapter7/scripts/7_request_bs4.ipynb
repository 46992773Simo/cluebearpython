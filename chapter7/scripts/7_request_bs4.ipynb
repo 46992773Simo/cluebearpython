{
 "cells": [
  {
   "cell_type": "markdown",
   "metadata": {
    "toc": true
   },
   "source": [
    "<h1>Table of Contents<span class=\"tocSkip\"></span></h1>\n",
    "<div class=\"toc\" style=\"margin-top: 1em;\"><ul class=\"toc-item\"><li><span><a href=\"#初级篇——单页面静态爬虫\" data-toc-modified-id=\"初级篇——单页面静态爬虫-1\"><span class=\"toc-item-num\">1&nbsp;&nbsp;</span>初级篇——单页面静态爬虫</a></span></li><li><span><a href=\"#中级篇——多页面静态爬虫\" data-toc-modified-id=\"中级篇——多页面静态爬虫-2\"><span class=\"toc-item-num\">2&nbsp;&nbsp;</span>中级篇——多页面静态爬虫</a></span></li><li><span><a href=\"#高级篇——-爬虫的伪装\" data-toc-modified-id=\"高级篇——-爬虫的伪装-3\"><span class=\"toc-item-num\">3&nbsp;&nbsp;</span>高级篇—— 爬虫的伪装</a></span><ul class=\"toc-item\"><li><span><a href=\"#构造请求头\" data-toc-modified-id=\"构造请求头-3.1\"><span class=\"toc-item-num\">3.1&nbsp;&nbsp;</span>构造请求头</a></span></li><li><span><a href=\"#IP池\" data-toc-modified-id=\"IP池-3.2\"><span class=\"toc-item-num\">3.2&nbsp;&nbsp;</span>IP池</a></span></li></ul></li><li><span><a href=\"#终级篇——-动态爬虫\" data-toc-modified-id=\"终级篇——-动态爬虫-4\"><span class=\"toc-item-num\">4&nbsp;&nbsp;</span>终级篇—— 动态爬虫</a></span></li></ul></div>"
   ]
  },
  {
   "cell_type": "markdown",
   "metadata": {},
   "source": [
    "# 初级篇——单页面静态爬虫"
   ]
  },
  {
   "cell_type": "code",
   "execution_count": 1,
   "metadata": {
    "ExecuteTime": {
     "end_time": "2019-07-13T07:17:13.133404Z",
     "start_time": "2019-07-13T07:17:12.745261Z"
    }
   },
   "outputs": [],
   "source": [
    "import os\n",
    "import requests\n",
    "from bs4 import BeautifulSoup\n",
    "path = \"../data/\""
   ]
  },
  {
   "cell_type": "code",
   "execution_count": 2,
   "metadata": {
    "ExecuteTime": {
     "end_time": "2019-07-13T07:17:16.011205Z",
     "start_time": "2019-07-13T07:17:13.741142Z"
    }
   },
   "outputs": [],
   "source": [
    "url = 'https://xa.nuomi.com/364'\n",
    "html = requests.get(url)\n",
    "html.encoding = html.apparent_encoding"
   ]
  },
  {
   "cell_type": "code",
   "execution_count": 4,
   "metadata": {
    "ExecuteTime": {
     "end_time": "2019-07-13T07:17:31.056968Z",
     "start_time": "2019-07-13T07:17:31.049969Z"
    }
   },
   "outputs": [],
   "source": [
    "if html.status_code == 200:\n",
    "    with open(os.path.join(path, '364.html'), 'w+', encoding='utf8') as f:\n",
    "        f.write(html.text)\n",
    "else:\n",
    "    print('状态码非200，请求出错')"
   ]
  },
  {
   "cell_type": "code",
   "execution_count": 5,
   "metadata": {
    "ExecuteTime": {
     "end_time": "2019-07-13T07:17:34.664592Z",
     "start_time": "2019-07-13T07:17:34.659586Z"
    }
   },
   "outputs": [],
   "source": [
    "with open(os.path.join(path, '364.html'), 'r', encoding='utf8') as f: \n",
    "    content = f.read()"
   ]
  },
  {
   "cell_type": "code",
   "execution_count": 6,
   "metadata": {
    "ExecuteTime": {
     "end_time": "2019-07-13T07:17:36.854839Z",
     "start_time": "2019-07-13T07:17:36.754825Z"
    }
   },
   "outputs": [],
   "source": [
    "soup = BeautifulSoup(content, 'lxml')\n",
    "shop_list = soup.select('#j-goods-area > div.shop-infoo-list > ul > li')"
   ]
  },
  {
   "cell_type": "code",
   "execution_count": 13,
   "metadata": {
    "ExecuteTime": {
     "end_time": "2019-07-13T07:18:24.260120Z",
     "start_time": "2019-07-13T07:18:24.248120Z"
    }
   },
   "outputs": [],
   "source": [
    "shop_dict = {}\n",
    "for shop in shop_list:\n",
    "    name = shop.select('a:nth-of-type(2) > h3')[0].get_text()\n",
    "    score = shop.find('span', {\"class\": 'shop-infoo-list-color-gold'}).get_text().replace(\"分\", \"\")\n",
    "    if score is None:\n",
    "        continue\n",
    "    shop_dict[name] = float(score)"
   ]
  },
  {
   "cell_type": "code",
   "execution_count": 14,
   "metadata": {
    "ExecuteTime": {
     "end_time": "2019-07-13T07:18:24.890121Z",
     "start_time": "2019-07-13T07:18:24.885118Z"
    }
   },
   "outputs": [
    {
     "data": {
      "text/plain": [
       "{'2068香辣虾(陕西总店)': 4.4,\n",
       " '一尊皇牛(大寨路店)': 4.2,\n",
       " '一尊皇牛(西关正街店)': 4.6,\n",
       " '厚府火锅店': 4.5,\n",
       " '御品皇三汁焖锅': 4.5,\n",
       " '杨翔豆皮涮牛肚(熙地港购物中心店)': 4.7,\n",
       " '杨翔豆皮涮牛肚(阎良千禧店)': 4.6,\n",
       " '槐店王婆大虾(迎宾路店)': 4.6,\n",
       " '槿熙芝士年糕自助火锅': 4.5,\n",
       " '沸腾自助火锅(凤凰店)': 4.2,\n",
       " '渝老道火锅': 4.6,\n",
       " '牛员外鲜牛肉火锅(长安广场店)': 4.4,\n",
       " '老北京涮羊肉': 4.4,\n",
       " '薛垻子老味火锅': 4.6,\n",
       " '蜀石文化火锅(阎良店)': 4.7,\n",
       " '蜜悦士鲜牛肉时尚火锅(凯德广场店)': 4.4,\n",
       " '过锅瘾三汁焖锅(骡马市店)': 4.7,\n",
       " '重庆小天鹅(新世界百货店)': 4.6,\n",
       " '闻道听香': 4.7,\n",
       " '顺水鱼馆(绿地世纪城店)': 4.5,\n",
       " '食色火锅(五路口万达店)': 4.5,\n",
       " '食色火锅(西安总店)': 4.7,\n",
       " '鲜上鲜文鱼庄(阳阳国际店)': 4.6,\n",
       " '鲜羔楼三味火锅': 4.5,\n",
       " '龙腾火锅(泾渭店)': 4.6}"
      ]
     },
     "execution_count": 14,
     "metadata": {},
     "output_type": "execute_result"
    }
   ],
   "source": [
    "shop_dict"
   ]
  },
  {
   "cell_type": "code",
   "execution_count": 15,
   "metadata": {
    "ExecuteTime": {
     "end_time": "2019-07-13T07:18:28.337808Z",
     "start_time": "2019-07-13T07:18:27.475734Z"
    }
   },
   "outputs": [],
   "source": [
    "import pandas as pd "
   ]
  },
  {
   "cell_type": "code",
   "execution_count": 1,
   "metadata": {},
   "outputs": [
    {
     "name": "stdout",
     "output_type": "stream",
     "text": [
      "the thread way take 91.01867794990054s\n",
      "the normal way take 328.80895948410034s\n"
     ]
    }
   ],
   "source": [
    "print(\"the thread way take 91.01867794990054s\")\n",
    "print(\"the normal way take 328.80895948410034s\")"
   ]
  },
  {
   "cell_type": "code",
   "execution_count": 16,
   "metadata": {
    "ExecuteTime": {
     "end_time": "2019-07-13T07:18:28.478733Z",
     "start_time": "2019-07-13T07:18:28.450734Z"
    }
   },
   "outputs": [
    {
     "data": {
      "text/html": [
       "<div>\n",
       "<style scoped>\n",
       "    .dataframe tbody tr th:only-of-type {\n",
       "        vertical-align: middle;\n",
       "    }\n",
       "\n",
       "    .dataframe tbody tr th {\n",
       "        vertical-align: top;\n",
       "    }\n",
       "\n",
       "    .dataframe thead th {\n",
       "        text-align: right;\n",
       "    }\n",
       "</style>\n",
       "<table border=\"1\" class=\"dataframe\">\n",
       "  <thead>\n",
       "    <tr style=\"text-align: right;\">\n",
       "      <th></th>\n",
       "      <th>评分</th>\n",
       "    </tr>\n",
       "    <tr>\n",
       "      <th>店名</th>\n",
       "      <th></th>\n",
       "    </tr>\n",
       "  </thead>\n",
       "  <tbody>\n",
       "    <tr>\n",
       "      <th>龙腾火锅(泾渭店)</th>\n",
       "      <td>4.6</td>\n",
       "    </tr>\n",
       "    <tr>\n",
       "      <th>牛员外鲜牛肉火锅(长安广场店)</th>\n",
       "      <td>4.4</td>\n",
       "    </tr>\n",
       "    <tr>\n",
       "      <th>食色火锅(五路口万达店)</th>\n",
       "      <td>4.5</td>\n",
       "    </tr>\n",
       "    <tr>\n",
       "      <th>重庆小天鹅(新世界百货店)</th>\n",
       "      <td>4.6</td>\n",
       "    </tr>\n",
       "    <tr>\n",
       "      <th>厚府火锅店</th>\n",
       "      <td>4.5</td>\n",
       "    </tr>\n",
       "    <tr>\n",
       "      <th>杨翔豆皮涮牛肚(熙地港购物中心店)</th>\n",
       "      <td>4.7</td>\n",
       "    </tr>\n",
       "    <tr>\n",
       "      <th>2068香辣虾(陕西总店)</th>\n",
       "      <td>4.4</td>\n",
       "    </tr>\n",
       "    <tr>\n",
       "      <th>顺水鱼馆(绿地世纪城店)</th>\n",
       "      <td>4.5</td>\n",
       "    </tr>\n",
       "    <tr>\n",
       "      <th>沸腾自助火锅(凤凰店)</th>\n",
       "      <td>4.2</td>\n",
       "    </tr>\n",
       "    <tr>\n",
       "      <th>老北京涮羊肉</th>\n",
       "      <td>4.4</td>\n",
       "    </tr>\n",
       "    <tr>\n",
       "      <th>过锅瘾三汁焖锅(骡马市店)</th>\n",
       "      <td>4.7</td>\n",
       "    </tr>\n",
       "    <tr>\n",
       "      <th>蜜悦士鲜牛肉时尚火锅(凯德广场店)</th>\n",
       "      <td>4.4</td>\n",
       "    </tr>\n",
       "    <tr>\n",
       "      <th>杨翔豆皮涮牛肚(阎良千禧店)</th>\n",
       "      <td>4.6</td>\n",
       "    </tr>\n",
       "    <tr>\n",
       "      <th>食色火锅(西安总店)</th>\n",
       "      <td>4.7</td>\n",
       "    </tr>\n",
       "    <tr>\n",
       "      <th>一尊皇牛(大寨路店)</th>\n",
       "      <td>4.2</td>\n",
       "    </tr>\n",
       "    <tr>\n",
       "      <th>渝老道火锅</th>\n",
       "      <td>4.6</td>\n",
       "    </tr>\n",
       "    <tr>\n",
       "      <th>槐店王婆大虾(迎宾路店)</th>\n",
       "      <td>4.6</td>\n",
       "    </tr>\n",
       "    <tr>\n",
       "      <th>薛垻子老味火锅</th>\n",
       "      <td>4.6</td>\n",
       "    </tr>\n",
       "    <tr>\n",
       "      <th>闻道听香</th>\n",
       "      <td>4.7</td>\n",
       "    </tr>\n",
       "    <tr>\n",
       "      <th>一尊皇牛(西关正街店)</th>\n",
       "      <td>4.6</td>\n",
       "    </tr>\n",
       "    <tr>\n",
       "      <th>鲜羔楼三味火锅</th>\n",
       "      <td>4.5</td>\n",
       "    </tr>\n",
       "    <tr>\n",
       "      <th>鲜上鲜文鱼庄(阳阳国际店)</th>\n",
       "      <td>4.6</td>\n",
       "    </tr>\n",
       "    <tr>\n",
       "      <th>御品皇三汁焖锅</th>\n",
       "      <td>4.5</td>\n",
       "    </tr>\n",
       "    <tr>\n",
       "      <th>蜀石文化火锅(阎良店)</th>\n",
       "      <td>4.7</td>\n",
       "    </tr>\n",
       "    <tr>\n",
       "      <th>槿熙芝士年糕自助火锅</th>\n",
       "      <td>4.5</td>\n",
       "    </tr>\n",
       "  </tbody>\n",
       "</table>\n",
       "</div>"
      ],
      "text/plain": [
       "                    评分\n",
       "店名                    \n",
       "龙腾火锅(泾渭店)          4.6\n",
       "牛员外鲜牛肉火锅(长安广场店)    4.4\n",
       "食色火锅(五路口万达店)       4.5\n",
       "重庆小天鹅(新世界百货店)      4.6\n",
       "厚府火锅店              4.5\n",
       "杨翔豆皮涮牛肚(熙地港购物中心店)  4.7\n",
       "2068香辣虾(陕西总店)      4.4\n",
       "顺水鱼馆(绿地世纪城店)       4.5\n",
       "沸腾自助火锅(凤凰店)        4.2\n",
       "老北京涮羊肉             4.4\n",
       "过锅瘾三汁焖锅(骡马市店)      4.7\n",
       "蜜悦士鲜牛肉时尚火锅(凯德广场店)  4.4\n",
       "杨翔豆皮涮牛肚(阎良千禧店)     4.6\n",
       "食色火锅(西安总店)         4.7\n",
       "一尊皇牛(大寨路店)         4.2\n",
       "渝老道火锅              4.6\n",
       "槐店王婆大虾(迎宾路店)       4.6\n",
       "薛垻子老味火锅            4.6\n",
       "闻道听香               4.7\n",
       "一尊皇牛(西关正街店)        4.6\n",
       "鲜羔楼三味火锅            4.5\n",
       "鲜上鲜文鱼庄(阳阳国际店)      4.6\n",
       "御品皇三汁焖锅            4.5\n",
       "蜀石文化火锅(阎良店)        4.7\n",
       "槿熙芝士年糕自助火锅         4.5"
      ]
     },
     "execution_count": 16,
     "metadata": {},
     "output_type": "execute_result"
    }
   ],
   "source": [
    "results = pd.DataFrame([value for value in shop_dict.values()], index=shop_dict.keys(), columns=['评分'])\n",
    "results.index.name = '店名'\n",
    "results "
   ]
  },
  {
   "cell_type": "code",
   "execution_count": 30,
   "metadata": {
    "ExecuteTime": {
     "end_time": "2019-02-11T03:14:43.188908Z",
     "start_time": "2019-02-11T03:14:43.142891Z"
    }
   },
   "outputs": [],
   "source": [
    "results.to_excel(os.path.join(path, '364.xlsx'), encoding='utf8')"
   ]
  },
  {
   "cell_type": "code",
   "execution_count": 22,
   "metadata": {
    "ExecuteTime": {
     "end_time": "2019-07-13T07:19:28.341390Z",
     "start_time": "2019-07-13T07:19:28.325396Z"
    }
   },
   "outputs": [],
   "source": [
    "shop_dict = {}\n",
    "for shop in shop_list:\n",
    "    name = shop.select('a:nth-of-type(2) > h3')[0].get_text()\n",
    "    href = 'http:' + shop.select('a:nth-of-type(2)')[0].get('href')\n",
    "    score = shop.find('span', {\"class\": 'shop-infoo-list-color-gold'})\n",
    "    if score is None:\n",
    "        continue\n",
    "    else:\n",
    "        score = score.text \n",
    "    shop_dict[name] = [score, href]"
   ]
  },
  {
   "cell_type": "code",
   "execution_count": 23,
   "metadata": {
    "ExecuteTime": {
     "end_time": "2019-07-13T07:19:29.852251Z",
     "start_time": "2019-07-13T07:19:29.844250Z"
    }
   },
   "outputs": [
    {
     "data": {
      "text/plain": [
       "{'2068香辣虾(陕西总店)': ['4.4分', 'http://www.nuomi.com/shop/5174700'],\n",
       " '一尊皇牛(大寨路店)': ['4.2分', 'http://www.nuomi.com/shop/10811751'],\n",
       " '一尊皇牛(西关正街店)': ['4.6分', 'http://www.nuomi.com/shop/179165'],\n",
       " '厚府火锅店': ['4.5分', 'http://www.nuomi.com/shop/1875301'],\n",
       " '御品皇三汁焖锅': ['4.5分', 'http://www.nuomi.com/shop/3635946'],\n",
       " '杨翔豆皮涮牛肚(熙地港购物中心店)': ['4.7分', 'http://www.nuomi.com/shop/87754642'],\n",
       " '杨翔豆皮涮牛肚(阎良千禧店)': ['4.6分', 'http://www.nuomi.com/shop/1862229'],\n",
       " '槐店王婆大虾(迎宾路店)': ['4.6分', 'http://www.nuomi.com/shop/9872423'],\n",
       " '槿熙芝士年糕自助火锅': ['4.5分', 'http://www.nuomi.com/shop/6455601'],\n",
       " '沸腾自助火锅(凤凰店)': ['4.2分', 'http://www.nuomi.com/shop/63007202'],\n",
       " '渝老道火锅': ['4.6分', 'http://www.nuomi.com/shop/3912907'],\n",
       " '牛员外鲜牛肉火锅(长安广场店)': ['4.4分', 'http://www.nuomi.com/shop/87159711'],\n",
       " '老北京涮羊肉': ['4.4分', 'http://www.nuomi.com/shop/1414454'],\n",
       " '薛垻子老味火锅': ['4.6分', 'http://www.nuomi.com/shop/1775718'],\n",
       " '蜀石文化火锅(阎良店)': ['4.7分', 'http://www.nuomi.com/shop/2929870'],\n",
       " '蜜悦士鲜牛肉时尚火锅(凯德广场店)': ['4.4分', 'http://www.nuomi.com/shop/60091342'],\n",
       " '过锅瘾三汁焖锅(骡马市店)': ['4.7分', 'http://www.nuomi.com/shop/2704431'],\n",
       " '重庆小天鹅(新世界百货店)': ['4.6分', 'http://www.nuomi.com/shop/5340192'],\n",
       " '闻道听香': ['4.7分', 'http://www.nuomi.com/shop/3318441'],\n",
       " '顺水鱼馆(绿地世纪城店)': ['4.5分', 'http://www.nuomi.com/shop/10831594'],\n",
       " '食色火锅(五路口万达店)': ['4.5分', 'http://www.nuomi.com/shop/5688263'],\n",
       " '食色火锅(西安总店)': ['4.7分', 'http://www.nuomi.com/shop/78778416'],\n",
       " '鲜上鲜文鱼庄(阳阳国际店)': ['4.6分', 'http://www.nuomi.com/shop/2564401'],\n",
       " '鲜羔楼三味火锅': ['4.5分', 'http://www.nuomi.com/shop/2356132'],\n",
       " '龙腾火锅(泾渭店)': ['4.6分', 'http://www.nuomi.com/shop/1795284']}"
      ]
     },
     "execution_count": 23,
     "metadata": {},
     "output_type": "execute_result"
    }
   ],
   "source": [
    "shop_dict"
   ]
  },
  {
   "cell_type": "markdown",
   "metadata": {},
   "source": [
    "# 中级篇——多页面静态爬虫"
   ]
  },
  {
   "cell_type": "code",
   "execution_count": 5,
   "metadata": {
    "ExecuteTime": {
     "end_time": "2019-02-11T03:30:29.143989Z",
     "start_time": "2019-02-11T03:30:17.919601Z"
    }
   },
   "outputs": [],
   "source": [
    "import time \n",
    "pages = range(1, 9)\n",
    "for page in pages:\n",
    "    url = 'https://xa.nuomi.com/364-page{}'.format(page)\n",
    "    html = requests.get(url)\n",
    "    html.encoding = html.apparent_encoding\n",
    "    if html.status_code == 200:\n",
    "        with open(os.path.join(path, '364-page{}.html'.format(page),), 'w+', encoding='utf8') as f:\n",
    "            f.write(html.text)\n",
    "    else:\n",
    "        print('状态码非200，请求出错')\n",
    "    time.sleep(1)"
   ]
  },
  {
   "cell_type": "code",
   "execution_count": 44,
   "metadata": {
    "ExecuteTime": {
     "end_time": "2019-02-11T03:53:58.391495Z",
     "start_time": "2019-02-11T03:53:56.323977Z"
    }
   },
   "outputs": [],
   "source": [
    "url = 'https://xa.nuomi.com/364'\n",
    "html = requests.get(url)\n",
    "html.encoding = html.apparent_encoding\n",
    "if html.status_code == 200:\n",
    "    with open(os.path.join(path, '364.html'), 'w+', encoding='utf8') as f:\n",
    "        f.write(html.text)\n",
    "else:\n",
    "    print('状态码非200，请求出错')"
   ]
  },
  {
   "cell_type": "code",
   "execution_count": 6,
   "metadata": {
    "ExecuteTime": {
     "end_time": "2019-02-11T03:54:10.459701Z",
     "start_time": "2019-02-11T03:54:10.455734Z"
    }
   },
   "outputs": [],
   "source": [
    "with open(os.path.join(path, '364.html'), 'r', encoding='utf8') as f:\n",
    "    html = f.read()"
   ]
  },
  {
   "cell_type": "code",
   "execution_count": 7,
   "metadata": {
    "ExecuteTime": {
     "end_time": "2019-02-11T03:54:29.939628Z",
     "start_time": "2019-02-11T03:54:29.890667Z"
    }
   },
   "outputs": [],
   "source": [
    "soup = BeautifulSoup(html, 'lxml')"
   ]
  },
  {
   "cell_type": "code",
   "execution_count": 8,
   "metadata": {
    "ExecuteTime": {
     "end_time": "2019-02-11T04:07:46.512985Z",
     "start_time": "2019-02-11T04:07:46.505001Z"
    }
   },
   "outputs": [
    {
     "name": "stdout",
     "output_type": "stream",
     "text": [
      "中餐/家常菜 http://xa.nuomi.com/962\n",
      "蛋糕 http://xa.nuomi.com/881\n",
      "小吃快餐 http://xa.nuomi.com/380\n",
      "火锅 http://xa.nuomi.com/364\n",
      "夏日饮品 http://xa.nuomi.com/2049\n",
      "日韩料理 http://xa.nuomi.com/389\n",
      "西餐 http://xa.nuomi.com/391\n",
      "酒吧 http://xa.nuomi.com/2051\n",
      "甜品 http://xa.nuomi.com/880\n",
      "自助餐 http://xa.nuomi.com/392\n",
      "川湘菜 http://xa.nuomi.com/393\n",
      "干锅/香锅 http://xa.nuomi.com/690\n",
      "西北菜 http://xa.nuomi.com/653\n",
      "麻辣烫/冒菜 http://xa.nuomi.com/884\n",
      "咖啡 http://xa.nuomi.com/954\n",
      "烤鱼 http://xa.nuomi.com/878\n",
      "海鲜 http://xa.nuomi.com/439\n",
      "烧烤/烤肉 http://xa.nuomi.com/460\n",
      "新疆菜 http://xa.nuomi.com/451\n",
      "创意菜/私房菜 http://xa.nuomi.com/692\n",
      "粤菜 http://xa.nuomi.com/388\n",
      "东北菜 http://xa.nuomi.com/504\n",
      "江浙菜 http://xa.nuomi.com/424\n",
      "北京菜 http://xa.nuomi.com/450\n",
      "烤鸭 http://xa.nuomi.com/883\n",
      "粥店 http://xa.nuomi.com/2052\n",
      "素食 http://xa.nuomi.com/655\n",
      "婚宴 http://xa.nuomi.com/2016\n",
      "小龙虾 http://xa.nuomi.com/2050\n",
      "其他美食 http://xa.nuomi.com/327\n"
     ]
    }
   ],
   "source": [
    "\n",
    "cate_rows = soup.select('div.filter-wrapper > div:nth-of-type(1) > div > div > div > a')\n",
    "cate_nums = {}\n",
    "for row in cate_rows:\n",
    "    name = row.get_text()\n",
    "    ele = row.get('mon').split('=')[1].split('&')[0]\n",
    "    href = 'http://xa.nuomi.com/' + ele  \n",
    "    cate_nums[name] = href\n",
    "    print(name, href)\n"
   ]
  },
  {
   "cell_type": "markdown",
   "metadata": {
    "ExecuteTime": {
     "end_time": "2019-02-11T04:18:19.113659Z",
     "start_time": "2019-02-11T04:18:19.097646Z"
    }
   },
   "source": [
    "# 高级篇—— 爬虫的伪装"
   ]
  },
  {
   "cell_type": "markdown",
   "metadata": {},
   "source": [
    "## 构造请求头"
   ]
  },
  {
   "cell_type": "code",
   "execution_count": 68,
   "metadata": {
    "ExecuteTime": {
     "end_time": "2019-02-11T04:32:50.127643Z",
     "start_time": "2019-02-11T04:32:48.553663Z"
    }
   },
   "outputs": [],
   "source": [
    "headers = {\n",
    "    'User-Agent': 'Mozilla/5.0 (Windows NT 10.0; Win64; x64) AppleWebKit/537.36 (KHTML, like Gecko) Chrome/72.0.3626.96 Safari/537.36', \n",
    "    # 换成自己的cookie\n",
    "    'Cookie': ''\n",
    "}\n",
    "\n",
    "url = 'https://xa.nuomi.com/364'\n",
    "html = requests.get(url, headers=headers)\n",
    "html.encoding = html.apparent_encoding"
   ]
  },
  {
   "cell_type": "code",
   "execution_count": 69,
   "metadata": {
    "ExecuteTime": {
     "end_time": "2019-02-11T04:32:50.930756Z",
     "start_time": "2019-02-11T04:32:50.924726Z"
    }
   },
   "outputs": [
    {
     "name": "stdout",
     "output_type": "stream",
     "text": [
      "Accept : */*\n",
      "Accept-Encoding : gzip, deflate\n",
      "Connection : keep-alive\n",
      "User-Agent : Mozilla/5.0 (Windows NT 10.0; Win64; x64) AppleWebKit/537.36 (KHTML, like Gecko) Chrome/72.0.3626.96 Safari/537.36\n",
      "Cookie : access_log=fb9a3157d642066879403a26a26ff6ce; BDUSS=m1kRm4zd2hja253RkpKV3BQNFcyS2V5OENtUkpPfkp1M2p-WC1MeGJTbmJTbnBjQVFBQUFBJCQAAAAAAAAAAAEAAADgkkc~t-e1rdTGx-l6enkAAAAAAAAAAAAAAAAAAAAAAAAAAAAAAAAAAAAAAAAAAAAAAAAAAAAAAAAAAAAAAAAAAAAAANu9UlzbvVJcU; BAIDUID=5C2190D00B1815A2BC77CA11A16877A2:FG=1; flag=110; areaCode=1000010000; PHPSESSID=ck1t8g3n2vfjduvliudlstbc76; SID=937_918_931_935_953_955_957_959_961_963_1004; domainUrl=xa; gpsGot=0; channel_webapp=webapp; Hm_lvt_a028c07bf31ffce4b2d21dd85b0b8907=1549812749,1549853642,1549855353; Hm_lpvt_a028c07bf31ffce4b2d21dd85b0b8907=1549855493; STOKEN=fe8f44bae2149a6703cc185fca078b715e9bed18fa6d68ec354242ab9bddda13; channel=zhifang_other%7C%7C\n"
     ]
    }
   ],
   "source": [
    "for key, value in html.request.headers.items():\n",
    "    print(key, ':', value)"
   ]
  },
  {
   "cell_type": "markdown",
   "metadata": {},
   "source": [
    "## IP池"
   ]
  },
  {
   "cell_type": "code",
   "execution_count": 73,
   "metadata": {
    "ExecuteTime": {
     "end_time": "2019-02-11T05:09:02.550430Z",
     "start_time": "2019-02-11T05:09:02.546426Z"
    }
   },
   "outputs": [],
   "source": [
    "import random "
   ]
  },
  {
   "cell_type": "code",
   "execution_count": 82,
   "metadata": {
    "ExecuteTime": {
     "end_time": "2019-02-11T05:15:49.128760Z",
     "start_time": "2019-02-11T05:15:49.123758Z"
    }
   },
   "outputs": [],
   "source": [
    "proxies = []\n",
    "ips = ['123.170.255.128', '115.28.209.249']\n",
    "ports = ['808', '3128']\n",
    "for ip, port in zip(ips, ports):\n",
    "    proxies.append(\n",
    "        {'http': 'http://%s:%s' % (ip, port)}\n",
    "    )"
   ]
  },
  {
   "cell_type": "code",
   "execution_count": 91,
   "metadata": {
    "ExecuteTime": {
     "end_time": "2019-02-11T05:19:32.495108Z",
     "start_time": "2019-02-11T05:19:30.640931Z"
    }
   },
   "outputs": [],
   "source": [
    "headers = {\n",
    "    'User-Agent': 'Mozilla/5.0 (Windows NT 10.0; Win64; x64) AppleWebKit/537.36 (KHTML, like Gecko) Chrome/72.0.3626.96 Safari/537.36', \n",
    "    # 换成自己的cookie\n",
    "    'Cookie': ''\n",
    "}\n",
    "\n",
    "url = 'https://xa.nuomi.com/364'\n",
    "try:\n",
    "    html = requests.get(url, headers=headers, proxies=random.choice(proxies), timeout=5)\n",
    "    html.encoding = html.apparent_encoding\n",
    "except requests.ConnectTimeout or requests.ConnectionError:\n",
    "    print('请求超时')\n",
    "    "
   ]
  },
  {
   "cell_type": "code",
   "execution_count": 84,
   "metadata": {
    "ExecuteTime": {
     "end_time": "2019-02-11T05:15:51.860079Z",
     "start_time": "2019-02-11T05:15:51.796104Z"
    }
   },
   "outputs": [
    {
     "name": "stdout",
     "output_type": "stream",
     "text": [
      "中餐/家常菜 http://xa.nuomi.com/962\n",
      "蛋糕 http://xa.nuomi.com/881\n",
      "小吃快餐 http://xa.nuomi.com/380\n",
      "火锅 http://xa.nuomi.com/364\n",
      "夏日饮品 http://xa.nuomi.com/2049\n",
      "日韩料理 http://xa.nuomi.com/389\n",
      "酒吧 http://xa.nuomi.com/2051\n",
      "西餐 http://xa.nuomi.com/391\n",
      "甜品 http://xa.nuomi.com/880\n",
      "自助餐 http://xa.nuomi.com/392\n",
      "川湘菜 http://xa.nuomi.com/393\n",
      "西北菜 http://xa.nuomi.com/653\n",
      "干锅/香锅 http://xa.nuomi.com/690\n",
      "咖啡 http://xa.nuomi.com/954\n",
      "麻辣烫/冒菜 http://xa.nuomi.com/884\n",
      "烧烤/烤肉 http://xa.nuomi.com/460\n",
      "烤鱼 http://xa.nuomi.com/878\n",
      "海鲜 http://xa.nuomi.com/439\n",
      "新疆菜 http://xa.nuomi.com/451\n",
      "创意菜/私房菜 http://xa.nuomi.com/692\n",
      "粤菜 http://xa.nuomi.com/388\n",
      "北京菜 http://xa.nuomi.com/450\n",
      "东北菜 http://xa.nuomi.com/504\n",
      "烤鸭 http://xa.nuomi.com/883\n",
      "江浙菜 http://xa.nuomi.com/424\n",
      "素食 http://xa.nuomi.com/655\n",
      "台湾菜/客家菜 http://xa.nuomi.com/696\n",
      "婚宴 http://xa.nuomi.com/2016\n",
      "小龙虾 http://xa.nuomi.com/2050\n",
      "粥店 http://xa.nuomi.com/2052\n",
      "其他美食 http://xa.nuomi.com/327\n"
     ]
    }
   ],
   "source": [
    "soup = BeautifulSoup(html.text, 'lxml')\n",
    "\n",
    "cate_rows = soup.select('div.filter-wrapper > div:nth-of-type(1) > div > div > div > a')\n",
    "cate_nums = {}\n",
    "for row in cate_rows:\n",
    "    name = row.get_text()\n",
    "    ele = row.get('mon').split('=')[1].split('&')[0]\n",
    "    href = 'http://xa.nuomi.com/' + ele  \n",
    "    cate_nums[name] = href\n",
    "    print(name, href)"
   ]
  },
  {
   "cell_type": "markdown",
   "metadata": {
    "ExecuteTime": {
     "end_time": "2019-02-11T05:43:48.515278Z",
     "start_time": "2019-02-11T05:43:48.510282Z"
    }
   },
   "source": [
    "# 终级篇—— 动态爬虫"
   ]
  },
  {
   "cell_type": "code",
   "execution_count": 11,
   "metadata": {
    "ExecuteTime": {
     "end_time": "2019-02-11T05:44:46.323993Z",
     "start_time": "2019-02-11T05:44:46.320994Z"
    }
   },
   "outputs": [],
   "source": [
    "import json  "
   ]
  },
  {
   "cell_type": "code",
   "execution_count": 17,
   "metadata": {
    "ExecuteTime": {
     "end_time": "2019-02-11T05:57:29.795705Z",
     "start_time": "2019-02-11T05:57:29.452467Z"
    }
   },
   "outputs": [],
   "source": [
    "headers = {\n",
    "    'User-Agent': 'Mozilla/5.0 (Windows NT 10.0; Win64; x64) AppleWebKit/537.36 (KHTML, like Gecko) Chrome/72.0.3626.96 Safari/537.36', \n",
    "    # 换成自己的cookie\n",
    "    'Cookie': 'PHPSESSID=p19m9r08vv0f61vcdvbv3d1pp6; access_log=9d4a3b9b9ceebf89a19acbd4545a2b6a; SID=937_918_931_935_953_955_957_959_961_963_1003_1049; areaCode=1000010000; Hm_lvt_a028c07bf31ffce4b2d21dd85b0b8907=1567511172; Hm_lpvt_a028c07bf31ffce4b2d21dd85b0b8907=1567511172; BAIDUID=5C2190D00B1815A2BC77CA11A16877A2:FG=1; BDUSS=GdvWGJNTUp5UW05YzNBM2tVSnlwY3N0TUdSRmRoRGhySjBtTDlrc1hvOXZ1RmhkSVFBQUFBJCQAAAAAAAAAAAEAAADgkkc~t-e1rdTGx-l6enkAAAAAAAAAAAAAAAAAAAAAAAAAAAAAAAAAAAAAAAAAAAAAAAAAAAAAAAAAAAAAAAAAAAAAAG8rMV1vKzFdd; domainUrl=xa; STOKEN=27c6355418afc7935d080af86c6974125b0487a2a1ddd39f590f04f5c7198b78; flag=001; gpsGot=0; channel_webapp=webapp; channel=zhifang_other%7C%7C'\n",
    "}\n",
    "url = 'https://www.meituan.com/meishi/api/poi/getMerchantComment?uuid=f122598e-c7a1-44fb-b2ce-f153ad00217a&platform=1&partner=126&originUrl=https%3A%2F%2Fwww.meituan.com%2Fmeishi%2F2455954%2F&riskLevel=1&optimusCode=1&id=2455954&userId=&offset=0&pageSize=10&sortType=1'\n",
    "html = requests.get(url, headers=headers)"
   ]
  },
  {
   "cell_type": "code",
   "execution_count": 20,
   "metadata": {
    "ExecuteTime": {
     "end_time": "2019-02-11T06:00:48.384049Z",
     "start_time": "2019-02-11T06:00:48.378017Z"
    }
   },
   "outputs": [],
   "source": [
    "with open(os.path.join(path, 'user.json'), 'w+', encoding='utf8') as f: \n",
    "    data = json.loads(html.text)\n",
    "    f.write(json.dumps(data, ensure_ascii=False))"
   ]
  },
  {
   "cell_type": "code",
   "execution_count": 21,
   "metadata": {
    "ExecuteTime": {
     "end_time": "2019-02-11T06:00:50.142281Z",
     "start_time": "2019-02-11T06:00:50.138322Z"
    }
   },
   "outputs": [],
   "source": [
    "with open(os.path.join(path, 'user.json'), 'r', encoding='utf8') as f: \n",
    "    content = f.read()"
   ]
  },
  {
   "cell_type": "code",
   "execution_count": 22,
   "metadata": {
    "ExecuteTime": {
     "end_time": "2019-02-11T06:00:51.215443Z",
     "start_time": "2019-02-11T06:00:51.209445Z"
    }
   },
   "outputs": [
    {
     "data": {
      "text/plain": [
       "{'data': {'comments': [{'alreadyZzz': False,\n",
       "    'anonymous': False,\n",
       "    'avgPrice': 58,\n",
       "    'comment': '不错服务很好价钱也合理，量也足。 #葱油饼# #浓香羊蝎子中锅# #酸梅汤# #粉丝# #精品羊肉# #羊蝎子火锅#',\n",
       "    'commentTime': '1567226135870',\n",
       "    'dealEndtime': '1570204799',\n",
       "    'did': 55157699,\n",
       "    'hilignt': '',\n",
       "    'menu': '蝎王府2-3人餐',\n",
       "    'merchantComment': '',\n",
       "    'picUrls': [{'id': -642532224,\n",
       "      'url': 'http://p0.meituan.net/shaitu/370b2021dfa414a81ae05f582c907e7d2206638.jpg'},\n",
       "     {'id': -642532223,\n",
       "      'url': 'http://p0.meituan.net/shaitu/6719a254ae45bf9e41e84134828bcd622161831.jpg'},\n",
       "     {'id': -642357068,\n",
       "      'url': 'http://p0.meituan.net/shaitu/255d9cab910250958eaebc002a1dae1e1883262.jpg'},\n",
       "     {'id': -642595890,\n",
       "      'url': 'http://p0.meituan.net/shaitu/78b6f73e567c45f889acb857380641fa1696810.jpg'}],\n",
       "    'quality': False,\n",
       "    'readCnt': 353,\n",
       "    'replyCnt': 0,\n",
       "    'reviewId': '2098182465',\n",
       "    'star': 40,\n",
       "    'uType': 2,\n",
       "    'userId': '69330464',\n",
       "    'userLevel': 3,\n",
       "    'userName': '卡卡旗木',\n",
       "    'userUrl': 'https://img.meituan.net/avatar/e4bef3c15e1172cea80f371356bc08b120563.jpg',\n",
       "    'zanCnt': 0},\n",
       "   {'alreadyZzz': False,\n",
       "    'anonymous': False,\n",
       "    'avgPrice': 58,\n",
       "    'comment': '之前吃过一两次，味道是很赞的不用说，价钱也很便宜，两个人才吃了一百多一点，而且吃的饱饱的，最主要的是碰到了一个宝藏阿姨，超级超级可爱，服务态度也很好，就冲这服务态度下次再有朋友去吃饭一定也会在去这家店，总之很满意的，点赞哦，强烈推荐 #羊羯子锅底# #白萝卜# #酸梅汤#',\n",
       "    'commentTime': '1563378627344',\n",
       "    'dealEndtime': '1568476799',\n",
       "    'did': 29189309,\n",
       "    'hilignt': '',\n",
       "    'menu': '100元代金券1张',\n",
       "    'merchantComment': '您好！您的满意对我们来说是最大的鼓励，再次感谢您对我们的支持。欢迎您常来，祝您生活愉快',\n",
       "    'picUrls': [{'id': -751915415,\n",
       "      'url': 'http://p0.meituan.net/shaitu/a2531ac9ece97396d86e1250a62f09272143090.jpg'},\n",
       "     {'id': -752077399,\n",
       "      'url': 'http://p0.meituan.net/shaitu/3b2cc85a05ce8243b0d066e0876ad5841398237.jpg'},\n",
       "     {'id': -751915414,\n",
       "      'url': 'http://p0.meituan.net/shaitu/67c36c5deff2d3cf675adeb6e9b10c6e329518.jpg'}],\n",
       "    'quality': True,\n",
       "    'readCnt': 4470,\n",
       "    'replyCnt': 1,\n",
       "    'reviewId': '2046359124',\n",
       "    'star': 50,\n",
       "    'uType': 2,\n",
       "    'userId': '109343532',\n",
       "    'userLevel': 5,\n",
       "    'userName': '大七七七七七琦琦',\n",
       "    'userUrl': 'https://img.meituan.net/avatar/6b9d68d3612e672f373e9c91fbe7eca19150.jpg',\n",
       "    'zanCnt': 1},\n",
       "   {'alreadyZzz': False,\n",
       "    'anonymous': True,\n",
       "    'avgPrice': 58,\n",
       "    'comment': '我比较爱吃羊肉，我觉得这个汤特别好喝，就是量有点小。\\n味道也很好吃，我已经来过多少次，我自己都数不清了。\\n这个是连锁。连锁店里每一家味道都很赞。\\n就是送的菜不怎么好。\\n我觉得最后的那个扯面，\\n下在汤里面可好吃了。\\n以后还会光临的。 #浓香羊蝎子中锅# #浓香羊蝎子大锅# #扯麵# #手工面#',\n",
       "    'commentTime': '1562252354336',\n",
       "    'dealEndtime': '1570204799',\n",
       "    'did': 55157699,\n",
       "    'hilignt': '',\n",
       "    'menu': '蝎王府2-3人餐',\n",
       "    'merchantComment': '一流的食材创造出一流的美味！我们坚持用最新鲜的食材，烹饪最美味的菜品，是因为我们希望把最好的用餐体验给您！您的好评是对我们最大的鼓励，期待您小次光临小店哦！😊',\n",
       "    'picUrls': [{'id': -784880640,\n",
       "      'url': 'http://p1.meituan.net/shaitu/b3ccc91a648ce187818230447ffd7627410101.jpg'},\n",
       "     {'id': -785168113,\n",
       "      'url': 'http://p0.meituan.net/shaitu/cc2c05a2e3b048c9bd1ce16991baa8e5388477.jpg'},\n",
       "     {'id': -784880639,\n",
       "      'url': 'http://p0.meituan.net/shaitu/bc7483cede3909a704b878545948d426218687.jpg'},\n",
       "     {'id': -784977288,\n",
       "      'url': 'http://p0.meituan.net/shaitu/87f1d0414f1303f952968af61894b2e3250978.jpg'}],\n",
       "    'quality': False,\n",
       "    'readCnt': 12410,\n",
       "    'replyCnt': 2,\n",
       "    'reviewId': '2032124036',\n",
       "    'star': 50,\n",
       "    'uType': 2,\n",
       "    'userId': '0',\n",
       "    'userLevel': 0,\n",
       "    'userName': '匿名用户',\n",
       "    'userUrl': 'https://www.dpfile.com/ugc/user/anonymous.png',\n",
       "    'zanCnt': 0},\n",
       "   {'alreadyZzz': False,\n",
       "    'anonymous': True,\n",
       "    'avgPrice': 58,\n",
       "    'comment': '确实的味道不错，量很足。环境也不错，下次还来',\n",
       "    'commentTime': '1564641068651',\n",
       "    'dealEndtime': '1570204799',\n",
       "    'did': 55157699,\n",
       "    'hilignt': '',\n",
       "    'menu': '蝎王府2-3人餐',\n",
       "    'merchantComment': '感谢亲亲您的满意，一直追求的就是您们的满意，我们的羊蝎子是来源于大草原5到6个月的羔羊，经心制作而成，吃最好的羊蝎子就到蝎王府，期待亲亲您的下次进店体验',\n",
       "    'picUrls': [{'id': -716960678,\n",
       "      'url': 'http://p1.meituan.net/shaitu/4bdbeb20ddd08495818124839bf996b8259124.jpg'},\n",
       "     {'id': -716863551,\n",
       "      'url': 'http://p0.meituan.net/shaitu/acc6baf34a5294c4b14b66cbfe602398283648.jpg'},\n",
       "     {'id': -716960677,\n",
       "      'url': 'http://p0.meituan.net/shaitu/8e50f5960ebe75e6f7b79f8ae865115b301575.jpg'},\n",
       "     {'id': -716960676,\n",
       "      'url': 'http://p0.meituan.net/shaitu/df2f702332c8aacef29d2f007c21e4dd267885.jpg'}],\n",
       "    'quality': False,\n",
       "    'readCnt': 5530,\n",
       "    'replyCnt': 1,\n",
       "    'reviewId': '2062670925',\n",
       "    'star': 40,\n",
       "    'uType': 2,\n",
       "    'userId': '0',\n",
       "    'userLevel': 0,\n",
       "    'userName': '匿名用户',\n",
       "    'userUrl': 'https://www.dpfile.com/ugc/user/anonymous.png',\n",
       "    'zanCnt': 0},\n",
       "   {'alreadyZzz': False,\n",
       "    'anonymous': False,\n",
       "    'avgPrice': 58,\n",
       "    'comment': '吃过很多年了，今天第一次差评，骨头太多了，有肉的只有两块，汤底大料渣渣太多，菜里裹的都是，这次很失望😞',\n",
       "    'commentTime': '1565179083865',\n",
       "    'dealEndtime': '1570204799',\n",
       "    'did': 55157699,\n",
       "    'hilignt': '',\n",
       "    'menu': '蝎王府2-3人餐',\n",
       "    'merchantComment': '感谢您把问题反馈给我们，避免类似问题发生，接下来我们会加强服务培训，欢迎您下次光临，我们会献上真挚的歉意，祝您生活愉快！',\n",
       "    'picUrls': [{'id': -700985692,\n",
       "      'url': 'http://p0.meituan.net/shaitu/4e9ed836b52e6af185baf85fbceab61b269121.jpg'},\n",
       "     {'id': -700985691,\n",
       "      'url': 'http://p1.meituan.net/shaitu/9f1a4197cbaa82c4d09a297df3561661263616.jpg'}],\n",
       "    'quality': False,\n",
       "    'readCnt': 4744,\n",
       "    'replyCnt': 1,\n",
       "    'reviewId': '2069513949',\n",
       "    'star': 20,\n",
       "    'uType': 2,\n",
       "    'userId': '553718951',\n",
       "    'userLevel': 3,\n",
       "    'userName': 'ZAl712091254',\n",
       "    'userUrl': '',\n",
       "    'zanCnt': 0},\n",
       "   {'alreadyZzz': False,\n",
       "    'anonymous': False,\n",
       "    'avgPrice': 58,\n",
       "    'comment': '【环境】不是特别好\\n【服务】一般般\\n【口味】没以好吃了',\n",
       "    'commentTime': '1565322809450',\n",
       "    'dealEndtime': '1570204799',\n",
       "    'did': 55157699,\n",
       "    'hilignt': '',\n",
       "    'menu': '蝎王府2-3人餐',\n",
       "    'merchantComment': '感谢您把问题反馈给我们，避免类似问题发生，接下来我们会加强服务培训，欢迎您下次光临，我们会献上真挚的歉意，祝您生活愉快！',\n",
       "    'picUrls': [],\n",
       "    'quality': False,\n",
       "    'readCnt': 2811,\n",
       "    'replyCnt': 1,\n",
       "    'reviewId': '2072040527',\n",
       "    'star': 20,\n",
       "    'uType': 2,\n",
       "    'userId': '1724848163',\n",
       "    'userLevel': 1,\n",
       "    'userName': 'bXA783489012',\n",
       "    'userUrl': 'https://img.meituan.net/avatar/6af9c06670c27c67235623d8472f792215511.jpg',\n",
       "    'zanCnt': 0},\n",
       "   {'alreadyZzz': False,\n",
       "    'anonymous': False,\n",
       "    'avgPrice': 58,\n",
       "    'comment': '味道可以就是特少，2到3人餐肯定不够两人吃 阿姨服务挺好的 自点牛肉 不然不够',\n",
       "    'commentTime': '1563110118455',\n",
       "    'dealEndtime': '1570204799',\n",
       "    'did': 55157699,\n",
       "    'hilignt': '',\n",
       "    'menu': '蝎王府2-3人餐',\n",
       "    'merchantComment': '您好！您的满意对我们来说是最大的鼓励，再次感谢您对我们的支持。欢迎您常来，祝您生活愉快',\n",
       "    'picUrls': [{'id': -759363717,\n",
       "      'url': 'http://p0.meituan.net/shaitu/3e268ff4725b1bedda1198502fd54fbb590627.jpg'},\n",
       "     {'id': -759458244,\n",
       "      'url': 'http://p0.meituan.net/shaitu/382383f7b6923b68358b0e46fc9b7bdc372451.jpg'}],\n",
       "    'quality': False,\n",
       "    'readCnt': 6036,\n",
       "    'replyCnt': 1,\n",
       "    'reviewId': '2043169755',\n",
       "    'star': 50,\n",
       "    'uType': 2,\n",
       "    'userId': '1431472800',\n",
       "    'userLevel': 2,\n",
       "    'userName': 'rLr883116935',\n",
       "    'userUrl': '',\n",
       "    'zanCnt': 0},\n",
       "   {'alreadyZzz': False,\n",
       "    'anonymous': False,\n",
       "    'avgPrice': 58,\n",
       "    'comment': '很好吃，就是我们第一次去好尴尬，面没扯就下锅了，主要是饿了😂煮了好久都没熟😂，服务员态度也很好。',\n",
       "    'commentTime': '1565789671925',\n",
       "    'dealEndtime': '1570204799',\n",
       "    'did': 55157699,\n",
       "    'hilignt': '',\n",
       "    'menu': '蝎王府2-3人餐',\n",
       "    'merchantComment': '感谢亲亲您的满意，一直追求的就是您们的满意，我们的羊蝎子是来源于大草原5到6个月的羔羊，经心制作而成，吃最好的羊蝎子就到蝎王府，期待亲亲您的下次进店体验',\n",
       "    'picUrls': [],\n",
       "    'quality': False,\n",
       "    'readCnt': 1658,\n",
       "    'replyCnt': 1,\n",
       "    'reviewId': '2077618741',\n",
       "    'star': 40,\n",
       "    'uType': 2,\n",
       "    'userId': '128833659',\n",
       "    'userLevel': 4,\n",
       "    'userName': 'vLV120024259',\n",
       "    'userUrl': 'https://img.meituan.net/avatar/242ffd086771066ca3799a700d2983843362.jpg',\n",
       "    'zanCnt': 0},\n",
       "   {'alreadyZzz': False,\n",
       "    'anonymous': False,\n",
       "    'avgPrice': 58,\n",
       "    'comment': '……………量变少了 就这样子 …………',\n",
       "    'commentTime': '1566783490770',\n",
       "    'dealEndtime': None,\n",
       "    'did': 0,\n",
       "    'hilignt': '',\n",
       "    'menu': None,\n",
       "    'merchantComment': '感谢亲亲的用心评价哦！您的每一个鼓励都是我们在成长道路上的最佳精神支柱，用心做餐饮，用心做品质，每一份出品都是我经过几个小时炖制做出不柴不腻微感麻辣的独特口味，期待下次亲亲的光临哦！',\n",
       "    'picUrls': [],\n",
       "    'quality': False,\n",
       "    'readCnt': 181,\n",
       "    'replyCnt': 1,\n",
       "    'reviewId': '2091974198',\n",
       "    'star': 30,\n",
       "    'uType': 2,\n",
       "    'userId': '206977549',\n",
       "    'userLevel': 4,\n",
       "    'userName': 'Rym0000',\n",
       "    'userUrl': 'https://img.meituan.net/avatar/0836943a6dd6773299de5b58b0d8538d109281.jpg',\n",
       "    'zanCnt': 0},\n",
       "   {'alreadyZzz': False,\n",
       "    'anonymous': False,\n",
       "    'avgPrice': 58,\n",
       "    'comment': '很好很好吃，喜欢。',\n",
       "    'commentTime': '1566636114680',\n",
       "    'dealEndtime': '1568476799',\n",
       "    'did': 29189309,\n",
       "    'hilignt': '',\n",
       "    'menu': '100元代金券1张',\n",
       "    'merchantComment': '感谢亲亲您的满意，一直追求的就是您们的满意，我们的羊蝎子是来源于大草原5到6个月的羔羊，经心制作而成，吃最好的羊蝎子就到蝎王府，期待亲亲您的下次进店体验',\n",
       "    'picUrls': [],\n",
       "    'quality': False,\n",
       "    'readCnt': 285,\n",
       "    'replyCnt': 1,\n",
       "    'reviewId': '2089667676',\n",
       "    'star': 40,\n",
       "    'uType': 2,\n",
       "    'userId': '28881645',\n",
       "    'userLevel': 5,\n",
       "    'userName': '陈晓欢117',\n",
       "    'userUrl': 'https://img.meituan.net/avatar/5a0710fd9cae086abb62d3c26c6cc6c523227.jpg',\n",
       "    'zanCnt': 0}],\n",
       "  'tags': [{'count': 580, 'tag': '回头客'},\n",
       "   {'count': 349, 'tag': '上菜快'},\n",
       "   {'count': 37, 'tag': '交通便利'},\n",
       "   {'count': 7, 'tag': '冬天吃过瘾'},\n",
       "   {'count': 33, 'tag': '朋友聚餐'},\n",
       "   {'count': 27, 'tag': '家庭聚餐'},\n",
       "   {'count': 5, 'tag': '请客'},\n",
       "   {'count': 3, 'tag': '闺蜜聚会'},\n",
       "   {'count': 3, 'tag': '现做现卖'},\n",
       "   {'count': 3, 'tag': '公司聚餐'}],\n",
       "  'total': 8614},\n",
       " 'status': 0}"
      ]
     },
     "execution_count": 22,
     "metadata": {},
     "output_type": "execute_result"
    }
   ],
   "source": [
    "data = json.loads(content)\n",
    "data  "
   ]
  },
  {
   "cell_type": "code",
   "execution_count": null,
   "metadata": {},
   "outputs": [],
   "source": []
  }
 ],
 "metadata": {
  "hide_input": false,
  "kernelspec": {
   "display_name": "Python 3",
   "language": "python",
   "name": "python3"
  },
  "language_info": {
   "codemirror_mode": {
    "name": "ipython",
    "version": 3
   },
   "file_extension": ".py",
   "mimetype": "text/x-python",
   "name": "python",
   "nbconvert_exporter": "python",
   "pygments_lexer": "ipython3",
   "version": "3.7.3"
  },
  "latex_envs": {
   "LaTeX_envs_menu_present": true,
   "autoclose": false,
   "autocomplete": true,
   "bibliofile": "biblio.bib",
   "cite_by": "apalike",
   "current_citInitial": 1,
   "eqLabelWithNumbers": true,
   "eqNumInitial": 1,
   "hotkeys": {
    "equation": "Ctrl-E",
    "itemize": "Ctrl-I"
   },
   "labels_anchors": false,
   "latex_user_defs": false,
   "report_style_numbering": false,
   "user_envs_cfg": false
  },
  "toc": {
   "nav_menu": {},
   "number_sections": true,
   "sideBar": true,
   "skip_h1_title": false,
   "toc_cell": true,
   "toc_position": {},
   "toc_section_display": "block",
   "toc_window_display": true
  },
  "varInspector": {
   "cols": {
    "lenName": 16,
    "lenType": 16,
    "lenVar": 40
   },
   "kernels_config": {
    "python": {
     "delete_cmd_postfix": "",
     "delete_cmd_prefix": "del ",
     "library": "var_list.py",
     "varRefreshCmd": "print(var_dic_list())"
    },
    "r": {
     "delete_cmd_postfix": ") ",
     "delete_cmd_prefix": "rm(",
     "library": "var_list.r",
     "varRefreshCmd": "cat(var_dic_list()) "
    }
   },
   "types_to_exclude": [
    "module",
    "function",
    "builtin_function_or_method",
    "instance",
    "_Feature"
   ],
   "window_display": true
  }
 },
 "nbformat": 4,
 "nbformat_minor": 4
}
