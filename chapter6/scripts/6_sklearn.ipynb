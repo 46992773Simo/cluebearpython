{
 "cells": [
  {
   "cell_type": "markdown",
   "metadata": {
    "toc": true
   },
   "source": [
    "<h1>Table of Contents<span class=\"tocSkip\"></span></h1>\n",
    "<div class=\"toc\" style=\"margin-top: 1em;\"><ul class=\"toc-item\"></ul></div>"
   ]
  },
  {
   "cell_type": "markdown",
   "metadata": {},
   "source": [
    "## 生成机器学习数据文档"
   ]
  },
  {
   "cell_type": "code",
   "execution_count": 1,
   "metadata": {
    "ExecuteTime": {
     "end_time": "2019-07-10T10:46:04.468360Z",
     "start_time": "2019-07-10T10:46:03.649279Z"
    }
   },
   "outputs": [],
   "source": [
    "import os\n",
    "import pandas as pd\n",
    "import random\n",
    "import numpy as np"
   ]
  },
  {
   "cell_type": "code",
   "execution_count": 2,
   "metadata": {
    "ExecuteTime": {
     "end_time": "2019-07-10T10:46:28.657141Z",
     "start_time": "2019-07-10T10:46:28.203999Z"
    }
   },
   "outputs": [
    {
     "data": {
      "text/html": [
       "<div>\n",
       "<style>\n",
       "    .dataframe thead tr:only-child th {\n",
       "        text-align: right;\n",
       "    }\n",
       "\n",
       "    .dataframe thead th {\n",
       "        text-align: left;\n",
       "    }\n",
       "\n",
       "    .dataframe tbody tr th {\n",
       "        vertical-align: top;\n",
       "    }\n",
       "</style>\n",
       "<table border=\"1\" class=\"dataframe\">\n",
       "  <thead>\n",
       "    <tr style=\"text-align: right;\">\n",
       "      <th></th>\n",
       "      <th>店名</th>\n",
       "      <th>关键词</th>\n",
       "      <th>城市</th>\n",
       "      <th>评分</th>\n",
       "      <th>评价数</th>\n",
       "      <th>人均</th>\n",
       "      <th>地址</th>\n",
       "      <th>营业时间</th>\n",
       "      <th>菜名</th>\n",
       "    </tr>\n",
       "  </thead>\n",
       "  <tbody>\n",
       "    <tr>\n",
       "      <th>0</th>\n",
       "      <td>老北京涮羊肉</td>\n",
       "      <td>火锅</td>\n",
       "      <td>xa</td>\n",
       "      <td>4.4</td>\n",
       "      <td>877.0</td>\n",
       "      <td>45.5</td>\n",
       "      <td>西安市雁塔区朱雀大街250号东方大酒店西门斜对面（子午路站下车向北走60米路西）</td>\n",
       "      <td>11:00-21:00</td>\n",
       "      <td>【羊肉】【豆腐】【麻酱】【精品肥牛】【粉丝】【羔羊肉】【牛肚】【油豆皮】【香菇】【豆皮】【土...</td>\n",
       "    </tr>\n",
       "    <tr>\n",
       "      <th>1</th>\n",
       "      <td>鲜上鲜文鱼庄(望庭国际店)</td>\n",
       "      <td>火锅</td>\n",
       "      <td>xa</td>\n",
       "      <td>4.6</td>\n",
       "      <td>535.0</td>\n",
       "      <td>56</td>\n",
       "      <td>西安市高新区高新路80号望庭国际一栋楼10106室</td>\n",
       "      <td>11:00-23:00</td>\n",
       "      <td>【菌菇大拼】【麻酱】【菠萝飞饼】【鸳鸯锅】【酸菜鸳鸯锅】【青菜】【毛肚】【文鱼】【菌汤】【鱼...</td>\n",
       "    </tr>\n",
       "    <tr>\n",
       "      <th>2</th>\n",
       "      <td>大龙燚火锅(李家村店)</td>\n",
       "      <td>火锅</td>\n",
       "      <td>xa</td>\n",
       "      <td>4.6</td>\n",
       "      <td>29.0</td>\n",
       "      <td>大概92左右</td>\n",
       "      <td>西安市碑林区雁塔北路时亿广场南座2楼李家村华润万家外</td>\n",
       "      <td>10:00-22:00</td>\n",
       "      <td>【手撕竹笋】【麻辣排骨】【砣砣牛肉】【菠萝飞饼】【鸭血】【四川金针菇】【麻辣牛肉】【贡菜】【...</td>\n",
       "    </tr>\n",
       "    <tr>\n",
       "      <th>3</th>\n",
       "      <td>鲜上鲜文鱼庄(阳阳国际店)</td>\n",
       "      <td>火锅</td>\n",
       "      <td>xa</td>\n",
       "      <td>4.6</td>\n",
       "      <td>906.0</td>\n",
       "      <td>56</td>\n",
       "      <td>西安市雁塔区朱雀大街132号阳阳国际广场C座2楼</td>\n",
       "      <td>11:00-22:00</td>\n",
       "      <td>【海带】【鸳鸯锅】【冻豆腐】【荷包豆腐】【生鱼片】【毛肚】【文鱼】【清汤锅】【山珍菌汤锅】【...</td>\n",
       "    </tr>\n",
       "    <tr>\n",
       "      <th>4</th>\n",
       "      <td>大龙燚火锅(粉巷店)</td>\n",
       "      <td>火锅</td>\n",
       "      <td>xa</td>\n",
       "      <td>4.6</td>\n",
       "      <td>2253.0</td>\n",
       "      <td>人均：100</td>\n",
       "      <td>西安市碑林区粉巷南院门15A南苑中央广场食尚南苑2F</td>\n",
       "      <td>周一至周日 10:00-21:00</td>\n",
       "      <td>【麻辣排骨】【千层毛肚】【鸳鸯锅】【鸭血】【天味香肠】【薄土豆】【功夫黄瓜】【清汤锅】【印度...</td>\n",
       "    </tr>\n",
       "  </tbody>\n",
       "</table>\n",
       "</div>"
      ],
      "text/plain": [
       "              店名 关键词  城市   评分     评价数      人均  \\\n",
       "0         老北京涮羊肉  火锅  xa  4.4   877.0    45.5   \n",
       "1  鲜上鲜文鱼庄(望庭国际店)  火锅  xa  4.6   535.0      56   \n",
       "2    大龙燚火锅(李家村店)  火锅  xa  4.6    29.0  大概92左右   \n",
       "3  鲜上鲜文鱼庄(阳阳国际店)  火锅  xa  4.6   906.0      56   \n",
       "4     大龙燚火锅(粉巷店)  火锅  xa  4.6  2253.0  人均：100   \n",
       "\n",
       "                                         地址               营业时间  \\\n",
       "0  西安市雁塔区朱雀大街250号东方大酒店西门斜对面（子午路站下车向北走60米路西）        11:00-21:00   \n",
       "1                 西安市高新区高新路80号望庭国际一栋楼10106室        11:00-23:00   \n",
       "2                西安市碑林区雁塔北路时亿广场南座2楼李家村华润万家外        10:00-22:00   \n",
       "3                  西安市雁塔区朱雀大街132号阳阳国际广场C座2楼        11:00-22:00   \n",
       "4                西安市碑林区粉巷南院门15A南苑中央广场食尚南苑2F  周一至周日 10:00-21:00   \n",
       "\n",
       "                                                  菜名  \n",
       "0  【羊肉】【豆腐】【麻酱】【精品肥牛】【粉丝】【羔羊肉】【牛肚】【油豆皮】【香菇】【豆皮】【土...  \n",
       "1  【菌菇大拼】【麻酱】【菠萝飞饼】【鸳鸯锅】【酸菜鸳鸯锅】【青菜】【毛肚】【文鱼】【菌汤】【鱼...  \n",
       "2  【手撕竹笋】【麻辣排骨】【砣砣牛肉】【菠萝飞饼】【鸭血】【四川金针菇】【麻辣牛肉】【贡菜】【...  \n",
       "3  【海带】【鸳鸯锅】【冻豆腐】【荷包豆腐】【生鱼片】【毛肚】【文鱼】【清汤锅】【山珍菌汤锅】【...  \n",
       "4  【麻辣排骨】【千层毛肚】【鸳鸯锅】【鸭血】【天味香肠】【薄土豆】【功夫黄瓜】【清汤锅】【印度...  "
      ]
     },
     "execution_count": 2,
     "metadata": {},
     "output_type": "execute_result"
    }
   ],
   "source": [
    "path = '../data'\n",
    "origin_file = pd.read_excel(os.path.join(path, 'shops_nm.xlsx'), encoding='utf8')\n",
    "origin_file.head()"
   ]
  },
  {
   "cell_type": "code",
   "execution_count": 3,
   "metadata": {
    "ExecuteTime": {
     "end_time": "2019-07-10T10:46:39.390509Z",
     "start_time": "2019-07-10T10:46:39.355504Z"
    }
   },
   "outputs": [],
   "source": [
    "shop_names = np.array(list(origin_file['店名'])).reshape((len(origin_file), 1))\n",
    "features = np.random.binomial(1, 0.5, size=len(shop_names) * 5).reshape((len(shop_names), 5))\n",
    "shops = np.concatenate((shop_names, features), axis=1)"
   ]
  },
  {
   "cell_type": "code",
   "execution_count": 4,
   "metadata": {
    "ExecuteTime": {
     "end_time": "2019-07-10T10:46:45.653094Z",
     "start_time": "2019-07-10T10:46:45.636123Z"
    }
   },
   "outputs": [
    {
     "data": {
      "text/html": [
       "<div>\n",
       "<style>\n",
       "    .dataframe thead tr:only-child th {\n",
       "        text-align: right;\n",
       "    }\n",
       "\n",
       "    .dataframe thead th {\n",
       "        text-align: left;\n",
       "    }\n",
       "\n",
       "    .dataframe tbody tr th {\n",
       "        vertical-align: top;\n",
       "    }\n",
       "</style>\n",
       "<table border=\"1\" class=\"dataframe\">\n",
       "  <thead>\n",
       "    <tr style=\"text-align: right;\">\n",
       "      <th></th>\n",
       "      <th>店名</th>\n",
       "      <th>主打菜特色</th>\n",
       "      <th>食材是否新鲜</th>\n",
       "      <th>调料是否有特色</th>\n",
       "      <th>价格是否划算</th>\n",
       "      <th>店内环境</th>\n",
       "    </tr>\n",
       "  </thead>\n",
       "  <tbody>\n",
       "    <tr>\n",
       "      <th>0</th>\n",
       "      <td>老北京涮羊肉</td>\n",
       "      <td>0</td>\n",
       "      <td>1</td>\n",
       "      <td>1</td>\n",
       "      <td>1</td>\n",
       "      <td>1</td>\n",
       "    </tr>\n",
       "    <tr>\n",
       "      <th>1</th>\n",
       "      <td>鲜上鲜文鱼庄(望庭国际店)</td>\n",
       "      <td>0</td>\n",
       "      <td>1</td>\n",
       "      <td>1</td>\n",
       "      <td>0</td>\n",
       "      <td>1</td>\n",
       "    </tr>\n",
       "    <tr>\n",
       "      <th>2</th>\n",
       "      <td>大龙燚火锅(李家村店)</td>\n",
       "      <td>1</td>\n",
       "      <td>0</td>\n",
       "      <td>1</td>\n",
       "      <td>1</td>\n",
       "      <td>0</td>\n",
       "    </tr>\n",
       "    <tr>\n",
       "      <th>3</th>\n",
       "      <td>鲜上鲜文鱼庄(阳阳国际店)</td>\n",
       "      <td>0</td>\n",
       "      <td>1</td>\n",
       "      <td>0</td>\n",
       "      <td>1</td>\n",
       "      <td>1</td>\n",
       "    </tr>\n",
       "    <tr>\n",
       "      <th>4</th>\n",
       "      <td>大龙燚火锅(粉巷店)</td>\n",
       "      <td>0</td>\n",
       "      <td>1</td>\n",
       "      <td>0</td>\n",
       "      <td>1</td>\n",
       "      <td>1</td>\n",
       "    </tr>\n",
       "  </tbody>\n",
       "</table>\n",
       "</div>"
      ],
      "text/plain": [
       "              店名 主打菜特色 食材是否新鲜 调料是否有特色 价格是否划算 店内环境\n",
       "0         老北京涮羊肉     0      1       1      1    1\n",
       "1  鲜上鲜文鱼庄(望庭国际店)     0      1       1      0    1\n",
       "2    大龙燚火锅(李家村店)     1      0       1      1    0\n",
       "3  鲜上鲜文鱼庄(阳阳国际店)     0      1       0      1    1\n",
       "4     大龙燚火锅(粉巷店)     0      1       0      1    1"
      ]
     },
     "execution_count": 4,
     "metadata": {},
     "output_type": "execute_result"
    }
   ],
   "source": [
    "\n",
    "df = pd.DataFrame(shops, columns=['店名', '主打菜特色', '食材是否新鲜', '调料是否有特色', '价格是否划算', '店内环境'])\n",
    "df.head()"
   ]
  },
  {
   "cell_type": "code",
   "execution_count": 5,
   "metadata": {
    "ExecuteTime": {
     "end_time": "2019-07-10T10:46:53.424230Z",
     "start_time": "2019-07-10T10:46:53.405299Z"
    }
   },
   "outputs": [
    {
     "data": {
      "text/html": [
       "<div>\n",
       "<style>\n",
       "    .dataframe thead tr:only-child th {\n",
       "        text-align: right;\n",
       "    }\n",
       "\n",
       "    .dataframe thead th {\n",
       "        text-align: left;\n",
       "    }\n",
       "\n",
       "    .dataframe tbody tr th {\n",
       "        vertical-align: top;\n",
       "    }\n",
       "</style>\n",
       "<table border=\"1\" class=\"dataframe\">\n",
       "  <thead>\n",
       "    <tr style=\"text-align: right;\">\n",
       "      <th></th>\n",
       "      <th>店名</th>\n",
       "      <th>主打菜特色</th>\n",
       "      <th>食材是否新鲜</th>\n",
       "      <th>调料是否有特色</th>\n",
       "      <th>价格是否划算</th>\n",
       "      <th>店内环境</th>\n",
       "      <th>sum</th>\n",
       "    </tr>\n",
       "  </thead>\n",
       "  <tbody>\n",
       "    <tr>\n",
       "      <th>0</th>\n",
       "      <td>老北京涮羊肉</td>\n",
       "      <td>0</td>\n",
       "      <td>1</td>\n",
       "      <td>1</td>\n",
       "      <td>1</td>\n",
       "      <td>1</td>\n",
       "      <td>4.0</td>\n",
       "    </tr>\n",
       "    <tr>\n",
       "      <th>1</th>\n",
       "      <td>鲜上鲜文鱼庄(望庭国际店)</td>\n",
       "      <td>0</td>\n",
       "      <td>1</td>\n",
       "      <td>1</td>\n",
       "      <td>0</td>\n",
       "      <td>1</td>\n",
       "      <td>3.0</td>\n",
       "    </tr>\n",
       "    <tr>\n",
       "      <th>2</th>\n",
       "      <td>大龙燚火锅(李家村店)</td>\n",
       "      <td>1</td>\n",
       "      <td>0</td>\n",
       "      <td>1</td>\n",
       "      <td>1</td>\n",
       "      <td>0</td>\n",
       "      <td>3.0</td>\n",
       "    </tr>\n",
       "    <tr>\n",
       "      <th>3</th>\n",
       "      <td>鲜上鲜文鱼庄(阳阳国际店)</td>\n",
       "      <td>0</td>\n",
       "      <td>1</td>\n",
       "      <td>0</td>\n",
       "      <td>1</td>\n",
       "      <td>1</td>\n",
       "      <td>3.0</td>\n",
       "    </tr>\n",
       "    <tr>\n",
       "      <th>4</th>\n",
       "      <td>大龙燚火锅(粉巷店)</td>\n",
       "      <td>0</td>\n",
       "      <td>1</td>\n",
       "      <td>0</td>\n",
       "      <td>1</td>\n",
       "      <td>1</td>\n",
       "      <td>3.0</td>\n",
       "    </tr>\n",
       "  </tbody>\n",
       "</table>\n",
       "</div>"
      ],
      "text/plain": [
       "              店名 主打菜特色 食材是否新鲜 调料是否有特色 价格是否划算 店内环境  sum\n",
       "0         老北京涮羊肉     0      1       1      1    1  4.0\n",
       "1  鲜上鲜文鱼庄(望庭国际店)     0      1       1      0    1  3.0\n",
       "2    大龙燚火锅(李家村店)     1      0       1      1    0  3.0\n",
       "3  鲜上鲜文鱼庄(阳阳国际店)     0      1       0      1    1  3.0\n",
       "4     大龙燚火锅(粉巷店)     0      1       0      1    1  3.0"
      ]
     },
     "execution_count": 5,
     "metadata": {},
     "output_type": "execute_result"
    }
   ],
   "source": [
    "\n",
    "df.iloc[:, 1:] = df.iloc[:, 1:].astype(int)\n",
    "df['sum'] = df.iloc[:, 1:].sum(axis=1)\n",
    "df.head()\n"
   ]
  },
  {
   "cell_type": "code",
   "execution_count": 6,
   "metadata": {
    "ExecuteTime": {
     "end_time": "2019-07-10T10:47:08.974859Z",
     "start_time": "2019-07-10T10:47:08.970844Z"
    }
   },
   "outputs": [],
   "source": [
    "def judge(x):\n",
    "    if x[6] >= 4 and x[2] == 1 and x[5] == 1:\n",
    "        return 1\n",
    "    else:\n",
    "        return 0\n"
   ]
  },
  {
   "cell_type": "code",
   "execution_count": 7,
   "metadata": {
    "ExecuteTime": {
     "end_time": "2019-07-10T10:47:11.189033Z",
     "start_time": "2019-07-10T10:47:10.825995Z"
    }
   },
   "outputs": [],
   "source": [
    "df['y'] = df.apply(judge, axis=1)\n",
    "del df['sum']\n",
    "df.head()\n",
    "df.to_excel(os.path.join(path, 'shops_nm_cleaned.xlsx'), encoding='utf8', index=False)\n"
   ]
  },
  {
   "cell_type": "markdown",
   "metadata": {},
   "source": [
    "## sklearn使用介绍"
   ]
  },
  {
   "cell_type": "code",
   "execution_count": 8,
   "metadata": {
    "ExecuteTime": {
     "end_time": "2019-07-10T10:47:37.796706Z",
     "start_time": "2019-07-10T10:47:37.561641Z"
    }
   },
   "outputs": [],
   "source": [
    "from sklearn import tree\n",
    "from sklearn.model_selection import train_test_split"
   ]
  },
  {
   "cell_type": "code",
   "execution_count": 9,
   "metadata": {
    "ExecuteTime": {
     "end_time": "2019-07-10T10:47:49.532673Z",
     "start_time": "2019-07-10T10:47:49.426672Z"
    }
   },
   "outputs": [
    {
     "data": {
      "text/html": [
       "<div>\n",
       "<style>\n",
       "    .dataframe thead tr:only-child th {\n",
       "        text-align: right;\n",
       "    }\n",
       "\n",
       "    .dataframe thead th {\n",
       "        text-align: left;\n",
       "    }\n",
       "\n",
       "    .dataframe tbody tr th {\n",
       "        vertical-align: top;\n",
       "    }\n",
       "</style>\n",
       "<table border=\"1\" class=\"dataframe\">\n",
       "  <thead>\n",
       "    <tr style=\"text-align: right;\">\n",
       "      <th></th>\n",
       "      <th>店名</th>\n",
       "      <th>主打菜特色</th>\n",
       "      <th>食材是否新鲜</th>\n",
       "      <th>调料是否有特色</th>\n",
       "      <th>价格是否划算</th>\n",
       "      <th>店内环境</th>\n",
       "      <th>y</th>\n",
       "    </tr>\n",
       "  </thead>\n",
       "  <tbody>\n",
       "    <tr>\n",
       "      <th>0</th>\n",
       "      <td>老北京涮羊肉</td>\n",
       "      <td>0</td>\n",
       "      <td>1</td>\n",
       "      <td>1</td>\n",
       "      <td>1</td>\n",
       "      <td>1</td>\n",
       "      <td>1</td>\n",
       "    </tr>\n",
       "    <tr>\n",
       "      <th>1</th>\n",
       "      <td>鲜上鲜文鱼庄(望庭国际店)</td>\n",
       "      <td>0</td>\n",
       "      <td>1</td>\n",
       "      <td>1</td>\n",
       "      <td>0</td>\n",
       "      <td>1</td>\n",
       "      <td>0</td>\n",
       "    </tr>\n",
       "    <tr>\n",
       "      <th>2</th>\n",
       "      <td>大龙燚火锅(李家村店)</td>\n",
       "      <td>1</td>\n",
       "      <td>0</td>\n",
       "      <td>1</td>\n",
       "      <td>1</td>\n",
       "      <td>0</td>\n",
       "      <td>0</td>\n",
       "    </tr>\n",
       "    <tr>\n",
       "      <th>3</th>\n",
       "      <td>鲜上鲜文鱼庄(阳阳国际店)</td>\n",
       "      <td>0</td>\n",
       "      <td>1</td>\n",
       "      <td>0</td>\n",
       "      <td>1</td>\n",
       "      <td>1</td>\n",
       "      <td>0</td>\n",
       "    </tr>\n",
       "    <tr>\n",
       "      <th>4</th>\n",
       "      <td>大龙燚火锅(粉巷店)</td>\n",
       "      <td>0</td>\n",
       "      <td>1</td>\n",
       "      <td>0</td>\n",
       "      <td>1</td>\n",
       "      <td>1</td>\n",
       "      <td>0</td>\n",
       "    </tr>\n",
       "  </tbody>\n",
       "</table>\n",
       "</div>"
      ],
      "text/plain": [
       "              店名  主打菜特色  食材是否新鲜  调料是否有特色  价格是否划算  店内环境  y\n",
       "0         老北京涮羊肉      0       1        1       1     1  1\n",
       "1  鲜上鲜文鱼庄(望庭国际店)      0       1        1       0     1  0\n",
       "2    大龙燚火锅(李家村店)      1       0        1       1     0  0\n",
       "3  鲜上鲜文鱼庄(阳阳国际店)      0       1        0       1     1  0\n",
       "4     大龙燚火锅(粉巷店)      0       1        0       1     1  0"
      ]
     },
     "execution_count": 9,
     "metadata": {},
     "output_type": "execute_result"
    }
   ],
   "source": [
    "## 第一步：数据准备\n",
    "data = pd.read_excel(os.path.join(path, 'shops_nm_cleaned.xlsx'), encoding='utf8')\n",
    "data.head()"
   ]
  },
  {
   "cell_type": "code",
   "execution_count": 10,
   "metadata": {
    "ExecuteTime": {
     "end_time": "2019-07-10T10:47:53.400260Z",
     "start_time": "2019-07-10T10:47:53.364258Z"
    }
   },
   "outputs": [
    {
     "name": "stdout",
     "output_type": "stream",
     "text": [
      "训练集的自变量维度: (489, 5), 因变量维度: (489,)\n",
      "\n",
      "验证集的自变量维度: (147, 5), 因变量维度: (147,)\n",
      "\n",
      "测试集的自变量维度: (63, 5), 因变量维度: (63,)\n",
      "\n"
     ]
    }
   ],
   "source": [
    "## 第二步：划分训练集、验证集、测试集\n",
    "X_train, X_val, y_train, y_val = train_test_split(data.iloc[:, 1:-1], data.iloc[:, -1], test_size=0.3, random_state=0)\n",
    "X_val, X_test, y_val, y_test = train_test_split(X_val, y_val, test_size=0.3, random_state=0)\n",
    "print('训练集的自变量维度: {}, 因变量维度: {}\\n'.format(X_train.shape, y_train.shape))\n",
    "print('验证集的自变量维度: {}, 因变量维度: {}\\n'.format(X_val.shape, y_val.shape))\n",
    "print('测试集的自变量维度: {}, 因变量维度: {}\\n'.format(X_test.shape, y_test.shape))"
   ]
  },
  {
   "cell_type": "code",
   "execution_count": 11,
   "metadata": {},
   "outputs": [
    {
     "name": "stdout",
     "output_type": "stream",
     "text": [
      "1.0\n"
     ]
    },
    {
     "data": {
      "text/plain": [
       "array([0, 0, 0, 0, 0, 0, 0, 0, 0, 0, 0, 0, 0, 0, 0, 0, 1, 0, 0, 0, 0, 0,\n",
       "       0, 0, 0, 0, 0, 0, 0, 0, 1, 0, 0, 0, 0, 0, 0, 0, 0, 0, 0, 0, 0, 0,\n",
       "       0, 1, 0, 0, 0, 0, 0, 0, 0, 0, 1, 0, 0, 0, 0, 0, 0, 0, 0, 1, 0, 0,\n",
       "       0, 0, 0, 0, 0, 0, 0, 0, 1, 0, 0, 0, 1, 0, 0, 0, 1, 0, 0, 0, 0, 0,\n",
       "       1, 0, 0, 0, 0, 1, 0, 0, 0, 0, 0, 0, 1, 1, 0, 0, 0, 0, 0, 1, 1, 0,\n",
       "       0, 0, 0, 0, 0, 1, 0, 0, 0, 0, 0, 0, 0, 0, 1, 0, 0, 0, 0, 0, 0, 0,\n",
       "       0, 0, 0, 0, 0, 0, 0, 0, 0, 0, 0, 0, 0, 0, 0])"
      ]
     },
     "execution_count": 11,
     "metadata": {},
     "output_type": "execute_result"
    }
   ],
   "source": [
    "## 第三步：训练模型\n",
    "clf = tree.DecisionTreeClassifier()    #初始化决策树分类器\n",
    "clf = clf.fit(X_train, y_train)             #训练样本\n",
    "print(clf.score(X_val, y_val))            #在验证集上计算平均准确率\n",
    "clf.predict(X_val)                           #预测样本"
   ]
  },
  {
   "cell_type": "code",
   "execution_count": 12,
   "metadata": {},
   "outputs": [
    {
     "name": "stdout",
     "output_type": "stream",
     "text": [
      "1.0\n",
      "1.0\n",
      "1.0\n"
     ]
    }
   ],
   "source": [
    "## 第四步：模型评估\n",
    "from sklearn.metrics import recall_score, precision_score, accuracy_score \n",
    "\n",
    "y_val_predict = clf.predict(X_val)\n",
    "\n",
    "print(accuracy_score(y_val, y_val_predict))\n",
    "print(recall_score(y_val, y_val_predict)) \n",
    "print(precision_score(y_val, y_val_predict))"
   ]
  },
  {
   "cell_type": "code",
   "execution_count": 13,
   "metadata": {
    "ExecuteTime": {
     "end_time": "2019-07-10T10:48:05.690485Z",
     "start_time": "2019-07-10T10:48:05.631487Z"
    }
   },
   "outputs": [
    {
     "name": "stdout",
     "output_type": "stream",
     "text": [
      "1.0\n"
     ]
    },
    {
     "data": {
      "text/plain": [
       "array([0, 0, 0, 0, 0, 0, 0, 0, 0, 0, 0, 0, 0, 0, 0, 0, 1, 0, 0, 0, 0, 0,\n",
       "       0, 0, 0, 0, 0, 0, 0, 0, 1, 0, 0, 0, 0, 0, 0, 0, 0, 0, 0, 0, 0, 0,\n",
       "       0, 1, 0, 0, 0, 0, 0, 0, 0, 0, 1, 0, 0, 0, 0, 0, 0, 0, 0, 1, 0, 0,\n",
       "       0, 0, 0, 0, 0, 0, 0, 0, 1, 0, 0, 0, 1, 0, 0, 0, 1, 0, 0, 0, 0, 0,\n",
       "       1, 0, 0, 0, 0, 1, 0, 0, 0, 0, 0, 0, 1, 1, 0, 0, 0, 0, 0, 1, 1, 0,\n",
       "       0, 0, 0, 0, 0, 1, 0, 0, 0, 0, 0, 0, 0, 0, 1, 0, 0, 0, 0, 0, 0, 0,\n",
       "       0, 0, 0, 0, 0, 0, 0, 0, 0, 0, 0, 0, 0, 0, 0])"
      ]
     },
     "execution_count": 13,
     "metadata": {},
     "output_type": "execute_result"
    }
   ],
   "source": [
    "## 第五步：模型调参\n",
    "\n",
    "#5.1样本加权训练\n",
    "clf = tree.DecisionTreeClassifier(class_weight=\"balanced\")     #初始化决策树分类器\n",
    "clf = clf.fit(X_train, y_train)        #训练样本\n",
    "print(clf.score(X_val, y_val))       #在验证集上计算平均准确率 \n",
    "clf.predict(X_val)                      #预测样本"
   ]
  },
  {
   "cell_type": "code",
   "execution_count": 14,
   "metadata": {},
   "outputs": [
    {
     "data": {
      "text/plain": [
       "[[2, 0.8775510204081632],\n",
       " [3, 0.8775510204081632],\n",
       " [4, 0.9455782312925171],\n",
       " [5, 1.0],\n",
       " [6, 1.0],\n",
       " [7, 1.0],\n",
       " [8, 1.0],\n",
       " [9, 1.0]]"
      ]
     },
     "execution_count": 14,
     "metadata": {},
     "output_type": "execute_result"
    }
   ],
   "source": [
    "#5.2调整决策树深度\n",
    "max_depths = [depth for depth in range(2, 10)] \n",
    "accuracy = [ ]\n",
    "for max_depth in max_depths:\n",
    "    clf = tree.DecisionTreeClassifier(class_weight=\"balanced\", max_depth=max_depth) \n",
    "    clf = clf.fit(X_train, y_train)\n",
    "    acc = clf.score(X_val, y_val)\n",
    "    accuracy.append([max_depth, acc])\n",
    "\n",
    "accuracy"
   ]
  },
  {
   "cell_type": "code",
   "execution_count": 15,
   "metadata": {},
   "outputs": [
    {
     "data": {
      "text/plain": [
       "[[2,\n",
       "  0.8775510204081632,\n",
       "  array([0.        , 0.53861818, 0.        , 0.        , 0.46138182])],\n",
       " [3,\n",
       "  0.8775510204081632,\n",
       "  array([0.        , 0.51617872, 0.        , 0.04166117, 0.44216011])],\n",
       " [4,\n",
       "  0.9455782312925171,\n",
       "  array([0.10033871, 0.46438601, 0.        , 0.03748094, 0.39779433])],\n",
       " [5, 1.0, array([0.09035549, 0.41818182, 0.09949523, 0.03375177, 0.3582157 ])],\n",
       " [6, 1.0, array([0.09035549, 0.41818182, 0.09949523, 0.03375177, 0.3582157 ])],\n",
       " [7, 1.0, array([0.09035549, 0.41818182, 0.09949523, 0.03375177, 0.3582157 ])],\n",
       " [8, 1.0, array([0.09035549, 0.41818182, 0.09949523, 0.03375177, 0.3582157 ])],\n",
       " [9, 1.0, array([0.09035549, 0.41818182, 0.09949523, 0.03375177, 0.3582157 ])]]"
      ]
     },
     "execution_count": 15,
     "metadata": {},
     "output_type": "execute_result"
    }
   ],
   "source": [
    "#5.3特征重要程度分析\n",
    "max_depths = [depth for depth in range(2, 10)]\n",
    "accuracy = []\n",
    "for max_depth in max_depths:\n",
    "    clf = tree.DecisionTreeClassifier(class_weight=\"balanced\", max_depth=max_depth)\n",
    "    clf = clf.fit(X_train, y_train)\n",
    "    acc = clf.score(X_val, y_val)\n",
    "    importance_ = clf.feature_importances_\n",
    "    accuracy.append([max_depth, acc, importance_])\n",
    "\n",
    "accuracy"
   ]
  },
  {
   "cell_type": "code",
   "execution_count": 16,
   "metadata": {
    "ExecuteTime": {
     "end_time": "2019-07-10T11:44:15.534236Z",
     "start_time": "2019-07-10T11:44:14.690137Z"
    }
   },
   "outputs": [
    {
     "data": {
      "image/svg+xml": [
       "<?xml version=\"1.0\" encoding=\"UTF-8\" standalone=\"no\"?>\n",
       "<!DOCTYPE svg PUBLIC \"-//W3C//DTD SVG 1.1//EN\"\n",
       " \"http://www.w3.org/Graphics/SVG/1.1/DTD/svg11.dtd\">\n",
       "<!-- Generated by graphviz version 2.40.1 (20161225.0304)\n",
       " -->\n",
       "<!-- Title: Tree Pages: 1 -->\n",
       "<svg width=\"639pt\" height=\"558pt\"\n",
       " viewBox=\"0.00 0.00 638.54 558.00\" xmlns=\"http://www.w3.org/2000/svg\" xmlns:xlink=\"http://www.w3.org/1999/xlink\">\n",
       "<g id=\"graph0\" class=\"graph\" transform=\"scale(1 1) rotate(0) translate(4 554)\">\n",
       "<title>Tree</title>\n",
       "<polygon fill=\"#ffffff\" stroke=\"transparent\" points=\"-4,4 -4,-554 634.5371,-554 634.5371,4 -4,4\"/>\n",
       "<!-- 0 -->\n",
       "<g id=\"node1\" class=\"node\">\n",
       "<title>0</title>\n",
       "<polygon fill=\"none\" stroke=\"#000000\" points=\"223.3064,-550 83.2307,-550 83.2307,-486 223.3064,-486 223.3064,-550\"/>\n",
       "<text text-anchor=\"middle\" x=\"153.2686\" y=\"-534.8\" font-family=\"Times,serif\" font-size=\"14.00\" fill=\"#000000\">X[1] &lt;= 0.5</text>\n",
       "<text text-anchor=\"middle\" x=\"153.2686\" y=\"-520.8\" font-family=\"Times,serif\" font-size=\"14.00\" fill=\"#000000\">gini = 0.5</text>\n",
       "<text text-anchor=\"middle\" x=\"153.2686\" y=\"-506.8\" font-family=\"Times,serif\" font-size=\"14.00\" fill=\"#000000\">samples = 489</text>\n",
       "<text text-anchor=\"middle\" x=\"153.2686\" y=\"-492.8\" font-family=\"Times,serif\" font-size=\"14.00\" fill=\"#000000\">value = [244.5, 244.5]</text>\n",
       "</g>\n",
       "<!-- 1 -->\n",
       "<g id=\"node2\" class=\"node\">\n",
       "<title>1</title>\n",
       "<polygon fill=\"none\" stroke=\"#000000\" points=\"140.3064,-443 .2307,-443 .2307,-393 140.3064,-393 140.3064,-443\"/>\n",
       "<text text-anchor=\"middle\" x=\"70.2686\" y=\"-427.8\" font-family=\"Times,serif\" font-size=\"14.00\" fill=\"#000000\">gini = 0.0</text>\n",
       "<text text-anchor=\"middle\" x=\"70.2686\" y=\"-413.8\" font-family=\"Times,serif\" font-size=\"14.00\" fill=\"#000000\">samples = 253</text>\n",
       "<text text-anchor=\"middle\" x=\"70.2686\" y=\"-399.8\" font-family=\"Times,serif\" font-size=\"14.00\" fill=\"#000000\">value = [144.192, 0.0]</text>\n",
       "</g>\n",
       "<!-- 0&#45;&gt;1 -->\n",
       "<g id=\"edge1\" class=\"edge\">\n",
       "<title>0&#45;&gt;1</title>\n",
       "<path fill=\"none\" stroke=\"#000000\" d=\"M126.55,-485.8089C117.3216,-474.6904 106.9714,-462.2203 97.6878,-451.0352\"/>\n",
       "<polygon fill=\"#000000\" stroke=\"#000000\" points=\"100.2276,-448.615 91.1477,-443.1555 94.8412,-453.0857 100.2276,-448.615\"/>\n",
       "<text text-anchor=\"middle\" x=\"88.8352\" y=\"-463.8484\" font-family=\"Times,serif\" font-size=\"14.00\" fill=\"#000000\">True</text>\n",
       "</g>\n",
       "<!-- 2 -->\n",
       "<g id=\"node3\" class=\"node\">\n",
       "<title>2</title>\n",
       "<polygon fill=\"none\" stroke=\"#000000\" points=\"313.3064,-450 159.2308,-450 159.2308,-386 313.3064,-386 313.3064,-450\"/>\n",
       "<text text-anchor=\"middle\" x=\"236.2686\" y=\"-434.8\" font-family=\"Times,serif\" font-size=\"14.00\" fill=\"#000000\">X[4] &lt;= 0.5</text>\n",
       "<text text-anchor=\"middle\" x=\"236.2686\" y=\"-420.8\" font-family=\"Times,serif\" font-size=\"14.00\" fill=\"#000000\">gini = 0.413</text>\n",
       "<text text-anchor=\"middle\" x=\"236.2686\" y=\"-406.8\" font-family=\"Times,serif\" font-size=\"14.00\" fill=\"#000000\">samples = 236</text>\n",
       "<text text-anchor=\"middle\" x=\"236.2686\" y=\"-392.8\" font-family=\"Times,serif\" font-size=\"14.00\" fill=\"#000000\">value = [100.308, 244.5]</text>\n",
       "</g>\n",
       "<!-- 0&#45;&gt;2 -->\n",
       "<g id=\"edge2\" class=\"edge\">\n",
       "<title>0&#45;&gt;2</title>\n",
       "<path fill=\"none\" stroke=\"#000000\" d=\"M179.9871,-485.8089C187.3177,-476.9769 195.3561,-467.2921 203.0055,-458.0759\"/>\n",
       "<polygon fill=\"#000000\" stroke=\"#000000\" points=\"205.9065,-460.0609 209.6,-450.1308 200.5201,-455.5902 205.9065,-460.0609\"/>\n",
       "<text text-anchor=\"middle\" x=\"211.9125\" y=\"-470.8236\" font-family=\"Times,serif\" font-size=\"14.00\" fill=\"#000000\">False</text>\n",
       "</g>\n",
       "<!-- 3 -->\n",
       "<g id=\"node4\" class=\"node\">\n",
       "<title>3</title>\n",
       "<polygon fill=\"none\" stroke=\"#000000\" points=\"223.8065,-343 90.7306,-343 90.7306,-293 223.8065,-293 223.8065,-343\"/>\n",
       "<text text-anchor=\"middle\" x=\"157.2686\" y=\"-327.8\" font-family=\"Times,serif\" font-size=\"14.00\" fill=\"#000000\">gini = 0.0</text>\n",
       "<text text-anchor=\"middle\" x=\"157.2686\" y=\"-313.8\" font-family=\"Times,serif\" font-size=\"14.00\" fill=\"#000000\">samples = 122</text>\n",
       "<text text-anchor=\"middle\" x=\"157.2686\" y=\"-299.8\" font-family=\"Times,serif\" font-size=\"14.00\" fill=\"#000000\">value = [69.531, 0.0]</text>\n",
       "</g>\n",
       "<!-- 2&#45;&gt;3 -->\n",
       "<g id=\"edge3\" class=\"edge\">\n",
       "<title>2&#45;&gt;3</title>\n",
       "<path fill=\"none\" stroke=\"#000000\" d=\"M210.8376,-385.8089C202.0539,-374.6904 192.2026,-362.2203 183.3664,-351.0352\"/>\n",
       "<polygon fill=\"#000000\" stroke=\"#000000\" points=\"186.0869,-348.8327 177.1414,-343.1555 180.5941,-353.172 186.0869,-348.8327\"/>\n",
       "</g>\n",
       "<!-- 4 -->\n",
       "<g id=\"node5\" class=\"node\">\n",
       "<title>4</title>\n",
       "<polygon fill=\"none\" stroke=\"#000000\" points=\"389.8064,-350 242.7307,-350 242.7307,-286 389.8064,-286 389.8064,-350\"/>\n",
       "<text text-anchor=\"middle\" x=\"316.2686\" y=\"-334.8\" font-family=\"Times,serif\" font-size=\"14.00\" fill=\"#000000\">X[3] &lt;= 0.5</text>\n",
       "<text text-anchor=\"middle\" x=\"316.2686\" y=\"-320.8\" font-family=\"Times,serif\" font-size=\"14.00\" fill=\"#000000\">gini = 0.199</text>\n",
       "<text text-anchor=\"middle\" x=\"316.2686\" y=\"-306.8\" font-family=\"Times,serif\" font-size=\"14.00\" fill=\"#000000\">samples = 114</text>\n",
       "<text text-anchor=\"middle\" x=\"316.2686\" y=\"-292.8\" font-family=\"Times,serif\" font-size=\"14.00\" fill=\"#000000\">value = [30.776, 244.5]</text>\n",
       "</g>\n",
       "<!-- 2&#45;&gt;4 -->\n",
       "<g id=\"edge4\" class=\"edge\">\n",
       "<title>2&#45;&gt;4</title>\n",
       "<path fill=\"none\" stroke=\"#000000\" d=\"M262.0214,-385.8089C269.0871,-376.9769 276.8349,-367.2921 284.2078,-358.0759\"/>\n",
       "<polygon fill=\"#000000\" stroke=\"#000000\" points=\"287.05,-360.1259 290.5639,-350.1308 281.5839,-355.753 287.05,-360.1259\"/>\n",
       "</g>\n",
       "<!-- 5 -->\n",
       "<g id=\"node6\" class=\"node\">\n",
       "<title>5</title>\n",
       "<polygon fill=\"none\" stroke=\"#000000\" points=\"306.8064,-250 159.7307,-250 159.7307,-186 306.8064,-186 306.8064,-250\"/>\n",
       "<text text-anchor=\"middle\" x=\"233.2686\" y=\"-234.8\" font-family=\"Times,serif\" font-size=\"14.00\" fill=\"#000000\">X[0] &lt;= 0.5</text>\n",
       "<text text-anchor=\"middle\" x=\"233.2686\" y=\"-220.8\" font-family=\"Times,serif\" font-size=\"14.00\" fill=\"#000000\">gini = 0.42</text>\n",
       "<text text-anchor=\"middle\" x=\"233.2686\" y=\"-206.8\" font-family=\"Times,serif\" font-size=\"14.00\" fill=\"#000000\">samples = 57</text>\n",
       "<text text-anchor=\"middle\" x=\"233.2686\" y=\"-192.8\" font-family=\"Times,serif\" font-size=\"14.00\" fill=\"#000000\">value = [24.507, 57.05]</text>\n",
       "</g>\n",
       "<!-- 4&#45;&gt;5 -->\n",
       "<g id=\"edge5\" class=\"edge\">\n",
       "<title>4&#45;&gt;5</title>\n",
       "<path fill=\"none\" stroke=\"#000000\" d=\"M289.55,-285.8089C282.2194,-276.9769 274.181,-267.2921 266.5316,-258.0759\"/>\n",
       "<polygon fill=\"#000000\" stroke=\"#000000\" points=\"269.017,-255.5902 259.9371,-250.1308 263.6306,-260.0609 269.017,-255.5902\"/>\n",
       "</g>\n",
       "<!-- 10 -->\n",
       "<g id=\"node11\" class=\"node\">\n",
       "<title>10</title>\n",
       "<polygon fill=\"none\" stroke=\"#000000\" points=\"472.8064,-250 325.7307,-250 325.7307,-186 472.8064,-186 472.8064,-250\"/>\n",
       "<text text-anchor=\"middle\" x=\"399.2686\" y=\"-234.8\" font-family=\"Times,serif\" font-size=\"14.00\" fill=\"#000000\">X[0] &lt;= 0.5</text>\n",
       "<text text-anchor=\"middle\" x=\"399.2686\" y=\"-220.8\" font-family=\"Times,serif\" font-size=\"14.00\" fill=\"#000000\">gini = 0.063</text>\n",
       "<text text-anchor=\"middle\" x=\"399.2686\" y=\"-206.8\" font-family=\"Times,serif\" font-size=\"14.00\" fill=\"#000000\">samples = 57</text>\n",
       "<text text-anchor=\"middle\" x=\"399.2686\" y=\"-192.8\" font-family=\"Times,serif\" font-size=\"14.00\" fill=\"#000000\">value = [6.269, 187.45]</text>\n",
       "</g>\n",
       "<!-- 4&#45;&gt;10 -->\n",
       "<g id=\"edge10\" class=\"edge\">\n",
       "<title>4&#45;&gt;10</title>\n",
       "<path fill=\"none\" stroke=\"#000000\" d=\"M342.9871,-285.8089C350.3177,-276.9769 358.3561,-267.2921 366.0055,-258.0759\"/>\n",
       "<polygon fill=\"#000000\" stroke=\"#000000\" points=\"368.9065,-260.0609 372.6,-250.1308 363.5201,-255.5902 368.9065,-260.0609\"/>\n",
       "</g>\n",
       "<!-- 6 -->\n",
       "<g id=\"node7\" class=\"node\">\n",
       "<title>6</title>\n",
       "<polygon fill=\"none\" stroke=\"#000000\" points=\"146.8065,-143 13.7306,-143 13.7306,-93 146.8065,-93 146.8065,-143\"/>\n",
       "<text text-anchor=\"middle\" x=\"80.2686\" y=\"-127.8\" font-family=\"Times,serif\" font-size=\"14.00\" fill=\"#000000\">gini = &#45;0.0</text>\n",
       "<text text-anchor=\"middle\" x=\"80.2686\" y=\"-113.8\" font-family=\"Times,serif\" font-size=\"14.00\" fill=\"#000000\">samples = 30</text>\n",
       "<text text-anchor=\"middle\" x=\"80.2686\" y=\"-99.8\" font-family=\"Times,serif\" font-size=\"14.00\" fill=\"#000000\">value = [17.098, 0.0]</text>\n",
       "</g>\n",
       "<!-- 5&#45;&gt;6 -->\n",
       "<g id=\"edge6\" class=\"edge\">\n",
       "<title>5&#45;&gt;6</title>\n",
       "<path fill=\"none\" stroke=\"#000000\" d=\"M184.0162,-185.8089C165.8487,-173.9347 145.3228,-160.5191 127.3519,-148.7734\"/>\n",
       "<polygon fill=\"#000000\" stroke=\"#000000\" points=\"129.0421,-145.6969 118.7565,-143.1555 125.2123,-151.5563 129.0421,-145.6969\"/>\n",
       "</g>\n",
       "<!-- 7 -->\n",
       "<g id=\"node8\" class=\"node\">\n",
       "<title>7</title>\n",
       "<polygon fill=\"none\" stroke=\"#000000\" points=\"305.3064,-150 165.2307,-150 165.2307,-86 305.3064,-86 305.3064,-150\"/>\n",
       "<text text-anchor=\"middle\" x=\"235.2686\" y=\"-134.8\" font-family=\"Times,serif\" font-size=\"14.00\" fill=\"#000000\">X[2] &lt;= 0.5</text>\n",
       "<text text-anchor=\"middle\" x=\"235.2686\" y=\"-120.8\" font-family=\"Times,serif\" font-size=\"14.00\" fill=\"#000000\">gini = 0.203</text>\n",
       "<text text-anchor=\"middle\" x=\"235.2686\" y=\"-106.8\" font-family=\"Times,serif\" font-size=\"14.00\" fill=\"#000000\">samples = 27</text>\n",
       "<text text-anchor=\"middle\" x=\"235.2686\" y=\"-92.8\" font-family=\"Times,serif\" font-size=\"14.00\" fill=\"#000000\">value = [7.409, 57.05]</text>\n",
       "</g>\n",
       "<!-- 5&#45;&gt;7 -->\n",
       "<g id=\"edge7\" class=\"edge\">\n",
       "<title>5&#45;&gt;7</title>\n",
       "<path fill=\"none\" stroke=\"#000000\" d=\"M233.9124,-185.8089C234.0747,-177.6906 234.2515,-168.8517 234.4222,-160.3186\"/>\n",
       "<polygon fill=\"#000000\" stroke=\"#000000\" points=\"237.9252,-160.1988 234.6259,-150.1308 230.9266,-160.0587 237.9252,-160.1988\"/>\n",
       "</g>\n",
       "<!-- 8 -->\n",
       "<g id=\"node9\" class=\"node\">\n",
       "<title>8</title>\n",
       "<polygon fill=\"none\" stroke=\"#000000\" points=\"157.3065,-50 31.2306,-50 31.2306,0 157.3065,0 157.3065,-50\"/>\n",
       "<text text-anchor=\"middle\" x=\"94.2686\" y=\"-34.8\" font-family=\"Times,serif\" font-size=\"14.00\" fill=\"#000000\">gini = 0.0</text>\n",
       "<text text-anchor=\"middle\" x=\"94.2686\" y=\"-20.8\" font-family=\"Times,serif\" font-size=\"14.00\" fill=\"#000000\">samples = 13</text>\n",
       "<text text-anchor=\"middle\" x=\"94.2686\" y=\"-6.8\" font-family=\"Times,serif\" font-size=\"14.00\" fill=\"#000000\">value = [7.409, 0.0]</text>\n",
       "</g>\n",
       "<!-- 7&#45;&gt;8 -->\n",
       "<g id=\"edge8\" class=\"edge\">\n",
       "<title>7&#45;&gt;8</title>\n",
       "<path fill=\"none\" stroke=\"#000000\" d=\"M186.7444,-85.9947C171.8279,-76.1562 155.4531,-65.3558 140.6818,-55.613\"/>\n",
       "<polygon fill=\"#000000\" stroke=\"#000000\" points=\"142.4679,-52.5983 132.1931,-50.014 138.6137,-58.4417 142.4679,-52.5983\"/>\n",
       "</g>\n",
       "<!-- 9 -->\n",
       "<g id=\"node10\" class=\"node\">\n",
       "<title>9</title>\n",
       "<polygon fill=\"none\" stroke=\"#000000\" points=\"302.3065,-50 176.2306,-50 176.2306,0 302.3065,0 302.3065,-50\"/>\n",
       "<text text-anchor=\"middle\" x=\"239.2686\" y=\"-34.8\" font-family=\"Times,serif\" font-size=\"14.00\" fill=\"#000000\">gini = &#45;0.0</text>\n",
       "<text text-anchor=\"middle\" x=\"239.2686\" y=\"-20.8\" font-family=\"Times,serif\" font-size=\"14.00\" fill=\"#000000\">samples = 14</text>\n",
       "<text text-anchor=\"middle\" x=\"239.2686\" y=\"-6.8\" font-family=\"Times,serif\" font-size=\"14.00\" fill=\"#000000\">value = [0.0, 57.05]</text>\n",
       "</g>\n",
       "<!-- 7&#45;&gt;9 -->\n",
       "<g id=\"edge9\" class=\"edge\">\n",
       "<title>7&#45;&gt;9</title>\n",
       "<path fill=\"none\" stroke=\"#000000\" d=\"M236.6451,-85.9947C237.005,-77.6273 237.3948,-68.5643 237.7611,-60.0478\"/>\n",
       "<polygon fill=\"#000000\" stroke=\"#000000\" points=\"241.2596,-60.1552 238.1927,-50.014 234.2661,-59.8544 241.2596,-60.1552\"/>\n",
       "</g>\n",
       "<!-- 11 -->\n",
       "<g id=\"node12\" class=\"node\">\n",
       "<title>11</title>\n",
       "<polygon fill=\"none\" stroke=\"#000000\" points=\"471.8064,-150 324.7307,-150 324.7307,-86 471.8064,-86 471.8064,-150\"/>\n",
       "<text text-anchor=\"middle\" x=\"398.2686\" y=\"-134.8\" font-family=\"Times,serif\" font-size=\"14.00\" fill=\"#000000\">X[2] &lt;= 0.5</text>\n",
       "<text text-anchor=\"middle\" x=\"398.2686\" y=\"-120.8\" font-family=\"Times,serif\" font-size=\"14.00\" fill=\"#000000\">gini = 0.189</text>\n",
       "<text text-anchor=\"middle\" x=\"398.2686\" y=\"-106.8\" font-family=\"Times,serif\" font-size=\"14.00\" fill=\"#000000\">samples = 24</text>\n",
       "<text text-anchor=\"middle\" x=\"398.2686\" y=\"-92.8\" font-family=\"Times,serif\" font-size=\"14.00\" fill=\"#000000\">value = [6.269, 52.975]</text>\n",
       "</g>\n",
       "<!-- 10&#45;&gt;11 -->\n",
       "<g id=\"edge11\" class=\"edge\">\n",
       "<title>10&#45;&gt;11</title>\n",
       "<path fill=\"none\" stroke=\"#000000\" d=\"M398.9466,-185.8089C398.8655,-177.6906 398.7771,-168.8517 398.6917,-160.3186\"/>\n",
       "<polygon fill=\"#000000\" stroke=\"#000000\" points=\"402.1898,-160.0952 398.5899,-150.1308 395.1901,-160.1653 402.1898,-160.0952\"/>\n",
       "</g>\n",
       "<!-- 14 -->\n",
       "<g id=\"node15\" class=\"node\">\n",
       "<title>14</title>\n",
       "<polygon fill=\"none\" stroke=\"#000000\" points=\"630.3064,-143 490.2307,-143 490.2307,-93 630.3064,-93 630.3064,-143\"/>\n",
       "<text text-anchor=\"middle\" x=\"560.2686\" y=\"-127.8\" font-family=\"Times,serif\" font-size=\"14.00\" fill=\"#000000\">gini = 0.0</text>\n",
       "<text text-anchor=\"middle\" x=\"560.2686\" y=\"-113.8\" font-family=\"Times,serif\" font-size=\"14.00\" fill=\"#000000\">samples = 33</text>\n",
       "<text text-anchor=\"middle\" x=\"560.2686\" y=\"-99.8\" font-family=\"Times,serif\" font-size=\"14.00\" fill=\"#000000\">value = [0.0, 134.475]</text>\n",
       "</g>\n",
       "<!-- 10&#45;&gt;14 -->\n",
       "<g id=\"edge14\" class=\"edge\">\n",
       "<title>10&#45;&gt;14</title>\n",
       "<path fill=\"none\" stroke=\"#000000\" d=\"M451.0962,-185.8089C470.3874,-173.8268 492.2057,-160.2751 511.2385,-148.4535\"/>\n",
       "<polygon fill=\"#000000\" stroke=\"#000000\" points=\"513.1201,-151.405 519.7681,-143.1555 509.4266,-145.4587 513.1201,-151.405\"/>\n",
       "</g>\n",
       "<!-- 12 -->\n",
       "<g id=\"node13\" class=\"node\">\n",
       "<title>12</title>\n",
       "<polygon fill=\"none\" stroke=\"#000000\" points=\"457.3065,-50 331.2306,-50 331.2306,0 457.3065,0 457.3065,-50\"/>\n",
       "<text text-anchor=\"middle\" x=\"394.2686\" y=\"-34.8\" font-family=\"Times,serif\" font-size=\"14.00\" fill=\"#000000\">gini = 0.0</text>\n",
       "<text text-anchor=\"middle\" x=\"394.2686\" y=\"-20.8\" font-family=\"Times,serif\" font-size=\"14.00\" fill=\"#000000\">samples = 11</text>\n",
       "<text text-anchor=\"middle\" x=\"394.2686\" y=\"-6.8\" font-family=\"Times,serif\" font-size=\"14.00\" fill=\"#000000\">value = [6.269, 0.0]</text>\n",
       "</g>\n",
       "<!-- 11&#45;&gt;12 -->\n",
       "<g id=\"edge12\" class=\"edge\">\n",
       "<title>11&#45;&gt;12</title>\n",
       "<path fill=\"none\" stroke=\"#000000\" d=\"M396.892,-85.9947C396.5321,-77.6273 396.1423,-68.5643 395.776,-60.0478\"/>\n",
       "<polygon fill=\"#000000\" stroke=\"#000000\" points=\"399.271,-59.8544 395.3444,-50.014 392.2775,-60.1552 399.271,-59.8544\"/>\n",
       "</g>\n",
       "<!-- 13 -->\n",
       "<g id=\"node14\" class=\"node\">\n",
       "<title>13</title>\n",
       "<polygon fill=\"none\" stroke=\"#000000\" points=\"608.8065,-50 475.7306,-50 475.7306,0 608.8065,0 608.8065,-50\"/>\n",
       "<text text-anchor=\"middle\" x=\"542.2686\" y=\"-34.8\" font-family=\"Times,serif\" font-size=\"14.00\" fill=\"#000000\">gini = 0.0</text>\n",
       "<text text-anchor=\"middle\" x=\"542.2686\" y=\"-20.8\" font-family=\"Times,serif\" font-size=\"14.00\" fill=\"#000000\">samples = 13</text>\n",
       "<text text-anchor=\"middle\" x=\"542.2686\" y=\"-6.8\" font-family=\"Times,serif\" font-size=\"14.00\" fill=\"#000000\">value = [0.0, 52.975]</text>\n",
       "</g>\n",
       "<!-- 11&#45;&gt;13 -->\n",
       "<g id=\"edge13\" class=\"edge\">\n",
       "<title>11&#45;&gt;13</title>\n",
       "<path fill=\"none\" stroke=\"#000000\" d=\"M447.8252,-85.9947C463.059,-76.1562 479.7822,-65.3558 494.8678,-55.613\"/>\n",
       "<polygon fill=\"#000000\" stroke=\"#000000\" points=\"497.0356,-58.3795 503.5372,-50.014 493.2379,-52.4992 497.0356,-58.3795\"/>\n",
       "</g>\n",
       "</g>\n",
       "</svg>\n"
      ],
      "text/plain": [
       "<graphviz.files.Source at 0x10e37e668>"
      ]
     },
     "execution_count": 16,
     "metadata": {},
     "output_type": "execute_result"
    }
   ],
   "source": [
    "# 第六步：决策过程可视化\n",
    "model_path = '../model'\n",
    "\n",
    "import graphviz\n",
    "dot_data = tree.export_graphviz(clf, out_file=None)\n",
    "graph = graphviz.Source(dot_data)\n",
    "graph.render(os.path.join(model_path, 'decision'))\n",
    "graph  "
   ]
  },
  {
   "cell_type": "code",
   "execution_count": 17,
   "metadata": {
    "ExecuteTime": {
     "end_time": "2019-07-10T11:44:49.573794Z",
     "start_time": "2019-07-10T11:44:49.561793Z"
    }
   },
   "outputs": [
    {
     "data": {
      "text/plain": [
       "['/Users/lichunyan/Downloads/clf.pkl']"
      ]
     },
     "execution_count": 17,
     "metadata": {},
     "output_type": "execute_result"
    }
   ],
   "source": [
    "# 第七步：模型导出\n",
    "from sklearn.externals import joblib\n",
    "\n",
    "files = os.listdir(model_path)\n",
    "if 'clf.pkl' not in files:\n",
    "    f = open(os.path.join(model_path, 'clf.pkl'), 'wb+')\n",
    "    f.close()\n",
    "\n",
    "joblib.dump(clf, os.path.join(model_path, 'clf.pkl'))"
   ]
  },
  {
   "cell_type": "code",
   "execution_count": 18,
   "metadata": {
    "ExecuteTime": {
     "end_time": "2019-07-10T11:44:56.978790Z",
     "start_time": "2019-07-10T11:44:56.968781Z"
    }
   },
   "outputs": [
    {
     "data": {
      "text/plain": [
       "1.0"
      ]
     },
     "execution_count": 18,
     "metadata": {},
     "output_type": "execute_result"
    }
   ],
   "source": [
    "# 模型加载\n",
    "load_clf = joblib.load(os.path.join(model_path, 'clf.pkl'))\n",
    "load_clf.score(X_test, y_test)"
   ]
  }
 ],
 "metadata": {
  "hide_input": false,
  "kernelspec": {
   "display_name": "Python 3",
   "language": "python",
   "name": "python3"
  },
  "language_info": {
   "codemirror_mode": {
    "name": "ipython",
    "version": 3
   },
   "file_extension": ".py",
   "mimetype": "text/x-python",
   "name": "python",
   "nbconvert_exporter": "python",
   "pygments_lexer": "ipython3",
   "version": "3.6.6"
  },
  "latex_envs": {
   "LaTeX_envs_menu_present": true,
   "autoclose": false,
   "autocomplete": true,
   "bibliofile": "biblio.bib",
   "cite_by": "apalike",
   "current_citInitial": 1,
   "eqLabelWithNumbers": true,
   "eqNumInitial": 1,
   "hotkeys": {
    "equation": "Ctrl-E",
    "itemize": "Ctrl-I"
   },
   "labels_anchors": false,
   "latex_user_defs": false,
   "report_style_numbering": false,
   "user_envs_cfg": false
  },
  "toc": {
   "nav_menu": {},
   "number_sections": true,
   "sideBar": true,
   "skip_h1_title": false,
   "toc_cell": true,
   "toc_position": {},
   "toc_section_display": "block",
   "toc_window_display": true
  },
  "varInspector": {
   "cols": {
    "lenName": 16,
    "lenType": 16,
    "lenVar": 40
   },
   "kernels_config": {
    "python": {
     "delete_cmd_postfix": "",
     "delete_cmd_prefix": "del ",
     "library": "var_list.py",
     "varRefreshCmd": "print(var_dic_list())"
    },
    "r": {
     "delete_cmd_postfix": ") ",
     "delete_cmd_prefix": "rm(",
     "library": "var_list.r",
     "varRefreshCmd": "cat(var_dic_list()) "
    }
   },
   "types_to_exclude": [
    "module",
    "function",
    "builtin_function_or_method",
    "instance",
    "_Feature"
   ],
   "window_display": false
  }
 },
 "nbformat": 4,
 "nbformat_minor": 2
}
