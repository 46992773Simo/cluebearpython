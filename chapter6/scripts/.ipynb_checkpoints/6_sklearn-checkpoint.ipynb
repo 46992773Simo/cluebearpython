{
 "cells": [
  {
   "cell_type": "markdown",
   "metadata": {
    "toc": true
   },
   "source": [
    "<h1>Table of Contents<span class=\"tocSkip\"></span></h1>\n",
    "<div class=\"toc\" style=\"margin-top: 1em;\"><ul class=\"toc-item\"></ul></div>"
   ]
  },
  {
   "cell_type": "code",
   "execution_count": 1,
   "metadata": {
    "ExecuteTime": {
     "end_time": "2019-07-10T10:46:04.468360Z",
     "start_time": "2019-07-10T10:46:03.649279Z"
    }
   },
   "outputs": [],
   "source": [
    "import os\n",
    "import pandas as pd\n",
    "import random\n",
    "import numpy as np"
   ]
  },
  {
   "cell_type": "code",
   "execution_count": 2,
   "metadata": {
    "ExecuteTime": {
     "end_time": "2019-07-10T10:46:28.657141Z",
     "start_time": "2019-07-10T10:46:28.203999Z"
    }
   },
   "outputs": [
    {
     "data": {
      "text/html": [
       "<div>\n",
       "<style scoped>\n",
       "    .dataframe tbody tr th:only-of-type {\n",
       "        vertical-align: middle;\n",
       "    }\n",
       "\n",
       "    .dataframe tbody tr th {\n",
       "        vertical-align: top;\n",
       "    }\n",
       "\n",
       "    .dataframe thead th {\n",
       "        text-align: right;\n",
       "    }\n",
       "</style>\n",
       "<table border=\"1\" class=\"dataframe\">\n",
       "  <thead>\n",
       "    <tr style=\"text-align: right;\">\n",
       "      <th></th>\n",
       "      <th>店名</th>\n",
       "      <th>关键词</th>\n",
       "      <th>城市</th>\n",
       "      <th>评分</th>\n",
       "      <th>评价数</th>\n",
       "      <th>人均</th>\n",
       "      <th>地址</th>\n",
       "      <th>营业时间</th>\n",
       "      <th>菜名</th>\n",
       "    </tr>\n",
       "  </thead>\n",
       "  <tbody>\n",
       "    <tr>\n",
       "      <th>0</th>\n",
       "      <td>老北京涮羊肉</td>\n",
       "      <td>火锅</td>\n",
       "      <td>xa</td>\n",
       "      <td>4.4</td>\n",
       "      <td>877.0</td>\n",
       "      <td>45.5</td>\n",
       "      <td>西安市雁塔区朱雀大街250号东方大酒店西门斜对面（子午路站下车向北走60米路西）</td>\n",
       "      <td>11:00-21:00</td>\n",
       "      <td>【羊肉】【豆腐】【麻酱】【精品肥牛】【粉丝】【羔羊肉】【牛肚】【油豆皮】【香菇】【豆皮】【土...</td>\n",
       "    </tr>\n",
       "    <tr>\n",
       "      <th>1</th>\n",
       "      <td>鲜上鲜文鱼庄(望庭国际店)</td>\n",
       "      <td>火锅</td>\n",
       "      <td>xa</td>\n",
       "      <td>4.6</td>\n",
       "      <td>535.0</td>\n",
       "      <td>56</td>\n",
       "      <td>西安市高新区高新路80号望庭国际一栋楼10106室</td>\n",
       "      <td>11:00-23:00</td>\n",
       "      <td>【菌菇大拼】【麻酱】【菠萝飞饼】【鸳鸯锅】【酸菜鸳鸯锅】【青菜】【毛肚】【文鱼】【菌汤】【鱼...</td>\n",
       "    </tr>\n",
       "    <tr>\n",
       "      <th>2</th>\n",
       "      <td>大龙燚火锅(李家村店)</td>\n",
       "      <td>火锅</td>\n",
       "      <td>xa</td>\n",
       "      <td>4.6</td>\n",
       "      <td>29.0</td>\n",
       "      <td>大概92左右</td>\n",
       "      <td>西安市碑林区雁塔北路时亿广场南座2楼李家村华润万家外</td>\n",
       "      <td>10:00-22:00</td>\n",
       "      <td>【手撕竹笋】【麻辣排骨】【砣砣牛肉】【菠萝飞饼】【鸭血】【四川金针菇】【麻辣牛肉】【贡菜】【...</td>\n",
       "    </tr>\n",
       "    <tr>\n",
       "      <th>3</th>\n",
       "      <td>鲜上鲜文鱼庄(阳阳国际店)</td>\n",
       "      <td>火锅</td>\n",
       "      <td>xa</td>\n",
       "      <td>4.6</td>\n",
       "      <td>906.0</td>\n",
       "      <td>56</td>\n",
       "      <td>西安市雁塔区朱雀大街132号阳阳国际广场C座2楼</td>\n",
       "      <td>11:00-22:00</td>\n",
       "      <td>【海带】【鸳鸯锅】【冻豆腐】【荷包豆腐】【生鱼片】【毛肚】【文鱼】【清汤锅】【山珍菌汤锅】【...</td>\n",
       "    </tr>\n",
       "    <tr>\n",
       "      <th>4</th>\n",
       "      <td>大龙燚火锅(粉巷店)</td>\n",
       "      <td>火锅</td>\n",
       "      <td>xa</td>\n",
       "      <td>4.6</td>\n",
       "      <td>2253.0</td>\n",
       "      <td>人均：100</td>\n",
       "      <td>西安市碑林区粉巷南院门15A南苑中央广场食尚南苑2F</td>\n",
       "      <td>周一至周日 10:00-21:00</td>\n",
       "      <td>【麻辣排骨】【千层毛肚】【鸳鸯锅】【鸭血】【天味香肠】【薄土豆】【功夫黄瓜】【清汤锅】【印度...</td>\n",
       "    </tr>\n",
       "  </tbody>\n",
       "</table>\n",
       "</div>"
      ],
      "text/plain": [
       "              店名 关键词  城市   评分     评价数      人均  \\\n",
       "0         老北京涮羊肉  火锅  xa  4.4   877.0    45.5   \n",
       "1  鲜上鲜文鱼庄(望庭国际店)  火锅  xa  4.6   535.0      56   \n",
       "2    大龙燚火锅(李家村店)  火锅  xa  4.6    29.0  大概92左右   \n",
       "3  鲜上鲜文鱼庄(阳阳国际店)  火锅  xa  4.6   906.0      56   \n",
       "4     大龙燚火锅(粉巷店)  火锅  xa  4.6  2253.0  人均：100   \n",
       "\n",
       "                                         地址               营业时间  \\\n",
       "0  西安市雁塔区朱雀大街250号东方大酒店西门斜对面（子午路站下车向北走60米路西）        11:00-21:00   \n",
       "1                 西安市高新区高新路80号望庭国际一栋楼10106室        11:00-23:00   \n",
       "2                西安市碑林区雁塔北路时亿广场南座2楼李家村华润万家外        10:00-22:00   \n",
       "3                  西安市雁塔区朱雀大街132号阳阳国际广场C座2楼        11:00-22:00   \n",
       "4                西安市碑林区粉巷南院门15A南苑中央广场食尚南苑2F  周一至周日 10:00-21:00   \n",
       "\n",
       "                                                  菜名  \n",
       "0  【羊肉】【豆腐】【麻酱】【精品肥牛】【粉丝】【羔羊肉】【牛肚】【油豆皮】【香菇】【豆皮】【土...  \n",
       "1  【菌菇大拼】【麻酱】【菠萝飞饼】【鸳鸯锅】【酸菜鸳鸯锅】【青菜】【毛肚】【文鱼】【菌汤】【鱼...  \n",
       "2  【手撕竹笋】【麻辣排骨】【砣砣牛肉】【菠萝飞饼】【鸭血】【四川金针菇】【麻辣牛肉】【贡菜】【...  \n",
       "3  【海带】【鸳鸯锅】【冻豆腐】【荷包豆腐】【生鱼片】【毛肚】【文鱼】【清汤锅】【山珍菌汤锅】【...  \n",
       "4  【麻辣排骨】【千层毛肚】【鸳鸯锅】【鸭血】【天味香肠】【薄土豆】【功夫黄瓜】【清汤锅】【印度...  "
      ]
     },
     "execution_count": 2,
     "metadata": {},
     "output_type": "execute_result"
    }
   ],
   "source": [
    "path = r'..\\data'\n",
    "origin_file = pd.read_excel(os.path.join(path, 'shops_nm.xlsx'), encoding='utf8')\n",
    "origin_file.head()"
   ]
  },
  {
   "cell_type": "code",
   "execution_count": 3,
   "metadata": {
    "ExecuteTime": {
     "end_time": "2019-07-10T10:46:39.390509Z",
     "start_time": "2019-07-10T10:46:39.355504Z"
    }
   },
   "outputs": [],
   "source": [
    "shop_names = np.array(list(origin_file['店名'])).reshape((len(origin_file), 1))\n",
    "features = np.random.binomial(1, 0.5, size=len(shop_names) * 5).reshape((len(shop_names), 5))\n",
    "shops = np.concatenate((shop_names, features), axis=1)"
   ]
  },
  {
   "cell_type": "code",
   "execution_count": 4,
   "metadata": {
    "ExecuteTime": {
     "end_time": "2019-07-10T10:46:45.653094Z",
     "start_time": "2019-07-10T10:46:45.636123Z"
    }
   },
   "outputs": [
    {
     "data": {
      "text/html": [
       "<div>\n",
       "<style scoped>\n",
       "    .dataframe tbody tr th:only-of-type {\n",
       "        vertical-align: middle;\n",
       "    }\n",
       "\n",
       "    .dataframe tbody tr th {\n",
       "        vertical-align: top;\n",
       "    }\n",
       "\n",
       "    .dataframe thead th {\n",
       "        text-align: right;\n",
       "    }\n",
       "</style>\n",
       "<table border=\"1\" class=\"dataframe\">\n",
       "  <thead>\n",
       "    <tr style=\"text-align: right;\">\n",
       "      <th></th>\n",
       "      <th>店名</th>\n",
       "      <th>主打菜特色</th>\n",
       "      <th>食材是否新鲜</th>\n",
       "      <th>调料是否有特色</th>\n",
       "      <th>价格是否划算</th>\n",
       "      <th>店内环境</th>\n",
       "    </tr>\n",
       "  </thead>\n",
       "  <tbody>\n",
       "    <tr>\n",
       "      <th>0</th>\n",
       "      <td>老北京涮羊肉</td>\n",
       "      <td>0</td>\n",
       "      <td>0</td>\n",
       "      <td>1</td>\n",
       "      <td>0</td>\n",
       "      <td>1</td>\n",
       "    </tr>\n",
       "    <tr>\n",
       "      <th>1</th>\n",
       "      <td>鲜上鲜文鱼庄(望庭国际店)</td>\n",
       "      <td>1</td>\n",
       "      <td>0</td>\n",
       "      <td>0</td>\n",
       "      <td>0</td>\n",
       "      <td>1</td>\n",
       "    </tr>\n",
       "    <tr>\n",
       "      <th>2</th>\n",
       "      <td>大龙燚火锅(李家村店)</td>\n",
       "      <td>0</td>\n",
       "      <td>0</td>\n",
       "      <td>1</td>\n",
       "      <td>0</td>\n",
       "      <td>0</td>\n",
       "    </tr>\n",
       "    <tr>\n",
       "      <th>3</th>\n",
       "      <td>鲜上鲜文鱼庄(阳阳国际店)</td>\n",
       "      <td>0</td>\n",
       "      <td>1</td>\n",
       "      <td>0</td>\n",
       "      <td>0</td>\n",
       "      <td>0</td>\n",
       "    </tr>\n",
       "    <tr>\n",
       "      <th>4</th>\n",
       "      <td>大龙燚火锅(粉巷店)</td>\n",
       "      <td>0</td>\n",
       "      <td>0</td>\n",
       "      <td>0</td>\n",
       "      <td>0</td>\n",
       "      <td>1</td>\n",
       "    </tr>\n",
       "  </tbody>\n",
       "</table>\n",
       "</div>"
      ],
      "text/plain": [
       "              店名 主打菜特色 食材是否新鲜 调料是否有特色 价格是否划算 店内环境\n",
       "0         老北京涮羊肉     0      0       1      0    1\n",
       "1  鲜上鲜文鱼庄(望庭国际店)     1      0       0      0    1\n",
       "2    大龙燚火锅(李家村店)     0      0       1      0    0\n",
       "3  鲜上鲜文鱼庄(阳阳国际店)     0      1       0      0    0\n",
       "4     大龙燚火锅(粉巷店)     0      0       0      0    1"
      ]
     },
     "execution_count": 4,
     "metadata": {},
     "output_type": "execute_result"
    }
   ],
   "source": [
    "\n",
    "df = pd.DataFrame(shops, columns=['店名', '主打菜特色', '食材是否新鲜', '调料是否有特色', '价格是否划算', '店内环境'])\n",
    "df.head()"
   ]
  },
  {
   "cell_type": "code",
   "execution_count": 5,
   "metadata": {
    "ExecuteTime": {
     "end_time": "2019-07-10T10:46:53.424230Z",
     "start_time": "2019-07-10T10:46:53.405299Z"
    }
   },
   "outputs": [
    {
     "data": {
      "text/html": [
       "<div>\n",
       "<style scoped>\n",
       "    .dataframe tbody tr th:only-of-type {\n",
       "        vertical-align: middle;\n",
       "    }\n",
       "\n",
       "    .dataframe tbody tr th {\n",
       "        vertical-align: top;\n",
       "    }\n",
       "\n",
       "    .dataframe thead th {\n",
       "        text-align: right;\n",
       "    }\n",
       "</style>\n",
       "<table border=\"1\" class=\"dataframe\">\n",
       "  <thead>\n",
       "    <tr style=\"text-align: right;\">\n",
       "      <th></th>\n",
       "      <th>店名</th>\n",
       "      <th>主打菜特色</th>\n",
       "      <th>食材是否新鲜</th>\n",
       "      <th>调料是否有特色</th>\n",
       "      <th>价格是否划算</th>\n",
       "      <th>店内环境</th>\n",
       "      <th>sum</th>\n",
       "    </tr>\n",
       "  </thead>\n",
       "  <tbody>\n",
       "    <tr>\n",
       "      <th>0</th>\n",
       "      <td>老北京涮羊肉</td>\n",
       "      <td>0</td>\n",
       "      <td>0</td>\n",
       "      <td>1</td>\n",
       "      <td>0</td>\n",
       "      <td>1</td>\n",
       "      <td>2.0</td>\n",
       "    </tr>\n",
       "    <tr>\n",
       "      <th>1</th>\n",
       "      <td>鲜上鲜文鱼庄(望庭国际店)</td>\n",
       "      <td>1</td>\n",
       "      <td>0</td>\n",
       "      <td>0</td>\n",
       "      <td>0</td>\n",
       "      <td>1</td>\n",
       "      <td>2.0</td>\n",
       "    </tr>\n",
       "    <tr>\n",
       "      <th>2</th>\n",
       "      <td>大龙燚火锅(李家村店)</td>\n",
       "      <td>0</td>\n",
       "      <td>0</td>\n",
       "      <td>1</td>\n",
       "      <td>0</td>\n",
       "      <td>0</td>\n",
       "      <td>1.0</td>\n",
       "    </tr>\n",
       "    <tr>\n",
       "      <th>3</th>\n",
       "      <td>鲜上鲜文鱼庄(阳阳国际店)</td>\n",
       "      <td>0</td>\n",
       "      <td>1</td>\n",
       "      <td>0</td>\n",
       "      <td>0</td>\n",
       "      <td>0</td>\n",
       "      <td>1.0</td>\n",
       "    </tr>\n",
       "    <tr>\n",
       "      <th>4</th>\n",
       "      <td>大龙燚火锅(粉巷店)</td>\n",
       "      <td>0</td>\n",
       "      <td>0</td>\n",
       "      <td>0</td>\n",
       "      <td>0</td>\n",
       "      <td>1</td>\n",
       "      <td>1.0</td>\n",
       "    </tr>\n",
       "  </tbody>\n",
       "</table>\n",
       "</div>"
      ],
      "text/plain": [
       "              店名 主打菜特色 食材是否新鲜 调料是否有特色 价格是否划算 店内环境  sum\n",
       "0         老北京涮羊肉     0      0       1      0    1  2.0\n",
       "1  鲜上鲜文鱼庄(望庭国际店)     1      0       0      0    1  2.0\n",
       "2    大龙燚火锅(李家村店)     0      0       1      0    0  1.0\n",
       "3  鲜上鲜文鱼庄(阳阳国际店)     0      1       0      0    0  1.0\n",
       "4     大龙燚火锅(粉巷店)     0      0       0      0    1  1.0"
      ]
     },
     "execution_count": 5,
     "metadata": {},
     "output_type": "execute_result"
    }
   ],
   "source": [
    "\n",
    "df.iloc[:, 1:] = df.iloc[:, 1:].astype(int)\n",
    "df['sum'] = df.iloc[:, 1:].sum(axis=1)\n",
    "df.head()\n"
   ]
  },
  {
   "cell_type": "code",
   "execution_count": 6,
   "metadata": {
    "ExecuteTime": {
     "end_time": "2019-07-10T10:47:08.974859Z",
     "start_time": "2019-07-10T10:47:08.970844Z"
    }
   },
   "outputs": [],
   "source": [
    "def judge(x):\n",
    "    if x[6] >= 4 and x[2] == 1 and x[5] == 1:\n",
    "        return 1\n",
    "    else:\n",
    "        return 0\n"
   ]
  },
  {
   "cell_type": "code",
   "execution_count": 7,
   "metadata": {
    "ExecuteTime": {
     "end_time": "2019-07-10T10:47:11.189033Z",
     "start_time": "2019-07-10T10:47:10.825995Z"
    }
   },
   "outputs": [
    {
     "data": {
      "text/html": [
       "<div>\n",
       "<style scoped>\n",
       "    .dataframe tbody tr th:only-of-type {\n",
       "        vertical-align: middle;\n",
       "    }\n",
       "\n",
       "    .dataframe tbody tr th {\n",
       "        vertical-align: top;\n",
       "    }\n",
       "\n",
       "    .dataframe thead th {\n",
       "        text-align: right;\n",
       "    }\n",
       "</style>\n",
       "<table border=\"1\" class=\"dataframe\">\n",
       "  <thead>\n",
       "    <tr style=\"text-align: right;\">\n",
       "      <th></th>\n",
       "      <th>店名</th>\n",
       "      <th>主打菜特色</th>\n",
       "      <th>食材是否新鲜</th>\n",
       "      <th>调料是否有特色</th>\n",
       "      <th>价格是否划算</th>\n",
       "      <th>店内环境</th>\n",
       "      <th>y</th>\n",
       "    </tr>\n",
       "  </thead>\n",
       "  <tbody>\n",
       "    <tr>\n",
       "      <th>0</th>\n",
       "      <td>老北京涮羊肉</td>\n",
       "      <td>0</td>\n",
       "      <td>0</td>\n",
       "      <td>1</td>\n",
       "      <td>0</td>\n",
       "      <td>1</td>\n",
       "      <td>0</td>\n",
       "    </tr>\n",
       "    <tr>\n",
       "      <th>1</th>\n",
       "      <td>鲜上鲜文鱼庄(望庭国际店)</td>\n",
       "      <td>1</td>\n",
       "      <td>0</td>\n",
       "      <td>0</td>\n",
       "      <td>0</td>\n",
       "      <td>1</td>\n",
       "      <td>0</td>\n",
       "    </tr>\n",
       "    <tr>\n",
       "      <th>2</th>\n",
       "      <td>大龙燚火锅(李家村店)</td>\n",
       "      <td>0</td>\n",
       "      <td>0</td>\n",
       "      <td>1</td>\n",
       "      <td>0</td>\n",
       "      <td>0</td>\n",
       "      <td>0</td>\n",
       "    </tr>\n",
       "    <tr>\n",
       "      <th>3</th>\n",
       "      <td>鲜上鲜文鱼庄(阳阳国际店)</td>\n",
       "      <td>0</td>\n",
       "      <td>1</td>\n",
       "      <td>0</td>\n",
       "      <td>0</td>\n",
       "      <td>0</td>\n",
       "      <td>0</td>\n",
       "    </tr>\n",
       "    <tr>\n",
       "      <th>4</th>\n",
       "      <td>大龙燚火锅(粉巷店)</td>\n",
       "      <td>0</td>\n",
       "      <td>0</td>\n",
       "      <td>0</td>\n",
       "      <td>0</td>\n",
       "      <td>1</td>\n",
       "      <td>0</td>\n",
       "    </tr>\n",
       "  </tbody>\n",
       "</table>\n",
       "</div>"
      ],
      "text/plain": [
       "              店名 主打菜特色 食材是否新鲜 调料是否有特色 价格是否划算 店内环境  y\n",
       "0         老北京涮羊肉     0      0       1      0    1  0\n",
       "1  鲜上鲜文鱼庄(望庭国际店)     1      0       0      0    1  0\n",
       "2    大龙燚火锅(李家村店)     0      0       1      0    0  0\n",
       "3  鲜上鲜文鱼庄(阳阳国际店)     0      1       0      0    0  0\n",
       "4     大龙燚火锅(粉巷店)     0      0       0      0    1  0"
      ]
     },
     "execution_count": 7,
     "metadata": {},
     "output_type": "execute_result"
    }
   ],
   "source": [
    "df['y'] = df.apply(judge, axis=1)\n",
    "del df['sum']\n",
    "df.head()\n",
    "df.to_excel(os.path.join(path, 'shops_nm_cleaned.xlsx'), encoding='utf8', index=False)\n"
   ]
  },
  {
   "cell_type": "code",
   "execution_count": 8,
   "metadata": {
    "ExecuteTime": {
     "end_time": "2019-07-10T10:47:37.796706Z",
     "start_time": "2019-07-10T10:47:37.561641Z"
    }
   },
   "outputs": [],
   "source": [
    "from sklearn import tree\n",
    "from sklearn.model_selection import train_test_split"
   ]
  },
  {
   "cell_type": "code",
   "execution_count": 9,
   "metadata": {
    "ExecuteTime": {
     "end_time": "2019-07-10T10:47:49.532673Z",
     "start_time": "2019-07-10T10:47:49.426672Z"
    }
   },
   "outputs": [
    {
     "data": {
      "text/html": [
       "<div>\n",
       "<style scoped>\n",
       "    .dataframe tbody tr th:only-of-type {\n",
       "        vertical-align: middle;\n",
       "    }\n",
       "\n",
       "    .dataframe tbody tr th {\n",
       "        vertical-align: top;\n",
       "    }\n",
       "\n",
       "    .dataframe thead th {\n",
       "        text-align: right;\n",
       "    }\n",
       "</style>\n",
       "<table border=\"1\" class=\"dataframe\">\n",
       "  <thead>\n",
       "    <tr style=\"text-align: right;\">\n",
       "      <th></th>\n",
       "      <th>店名</th>\n",
       "      <th>主打菜特色</th>\n",
       "      <th>食材是否新鲜</th>\n",
       "      <th>调料是否有特色</th>\n",
       "      <th>价格是否划算</th>\n",
       "      <th>店内环境</th>\n",
       "      <th>y</th>\n",
       "    </tr>\n",
       "  </thead>\n",
       "  <tbody>\n",
       "    <tr>\n",
       "      <th>0</th>\n",
       "      <td>老北京涮羊肉</td>\n",
       "      <td>1</td>\n",
       "      <td>1</td>\n",
       "      <td>0</td>\n",
       "      <td>0</td>\n",
       "      <td>0</td>\n",
       "      <td>0</td>\n",
       "    </tr>\n",
       "    <tr>\n",
       "      <th>1</th>\n",
       "      <td>鲜上鲜文鱼庄(望庭国际店)</td>\n",
       "      <td>1</td>\n",
       "      <td>0</td>\n",
       "      <td>1</td>\n",
       "      <td>0</td>\n",
       "      <td>1</td>\n",
       "      <td>0</td>\n",
       "    </tr>\n",
       "    <tr>\n",
       "      <th>2</th>\n",
       "      <td>大龙燚火锅(李家村店)</td>\n",
       "      <td>1</td>\n",
       "      <td>0</td>\n",
       "      <td>0</td>\n",
       "      <td>1</td>\n",
       "      <td>1</td>\n",
       "      <td>0</td>\n",
       "    </tr>\n",
       "    <tr>\n",
       "      <th>3</th>\n",
       "      <td>鲜上鲜文鱼庄(阳阳国际店)</td>\n",
       "      <td>0</td>\n",
       "      <td>1</td>\n",
       "      <td>0</td>\n",
       "      <td>1</td>\n",
       "      <td>1</td>\n",
       "      <td>0</td>\n",
       "    </tr>\n",
       "    <tr>\n",
       "      <th>4</th>\n",
       "      <td>大龙燚火锅(粉巷店)</td>\n",
       "      <td>0</td>\n",
       "      <td>0</td>\n",
       "      <td>0</td>\n",
       "      <td>1</td>\n",
       "      <td>0</td>\n",
       "      <td>0</td>\n",
       "    </tr>\n",
       "  </tbody>\n",
       "</table>\n",
       "</div>"
      ],
      "text/plain": [
       "              店名  主打菜特色  食材是否新鲜  调料是否有特色  价格是否划算  店内环境  y\n",
       "0         老北京涮羊肉      1       1        0       0     0  0\n",
       "1  鲜上鲜文鱼庄(望庭国际店)      1       0        1       0     1  0\n",
       "2    大龙燚火锅(李家村店)      1       0        0       1     1  0\n",
       "3  鲜上鲜文鱼庄(阳阳国际店)      0       1        0       1     1  0\n",
       "4     大龙燚火锅(粉巷店)      0       0        0       1     0  0"
      ]
     },
     "execution_count": 9,
     "metadata": {},
     "output_type": "execute_result"
    }
   ],
   "source": [
    "# 第一步：数据准备\n",
    "data = pd.read_excel(os.path.join(path, 'shops_nm_cleaned.xlsx'), encoding='utf8')\n",
    "data.head()"
   ]
  },
  {
   "cell_type": "code",
   "execution_count": 10,
   "metadata": {
    "ExecuteTime": {
     "end_time": "2019-07-10T10:47:53.400260Z",
     "start_time": "2019-07-10T10:47:53.364258Z"
    }
   },
   "outputs": [
    {
     "name": "stdout",
     "output_type": "stream",
     "text": [
      "训练集的自变量维度: (489, 5), 因变量维度: (489,)\n",
      "\n",
      "验证集的自变量维度: (147, 5), 因变量维度: (147,)\n",
      "\n",
      "测试集的自变量维度: (63, 5), 因变量维度: (63,)\n",
      "\n"
     ]
    }
   ],
   "source": [
    "X_train, X_val, y_train, y_val = train_test_split(data.iloc[:, 1:-1], data.iloc[:, -1], test_size=0.3, random_state=0)\n",
    "X_val, X_test, y_val, y_test = train_test_split(X_val, y_val, test_size=0.3, random_state=0)\n",
    "print('训练集的自变量维度: {}, 因变量维度: {}\\n'.format(X_train.shape, y_train.shape))\n",
    "print('验证集的自变量维度: {}, 因变量维度: {}\\n'.format(X_val.shape, y_val.shape))\n",
    "print('测试集的自变量维度: {}, 因变量维度: {}\\n'.format(X_test.shape, y_test.shape))\n"
   ]
  },
  {
   "cell_type": "code",
   "execution_count": 11,
   "metadata": {
    "ExecuteTime": {
     "end_time": "2019-07-10T10:48:05.690485Z",
     "start_time": "2019-07-10T10:48:05.631487Z"
    }
   },
   "outputs": [
    {
     "data": {
      "text/plain": [
       "[[2,\n",
       "  0.8095238095238095,\n",
       "  array([0.        , 0.55410691, 0.        , 0.        , 0.44589309])],\n",
       " [3,\n",
       "  0.8095238095238095,\n",
       "  array([0.04225857, 0.53069115, 0.        , 0.        , 0.42705029])],\n",
       " [4,\n",
       "  0.9047619047619048,\n",
       "  array([0.03790951, 0.47607489, 0.        , 0.10291533, 0.38310026])],\n",
       " [5, 1.0, array([0.03374123, 0.42372881, 0.05878275, 0.14277014, 0.34097707])],\n",
       " [6, 1.0, array([0.03374123, 0.42372881, 0.10995345, 0.09159944, 0.34097707])],\n",
       " [7, 1.0, array([0.03374123, 0.42372881, 0.05878275, 0.14277014, 0.34097707])],\n",
       " [8, 1.0, array([0.03374123, 0.42372881, 0.05878275, 0.14277014, 0.34097707])],\n",
       " [9, 1.0, array([0.03374123, 0.42372881, 0.10995345, 0.09159944, 0.34097707])]]"
      ]
     },
     "execution_count": 11,
     "metadata": {},
     "output_type": "execute_result"
    }
   ],
   "source": [
    "# 第三步：模型训练\n",
    "max_depths = [depth for depth in range(2, 10)]\n",
    "accuracy = []\n",
    "for max_depth in max_depths:\n",
    "    clf = tree.DecisionTreeClassifier(class_weight=\"balanced\", max_depth=max_depth)\n",
    "    clf = clf.fit(X_train, y_train)\n",
    "    acc = clf.score(X_val, y_val)\n",
    "    importance_ = clf.feature_importances_\n",
    "    accuracy.append([max_depth, acc, importance_])\n",
    "\n",
    "accuracy"
   ]
  },
  {
   "cell_type": "code",
   "execution_count": 12,
   "metadata": {
    "ExecuteTime": {
     "end_time": "2019-07-10T11:43:23.901644Z",
     "start_time": "2019-07-10T11:43:23.889630Z"
    }
   },
   "outputs": [
    {
     "data": {
      "text/plain": [
       "1.0"
      ]
     },
     "execution_count": 12,
     "metadata": {},
     "output_type": "execute_result"
    }
   ],
   "source": [
    "# 第四步：模型评估\n",
    "from sklearn.metrics import recall_score, precision_score, accuracy_score\n",
    "\n",
    "y_val_predict = clf.predict(X_val)\n",
    "\n",
    "accuracy_score(y_val, y_val_predict)\n",
    "recall_score(y_val, y_val_predict)\n",
    "precision_score(y_val, y_val_predict)"
   ]
  },
  {
   "cell_type": "code",
   "execution_count": 13,
   "metadata": {
    "ExecuteTime": {
     "end_time": "2019-07-10T11:43:31.382611Z",
     "start_time": "2019-07-10T11:43:31.360614Z"
    }
   },
   "outputs": [
    {
     "data": {
      "text/plain": [
       "[[2,\n",
       "  0.8095238095238095,\n",
       "  array([0.        , 0.55410691, 0.        , 0.        , 0.44589309])],\n",
       " [3,\n",
       "  0.8095238095238095,\n",
       "  array([0.04225857, 0.53069115, 0.        , 0.        , 0.42705029])],\n",
       " [4,\n",
       "  0.9047619047619048,\n",
       "  array([0.03790951, 0.47607489, 0.        , 0.10291533, 0.38310026])],\n",
       " [5, 1.0, array([0.03374123, 0.42372881, 0.10995345, 0.09159944, 0.34097707])],\n",
       " [6, 1.0, array([0.03374123, 0.42372881, 0.05878275, 0.14277014, 0.34097707])],\n",
       " [7, 1.0, array([0.03374123, 0.42372881, 0.10995345, 0.09159944, 0.34097707])],\n",
       " [8, 1.0, array([0.03374123, 0.42372881, 0.10995345, 0.09159944, 0.34097707])],\n",
       " [9, 1.0, array([0.03374123, 0.42372881, 0.10995345, 0.09159944, 0.34097707])]]"
      ]
     },
     "execution_count": 13,
     "metadata": {},
     "output_type": "execute_result"
    }
   ],
   "source": [
    "# 第五步：模型调参\n",
    "max_depths = [depth for depth in range(2, 10)]\n",
    "accuracy = []\n",
    "for max_depth in max_depths:\n",
    "    clf = tree.DecisionTreeClassifier(class_weight=\"balanced\", max_depth=max_depth)\n",
    "    clf = clf.fit(X_train, y_train)\n",
    "    acc = clf.score(X_val, y_val)\n",
    "    importance_ = clf.feature_importances_\n",
    "    accuracy.append([max_depth, acc, importance_])\n",
    "\n",
    "accuracy"
   ]
  },
  {
   "cell_type": "code",
   "execution_count": 15,
   "metadata": {
    "ExecuteTime": {
     "end_time": "2019-07-10T11:44:15.534236Z",
     "start_time": "2019-07-10T11:44:14.690137Z"
    }
   },
   "outputs": [
    {
     "data": {
      "image/svg+xml": [
       "<?xml version=\"1.0\" encoding=\"UTF-8\" standalone=\"no\"?>\r\n",
       "<!DOCTYPE svg PUBLIC \"-//W3C//DTD SVG 1.1//EN\"\r\n",
       " \"http://www.w3.org/Graphics/SVG/1.1/DTD/svg11.dtd\">\r\n",
       "<!-- Generated by graphviz version 2.38.0 (20140413.2041)\r\n",
       " -->\r\n",
       "<!-- Title: Tree Pages: 1 -->\r\n",
       "<svg width=\"628pt\" height=\"581pt\"\r\n",
       " viewBox=\"0.00 0.00 628.00 581.00\" xmlns=\"http://www.w3.org/2000/svg\" xmlns:xlink=\"http://www.w3.org/1999/xlink\">\r\n",
       "<g id=\"graph0\" class=\"graph\" transform=\"scale(1 1) rotate(0) translate(4 577)\">\r\n",
       "<title>Tree</title>\r\n",
       "<polygon fill=\"white\" stroke=\"none\" points=\"-4,4 -4,-577 624,-577 624,4 -4,4\"/>\r\n",
       "<!-- 0 -->\r\n",
       "<g id=\"node1\" class=\"node\"><title>0</title>\r\n",
       "<polygon fill=\"none\" stroke=\"black\" points=\"219,-573 80,-573 80,-505 219,-505 219,-573\"/>\r\n",
       "<text text-anchor=\"middle\" x=\"149.5\" y=\"-557.8\" font-family=\"Times New Roman,serif\" font-size=\"14.00\">X[1] &lt;= 0.5</text>\r\n",
       "<text text-anchor=\"middle\" x=\"149.5\" y=\"-542.8\" font-family=\"Times New Roman,serif\" font-size=\"14.00\">gini = 0.5</text>\r\n",
       "<text text-anchor=\"middle\" x=\"149.5\" y=\"-527.8\" font-family=\"Times New Roman,serif\" font-size=\"14.00\">samples = 489</text>\r\n",
       "<text text-anchor=\"middle\" x=\"149.5\" y=\"-512.8\" font-family=\"Times New Roman,serif\" font-size=\"14.00\">value = [244.5, 244.5]</text>\r\n",
       "</g>\r\n",
       "<!-- 1 -->\r\n",
       "<g id=\"node2\" class=\"node\"><title>1</title>\r\n",
       "<polygon fill=\"none\" stroke=\"black\" points=\"139,-461.5 0,-461.5 0,-408.5 139,-408.5 139,-461.5\"/>\r\n",
       "<text text-anchor=\"middle\" x=\"69.5\" y=\"-446.3\" font-family=\"Times New Roman,serif\" font-size=\"14.00\">gini = 0.0</text>\r\n",
       "<text text-anchor=\"middle\" x=\"69.5\" y=\"-431.3\" font-family=\"Times New Roman,serif\" font-size=\"14.00\">samples = 250</text>\r\n",
       "<text text-anchor=\"middle\" x=\"69.5\" y=\"-416.3\" font-family=\"Times New Roman,serif\" font-size=\"14.00\">value = [145.536, 0.0]</text>\r\n",
       "</g>\r\n",
       "<!-- 0&#45;&gt;1 -->\r\n",
       "<g id=\"edge1\" class=\"edge\"><title>0&#45;&gt;1</title>\r\n",
       "<path fill=\"none\" stroke=\"black\" d=\"M123.526,-504.884C114.642,-493.556 104.7,-480.88 95.7907,-469.521\"/>\r\n",
       "<polygon fill=\"black\" stroke=\"black\" points=\"98.4411,-467.228 89.5156,-461.52 92.9331,-471.548 98.4411,-467.228\"/>\r\n",
       "<text text-anchor=\"middle\" x=\"86.5155\" y=\"-482.639\" font-family=\"Times New Roman,serif\" font-size=\"14.00\">True</text>\r\n",
       "</g>\r\n",
       "<!-- 2 -->\r\n",
       "<g id=\"node3\" class=\"node\"><title>2</title>\r\n",
       "<polygon fill=\"none\" stroke=\"black\" points=\"303.5,-469 157.5,-469 157.5,-401 303.5,-401 303.5,-469\"/>\r\n",
       "<text text-anchor=\"middle\" x=\"230.5\" y=\"-453.8\" font-family=\"Times New Roman,serif\" font-size=\"14.00\">X[4] &lt;= 0.5</text>\r\n",
       "<text text-anchor=\"middle\" x=\"230.5\" y=\"-438.8\" font-family=\"Times New Roman,serif\" font-size=\"14.00\">gini = 0.41</text>\r\n",
       "<text text-anchor=\"middle\" x=\"230.5\" y=\"-423.8\" font-family=\"Times New Roman,serif\" font-size=\"14.00\">samples = 239</text>\r\n",
       "<text text-anchor=\"middle\" x=\"230.5\" y=\"-408.8\" font-family=\"Times New Roman,serif\" font-size=\"14.00\">value = [98.964, 244.5]</text>\r\n",
       "</g>\r\n",
       "<!-- 0&#45;&gt;2 -->\r\n",
       "<g id=\"edge2\" class=\"edge\"><title>0&#45;&gt;2</title>\r\n",
       "<path fill=\"none\" stroke=\"black\" d=\"M175.798,-504.884C182.801,-496.065 190.453,-486.43 197.755,-477.235\"/>\r\n",
       "<polygon fill=\"black\" stroke=\"black\" points=\"200.578,-479.307 204.056,-469.299 195.097,-474.954 200.578,-479.307\"/>\r\n",
       "<text text-anchor=\"middle\" x=\"206.907\" y=\"-490.436\" font-family=\"Times New Roman,serif\" font-size=\"14.00\">False</text>\r\n",
       "</g>\r\n",
       "<!-- 3 -->\r\n",
       "<g id=\"node4\" class=\"node\"><title>3</title>\r\n",
       "<polygon fill=\"none\" stroke=\"black\" points=\"221.5,-357.5 89.5,-357.5 89.5,-304.5 221.5,-304.5 221.5,-357.5\"/>\r\n",
       "<text text-anchor=\"middle\" x=\"155.5\" y=\"-342.3\" font-family=\"Times New Roman,serif\" font-size=\"14.00\">gini = 0.0</text>\r\n",
       "<text text-anchor=\"middle\" x=\"155.5\" y=\"-327.3\" font-family=\"Times New Roman,serif\" font-size=\"14.00\">samples = 114</text>\r\n",
       "<text text-anchor=\"middle\" x=\"155.5\" y=\"-312.3\" font-family=\"Times New Roman,serif\" font-size=\"14.00\">value = [66.364, 0.0]</text>\r\n",
       "</g>\r\n",
       "<!-- 2&#45;&gt;3 -->\r\n",
       "<g id=\"edge3\" class=\"edge\"><title>2&#45;&gt;3</title>\r\n",
       "<path fill=\"none\" stroke=\"black\" d=\"M206.15,-400.884C197.901,-389.666 188.681,-377.126 180.391,-365.852\"/>\r\n",
       "<polygon fill=\"black\" stroke=\"black\" points=\"183.008,-363.503 174.265,-357.52 177.369,-367.65 183.008,-363.503\"/>\r\n",
       "</g>\r\n",
       "<!-- 4 -->\r\n",
       "<g id=\"node5\" class=\"node\"><title>4</title>\r\n",
       "<polygon fill=\"none\" stroke=\"black\" points=\"371.5,-365 239.5,-365 239.5,-297 371.5,-297 371.5,-365\"/>\r\n",
       "<text text-anchor=\"middle\" x=\"305.5\" y=\"-349.8\" font-family=\"Times New Roman,serif\" font-size=\"14.00\">X[0] &lt;= 0.5</text>\r\n",
       "<text text-anchor=\"middle\" x=\"305.5\" y=\"-334.8\" font-family=\"Times New Roman,serif\" font-size=\"14.00\">gini = 0.208</text>\r\n",
       "<text text-anchor=\"middle\" x=\"305.5\" y=\"-319.8\" font-family=\"Times New Roman,serif\" font-size=\"14.00\">samples = 125</text>\r\n",
       "<text text-anchor=\"middle\" x=\"305.5\" y=\"-304.8\" font-family=\"Times New Roman,serif\" font-size=\"14.00\">value = [32.6, 244.5]</text>\r\n",
       "</g>\r\n",
       "<!-- 2&#45;&gt;4 -->\r\n",
       "<g id=\"edge4\" class=\"edge\"><title>2&#45;&gt;4</title>\r\n",
       "<path fill=\"none\" stroke=\"black\" d=\"M254.85,-400.884C261.269,-392.154 268.276,-382.625 274.975,-373.514\"/>\r\n",
       "<polygon fill=\"black\" stroke=\"black\" points=\"277.911,-375.429 281.015,-365.299 272.271,-371.283 277.911,-375.429\"/>\r\n",
       "</g>\r\n",
       "<!-- 5 -->\r\n",
       "<g id=\"node6\" class=\"node\"><title>5</title>\r\n",
       "<polygon fill=\"none\" stroke=\"black\" points=\"296.5,-261 144.5,-261 144.5,-193 296.5,-193 296.5,-261\"/>\r\n",
       "<text text-anchor=\"middle\" x=\"220.5\" y=\"-245.8\" font-family=\"Times New Roman,serif\" font-size=\"14.00\">X[3] &lt;= 0.5</text>\r\n",
       "<text text-anchor=\"middle\" x=\"220.5\" y=\"-230.8\" font-family=\"Times New Roman,serif\" font-size=\"14.00\">gini = 0.425</text>\r\n",
       "<text text-anchor=\"middle\" x=\"220.5\" y=\"-215.8\" font-family=\"Times New Roman,serif\" font-size=\"14.00\">samples = 59</text>\r\n",
       "<text text-anchor=\"middle\" x=\"220.5\" y=\"-200.8\" font-family=\"Times New Roman,serif\" font-size=\"14.00\">value = [25.032, 56.696]</text>\r\n",
       "</g>\r\n",
       "<!-- 4&#45;&gt;5 -->\r\n",
       "<g id=\"edge5\" class=\"edge\"><title>4&#45;&gt;5</title>\r\n",
       "<path fill=\"none\" stroke=\"black\" d=\"M277.903,-296.884C270.554,-288.065 262.525,-278.43 254.863,-269.235\"/>\r\n",
       "<polygon fill=\"black\" stroke=\"black\" points=\"257.34,-266.741 248.249,-261.299 251.963,-271.222 257.34,-266.741\"/>\r\n",
       "</g>\r\n",
       "<!-- 10 -->\r\n",
       "<g id=\"node11\" class=\"node\"><title>10</title>\r\n",
       "<polygon fill=\"none\" stroke=\"black\" points=\"466.5,-261 314.5,-261 314.5,-193 466.5,-193 466.5,-261\"/>\r\n",
       "<text text-anchor=\"middle\" x=\"390.5\" y=\"-245.8\" font-family=\"Times New Roman,serif\" font-size=\"14.00\">X[3] &lt;= 0.5</text>\r\n",
       "<text text-anchor=\"middle\" x=\"390.5\" y=\"-230.8\" font-family=\"Times New Roman,serif\" font-size=\"14.00\">gini = 0.074</text>\r\n",
       "<text text-anchor=\"middle\" x=\"390.5\" y=\"-215.8\" font-family=\"Times New Roman,serif\" font-size=\"14.00\">samples = 66</text>\r\n",
       "<text text-anchor=\"middle\" x=\"390.5\" y=\"-200.8\" font-family=\"Times New Roman,serif\" font-size=\"14.00\">value = [7.568, 187.804]</text>\r\n",
       "</g>\r\n",
       "<!-- 4&#45;&gt;10 -->\r\n",
       "<g id=\"edge10\" class=\"edge\"><title>4&#45;&gt;10</title>\r\n",
       "<path fill=\"none\" stroke=\"black\" d=\"M333.097,-296.884C340.446,-288.065 348.475,-278.43 356.137,-269.235\"/>\r\n",
       "<polygon fill=\"black\" stroke=\"black\" points=\"359.037,-271.222 362.751,-261.299 353.66,-266.741 359.037,-271.222\"/>\r\n",
       "</g>\r\n",
       "<!-- 6 -->\r\n",
       "<g id=\"node7\" class=\"node\"><title>6</title>\r\n",
       "<polygon fill=\"none\" stroke=\"black\" points=\"132.5,-149.5 0.5,-149.5 0.5,-96.5 132.5,-96.5 132.5,-149.5\"/>\r\n",
       "<text text-anchor=\"middle\" x=\"66.5\" y=\"-134.3\" font-family=\"Times New Roman,serif\" font-size=\"14.00\">gini = &#45;0.0</text>\r\n",
       "<text text-anchor=\"middle\" x=\"66.5\" y=\"-119.3\" font-family=\"Times New Roman,serif\" font-size=\"14.00\">samples = 30</text>\r\n",
       "<text text-anchor=\"middle\" x=\"66.5\" y=\"-104.3\" font-family=\"Times New Roman,serif\" font-size=\"14.00\">value = [17.464, 0.0]</text>\r\n",
       "</g>\r\n",
       "<!-- 5&#45;&gt;6 -->\r\n",
       "<g id=\"edge6\" class=\"edge\"><title>5&#45;&gt;6</title>\r\n",
       "<path fill=\"none\" stroke=\"black\" d=\"M170.501,-192.884C152.236,-180.786 131.65,-167.151 113.642,-155.224\"/>\r\n",
       "<polygon fill=\"black\" stroke=\"black\" points=\"115.3,-152.124 105.03,-149.52 111.435,-157.96 115.3,-152.124\"/>\r\n",
       "</g>\r\n",
       "<!-- 7 -->\r\n",
       "<g id=\"node8\" class=\"node\"><title>7</title>\r\n",
       "<polygon fill=\"none\" stroke=\"black\" points=\"296.5,-157 150.5,-157 150.5,-89 296.5,-89 296.5,-157\"/>\r\n",
       "<text text-anchor=\"middle\" x=\"223.5\" y=\"-141.8\" font-family=\"Times New Roman,serif\" font-size=\"14.00\">X[2] &lt;= 0.5</text>\r\n",
       "<text text-anchor=\"middle\" x=\"223.5\" y=\"-126.8\" font-family=\"Times New Roman,serif\" font-size=\"14.00\">gini = 0.208</text>\r\n",
       "<text text-anchor=\"middle\" x=\"223.5\" y=\"-111.8\" font-family=\"Times New Roman,serif\" font-size=\"14.00\">samples = 29</text>\r\n",
       "<text text-anchor=\"middle\" x=\"223.5\" y=\"-96.8\" font-family=\"Times New Roman,serif\" font-size=\"14.00\">value = [7.568, 56.696]</text>\r\n",
       "</g>\r\n",
       "<!-- 5&#45;&gt;7 -->\r\n",
       "<g id=\"edge7\" class=\"edge\"><title>5&#45;&gt;7</title>\r\n",
       "<path fill=\"none\" stroke=\"black\" d=\"M221.474,-192.884C221.712,-184.778 221.971,-175.982 222.221,-167.472\"/>\r\n",
       "<polygon fill=\"black\" stroke=\"black\" points=\"225.725,-167.398 222.521,-157.299 218.728,-167.192 225.725,-167.398\"/>\r\n",
       "</g>\r\n",
       "<!-- 8 -->\r\n",
       "<g id=\"node9\" class=\"node\"><title>8</title>\r\n",
       "<polygon fill=\"none\" stroke=\"black\" points=\"144,-53 19,-53 19,-0 144,-0 144,-53\"/>\r\n",
       "<text text-anchor=\"middle\" x=\"81.5\" y=\"-37.8\" font-family=\"Times New Roman,serif\" font-size=\"14.00\">gini = 0.0</text>\r\n",
       "<text text-anchor=\"middle\" x=\"81.5\" y=\"-22.8\" font-family=\"Times New Roman,serif\" font-size=\"14.00\">samples = 13</text>\r\n",
       "<text text-anchor=\"middle\" x=\"81.5\" y=\"-7.8\" font-family=\"Times New Roman,serif\" font-size=\"14.00\">value = [7.568, 0.0]</text>\r\n",
       "</g>\r\n",
       "<!-- 7&#45;&gt;8 -->\r\n",
       "<g id=\"edge8\" class=\"edge\"><title>7&#45;&gt;8</title>\r\n",
       "<path fill=\"none\" stroke=\"black\" d=\"M173.835,-88.9485C159.127,-79.1601 143.072,-68.4756 128.535,-58.8015\"/>\r\n",
       "<polygon fill=\"black\" stroke=\"black\" points=\"130.437,-55.8632 120.173,-53.2367 126.559,-61.6907 130.437,-55.8632\"/>\r\n",
       "</g>\r\n",
       "<!-- 9 -->\r\n",
       "<g id=\"node10\" class=\"node\"><title>9</title>\r\n",
       "<polygon fill=\"none\" stroke=\"black\" points=\"294.5,-53 162.5,-53 162.5,-0 294.5,-0 294.5,-53\"/>\r\n",
       "<text text-anchor=\"middle\" x=\"228.5\" y=\"-37.8\" font-family=\"Times New Roman,serif\" font-size=\"14.00\">gini = &#45;0.0</text>\r\n",
       "<text text-anchor=\"middle\" x=\"228.5\" y=\"-22.8\" font-family=\"Times New Roman,serif\" font-size=\"14.00\">samples = 16</text>\r\n",
       "<text text-anchor=\"middle\" x=\"228.5\" y=\"-7.8\" font-family=\"Times New Roman,serif\" font-size=\"14.00\">value = [0.0, 56.696]</text>\r\n",
       "</g>\r\n",
       "<!-- 7&#45;&gt;9 -->\r\n",
       "<g id=\"edge9\" class=\"edge\"><title>7&#45;&gt;9</title>\r\n",
       "<path fill=\"none\" stroke=\"black\" d=\"M225.249,-88.9485C225.684,-80.7153 226.154,-71.848 226.596,-63.4814\"/>\r\n",
       "<polygon fill=\"black\" stroke=\"black\" points=\"230.105,-63.4077 227.138,-53.2367 223.115,-63.0378 230.105,-63.4077\"/>\r\n",
       "</g>\r\n",
       "<!-- 11 -->\r\n",
       "<g id=\"node12\" class=\"node\"><title>11</title>\r\n",
       "<polygon fill=\"none\" stroke=\"black\" points=\"462.5,-157 316.5,-157 316.5,-89 462.5,-89 462.5,-157\"/>\r\n",
       "<text text-anchor=\"middle\" x=\"389.5\" y=\"-141.8\" font-family=\"Times New Roman,serif\" font-size=\"14.00\">X[2] &lt;= 0.5</text>\r\n",
       "<text text-anchor=\"middle\" x=\"389.5\" y=\"-126.8\" font-family=\"Times New Roman,serif\" font-size=\"14.00\">gini = 0.19</text>\r\n",
       "<text text-anchor=\"middle\" x=\"389.5\" y=\"-111.8\" font-family=\"Times New Roman,serif\" font-size=\"14.00\">samples = 31</text>\r\n",
       "<text text-anchor=\"middle\" x=\"389.5\" y=\"-96.8\" font-family=\"Times New Roman,serif\" font-size=\"14.00\">value = [7.568, 63.783]</text>\r\n",
       "</g>\r\n",
       "<!-- 10&#45;&gt;11 -->\r\n",
       "<g id=\"edge11\" class=\"edge\"><title>10&#45;&gt;11</title>\r\n",
       "<path fill=\"none\" stroke=\"black\" d=\"M390.175,-192.884C390.096,-184.778 390.01,-175.982 389.926,-167.472\"/>\r\n",
       "<polygon fill=\"black\" stroke=\"black\" points=\"393.424,-167.265 389.826,-157.299 386.425,-167.333 393.424,-167.265\"/>\r\n",
       "</g>\r\n",
       "<!-- 14 -->\r\n",
       "<g id=\"node15\" class=\"node\"><title>14</title>\r\n",
       "<polygon fill=\"none\" stroke=\"black\" points=\"620,-149.5 481,-149.5 481,-96.5 620,-96.5 620,-149.5\"/>\r\n",
       "<text text-anchor=\"middle\" x=\"550.5\" y=\"-134.3\" font-family=\"Times New Roman,serif\" font-size=\"14.00\">gini = &#45;0.0</text>\r\n",
       "<text text-anchor=\"middle\" x=\"550.5\" y=\"-119.3\" font-family=\"Times New Roman,serif\" font-size=\"14.00\">samples = 35</text>\r\n",
       "<text text-anchor=\"middle\" x=\"550.5\" y=\"-104.3\" font-family=\"Times New Roman,serif\" font-size=\"14.00\">value = [0.0, 124.022]</text>\r\n",
       "</g>\r\n",
       "<!-- 10&#45;&gt;14 -->\r\n",
       "<g id=\"edge14\" class=\"edge\"><title>10&#45;&gt;14</title>\r\n",
       "<path fill=\"none\" stroke=\"black\" d=\"M442.447,-192.884C461.597,-180.676 483.201,-166.903 502.031,-154.899\"/>\r\n",
       "<polygon fill=\"black\" stroke=\"black\" points=\"503.918,-157.847 510.469,-149.52 500.155,-151.944 503.918,-157.847\"/>\r\n",
       "</g>\r\n",
       "<!-- 12 -->\r\n",
       "<g id=\"node13\" class=\"node\"><title>12</title>\r\n",
       "<polygon fill=\"none\" stroke=\"black\" points=\"447,-53 322,-53 322,-0 447,-0 447,-53\"/>\r\n",
       "<text text-anchor=\"middle\" x=\"384.5\" y=\"-37.8\" font-family=\"Times New Roman,serif\" font-size=\"14.00\">gini = 0.0</text>\r\n",
       "<text text-anchor=\"middle\" x=\"384.5\" y=\"-22.8\" font-family=\"Times New Roman,serif\" font-size=\"14.00\">samples = 13</text>\r\n",
       "<text text-anchor=\"middle\" x=\"384.5\" y=\"-7.8\" font-family=\"Times New Roman,serif\" font-size=\"14.00\">value = [7.568, 0.0]</text>\r\n",
       "</g>\r\n",
       "<!-- 11&#45;&gt;12 -->\r\n",
       "<g id=\"edge12\" class=\"edge\"><title>11&#45;&gt;12</title>\r\n",
       "<path fill=\"none\" stroke=\"black\" d=\"M387.751,-88.9485C387.316,-80.7153 386.846,-71.848 386.404,-63.4814\"/>\r\n",
       "<polygon fill=\"black\" stroke=\"black\" points=\"389.885,-63.0378 385.862,-53.2367 382.895,-63.4077 389.885,-63.0378\"/>\r\n",
       "</g>\r\n",
       "<!-- 13 -->\r\n",
       "<g id=\"node14\" class=\"node\"><title>13</title>\r\n",
       "<polygon fill=\"none\" stroke=\"black\" points=\"597.5,-53 465.5,-53 465.5,-0 597.5,-0 597.5,-53\"/>\r\n",
       "<text text-anchor=\"middle\" x=\"531.5\" y=\"-37.8\" font-family=\"Times New Roman,serif\" font-size=\"14.00\">gini = &#45;0.0</text>\r\n",
       "<text text-anchor=\"middle\" x=\"531.5\" y=\"-22.8\" font-family=\"Times New Roman,serif\" font-size=\"14.00\">samples = 18</text>\r\n",
       "<text text-anchor=\"middle\" x=\"531.5\" y=\"-7.8\" font-family=\"Times New Roman,serif\" font-size=\"14.00\">value = [0.0, 63.783]</text>\r\n",
       "</g>\r\n",
       "<!-- 11&#45;&gt;13 -->\r\n",
       "<g id=\"edge13\" class=\"edge\"><title>11&#45;&gt;13</title>\r\n",
       "<path fill=\"none\" stroke=\"black\" d=\"M439.165,-88.9485C453.873,-79.1601 469.928,-68.4756 484.465,-58.8015\"/>\r\n",
       "<polygon fill=\"black\" stroke=\"black\" points=\"486.441,-61.6907 492.827,-53.2367 482.563,-55.8632 486.441,-61.6907\"/>\r\n",
       "</g>\r\n",
       "</g>\r\n",
       "</svg>\r\n"
      ],
      "text/plain": [
       "<graphviz.files.Source at 0x1c306138470>"
      ]
     },
     "execution_count": 15,
     "metadata": {},
     "output_type": "execute_result"
    }
   ],
   "source": [
    "# 第六步：决策过程可视化\n",
    "model_path = r'../model'\n",
    "\n",
    "import graphviz\n",
    "dot_data = tree.export_graphviz(clf, out_file=None)\n",
    "graph = graphviz.Source(dot_data)\n",
    "graph.render(os.path.join(model_path, 'decision'))\n",
    "graph  "
   ]
  },
  {
   "cell_type": "code",
   "execution_count": 18,
   "metadata": {
    "ExecuteTime": {
     "end_time": "2019-07-10T11:44:49.573794Z",
     "start_time": "2019-07-10T11:44:49.561793Z"
    }
   },
   "outputs": [
    {
     "data": {
      "text/plain": [
       "['../model\\\\clf.pkl']"
      ]
     },
     "execution_count": 18,
     "metadata": {},
     "output_type": "execute_result"
    }
   ],
   "source": [
    "# 第七步：模型导出\n",
    "from sklearn.externals import joblib\n",
    "\n",
    "files = os.listdir(model_path)\n",
    "if 'clf.pkl' not in files:\n",
    "    f = open(os.path.join(model_path, 'clf.pkl'), 'wb+')\n",
    "    f.close()\n",
    "\n",
    "joblib.dump(clf, os.path.join(model_path, 'clf.pkl'))"
   ]
  },
  {
   "cell_type": "code",
   "execution_count": 19,
   "metadata": {
    "ExecuteTime": {
     "end_time": "2019-07-10T11:44:56.978790Z",
     "start_time": "2019-07-10T11:44:56.968781Z"
    }
   },
   "outputs": [
    {
     "data": {
      "text/plain": [
       "1.0"
      ]
     },
     "execution_count": 19,
     "metadata": {},
     "output_type": "execute_result"
    }
   ],
   "source": [
    "# 模型加载\n",
    "load_clf = joblib.load(os.path.join(model_path, 'clf.pkl'))\n",
    "load_clf.score(X_test, y_test)"
   ]
  },
  {
   "cell_type": "code",
   "execution_count": null,
   "metadata": {},
   "outputs": [],
   "source": []
  }
 ],
 "metadata": {
  "hide_input": false,
  "kernelspec": {
   "display_name": "Python 3",
   "language": "python",
   "name": "python3"
  },
  "language_info": {
   "codemirror_mode": {
    "name": "ipython",
    "version": 3
   },
   "file_extension": ".py",
   "mimetype": "text/x-python",
   "name": "python",
   "nbconvert_exporter": "python",
   "pygments_lexer": "ipython3",
   "version": "3.5.2"
  },
  "latex_envs": {
   "LaTeX_envs_menu_present": true,
   "autoclose": false,
   "autocomplete": true,
   "bibliofile": "biblio.bib",
   "cite_by": "apalike",
   "current_citInitial": 1,
   "eqLabelWithNumbers": true,
   "eqNumInitial": 1,
   "hotkeys": {
    "equation": "Ctrl-E",
    "itemize": "Ctrl-I"
   },
   "labels_anchors": false,
   "latex_user_defs": false,
   "report_style_numbering": false,
   "user_envs_cfg": false
  },
  "toc": {
   "nav_menu": {},
   "number_sections": true,
   "sideBar": true,
   "skip_h1_title": false,
   "toc_cell": true,
   "toc_position": {},
   "toc_section_display": "block",
   "toc_window_display": true
  },
  "varInspector": {
   "cols": {
    "lenName": 16,
    "lenType": 16,
    "lenVar": 40
   },
   "kernels_config": {
    "python": {
     "delete_cmd_postfix": "",
     "delete_cmd_prefix": "del ",
     "library": "var_list.py",
     "varRefreshCmd": "print(var_dic_list())"
    },
    "r": {
     "delete_cmd_postfix": ") ",
     "delete_cmd_prefix": "rm(",
     "library": "var_list.r",
     "varRefreshCmd": "cat(var_dic_list()) "
    }
   },
   "types_to_exclude": [
    "module",
    "function",
    "builtin_function_or_method",
    "instance",
    "_Feature"
   ],
   "window_display": false
  }
 },
 "nbformat": 4,
 "nbformat_minor": 2
}
